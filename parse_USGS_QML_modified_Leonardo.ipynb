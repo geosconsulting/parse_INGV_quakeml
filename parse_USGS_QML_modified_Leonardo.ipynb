{
 "cells": [
  {
   "cell_type": "markdown",
   "metadata": {},
   "source": [
    "# Parsing USGS QuakeML files - MODIFIED LEONARDO FOR INGV"
   ]
  },
  {
   "cell_type": "code",
   "execution_count": null,
   "metadata": {},
   "outputs": [],
   "source": []
  },
  {
   "cell_type": "code",
   "execution_count": 41,
   "metadata": {},
   "outputs": [],
   "source": [
    "from xml.etree import cElementTree as ElementTree\n",
    "import urllib"
   ]
  },
  {
   "cell_type": "markdown",
   "metadata": {},
   "source": [
    "#### Functions to help parse the USGS quakeML (but are general)"
   ]
  },
  {
   "cell_type": "code",
   "execution_count": 42,
   "metadata": {},
   "outputs": [],
   "source": [
    "#\n",
    "# Some generic utilities I use to parse the xml\n",
    "#\n",
    "#---------------------------------------------------------------------------------\n",
    "# function to search an xml item for the value specified by the key\n",
    "#   returns the value if the item is not found, the string 'None' is returned\n",
    "#   if the value is not found.\n",
    "#---------------------------------------------------------------------------------\n",
    "def get_xitem_as_text(item,key):\n",
    "    anItem = item.find(key,ns)\n",
    "    if(anItem != None):\n",
    "        return anItem.text\n",
    "    else:\n",
    "        return 'None'\n",
    "#\n",
    "#---------------------------------------------------------------------------------\n",
    "#  same type of function as above, but this one also checks that the item\n",
    "#     has a value provided.\n",
    "#---------------------------------------------------------------------------------\n",
    "def get_xitem_value_as_text(item,key,valuekey):\n",
    "    anItem = item.find(key,ns)\n",
    "    if(anItem == None):\n",
    "        return 'None'\n",
    "    else:\n",
    "        value = anItem.find(valuekey,ns)\n",
    "        if(value != None):\n",
    "            return value.text\n",
    "        else:\n",
    "            return 'None'\n",
    "#\n",
    "#---------------------------------------------------------------------------------\n",
    "def search_pdicts(key, value, list_of_dictionaries):\n",
    "    return [element for element in list_of_dictionaries if element[key] == value]\n",
    "#"
   ]
  },
  {
   "cell_type": "markdown",
   "metadata": {},
   "source": [
    "#### Functions specifically to parse the USGS quakeML"
   ]
  },
  {
   "cell_type": "code",
   "execution_count": 43,
   "metadata": {},
   "outputs": [],
   "source": [
    "#\n",
    "# To make outputting information simple, I insure that certain values are in each dictionary,  \n",
    "#   whether they are defined in the xml or not. These dictionaries set up default values,\n",
    "#   but as the xml is parsed, defined key value pairs are updated.\n",
    "#\n",
    "defaultPick = {'stationCode':'--','networkCode':'--','channelCode':'--',\n",
    "                         'locationCode':'--','phase':'NA','time':'NA'}\n",
    "#\n",
    "defaultArrival = {'genericAmplitude':'NA','type':'NA','unit':'NA',\n",
    "                  'period':'NA', 'evaluationMode':'NA','timeResidual':'NA',\n",
    "                  'timeWeight':'NA'}\n",
    "#\n",
    "defaultAmplitude = {'pickID':'NA','genericAmplitude':'NA','period':'NA',\n",
    "                  'unit':'NA', 'evaluationMode':'NA'}                  \n",
    "#\n",
    "#---------------------------------------------------------------------------------\n",
    "# def getEventOrigins(xevent):\n",
    "#     xorigins = xevent.findall('d:origin',ns)\n",
    "#     return xorigins\n",
    "#\n",
    "#---------------------------------------------------------------------------------\n",
    "def parse_origins(xevent):\n",
    "    xorigins = xevent.findall('d:origin',ns)\n",
    "    origins = []\n",
    "    for xorigin in xorigins:\n",
    "        anOrigin = xorigin.attrib.copy()\n",
    "        anOrigin.update({\n",
    "        'otime': get_xitem_value_as_text(xorigin,'d:time','d:value'),\n",
    "        'latitude' : get_xitem_value_as_text(xorigin,'d:latitude','d:value'),\n",
    "        'longitude' : get_xitem_value_as_text(xorigin,'d:longitude','d:value'),\n",
    "        'depth' : get_xitem_value_as_text(xorigin,'d:depth','d:value'),\n",
    "        'dotime' : get_xitem_value_as_text(xorigin,'d:time','d:uncertainty'),\n",
    "        'dlatitude' : get_xitem_value_as_text(xorigin,'d:latitude','d:uncertainty'),\n",
    "        'dlongitude' : get_xitem_value_as_text(xorigin,'d:longitude','d:uncertainty'),\n",
    "        'ddepth' : get_xitem_value_as_text(xorigin,'d:depth','d:uncertainty')\n",
    "        })\n",
    "        #\n",
    "        origins.append(anOrigin)\n",
    "    #\n",
    "    return origins \n",
    "#\n",
    "#---------------------------------------------------------------------------------   \n",
    "def parse_magnitudes(xevent):\n",
    "    xmags = xevent.findall('d:magnitude',ns)\n",
    "    mags = []\n",
    "    for xmag in xmags:\n",
    "        mdict = xmag.attrib.copy()        \n",
    "        mdict.update({'mag': get_xitem_value_as_text(xmag,'d:mag','d:value')})       \n",
    "        mdict.update({'magType': get_xitem_as_text(xmag,'d:type')})       \n",
    "        value = get_xitem_as_text(xmag,'d:evaluationMode')\n",
    "        if(value!='NA'):\n",
    "            mdict.update({\"evaluationMode\" : value})\n",
    "            \n",
    "        value = get_xitem_as_text(xmag,'d:originID')\n",
    "        if(value!='NA'):\n",
    "            mdict.update({\"originID\" : value})\n",
    "            \n",
    "        value = get_xitem_value_as_text(xmag,'d:creationInfo', 'd:agencyID')\n",
    "        if(value!='NA'):\n",
    "            mdict.update({\"agencyID\" : value})\n",
    "        #\n",
    "        mags.append(mdict)\n",
    "    return mags\n",
    "#\n",
    "#---------------------------------------------------------------------------------\n",
    "def parse_picks(xev):\n",
    "    xpicks = xev.findall('d:pick',ns)\n",
    "    picks = []\n",
    "    for pick in xpicks:\n",
    "        pdict = defaultPick.copy()\n",
    "        pdict.update(pick.attrib.copy())\n",
    "        \n",
    "        value = get_xitem_value_as_text(pick,'d:time','d:value')\n",
    "        if(value!='NA'):\n",
    "            pdict.update({\"time\" :value})\n",
    "\n",
    "        value = get_xitem_as_text(pick,'d:phaseHint')\n",
    "        if(value!='NA'):\n",
    "            pdict.update({\"phase\" :value})\n",
    "\n",
    "        value = get_xitem_as_text(pick,'d:evaluationMode')\n",
    "        if(value!='NA'):\n",
    "            pdict.update({\"evaluationMode\" :value})\n",
    "\n",
    "        pdict.update(pick.find('d:waveformID',ns).attrib)\n",
    "        picks.append(pdict)\n",
    "    return picks\n",
    "#\n",
    "#---------------------------------------------------------------------------------\n",
    "def parse_arrivals(xorigin):\n",
    "    xarrivals = xorigin.findall('d:arrival',ns)\n",
    "    arrivals = []\n",
    "    for xarr in xarrivals:\n",
    "        adict = defaultArrival.copy()\n",
    "        value = get_xitem_as_text(xarr,'d:pickID')\n",
    "        if(value!='NA'):\n",
    "            adict.update({\"pickID\" :value})\n",
    "        value = get_xitem_as_text(xarr,'d:phase')\n",
    "        if(value!='NA'):\n",
    "            adict.update({\"phase\" :value})\n",
    "        value = get_xitem_as_text(xarr,'d:azimuth')\n",
    "        if(value!='NA'):\n",
    "            adict.update({\"azimuth\" :value})\n",
    "        value = get_xitem_as_text(xarr,'d:distance')\n",
    "        if(value!='NA'):\n",
    "            adict.update({\"distance\" :value})\n",
    "        value = get_xitem_as_text(xarr,'d:takeoffAngle')\n",
    "        if(value!='NA'):\n",
    "            adict.update({\"takeoffAngle\" :value})\n",
    "        value = get_xitem_as_text(xarr,'d:timeResidual')\n",
    "        if(value!='NA'):\n",
    "            adict.update({\"timeResidual\" :value})\n",
    "        value = get_xitem_as_text(xarr,'d:timeWeight')\n",
    "        if(value!='NA'):\n",
    "            adict.update({\"timeWeight\" :value})\n",
    "        arrivals.append(adict)\n",
    "    return arrivals    \n",
    "    \n",
    "#---------------------------------------------------------------------------------\n",
    "#  Extract the arrival items from the xml\n",
    "#\n",
    "def parse_amplitudes(xevent):\n",
    "    xamplitudes = xevent.findall('d:amplitude',ns)\n",
    "    amplitudes = []\n",
    "    for xamp in xamplitudes:\n",
    "        adict = xamp.attrib.copy()\n",
    "        adict.update(defaultAmplitude)\n",
    "\n",
    "        value = xamp.find('d:waveformID',ns)\n",
    "        if(value != None):\n",
    "            adict.update(value.attrib)\n",
    "        \n",
    "        value = get_xitem_value_as_text(xamp,'d:genericAmplitude','d:value')\n",
    "        if(value!='NA'):\n",
    "            adict.update({\"genericAmplitude\" :value})\n",
    "\n",
    "        value = get_xitem_as_text(xamp,'d:unit')\n",
    "        if(value!='NA'):\n",
    "            adict.update({\"unit\" :value})\n",
    "\n",
    "        value = get_xitem_value_as_text(xamp,'d:period','d:value')\n",
    "        if(value!='NA'):\n",
    "            adict.update({\"period\" :value})\n",
    "        \n",
    "        value = get_xitem_as_text(xamp,'d:evaluationMode')\n",
    "        if(value!='NA'):\n",
    "            adict.update({\"evaluationMode\" :value})\n",
    "        \n",
    "        value = get_xitem_as_text(xamp,'d:twindowbegin')\n",
    "        if(value!='NA'):\n",
    "            adict.update({\"twindowbegin\" :value})\n",
    "        \n",
    "        value = get_xitem_as_text(xamp,'d:twindowend')\n",
    "        if(value!='NA'):\n",
    "            adict.update({\"twindowend\" :value})\n",
    "        \n",
    "        value = get_xitem_as_text(xamp,'d:twindowref')\n",
    "        if(value!='NA'):\n",
    "            adict.update({\"twindowref\" :value})\n",
    "             \n",
    "        amplitudes.append(adict)\n",
    "\n",
    "    return amplitudes\n",
    "\n",
    "#---------------------------------------------------------------------------------\n",
    "#\n",
    "# 'distance', 'timeResidual', 'publicID', 'timeWeight', 'time', \n",
    "#     'networkCode', 'evaluationMode', 'stationCode', 'pickID', \n",
    "#     'azimuth', 'phase', 'channelCode', 'takeoffAngle', 'locationCode'\n",
    "#\n",
    "#---------------------------------------------------------------------------------\n",
    "def merge_arrivals_picks(arrivals,picks):\n",
    "    merged = []\n",
    "    for a in arrivals:\n",
    "        pid = a['pickID']\n",
    "        p = search_pdicts('publicID', pid, picks)\n",
    "        m = a.copy()\n",
    "        if(p != None):\n",
    "            m.update(p[0])\n",
    "        merged.append(m)\n",
    "    return merged\n",
    "\n",
    "#---------------------------------------------------------------------------------\n",
    "# Make a simple tab separated table of the picks with weights greater \n",
    "#    than minWeight\n",
    "def list_arrival_time_picks(arrivalTimePicks, minWeight=0.0):\n",
    "    print('StationChannel\\tphase\\ttime\\tdistance\\tazimuth\\tResidual\\tWeight')\n",
    "    for ap in arrivalTimePicks:\n",
    "        if float(ap['timeWeight']) >= minWeight:\n",
    "            try:\n",
    "                s0 = ap['stationCode']+'-'+ap['networkCode']+'-'+ap['channelCode']+'-'+ap['locationCode']\n",
    "                s0 += '\\t'+ap['phase']+'\\t'+ap['time']\n",
    "                s0 += '\\t'+ap['distance']+'\\t'+ap['azimuth']\n",
    "                s0 += '\\t'+ap['timeResidual']+'\\t'+ap['timeWeight']\n",
    "                print(s0)\n",
    "            except:\n",
    "                print('Incomplete arrival time observation.')\n",
    "#\n",
    "#---------------------------------------------------------------------------------\n",
    "def list_magnitudes(mags):\n",
    "    print('magType\\tagencyID\\tmagnitude')\n",
    "    for mag in mags:\n",
    "        print(\"%s\\t%s\\t%s\" % (mag['magType'], mag['agencyID'],mag['mag']))\n",
    "#\n",
    "#---------------------------------------------------------------------------------\n",
    "# get the preferred origin from the eventInfo dict and the origins list\n",
    "#\n",
    "def get_preferred_origin(eventInfo,origins):\n",
    "        preforigin = eventInfo['preferredOriginID'].lower().split(\"/\")[-1]\n",
    "        for origin in origins:\n",
    "            pID = origin['publicID'].lower().split(\"/\")[-1]\n",
    "            if(pID == preforigin):\n",
    "                return origin\n",
    "#"
   ]
  },
  {
   "cell_type": "markdown",
   "metadata": {
    "collapsed": true,
    "jupyter": {
     "outputs_hidden": true
    }
   },
   "source": [
    "#### Function that you use to load a file\n",
    "\n",
    "We can use the above defined functions to extract event, origin, magnitude, and phase pick information from a file containing a list of events. Each event is stored in a dictionary of dictionaries and the result is a list of events dictionaries. The origins, magnitudes, picks, amplitudes, and arrivals of the preferred origin are also extracted and stored in each event dictionary.\n",
    "\n",
    "    an_event_dictionary = {eventInfo,origins,magnitudes,picks,arrivals,amplitudes}\n",
    "\n",
    "The each dictionary is a list of key-value pairs starting with the event attributes and the list of origins (that may include origins from the travel-time location analysis and the moment-tensor estimation of faulting geometry analyses). "
   ]
  },
  {
   "cell_type": "code",
   "execution_count": 68,
   "metadata": {},
   "outputs": [],
   "source": [
    "# name spaces employed at USGS\n",
    "# need to find a way to parse these from the file.\n",
    "#\n",
    "ns = {\"q\":\"http://quakeml.org/xmlns/quakeml/1.2\",\n",
    "      \"d\":\"http://quakeml.org/xmlns/bed/1.2\",\n",
    "      \"catalog\":\"http://anss.org/xmlns/catalog/0.1\",\n",
    "      \"tensor\":\"http://anss.org/xmlns/tensor/0.1\"}\n",
    "\n",
    "def parse_usgs_xml(filepath):\n",
    "    # Import xml from online:\n",
    "    # url = 'http://earthquake.usgs.gov/realtime/product/phase-data/us20007z6r/us/1481210600040/quakeml.xml'\n",
    "    # response = urllib2.urlopen(url)\n",
    "    # xmlstring = response.read()\n",
    "    # xroot = ElementTree.fromstring(xmlstring)\n",
    "    # \n",
    "    # Import xml from a file\n",
    "    #filepath = \"20120411-OffShoreSumatra.xml\"\n",
    "    #\n",
    "    xtree = ElementTree.parse(filepath)\n",
    "    xroot = xtree.getroot()\n",
    "    #\n",
    "    xeventParameters = xroot.findall('d:eventParameters',ns)\n",
    "    #\n",
    "    for ep in xeventParameters:\n",
    "        xevents = ep.findall('d:event',ns)\n",
    "        print(\"Found %d events.\" % (len(xevents)))\n",
    "    #    \n",
    "\n",
    "    print(xevents)\n",
    "    \n",
    "    events = []\n",
    "    #\n",
    "    i = 0\n",
    "    for xev in xevents:\n",
    "        # build an event dictionary \n",
    "        ev = {}\n",
    "        # ev['eventid'] = xev.attrib[\"{http://anss.org/xmlns/catalog/0.1}eventid\"]\n",
    "        # ev['description'] = xev.attrib['{http://quakeml.org/xmlns/bed/1.2}description']\n",
    "        ev['publicID'] = xev.attrib['publicID']        \n",
    "        # ev['eventsource'] = xev.attrib['{http://anss.org/xmlns/catalog/0.1}eventsource']\n",
    "        # ev['datasource'] = xev.attrib['{http://anss.org/xmlns/catalog/0.1}datasource']\n",
    "        ev['preferredOriginID'] = xev.find(\"d:preferredOriginID\",ns).text\n",
    "        ev['preferredMagnitudeID'] = xev.find(\"d:preferredMagnitudeID\",ns).text\n",
    "        #\n",
    "        mags = parse_magnitudes(xev)\n",
    "        picks = parse_picks(xev)\n",
    "        amplitudes = parse_amplitudes(xev)\n",
    "        #\n",
    "        preforigin = ev['preferredOriginID'].lower().split(\"/\")[-1]\n",
    "        xorigins = xev.findall('d:origin',ns)\n",
    "        origins = parse_origins(xev)\n",
    "        pxorigin = xev[0]\n",
    "        n = 0\n",
    "        for xorigin in xorigins:\n",
    "            anOrigin = origins[n]\n",
    "            pID = anOrigin['publicID'].lower().split(\"/\")[-1]\n",
    "            if(pID == preforigin):\n",
    "                pxorigin = xorigin\n",
    "            n += 1\n",
    "        #\n",
    "        arrivals = parse_arrivals(pxorigin)\n",
    "        #\n",
    "        events.append({'eventInfo':ev,'origins':origins,'magnitudes':mags,'picks':picks,'arrivals':arrivals,'amplitudes':amplitudes})\n",
    "        #\n",
    "        i += 1\n",
    "        #\n",
    "        print(\"parsed %d events.\" % (i))\n",
    "        #\n",
    "    return events"
   ]
  },
  {
   "cell_type": "markdown",
   "metadata": {},
   "source": [
    "# Example of Loading a USGS XML File\n",
    "You can use the functions to essentially convert a USGS XML file into a python dictionary. Note that I have not extracted all the information from these files (for example, I don't parse the moment tensors)."
   ]
  },
  {
   "cell_type": "code",
   "execution_count": 69,
   "metadata": {},
   "outputs": [
    {
     "name": "stdout",
     "output_type": "stream",
     "text": [
      "Found 31 events.\n",
      "[<Element '{http://quakeml.org/xmlns/bed/1.2}event' at 0x0000025311EB1F80>, <Element '{http://quakeml.org/xmlns/bed/1.2}event' at 0x0000025311EEFEC0>, <Element '{http://quakeml.org/xmlns/bed/1.2}event' at 0x0000025311EEE390>, <Element '{http://quakeml.org/xmlns/bed/1.2}event' at 0x0000025311F18C70>, <Element '{http://quakeml.org/xmlns/bed/1.2}event' at 0x0000025311F1A390>, <Element '{http://quakeml.org/xmlns/bed/1.2}event' at 0x0000025311F1B970>, <Element '{http://quakeml.org/xmlns/bed/1.2}event' at 0x0000025311EFD030>, <Element '{http://quakeml.org/xmlns/bed/1.2}event' at 0x0000025311EFFCE0>, <Element '{http://quakeml.org/xmlns/bed/1.2}event' at 0x0000025311F22A20>, <Element '{http://quakeml.org/xmlns/bed/1.2}event' at 0x0000025311EA80E0>, <Element '{http://quakeml.org/xmlns/bed/1.2}event' at 0x0000025311EA9760>, <Element '{http://quakeml.org/xmlns/bed/1.2}event' at 0x00000253124410D0>, <Element '{http://quakeml.org/xmlns/bed/1.2}event' at 0x0000025312442340>, <Element '{http://quakeml.org/xmlns/bed/1.2}event' at 0x000002531244DAD0>, <Element '{http://quakeml.org/xmlns/bed/1.2}event' at 0x00000253123FC720>, <Element '{http://quakeml.org/xmlns/bed/1.2}event' at 0x00000253123FDCB0>, <Element '{http://quakeml.org/xmlns/bed/1.2}event' at 0x00000253123FEDE0>, <Element '{http://quakeml.org/xmlns/bed/1.2}event' at 0x000002531243AFC0>, <Element '{http://quakeml.org/xmlns/bed/1.2}event' at 0x0000025312439A30>, <Element '{http://quakeml.org/xmlns/bed/1.2}event' at 0x0000025312350DB0>, <Element '{http://quakeml.org/xmlns/bed/1.2}event' at 0x0000025312353740>, <Element '{http://quakeml.org/xmlns/bed/1.2}event' at 0x0000025312395030>, <Element '{http://quakeml.org/xmlns/bed/1.2}event' at 0x0000025312396020>, <Element '{http://quakeml.org/xmlns/bed/1.2}event' at 0x0000025312388DB0>, <Element '{http://quakeml.org/xmlns/bed/1.2}event' at 0x0000025311E77560>, <Element '{http://quakeml.org/xmlns/bed/1.2}event' at 0x0000025311E75170>, <Element '{http://quakeml.org/xmlns/bed/1.2}event' at 0x0000025312124130>, <Element '{http://quakeml.org/xmlns/bed/1.2}event' at 0x0000025311EB3CE0>, <Element '{http://quakeml.org/xmlns/bed/1.2}event' at 0x0000025311D20130>, <Element '{http://quakeml.org/xmlns/bed/1.2}event' at 0x00000253123AC3B0>, <Element '{http://quakeml.org/xmlns/bed/1.2}event' at 0x00000253123ADE90>]\n",
      "parsed 1 events.\n",
      "parsed 2 events.\n",
      "parsed 3 events.\n",
      "parsed 4 events.\n",
      "parsed 5 events.\n",
      "parsed 6 events.\n",
      "parsed 7 events.\n",
      "parsed 8 events.\n",
      "parsed 9 events.\n",
      "parsed 10 events.\n",
      "parsed 11 events.\n",
      "parsed 12 events.\n",
      "parsed 13 events.\n",
      "parsed 14 events.\n",
      "parsed 15 events.\n",
      "parsed 16 events.\n",
      "parsed 17 events.\n",
      "parsed 18 events.\n",
      "parsed 19 events.\n",
      "parsed 20 events.\n",
      "parsed 21 events.\n",
      "parsed 22 events.\n",
      "parsed 23 events.\n",
      "parsed 24 events.\n",
      "parsed 25 events.\n",
      "parsed 26 events.\n",
      "parsed 27 events.\n",
      "parsed 28 events.\n",
      "parsed 29 events.\n",
      "parsed 30 events.\n",
      "parsed 31 events.\n"
     ]
    }
   ],
   "source": [
    "# CHANGE THE ARGUMENT TO THE FILE PATH\n",
    "# events = parse_usgs_xml(\"20170122-SolomonIslands.xml\")\n",
    "events = parse_usgs_xml(\"working_files/response_1688110777216.xml\")"
   ]
  },
  {
   "cell_type": "code",
   "execution_count": 27,
   "metadata": {},
   "outputs": [
    {
     "data": {
      "text/plain": [
       "{'eventInfo': {'publicID': 'smi:webservices.ingv.it/fdsnws/event/1/query?eventId=33760891',\n",
       "  'preferredOriginID': 'smi:webservices.ingv.it/fdsnws/event/1/query?originId=113196041',\n",
       "  'preferredMagnitudeID': 'smi:webservices.ingv.it/fdsnws/event/1/query?magnitudeId=121550241'},\n",
       " 'origins': [{'publicID': 'smi:webservices.ingv.it/fdsnws/event/1/query?originId=113196041',\n",
       "   'otime': '2022-12-29T15:11:00.120000',\n",
       "   'latitude': '39.3627',\n",
       "   'longitude': '15.2153',\n",
       "   'depth': '25100',\n",
       "   'dotime': '0.04',\n",
       "   'dlatitude': '0.0027',\n",
       "   'dlongitude': '0.0047',\n",
       "   'ddepth': '500'}],\n",
       " 'magnitudes': [{'publicID': 'smi:webservices.ingv.it/fdsnws/event/1/query?magnitudeId=121550241',\n",
       "   'mag': '4.0',\n",
       "   'magType': 'ML',\n",
       "   'evaluationMode': 'None',\n",
       "   'originID': 'smi:webservices.ingv.it/fdsnws/event/1/query?originId=113196041',\n",
       "   'agencyID': 'INGV'}],\n",
       " 'picks': [],\n",
       " 'arrivals': [],\n",
       " 'amplitudes': []}"
      ]
     },
     "execution_count": 27,
     "metadata": {},
     "output_type": "execute_result"
    }
   ],
   "source": [
    "events[0]"
   ]
  },
  {
   "cell_type": "code",
   "execution_count": 37,
   "metadata": {},
   "outputs": [
    {
     "name": "stdout",
     "output_type": "stream",
     "text": [
      "2022-12-29T15:11:00.120000\n",
      "2022-12-29T12:38:53.300000\n",
      "2022-12-04T07:12:45.370000\n",
      "2022-12-02T20:05:06.870000\n",
      "2022-11-28T07:49:50.077000\n",
      "2022-11-22T12:40:33.230000\n",
      "2022-11-20T05:20:30.250000\n",
      "2022-11-10T17:54:12.160000\n",
      "2022-11-09T06:12:57.730000\n",
      "2022-11-09T06:08:28.990000\n",
      "2022-11-09T06:07:25.000000\n",
      "2022-10-31T21:42:48.960000\n",
      "2022-10-12T22:44:55.000000\n",
      "2022-09-22T13:39:59.360000\n",
      "2022-09-18T13:54:40.190000\n",
      "2022-08-23T13:38:33.000000\n",
      "2022-08-21T04:52:49.260000\n",
      "2022-06-30T06:07:12.555000\n",
      "2022-06-09T11:18:00.140000\n",
      "2022-06-06T04:16:27.440000\n",
      "2022-04-24T04:27:55.390000\n",
      "2022-04-23T02:20:27.640000\n",
      "2022-04-22T21:07:49.680000\n",
      "2022-04-15T01:34:40.830000\n",
      "2022-03-29T01:48:14.940000\n",
      "2022-03-19T09:59:33.401000\n",
      "2022-03-04T21:17:52.530000\n",
      "2022-02-10T14:17:55.150000\n",
      "2022-02-09T20:00:57.000000\n",
      "2022-02-09T18:55:12.780000\n",
      "2022-01-20T09:19:57.010000\n"
     ]
    }
   ],
   "source": [
    "for event in events:\n",
    "    root_origin = event['origins'][0]\n",
    "    print(root_origin['otime'],root_origin[)"
   ]
  },
  {
   "cell_type": "markdown",
   "metadata": {},
   "source": [
    "# Using the Earthquake Information\n",
    "At this point you can begin to use the information, which is contained in a series of standard python dictionaries. I have focused on quakeML files that contain one event, but the basic building blocks can be used to process qml containing multiple events (with a little modification)."
   ]
  },
  {
   "cell_type": "code",
   "execution_count": 12,
   "metadata": {},
   "outputs": [
    {
     "name": "stdout",
     "output_type": "stream",
     "text": [
      "magType\tagencyID\tmagnitude\n",
      "ML\tINGV\t4.0\n"
     ]
    }
   ],
   "source": [
    "list_magnitudes(events[0]['magnitudes'])"
   ]
  },
  {
   "cell_type": "markdown",
   "metadata": {},
   "source": [
    "Arrivals and picks in the XML are contined in separate lists (better for operational tasks - you can have many picks but they may not all associate with an event). For most applications a seismologist would like information contained in both the pick item and the arrival item, so I merge arrivals and picks into arrivalTimePicks. Then list the information."
   ]
  },
  {
   "cell_type": "code",
   "execution_count": 13,
   "metadata": {},
   "outputs": [],
   "source": [
    "#\n",
    "#  print out the arrival times by merging the arrivals with the picks\n",
    "#\n",
    "arrivals = events[0]['arrivals']\n",
    "picks = events[0]['picks']\n",
    "#\n",
    "arrivalTimePicks = merge_arrivals_picks(arrivals,picks)\n",
    "#\n",
    "if(len(arrivalTimePicks) > 0):\n",
    "    list_arrival_time_picks(arrivalTimePicks,-1)\n"
   ]
  },
  {
   "cell_type": "markdown",
   "metadata": {},
   "source": [
    "#### Plot the Time Residual vs the Distance"
   ]
  },
  {
   "cell_type": "code",
   "execution_count": 14,
   "metadata": {},
   "outputs": [],
   "source": [
    "# Extract the distance and timeResidual for data used in the location\n",
    "x = []\n",
    "y = []\n",
    "for ap in arrivalTimePicks:\n",
    "    if float(ap['timeWeight']) > 0.0:\n",
    "        x.append(ap['distance'])\n",
    "        y.append(ap['timeResidual'])\n",
    "#"
   ]
  },
  {
   "cell_type": "code",
   "execution_count": 15,
   "metadata": {},
   "outputs": [
    {
     "data": {
      "image/png": "[encoded data removed]",
      "text/plain": [
       "<Figure size 640x480 with 1 Axes>"
      ]
     },
     "metadata": {},
     "output_type": "display_data"
    }
   ],
   "source": [
    "import matplotlib.pyplot as plt\n",
    "%matplotlib inline\n",
    "#\n",
    "plt.plot(x,y,'ko')\n",
    "plt.axis([0, 180, -10,10])\n",
    "plt.ylabel('Travel Time Residual (s)')\n",
    "plt.xlabel('Distance (degrees)')\n",
    "plt.show()"
   ]
  },
  {
   "cell_type": "markdown",
   "metadata": {},
   "source": [
    "#### Plot the Time Residual vs the Azimuth"
   ]
  },
  {
   "cell_type": "code",
   "execution_count": 16,
   "metadata": {},
   "outputs": [],
   "source": [
    "# Extract the distance and timeResidual for data used in the location\n",
    "x = []\n",
    "y = []\n",
    "for ap in arrivalTimePicks:\n",
    "    if float(ap['timeWeight']) > 0.0:\n",
    "        x.append(ap['azimuth'])\n",
    "        y.append(ap['timeResidual'])\n",
    "#"
   ]
  },
  {
   "cell_type": "code",
   "execution_count": 17,
   "metadata": {},
   "outputs": [
    {
     "data": {
      "image/png": "[encoded data removed]",
      "text/plain": [
       "<Figure size 640x480 with 1 Axes>"
      ]
     },
     "metadata": {},
     "output_type": "display_data"
    }
   ],
   "source": [
    "import matplotlib.pyplot as plt\n",
    "%matplotlib inline\n",
    "#\n",
    "plt.plot(x,y,'ko')\n",
    "plt.axis([0, 180, -7,7])\n",
    "plt.ylabel('Travel Time Residual (s)')\n",
    "plt.xlabel('Azimuth (degrees)')\n",
    "plt.show()"
   ]
  },
  {
   "cell_type": "markdown",
   "metadata": {},
   "source": [
    "#### Plot the Travel Times\n",
    "\n",
    "To see a plot of the travel times requires that we convert the date-time strings into differences in seconds. I use python's datetime objects to handle this. The solution is not robust with time zones, but it works for UTC."
   ]
  },
  {
   "cell_type": "code",
   "execution_count": 18,
   "metadata": {},
   "outputs": [
    {
     "ename": "ValueError",
     "evalue": "time data '2022-12-29T15:11:00.120000' does not match format '%Y-%m-%dT%H:%M:%S.%fZ'",
     "output_type": "error",
     "traceback": [
      "\u001b[1;31m---------------------------------------------------------------------------\u001b[0m",
      "\u001b[1;31mValueError\u001b[0m                                Traceback (most recent call last)",
      "Cell \u001b[1;32mIn[18], line 6\u001b[0m\n\u001b[0;32m      4\u001b[0m \u001b[38;5;66;03m#\u001b[39;00m\n\u001b[0;32m      5\u001b[0m preferredOrigin \u001b[38;5;241m=\u001b[39m get_preferred_origin(events[\u001b[38;5;241m0\u001b[39m][\u001b[38;5;124m'\u001b[39m\u001b[38;5;124meventInfo\u001b[39m\u001b[38;5;124m'\u001b[39m],events[\u001b[38;5;241m0\u001b[39m][\u001b[38;5;124m'\u001b[39m\u001b[38;5;124morigins\u001b[39m\u001b[38;5;124m'\u001b[39m])\n\u001b[1;32m----> 6\u001b[0m originDateTime \u001b[38;5;241m=\u001b[39m \u001b[43mfrom_utc\u001b[49m\u001b[43m(\u001b[49m\u001b[43mpreferredOrigin\u001b[49m\u001b[43m[\u001b[49m\u001b[38;5;124;43m'\u001b[39;49m\u001b[38;5;124;43motime\u001b[39;49m\u001b[38;5;124;43m'\u001b[39;49m\u001b[43m]\u001b[49m\u001b[43m)\u001b[49m\n\u001b[0;32m      7\u001b[0m \u001b[38;5;66;03m# Extract the distance and timeResidual for data used in the location\u001b[39;00m\n\u001b[0;32m      8\u001b[0m x \u001b[38;5;241m=\u001b[39m []\n",
      "Cell \u001b[1;32mIn[18], line 3\u001b[0m, in \u001b[0;36mfrom_utc\u001b[1;34m(utcTime, fmt)\u001b[0m\n\u001b[0;32m      2\u001b[0m \u001b[38;5;28;01mdef\u001b[39;00m \u001b[38;5;21mfrom_utc\u001b[39m(utcTime,fmt\u001b[38;5;241m=\u001b[39m\u001b[38;5;124m\"\u001b[39m\u001b[38;5;124m%\u001b[39m\u001b[38;5;124mY-\u001b[39m\u001b[38;5;124m%\u001b[39m\u001b[38;5;124mm-\u001b[39m\u001b[38;5;132;01m%d\u001b[39;00m\u001b[38;5;124mT\u001b[39m\u001b[38;5;124m%\u001b[39m\u001b[38;5;124mH:\u001b[39m\u001b[38;5;124m%\u001b[39m\u001b[38;5;124mM:\u001b[39m\u001b[38;5;124m%\u001b[39m\u001b[38;5;124mS.\u001b[39m\u001b[38;5;132;01m%f\u001b[39;00m\u001b[38;5;124mZ\u001b[39m\u001b[38;5;124m\"\u001b[39m):\n\u001b[1;32m----> 3\u001b[0m     \u001b[38;5;28;01mreturn\u001b[39;00m \u001b[43mdatetime\u001b[49m\u001b[38;5;241;43m.\u001b[39;49m\u001b[43mdatetime\u001b[49m\u001b[38;5;241;43m.\u001b[39;49m\u001b[43mstrptime\u001b[49m\u001b[43m(\u001b[49m\u001b[43mutcTime\u001b[49m\u001b[43m,\u001b[49m\u001b[43m \u001b[49m\u001b[43mfmt\u001b[49m\u001b[43m)\u001b[49m\n",
      "File \u001b[1;32mC:\\Python311\\Lib\\_strptime.py:568\u001b[0m, in \u001b[0;36m_strptime_datetime\u001b[1;34m(cls, data_string, format)\u001b[0m\n\u001b[0;32m    565\u001b[0m \u001b[38;5;28;01mdef\u001b[39;00m \u001b[38;5;21m_strptime_datetime\u001b[39m(\u001b[38;5;28mcls\u001b[39m, data_string, \u001b[38;5;28mformat\u001b[39m\u001b[38;5;241m=\u001b[39m\u001b[38;5;124m\"\u001b[39m\u001b[38;5;132;01m%a\u001b[39;00m\u001b[38;5;124m \u001b[39m\u001b[38;5;124m%\u001b[39m\u001b[38;5;124mb \u001b[39m\u001b[38;5;132;01m%d\u001b[39;00m\u001b[38;5;124m \u001b[39m\u001b[38;5;124m%\u001b[39m\u001b[38;5;124mH:\u001b[39m\u001b[38;5;124m%\u001b[39m\u001b[38;5;124mM:\u001b[39m\u001b[38;5;124m%\u001b[39m\u001b[38;5;124mS \u001b[39m\u001b[38;5;124m%\u001b[39m\u001b[38;5;124mY\u001b[39m\u001b[38;5;124m\"\u001b[39m):\n\u001b[0;32m    566\u001b[0m \u001b[38;5;250m    \u001b[39m\u001b[38;5;124;03m\"\"\"Return a class cls instance based on the input string and the\u001b[39;00m\n\u001b[0;32m    567\u001b[0m \u001b[38;5;124;03m    format string.\"\"\"\u001b[39;00m\n\u001b[1;32m--> 568\u001b[0m     tt, fraction, gmtoff_fraction \u001b[38;5;241m=\u001b[39m \u001b[43m_strptime\u001b[49m\u001b[43m(\u001b[49m\u001b[43mdata_string\u001b[49m\u001b[43m,\u001b[49m\u001b[43m \u001b[49m\u001b[38;5;28;43mformat\u001b[39;49m\u001b[43m)\u001b[49m\n\u001b[0;32m    569\u001b[0m     tzname, gmtoff \u001b[38;5;241m=\u001b[39m tt[\u001b[38;5;241m-\u001b[39m\u001b[38;5;241m2\u001b[39m:]\n\u001b[0;32m    570\u001b[0m     args \u001b[38;5;241m=\u001b[39m tt[:\u001b[38;5;241m6\u001b[39m] \u001b[38;5;241m+\u001b[39m (fraction,)\n",
      "File \u001b[1;32mC:\\Python311\\Lib\\_strptime.py:349\u001b[0m, in \u001b[0;36m_strptime\u001b[1;34m(data_string, format)\u001b[0m\n\u001b[0;32m    347\u001b[0m found \u001b[38;5;241m=\u001b[39m format_regex\u001b[38;5;241m.\u001b[39mmatch(data_string)\n\u001b[0;32m    348\u001b[0m \u001b[38;5;28;01mif\u001b[39;00m \u001b[38;5;129;01mnot\u001b[39;00m found:\n\u001b[1;32m--> 349\u001b[0m     \u001b[38;5;28;01mraise\u001b[39;00m \u001b[38;5;167;01mValueError\u001b[39;00m(\u001b[38;5;124m\"\u001b[39m\u001b[38;5;124mtime data \u001b[39m\u001b[38;5;132;01m%r\u001b[39;00m\u001b[38;5;124m does not match format \u001b[39m\u001b[38;5;132;01m%r\u001b[39;00m\u001b[38;5;124m\"\u001b[39m \u001b[38;5;241m%\u001b[39m\n\u001b[0;32m    350\u001b[0m                      (data_string, \u001b[38;5;28mformat\u001b[39m))\n\u001b[0;32m    351\u001b[0m \u001b[38;5;28;01mif\u001b[39;00m \u001b[38;5;28mlen\u001b[39m(data_string) \u001b[38;5;241m!=\u001b[39m found\u001b[38;5;241m.\u001b[39mend():\n\u001b[0;32m    352\u001b[0m     \u001b[38;5;28;01mraise\u001b[39;00m \u001b[38;5;167;01mValueError\u001b[39;00m(\u001b[38;5;124m\"\u001b[39m\u001b[38;5;124munconverted data remains: \u001b[39m\u001b[38;5;132;01m%s\u001b[39;00m\u001b[38;5;124m\"\u001b[39m \u001b[38;5;241m%\u001b[39m\n\u001b[0;32m    353\u001b[0m                       data_string[found\u001b[38;5;241m.\u001b[39mend():])\n",
      "\u001b[1;31mValueError\u001b[0m: time data '2022-12-29T15:11:00.120000' does not match format '%Y-%m-%dT%H:%M:%S.%fZ'"
     ]
    }
   ],
   "source": [
    "import datetime\n",
    "\n",
    "# time data '2022-12-29T15:11:00.120000' does not match format '%Y-%m-%dT%H:%M:%S.%fZ'\n",
    "\n",
    "def from_utc(utcTime,fmt=\"%Y-%m-%dT%H:%M:%S.%fZ\"):\n",
    "    return datetime.datetime.strptime(utcTime, fmt)\n",
    "#\n",
    "preferredOrigin = get_preferred_origin(events[0]['eventInfo'],events[0]['origins'])\n",
    "originDateTime = from_utc(preferredOrigin['otime'])\n",
    "# Extract the distance and timeResidual for data used in the location\n",
    "x = []\n",
    "y = []\n",
    "for ap in arrivalTimePicks:\n",
    "    if float(ap['timeWeight']) > 0.0:\n",
    "        x.append(ap['distance'])\n",
    "        dt = from_utc(ap['time']) - originDateTime\n",
    "        y.append(dt.total_seconds())\n",
    "# \n",
    "import matplotlib.pyplot as plt\n",
    "%matplotlib inline\n",
    "#\n",
    "plt.plot(x,y,'ko')\n",
    "plt.axis([0, 180, 0, 1400])\n",
    "plt.ylabel('Travel Time (s)')\n",
    "plt.xlabel('Azimuth (degrees)')\n",
    "plt.show()"
   ]
  },
  {
   "cell_type": "code",
   "execution_count": null,
   "metadata": {
    "collapsed": true,
    "jupyter": {
     "outputs_hidden": true
    }
   },
   "outputs": [],
   "source": []
  }
 ],
 "metadata": {
  "kernelspec": {
   "display_name": "Python 3 (ipykernel)",
   "language": "python",
   "name": "python3"
  },
  "language_info": {
   "codemirror_mode": {
    "name": "ipython",
    "version": 3
   },
   "file_extension": ".py",
   "mimetype": "text/x-python",
   "name": "python",
   "nbconvert_exporter": "python",
   "pygments_lexer": "ipython3",
   "version": "3.11.2"
  }
 },
 "nbformat": 4,
 "nbformat_minor": 4
}
