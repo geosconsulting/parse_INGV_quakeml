{
 "cells": [
  {
   "cell_type": "code",
   "execution_count": 36,
   "id": "f54a501d",
   "metadata": {},
   "outputs": [],
   "source": [
    "import requests, csv\n",
    "import pandas as pd\n",
    "import xml.etree.ElementTree as ET\n",
    "import pprint as pp"
   ]
  },
  {
   "cell_type": "code",
   "execution_count": 71,
   "id": "bc266bd5",
   "metadata": {},
   "outputs": [],
   "source": [
    "rt = 'http://webservices.ingv.it/fdsnws/event/1/query?'\n",
    "st = '2023-07-01T00:00:00'\n",
    "ed = '2023-07-30T12:00:00'\n",
    "lat = 41.76337\n",
    "lon = 12.33078\n",
    "min_radius_km = 1\n",
    "max_radius_km = 200\n",
    "format = 'text'"
   ]
  },
  {
   "cell_type": "code",
   "execution_count": 72,
   "id": "5433a44d",
   "metadata": {},
   "outputs": [],
   "source": [
    "url = f'{rt}starttime={st}&endtime={ed}&minmag=1.0&lat={lat}&lon={lon}&minradiuskm={min_radius_km}&maxradiuskm={max_radius_km}&format={format}'"
   ]
  },
  {
   "cell_type": "code",
   "execution_count": 73,
   "id": "c0e43d63-d35c-4500-84b5-f34d89a25749",
   "metadata": {},
   "outputs": [
    {
     "data": {
      "text/plain": [
       "'http://webservices.ingv.it/fdsnws/event/1/query?starttime=2023-07-01T00:00:00&endtime=2023-07-30T12:00:00&minmag=1.0&lat=41.76337&lon=12.33078&minradiuskm=1&maxradiuskm=200&format=text'"
      ]
     },
     "execution_count": 73,
     "metadata": {},
     "output_type": "execute_result"
    }
   ],
   "source": [
    "url"
   ]
  },
  {
   "cell_type": "code",
   "execution_count": 74,
   "id": "2f5814e5-acb8-4187-99db-7f9cb42cbed3",
   "metadata": {},
   "outputs": [],
   "source": [
    "u1=urlopen(url)"
   ]
  },
  {
   "cell_type": "code",
   "execution_count": 75,
   "id": "463af569-82dd-4b78-b15c-edea3cf97f7a",
   "metadata": {},
   "outputs": [
    {
     "data": {
      "text/plain": [
       "b\"#EventID|Time|Latitude|Longitude|Depth/Km|Author|Catalog|Contributor|ContributorID|MagType|Magnitude|MagAuthor|EventLocationName|EventType\\n35479771|2023-07-05T15:00:35.910000|43.3383|12.7787|12.8|SURVEY-INGV||||ML|1.0|--|3 km E Sigillo (PG)|earthquake\\n35478911|2023-07-05T13:02:57.500000|41.9437|12.9358|8.3|SURVEY-INGV||||ML|1.4|--|2 km S Ciciliano (RM)|earthquake\\n35478781|2023-07-05T12:39:03.790000|43.3373|13.2218|7.2|SURVEY-INGV||||ML|1.1|--|4 km S Cingoli (MC)|earthquake\\n35478341|2023-07-05T12:08:03.830000|41.9522|12.9328|9.8|SURVEY-INGV||||ML|2.5|--|1 km SW Ciciliano (RM)|earthquake\\n35475451|2023-07-05T07:16:02.310000|43.1147|13.0133|10.8|SURVEY-INGV||||ML|1.8|--|4 km NW Muccia (MC)|earthquake\\n35475381|2023-07-05T07:13:15.360000|42.8453|13.0742|10.3|SURVEY-INGV||||ML|1.1|--|5 km SE Preci (PG)|earthquake\\n35474971|2023-07-05T06:32:19.010000|43.0757|13.3287|23.4|SURVEY-INGV||||ML|1.1|--|1 km NW Gualdo (MC)|earthquake\\n35474861|2023-07-05T06:00:10.670000|43.0673|13.0243|13.0|SURVEY-INGV||||ML|1.1|--|2 km SW Muccia (MC)|earthquake\\n35472871|2023-07-05T02:50:37.240000|42.7308|13.0338|11.8|SURVEY-INGV||||ML|1.0|--|2 km NE Cascia (PG)|earthquake\\n35472521|2023-07-05T00:29:00.950000|43.1323|11.0312|10.1|SURVEY-INGV||||ML|1.5|--|1 km E Montieri (GR)|earthquake\\n35472411|2023-07-05T00:04:37.380000|42.9788|13.2162|9.0|SURVEY-INGV||||ML|1.4|--|2 km SW Bolognola (MC)|earthquake\\n35472241|2023-07-04T22:51:09.750000|41.8502|13.556|10.2|SURVEY-INGV||||ML|1.1|--|3 km NE San Vincenzo Valle Roveto (AQ)|earthquake\\n35471551|2023-07-04T19:16:20.430000|42.8367|13.1755|10.2|SURVEY-INGV||||ML|1.0|--|7 km S Castelsantangelo sul Nera (MC)|earthquake\\n35470041|2023-07-04T16:20:02.460000|43.1563|13.2373|23.3|SURVEY-INGV||||ML|1.0|--|1 km S Belforte del Chienti (MC)|earthquake\\n35469661|2023-07-04T15:45:22.260000|42.8472|13.0623|9.5|SURVEY-INGV||||ML|1.3|--|4 km SE Preci (PG)|earthquake\\n35469191|2023-07-04T15:09:00.690000|43.4553|12.3903|3.2|SURVEY-INGV||||ML|1.0|--|4 km W Pietralunga (PG)|earthquake\\n35468891|2023-07-04T14:50:10.140000|42.3268|13.5588|10.0|SURVEY-INGV||||ML|1.7|--|1 km E Poggio Picenze (AQ)|earthquake\\n35468481|2023-07-04T14:26:13.590000|42.8417|13.0633|10.2|SURVEY-INGV||||ML|1.5|--|5 km SE Preci (PG)|earthquake\\n35467351|2023-07-04T13:12:40.570000|42.8502|13.0597|10.5|SURVEY-INGV||||ML|1.5|--|4 km SE Preci (PG)|earthquake\\n35467251|2023-07-04T13:05:58.910000|42.8528|13.0647|10.4|SURVEY-INGV||||ML|1.3|--|4 km SE Preci (PG)|earthquake\\n35466481|2023-07-04T11:13:00.570000|42.7432|12.6523|8.1|SURVEY-INGV||||ML|1.2|--|7 km W Spoleto (PG)|earthquake\\n35465951|2023-07-04T10:05:32.370000|42.5607|13.3677|14.5|SURVEY-INGV||||ML|1.7|--|Campotosto (AQ)|earthquake\\n35464321|2023-07-04T06:28:13.400000|42.4743|13.3872|10.1|SURVEY-INGV||||ML|1.1|--|9 km E Pizzoli (AQ)|earthquake\\n35464071|2023-07-04T06:08:49.660000|43.1373|11.0455|8.4|SURVEY-INGV||||ML|1.7|--|2 km E Montieri (GR)|earthquake\\n35462501|2023-07-03T23:35:53.420000|43.2398|13.224|23.0|SURVEY-INGV||||ML|1.2|--|4 km E San Severino Marche (MC)|earthquake\\n35462361|2023-07-03T22:52:15.050000|42.6812|13.7067|17.5|SURVEY-INGV||||ML|1.2|--|2 km N Teramo (TE)|earthquake\\n35462291|2023-07-03T22:50:24.950000|42.6807|13.7048|17.1|SURVEY-INGV||||ML|1.1|--|2 km N Teramo (TE)|earthquake\\n35461361|2023-07-03T18:48:49.350000|42.7303|13.268|10.8|SURVEY-INGV||||ML|1.2|--|4 km NE Accumoli (RI)|earthquake\\n35460091|2023-07-03T14:34:21.380000|43.3438|12.584|4.3|SURVEY-INGV||||ML|1.1|--|1 km S Gubbio (PG)|earthquake\\n35459761|2023-07-03T13:52:18.390000|42.7573|12.947|11.7|SURVEY-INGV||||ML|1.0|--|5 km N Poggiodomo (PG)|earthquake\\n35457911|2023-07-03T09:29:36.390000|42.9755|13.2185|10.5|SURVEY-INGV||||ML|1.4|--|2 km SW Bolognola (MC)|earthquake\\n35457501|2023-07-03T08:53:42.630000|42.3432|13.376|9.7|SURVEY-INGV||||ML|1.5|--|2 km W L'Aquila (AQ)|earthquake\\n35457381|2023-07-03T08:39:52.720000|41.7032|13.7112|7.5|SURVEY-INGV||||ML|1.3|--|1 km NE Posta Fibreno (FR)|earthquake\\n35454781|2023-07-03T02:17:55.300000|41.4447|14.6543|15.7|SURVEY-INGV||||ML|1.2|--|2 km SE San Giuliano del Sannio (CB)|earthquake\\n35454541|2023-07-03T01:39:34.410000|42.9328|12.8577|10.0|SURVEY-INGV||||ML|1.6|--|7 km NW Sellano (PG)|earthquake\\n35454381|2023-07-03T00:41:54.950000|42.806|13.1208|10.1|SURVEY-INGV||||ML|1.1|--|3 km NE Norcia (PG)|earthquake\\n35454091|2023-07-02T23:39:33.570000|42.9362|12.8703|11.3|SURVEY-INGV||||ML|1.3|--|7 km NW Sellano (PG)|earthquake\\n35453961|2023-07-02T23:27:03.930000|41.6985|13.7233|8.8|SURVEY-INGV||||ML|1.9|--|2 km NW Alvito (FR)|earthquake\\n35453681|2023-07-02T22:39:14.890000|43.0488|12.9743|13.2|SURVEY-INGV||||ML|1.1|--|3 km SE Serravalle di Chienti (MC)|earthquake\\n35453661|2023-07-02T22:35:56.350000|42.9363|12.8682|11.4|SURVEY-INGV||||ML|1.4|--|7 km NW Sellano (PG)|earthquake\\n35453581|2023-07-02T22:25:12.710000|42.9373|12.8668|11.2|SURVEY-INGV||||ML|1.3|--|7 km NW Sellano (PG)|earthquake\\n35453531|2023-07-02T22:21:04.970000|42.9367|12.8758|11.1|SURVEY-INGV||||ML|1.4|--|7 km NW Sellano (PG)|earthquake\\n35453221|2023-07-02T20:41:32.230000|41.691|13.7095|7.6|SURVEY-INGV||||ML|1.4|--|1 km E Posta Fibreno (FR)|earthquake\\n35453191|2023-07-02T20:41:20.270000|42.9455|13.0317|11.6|SURVEY-INGV||||ML|1.0|--|5 km W Visso (MC)|earthquake\\n35453141|2023-07-02T20:05:42.180000|41.7005|13.7183|7.9|SURVEY-INGV||||ML|1.9|--|2 km E Posta Fibreno (FR)|earthquake\\n35453071|2023-07-02T20:05:21.440000|41.7125|13.7252|6.2|SURVEY-INGV||||ML|1.3|--|3 km NE Posta Fibreno (FR)|earthquake\\n35452651|2023-07-02T18:01:38.570000|43.1407|11.0172|9.9|SURVEY-INGV||||ML|1.3|--|1 km N Montieri (GR)|earthquake\\n35451831|2023-07-02T15:48:41.820000|43.1212|12.8257|9.9|SURVEY-INGV||||ML|1.4|--|3 km E Nocera Umbra (PG)|earthquake\\n35451441|2023-07-02T14:54:48.750000|43.1007|12.9842|12.5|SURVEY-INGV||||ML|1.0|--|4 km NE Serravalle di Chienti (MC)|earthquake\\n35451001|2023-07-02T13:52:09.480000|42.7972|13.1883|9.2|SURVEY-INGV||||ML|1.2|--|8 km E Norcia (PG)|earthquake\\n35450901|2023-07-02T13:43:12.050000|42.7235|13.2637|9.8|SURVEY-INGV||||ML|1.7|--|3 km NE Accumoli (RI)|earthquake\\n35450081|2023-07-02T11:13:07.280000|41.6977|13.7213|8.9|SURVEY-INGV||||ML|2.7|--|2 km E Posta Fibreno (FR)|earthquake\\n35449711|2023-07-02T10:29:52.750000|43.1968|11.0982|8.4|SURVEY-INGV||||ML|1.5|--|5 km N Chiusdino (SI)|earthquake\\n35449361|2023-07-02T09:49:18.890000|42.9173|12.9212|10.4|SURVEY-INGV||||ML|1.4|--|3 km N Sellano (PG)|earthquake\\n35449271|2023-07-02T09:32:04.390000|43.1417|10.817|3.8|SURVEY-INGV||||ML|1.8|--|3 km W Monterotondo Marittimo (GR)|earthquake\\n35449121|2023-07-02T09:21:49.670000|42.6075|13.1623|9.8|SURVEY-INGV||||ML|1.8|--|1 km S Cittareale (RI)|earthquake\\n35449041|2023-07-02T09:15:55.140000|42.5773|13.1608|15.4|SURVEY-INGV||||ML|1.4|--|5 km S Cittareale (RI)|earthquake\\n35448501|2023-07-02T07:44:29.940000|42.8403|13.2333|8.3|SURVEY-INGV||||ML|1.3|--|8 km W Montegallo (AP)|earthquake\\n35448371|2023-07-02T07:13:23.930000|42.3248|13.5628|9.6|SURVEY-INGV||||ML|1.4|--|2 km E Poggio Picenze (AQ)|earthquake\\n35448211|2023-07-02T07:04:04.250000|42.7673|13.0888|10.2|SURVEY-INGV||||ML|1.0|--|3 km S Norcia (PG)|earthquake\\n35447961|2023-07-02T05:34:58.570000|42.946|13.1435|8.8|SURVEY-INGV||||ML|1.3|--|Ussita (MC)|earthquake\\n35447751|2023-07-02T04:32:52.900000|42.7843|13.5912|17.8|SURVEY-INGV||||ML|1.5|--|5 km SW Folignano (AP)|earthquake\\n35447371|2023-07-02T03:03:19.020000|42.9747|13.2157|10.6|SURVEY-INGV||||ML|1.2|--|2 km SW Bolognola (MC)|earthquake\\n35447201|2023-07-02T02:06:37.430000|41.4473|13.8102|8.1|SURVEY-INGV||||ML|1.2|--|2 km NE Pignataro Interamna (FR)|earthquake\\n35447041|2023-07-02T01:29:31.360000|42.8368|12.9265|10.6|SURVEY-INGV||||ML|1.0|--|2 km NE Cerreto di Spoleto (PG)|earthquake\\n35446701|2023-07-01T23:40:40.130000|42.3393|13.5488|11.0|SURVEY-INGV||||ML|1.2|--|2 km N Poggio Picenze (AQ)|earthquake\\n35446651|2023-07-01T23:29:21.860000|42.3283|13.5518|10.2|SURVEY-INGV||||ML|1.0|--|1 km NE Poggio Picenze (AQ)|earthquake\\n35446581|2023-07-01T23:26:22.850000|42.4653|13.3807|10.7|SURVEY-INGV||||ML|1.7|--|8 km E Pizzoli (AQ)|earthquake\\n35446331|2023-07-01T21:37:19.090000|42.7837|13.6045|10.9|SURVEY-INGV||||ML|2.0|--|5 km SW Folignano (AP)|earthquake\\n35445961|2023-07-01T20:25:21.820000|42.8353|12.9302|9.1|SURVEY-INGV||||ML|1.5|--|2 km NE Cerreto di Spoleto (PG)|earthquake\\n35445241|2023-07-01T17:13:33.800000|42.8007|13.2167|9.1|SURVEY-INGV||||ML|1.4|--|7 km W Arquata del Tronto (AP)|earthquake\\n35440851|2023-07-01T09:22:12.060000|41.732|13.7115|1.8|SURVEY-INGV||||ML|1.3|--|3 km E Campoli Appennino (FR)|earthquake\\n35440661|2023-07-01T09:00:46.080000|41.7332|13.7012|4.3|SURVEY-INGV||||ML|1.6|--|2 km E Campoli Appennino (FR)|earthquake\\n35440111|2023-07-01T08:20:23.220000|43.2303|10.9557|7.8|SURVEY-INGV||||ML|1.9|--|5 km NE Castelnuovo di Val di Cecina (PI)|earthquake\\n35439591|2023-07-01T07:38:35.150000|42.827|13.1818|9.2|SURVEY-INGV||||ML|1.3|--|8 km S Castelsantangelo sul Nera (MC)|earthquake\\n35438561|2023-07-01T05:12:37.860000|42.977|13.2105|10.6|SURVEY-INGV||||ML|1.1|--|2 km SW Bolognola (MC)|earthquake\\n\""
      ]
     },
     "execution_count": 75,
     "metadata": {},
     "output_type": "execute_result"
    }
   ],
   "source": [
    "u1.read()"
   ]
  },
  {
   "cell_type": "code",
   "execution_count": null,
   "id": "e66bac1c-dcb5-4cef-8759-718520cefcf0",
   "metadata": {},
   "outputs": [],
   "source": [
    "tree = ET.parse(u1)"
   ]
  },
  {
   "cell_type": "code",
   "execution_count": 35,
   "id": "d9f2d58a-3f8f-4029-8c5a-9a7c0fd1a245",
   "metadata": {},
   "outputs": [
    {
     "data": {
      "text/plain": [
       "'{http://quakeml.org/xmlns/quakeml/1.2}quakeml'"
      ]
     },
     "execution_count": 35,
     "metadata": {},
     "output_type": "execute_result"
    }
   ],
   "source": [
    "root = tree.getroot()\n",
    "root.tag"
   ]
  },
  {
   "cell_type": "markdown",
   "id": "7ad3c557-e011-43a0-988a-cf3a80a0931c",
   "metadata": {},
   "source": [
    "# Opening Standard Requests"
   ]
  },
  {
   "cell_type": "code",
   "execution_count": 41,
   "id": "c5bece1b",
   "metadata": {},
   "outputs": [
    {
     "name": "stdout",
     "output_type": "stream",
     "text": [
      "\n",
      "> Retrieving XML Data: http://webservices.ingv.it/fdsnws/event/1/query?starttime=2023-07-01T00:00:00&endtime=2023-07-30T12:00:00&minmag=1.0&lat=41.76337&lon=12.33078&minradiuskm=1&maxradiuskm=200\n",
      ">> XML_DF: 262654\n"
     ]
    }
   ],
   "source": [
    "print('\\n> Retrieving XML Data:', url)\n",
    "XML_df = requests.get(url).text\n",
    "print('>> XML_DF:', len(XML_df))"
   ]
  },
  {
   "cell_type": "code",
   "execution_count": 44,
   "id": "2d533572",
   "metadata": {},
   "outputs": [
    {
     "data": {
      "text/html": [
       "<div>\n",
       "<style scoped>\n",
       "    .dataframe tbody tr th:only-of-type {\n",
       "        vertical-align: middle;\n",
       "    }\n",
       "\n",
       "    .dataframe tbody tr th {\n",
       "        vertical-align: top;\n",
       "    }\n",
       "\n",
       "    .dataframe thead th {\n",
       "        text-align: right;\n",
       "    }\n",
       "</style>\n",
       "<table border=\"1\" class=\"dataframe\">\n",
       "  <thead>\n",
       "    <tr style=\"text-align: right;\">\n",
       "      <th></th>\n",
       "      <th>publicID</th>\n",
       "      <th>event</th>\n",
       "    </tr>\n",
       "  </thead>\n",
       "  <tbody>\n",
       "    <tr>\n",
       "      <th>0</th>\n",
       "      <td>smi:webservices.ingv.it/fdsnws/event/1/query</td>\n",
       "      <td>NaN</td>\n",
       "    </tr>\n",
       "  </tbody>\n",
       "</table>\n",
       "</div>"
      ],
      "text/plain": [
       "                                       publicID  event\n",
       "0  smi:webservices.ingv.it/fdsnws/event/1/query    NaN"
      ]
     },
     "execution_count": 44,
     "metadata": {},
     "output_type": "execute_result"
    }
   ],
   "source": [
    "XML_df_auto = pd.read_xml(XML_df)\n",
    "XML_df_auto"
   ]
  },
  {
   "cell_type": "code",
   "execution_count": 45,
   "id": "9ed0685f",
   "metadata": {},
   "outputs": [],
   "source": [
    "# XML_df_auto = pd.read_xml(XML_df,xpath=\"//creationInfo\")\n",
    "# XML_df_auto"
   ]
  },
  {
   "cell_type": "code",
   "execution_count": 46,
   "id": "7a000860",
   "metadata": {},
   "outputs": [],
   "source": [
    "# pp.pprint(XML_df)"
   ]
  },
  {
   "cell_type": "code",
   "execution_count": 47,
   "id": "7ee217c9",
   "metadata": {},
   "outputs": [
    {
     "data": {
      "text/plain": [
       "<Element '{http://quakeml.org/xmlns/quakeml/1.2}quakeml' at 0x0000017DC60FFA10>"
      ]
     },
     "execution_count": 47,
     "metadata": {},
     "output_type": "execute_result"
    }
   ],
   "source": [
    "root = ET.XML(XML_df) # element tree\n",
    "root"
   ]
  },
  {
   "cell_type": "code",
   "execution_count": 48,
   "id": "8f55f760",
   "metadata": {},
   "outputs": [],
   "source": [
    "XML_List = []\n",
    "for child in root[0]:\n",
    "    XML_Dict = {}\n",
    "    XML_Dict['publicID'] = child.attrib['publicID']    \n",
    "    # for subchild in child:        \n",
    "    #     print(subchild.text)\n",
    "#         if ''.join(subchild.attrib.values()) == 'originId':\n",
    "#             XML_Dict['originId'] = subchild.text\n",
    "#         elif ''.join(subchild.attrib.values()) == 'fr':\n",
    "#             XML_Dict['Dataset_Name_FR'] = subchild.text\n",
    "\n",
    "    XML_List.append(XML_Dict)"
   ]
  },
  {
   "cell_type": "code",
   "execution_count": 49,
   "id": "191607a4",
   "metadata": {},
   "outputs": [
    {
     "name": "stdout",
     "output_type": "stream",
     "text": [
      "smi:webservices.ingv.it/fdsnws/event/1/query?eventId=35478911\n",
      "smi:webservices.ingv.it/fdsnws/event/1/query?eventId=35478781\n",
      "smi:webservices.ingv.it/fdsnws/event/1/query?eventId=35478341\n",
      "smi:webservices.ingv.it/fdsnws/event/1/query?eventId=35475451\n",
      "smi:webservices.ingv.it/fdsnws/event/1/query?eventId=35475381\n",
      "smi:webservices.ingv.it/fdsnws/event/1/query?eventId=35474971\n",
      "smi:webservices.ingv.it/fdsnws/event/1/query?eventId=35474861\n",
      "smi:webservices.ingv.it/fdsnws/event/1/query?eventId=35472871\n",
      "smi:webservices.ingv.it/fdsnws/event/1/query?eventId=35472521\n",
      "smi:webservices.ingv.it/fdsnws/event/1/query?eventId=35472411\n",
      "smi:webservices.ingv.it/fdsnws/event/1/query?eventId=35472241\n",
      "smi:webservices.ingv.it/fdsnws/event/1/query?eventId=35471551\n",
      "smi:webservices.ingv.it/fdsnws/event/1/query?eventId=35470041\n",
      "smi:webservices.ingv.it/fdsnws/event/1/query?eventId=35469661\n",
      "smi:webservices.ingv.it/fdsnws/event/1/query?eventId=35469191\n",
      "smi:webservices.ingv.it/fdsnws/event/1/query?eventId=35468891\n",
      "smi:webservices.ingv.it/fdsnws/event/1/query?eventId=35468481\n",
      "smi:webservices.ingv.it/fdsnws/event/1/query?eventId=35467351\n",
      "smi:webservices.ingv.it/fdsnws/event/1/query?eventId=35467251\n",
      "smi:webservices.ingv.it/fdsnws/event/1/query?eventId=35466481\n",
      "smi:webservices.ingv.it/fdsnws/event/1/query?eventId=35465951\n",
      "smi:webservices.ingv.it/fdsnws/event/1/query?eventId=35464321\n",
      "smi:webservices.ingv.it/fdsnws/event/1/query?eventId=35464071\n",
      "smi:webservices.ingv.it/fdsnws/event/1/query?eventId=35462501\n",
      "smi:webservices.ingv.it/fdsnws/event/1/query?eventId=35462361\n",
      "smi:webservices.ingv.it/fdsnws/event/1/query?eventId=35462291\n",
      "smi:webservices.ingv.it/fdsnws/event/1/query?eventId=35461361\n",
      "smi:webservices.ingv.it/fdsnws/event/1/query?eventId=35460091\n",
      "smi:webservices.ingv.it/fdsnws/event/1/query?eventId=35459761\n",
      "smi:webservices.ingv.it/fdsnws/event/1/query?eventId=35457911\n",
      "smi:webservices.ingv.it/fdsnws/event/1/query?eventId=35457501\n",
      "smi:webservices.ingv.it/fdsnws/event/1/query?eventId=35457381\n",
      "smi:webservices.ingv.it/fdsnws/event/1/query?eventId=35454781\n",
      "smi:webservices.ingv.it/fdsnws/event/1/query?eventId=35454541\n",
      "smi:webservices.ingv.it/fdsnws/event/1/query?eventId=35454381\n",
      "smi:webservices.ingv.it/fdsnws/event/1/query?eventId=35454091\n",
      "smi:webservices.ingv.it/fdsnws/event/1/query?eventId=35453961\n",
      "smi:webservices.ingv.it/fdsnws/event/1/query?eventId=35453681\n",
      "smi:webservices.ingv.it/fdsnws/event/1/query?eventId=35453661\n",
      "smi:webservices.ingv.it/fdsnws/event/1/query?eventId=35453581\n",
      "smi:webservices.ingv.it/fdsnws/event/1/query?eventId=35453531\n",
      "smi:webservices.ingv.it/fdsnws/event/1/query?eventId=35453221\n",
      "smi:webservices.ingv.it/fdsnws/event/1/query?eventId=35453191\n",
      "smi:webservices.ingv.it/fdsnws/event/1/query?eventId=35453141\n",
      "smi:webservices.ingv.it/fdsnws/event/1/query?eventId=35453071\n",
      "smi:webservices.ingv.it/fdsnws/event/1/query?eventId=35452651\n",
      "smi:webservices.ingv.it/fdsnws/event/1/query?eventId=35451831\n",
      "smi:webservices.ingv.it/fdsnws/event/1/query?eventId=35451441\n",
      "smi:webservices.ingv.it/fdsnws/event/1/query?eventId=35451001\n",
      "smi:webservices.ingv.it/fdsnws/event/1/query?eventId=35450901\n",
      "smi:webservices.ingv.it/fdsnws/event/1/query?eventId=35450081\n",
      "smi:webservices.ingv.it/fdsnws/event/1/query?eventId=35449711\n",
      "smi:webservices.ingv.it/fdsnws/event/1/query?eventId=35449361\n",
      "smi:webservices.ingv.it/fdsnws/event/1/query?eventId=35449271\n",
      "smi:webservices.ingv.it/fdsnws/event/1/query?eventId=35449121\n",
      "smi:webservices.ingv.it/fdsnws/event/1/query?eventId=35449041\n",
      "smi:webservices.ingv.it/fdsnws/event/1/query?eventId=35448501\n",
      "smi:webservices.ingv.it/fdsnws/event/1/query?eventId=35448371\n",
      "smi:webservices.ingv.it/fdsnws/event/1/query?eventId=35448211\n",
      "smi:webservices.ingv.it/fdsnws/event/1/query?eventId=35447961\n",
      "smi:webservices.ingv.it/fdsnws/event/1/query?eventId=35447751\n",
      "smi:webservices.ingv.it/fdsnws/event/1/query?eventId=35447371\n",
      "smi:webservices.ingv.it/fdsnws/event/1/query?eventId=35447201\n",
      "smi:webservices.ingv.it/fdsnws/event/1/query?eventId=35447041\n",
      "smi:webservices.ingv.it/fdsnws/event/1/query?eventId=35446701\n",
      "smi:webservices.ingv.it/fdsnws/event/1/query?eventId=35446651\n",
      "smi:webservices.ingv.it/fdsnws/event/1/query?eventId=35446581\n",
      "smi:webservices.ingv.it/fdsnws/event/1/query?eventId=35446331\n",
      "smi:webservices.ingv.it/fdsnws/event/1/query?eventId=35445961\n",
      "smi:webservices.ingv.it/fdsnws/event/1/query?eventId=35445241\n",
      "smi:webservices.ingv.it/fdsnws/event/1/query?eventId=35440851\n",
      "smi:webservices.ingv.it/fdsnws/event/1/query?eventId=35440661\n",
      "smi:webservices.ingv.it/fdsnws/event/1/query?eventId=35440111\n",
      "smi:webservices.ingv.it/fdsnws/event/1/query?eventId=35439591\n",
      "smi:webservices.ingv.it/fdsnws/event/1/query?eventId=35438561\n"
     ]
    }
   ],
   "source": [
    "for illo in XML_List:\n",
    "    print(illo['publicID'])"
   ]
  },
  {
   "cell_type": "code",
   "execution_count": 50,
   "id": "3da0fed2",
   "metadata": {},
   "outputs": [
    {
     "data": {
      "text/html": [
       "<div>\n",
       "<style scoped>\n",
       "    .dataframe tbody tr th:only-of-type {\n",
       "        vertical-align: middle;\n",
       "    }\n",
       "\n",
       "    .dataframe tbody tr th {\n",
       "        vertical-align: top;\n",
       "    }\n",
       "\n",
       "    .dataframe thead th {\n",
       "        text-align: right;\n",
       "    }\n",
       "</style>\n",
       "<table border=\"1\" class=\"dataframe\">\n",
       "  <thead>\n",
       "    <tr style=\"text-align: right;\">\n",
       "      <th></th>\n",
       "      <th>publicID</th>\n",
       "    </tr>\n",
       "  </thead>\n",
       "  <tbody>\n",
       "    <tr>\n",
       "      <th>0</th>\n",
       "      <td>smi:webservices.ingv.it/fdsnws/event/1/query?e...</td>\n",
       "    </tr>\n",
       "    <tr>\n",
       "      <th>1</th>\n",
       "      <td>smi:webservices.ingv.it/fdsnws/event/1/query?e...</td>\n",
       "    </tr>\n",
       "    <tr>\n",
       "      <th>2</th>\n",
       "      <td>smi:webservices.ingv.it/fdsnws/event/1/query?e...</td>\n",
       "    </tr>\n",
       "    <tr>\n",
       "      <th>3</th>\n",
       "      <td>smi:webservices.ingv.it/fdsnws/event/1/query?e...</td>\n",
       "    </tr>\n",
       "    <tr>\n",
       "      <th>4</th>\n",
       "      <td>smi:webservices.ingv.it/fdsnws/event/1/query?e...</td>\n",
       "    </tr>\n",
       "    <tr>\n",
       "      <th>...</th>\n",
       "      <td>...</td>\n",
       "    </tr>\n",
       "    <tr>\n",
       "      <th>70</th>\n",
       "      <td>smi:webservices.ingv.it/fdsnws/event/1/query?e...</td>\n",
       "    </tr>\n",
       "    <tr>\n",
       "      <th>71</th>\n",
       "      <td>smi:webservices.ingv.it/fdsnws/event/1/query?e...</td>\n",
       "    </tr>\n",
       "    <tr>\n",
       "      <th>72</th>\n",
       "      <td>smi:webservices.ingv.it/fdsnws/event/1/query?e...</td>\n",
       "    </tr>\n",
       "    <tr>\n",
       "      <th>73</th>\n",
       "      <td>smi:webservices.ingv.it/fdsnws/event/1/query?e...</td>\n",
       "    </tr>\n",
       "    <tr>\n",
       "      <th>74</th>\n",
       "      <td>smi:webservices.ingv.it/fdsnws/event/1/query?e...</td>\n",
       "    </tr>\n",
       "  </tbody>\n",
       "</table>\n",
       "<p>75 rows × 1 columns</p>\n",
       "</div>"
      ],
      "text/plain": [
       "                                             publicID\n",
       "0   smi:webservices.ingv.it/fdsnws/event/1/query?e...\n",
       "1   smi:webservices.ingv.it/fdsnws/event/1/query?e...\n",
       "2   smi:webservices.ingv.it/fdsnws/event/1/query?e...\n",
       "3   smi:webservices.ingv.it/fdsnws/event/1/query?e...\n",
       "4   smi:webservices.ingv.it/fdsnws/event/1/query?e...\n",
       "..                                                ...\n",
       "70  smi:webservices.ingv.it/fdsnws/event/1/query?e...\n",
       "71  smi:webservices.ingv.it/fdsnws/event/1/query?e...\n",
       "72  smi:webservices.ingv.it/fdsnws/event/1/query?e...\n",
       "73  smi:webservices.ingv.it/fdsnws/event/1/query?e...\n",
       "74  smi:webservices.ingv.it/fdsnws/event/1/query?e...\n",
       "\n",
       "[75 rows x 1 columns]"
      ]
     },
     "execution_count": 50,
     "metadata": {},
     "output_type": "execute_result"
    }
   ],
   "source": [
    "XML_df = pd.DataFrame(XML_List)\n",
    "XML_df"
   ]
  },
  {
   "cell_type": "code",
   "execution_count": 51,
   "id": "eca14313",
   "metadata": {},
   "outputs": [],
   "source": [
    "# XML_df.to_csv(r\"Dataset List.csv\", index=False)"
   ]
  },
  {
   "cell_type": "code",
   "execution_count": null,
   "id": "a25df8a6",
   "metadata": {},
   "outputs": [],
   "source": []
  }
 ],
 "metadata": {
  "kernelspec": {
   "display_name": "Python 3 (ipykernel)",
   "language": "python",
   "name": "python3"
  },
  "language_info": {
   "codemirror_mode": {
    "name": "ipython",
    "version": 3
   },
   "file_extension": ".py",
   "mimetype": "text/x-python",
   "name": "python",
   "nbconvert_exporter": "python",
   "pygments_lexer": "ipython3",
   "version": "3.11.2"
  }
 },
 "nbformat": 4,
 "nbformat_minor": 5
}
