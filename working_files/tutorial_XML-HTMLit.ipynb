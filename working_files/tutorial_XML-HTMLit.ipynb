{
 "cells": [
  {
   "cell_type": "code",
   "execution_count": 1,
   "id": "8d359512",
   "metadata": {},
   "outputs": [],
   "source": [
    "import xml.etree.ElementTree as ET"
   ]
  },
  {
   "cell_type": "code",
   "execution_count": 2,
   "id": "32955b98",
   "metadata": {},
   "outputs": [],
   "source": [
    "tree = ET.parse('working_files/test.xml')\n",
    "root = tree.getroot()"
   ]
  },
  {
   "cell_type": "code",
   "execution_count": 3,
   "id": "b028fb4a",
   "metadata": {},
   "outputs": [
    {
     "data": {
      "text/plain": [
       "'prova'"
      ]
     },
     "execution_count": 3,
     "metadata": {},
     "output_type": "execute_result"
    }
   ],
   "source": [
    "root.attrib['test']"
   ]
  },
  {
   "cell_type": "code",
   "execution_count": 4,
   "id": "22f3243f",
   "metadata": {},
   "outputs": [],
   "source": [
    "tree = ET.parse('working_files/test_namespace.xml')\n",
    "root = tree.getroot()"
   ]
  },
  {
   "cell_type": "code",
   "execution_count": 5,
   "id": "05e09841",
   "metadata": {},
   "outputs": [
    {
     "data": {
      "text/plain": [
       "['{http://www.w3.org/TR/html4/}test']"
      ]
     },
     "execution_count": 5,
     "metadata": {},
     "output_type": "execute_result"
    }
   ],
   "source": [
    "root.keys()"
   ]
  },
  {
   "cell_type": "code",
   "execution_count": 6,
   "id": "0780c63c",
   "metadata": {},
   "outputs": [
    {
     "data": {
      "text/plain": [
       "'prova'"
      ]
     },
     "execution_count": 6,
     "metadata": {},
     "output_type": "execute_result"
    }
   ],
   "source": [
    "root.attrib['{http://www.w3.org/TR/html4/}test']"
   ]
  },
  {
   "cell_type": "code",
   "execution_count": 7,
   "id": "31d29b59",
   "metadata": {},
   "outputs": [],
   "source": [
    "tree = ET.parse('working_files/elementi.xml')\n",
    "root = tree.getroot()"
   ]
  },
  {
   "cell_type": "code",
   "execution_count": 8,
   "id": "7b53f2a2",
   "metadata": {},
   "outputs": [
    {
     "name": "stdout",
     "output_type": "stream",
     "text": [
      "elemento\n",
      "Test1\n",
      "{}\n",
      "elemento\n",
      "Test2\n",
      "{}\n",
      "elemento\n",
      "Test3\n",
      "{}\n"
     ]
    }
   ],
   "source": [
    "for child in root:\n",
    "    print(child.tag)\n",
    "    print(child.text)\n",
    "    print(child.attrib)"
   ]
  },
  {
   "cell_type": "code",
   "execution_count": 20,
   "id": "8c0b94c6",
   "metadata": {},
   "outputs": [],
   "source": [
    "# root = ET.Element('rubrica')\n",
    "# persona = ET.SubElement(root, 'persona')\n",
    "# persona.attrib['id'] = '1'\n",
    "# nome = ET.SubElement(persona, 'nome')\n",
    "# nome.text = 'Vito'\n",
    "# cognome = ET.SubElement(persona, 'cognome')\n",
    "# cognome.text = 'Gentile'\n",
    "# tree = ET.ElementTree(root)\n",
    "# tree.write('working_files/output.xml')"
   ]
  },
  {
   "cell_type": "code",
   "execution_count": null,
   "id": "bb0eee5c",
   "metadata": {},
   "outputs": [],
   "source": []
  }
 ],
 "metadata": {
  "kernelspec": {
   "display_name": "Python 3 (ipykernel)",
   "language": "python",
   "name": "python3"
  },
  "language_info": {
   "codemirror_mode": {
    "name": "ipython",
    "version": 3
   },
   "file_extension": ".py",
   "mimetype": "text/x-python",
   "name": "python",
   "nbconvert_exporter": "python",
   "pygments_lexer": "ipython3",
   "version": "3.11.2"
  }
 },
 "nbformat": 4,
 "nbformat_minor": 5
}
