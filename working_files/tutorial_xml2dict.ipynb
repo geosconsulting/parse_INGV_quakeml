{
 "cells": [
  {
   "cell_type": "code",
   "execution_count": 2,
   "id": "6203f8a9-0d27-408b-9cd4-d18e5b05c1e8",
   "metadata": {},
   "outputs": [],
   "source": [
    "#import module\n",
    "import xmltodict\n",
    " \n",
    "#open the file\n",
    "fileptr = open(\"working_files/airplanes.xml\",\"r\")"
   ]
  },
  {
   "cell_type": "code",
   "execution_count": 3,
   "id": "3bd56e1c-06d4-462a-bbbc-cb95aeac3fe8",
   "metadata": {},
   "outputs": [
    {
     "name": "stdout",
     "output_type": "stream",
     "text": [
      "XML content is:\n",
      "<?xml version = \"1.0\" encoding = \"utf-8\"?>\n",
      "<!-- xslplane.1.xml -->\n",
      "<?xml-stylesheet type = \"text/xsl\"  href = \"xslplane.1.xsl\" ?>\n",
      "<plane>\n",
      "   <year> 1977 </year>\n",
      "   <make> Cessna </make>\n",
      "   <model> Skyhawk </model>\n",
      "   <color> Light blue and white </color>\n",
      "</plane>\n"
     ]
    }
   ],
   "source": [
    "#read xml content from the file\n",
    "xml_content= fileptr.read()\n",
    "print(\"XML content is:\")\n",
    "print(xml_content)"
   ]
  },
  {
   "cell_type": "code",
   "execution_count": 4,
   "id": "2156a57f-7f3e-473d-80e8-174b36dbc135",
   "metadata": {},
   "outputs": [
    {
     "name": "stdout",
     "output_type": "stream",
     "text": [
      "Ordered Dictionary is:\n",
      "{'plane': {'year': '1977', 'make': 'Cessna', 'model': 'Skyhawk', 'color': 'Light blue and white'}}\n",
      "Year of plane is:\n",
      "1977\n"
     ]
    }
   ],
   "source": [
    "#change xml format to ordered dict\n",
    "my_ordered_dict=xmltodict.parse(xml_content)\n",
    "print(\"Ordered Dictionary is:\")\n",
    "print(my_ordered_dict)\n",
    "print(\"Year of plane is:\")\n",
    "print(my_ordered_dict['plane']['year'])"
   ]
  },
  {
   "cell_type": "code",
   "execution_count": 5,
   "id": "2b4bc3a0-fff6-4dd9-8d1b-d5b84e7a2c42",
   "metadata": {},
   "outputs": [
    {
     "name": "stdout",
     "output_type": "stream",
     "text": [
      "Created dictionary data is:\n",
      "{'year': '1977', 'make': 'Cessna', 'model': 'Skyhawk', 'color': 'Light blue and white'}\n",
      "Year of plane is\n",
      "1977\n"
     ]
    }
   ],
   "source": [
    "#Use contents of ordered dict to make python dictionary\n",
    "my_plane= dict(my_ordered_dict['plane'])\n",
    "print(\"Created dictionary data is:\")\n",
    "print(my_plane)\n",
    "print(\"Year of plane is\")\n",
    "print(my_plane['year'])"
   ]
  },
  {
   "cell_type": "code",
   "execution_count": null,
   "id": "8529f337-c21b-4356-96c2-84513c481d4f",
   "metadata": {},
   "outputs": [],
   "source": []
  },
  {
   "cell_type": "code",
   "execution_count": null,
   "id": "0769422f-2561-47f0-8f25-2e97e11db999",
   "metadata": {},
   "outputs": [],
   "source": []
  }
 ],
 "metadata": {
  "kernelspec": {
   "display_name": "Python 3 (ipykernel)",
   "language": "python",
   "name": "python3"
  },
  "language_info": {
   "codemirror_mode": {
    "name": "ipython",
    "version": 3
   },
   "file_extension": ".py",
   "mimetype": "text/x-python",
   "name": "python",
   "nbconvert_exporter": "python",
   "pygments_lexer": "ipython3",
   "version": "3.11.2"
  }
 },
 "nbformat": 4,
 "nbformat_minor": 5
}
