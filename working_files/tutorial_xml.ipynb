{
 "cells": [
  {
   "cell_type": "code",
   "execution_count": 3,
   "metadata": {
    "ExecuteTime": {
     "end_time": "2023-07-01T09:59:01.909182600Z",
     "start_time": "2023-07-01T09:59:01.903674600Z"
    }
   },
   "outputs": [],
   "source": [
    "import xml.etree.ElementTree as ET"
   ]
  },
  {
   "cell_type": "code",
   "execution_count": 4,
   "metadata": {
    "ExecuteTime": {
     "end_time": "2023-07-01T09:59:02.331797800Z",
     "start_time": "2023-07-01T09:59:02.320278900Z"
    }
   },
   "outputs": [],
   "source": [
    "tree = ET.parse(\"working_files/movies.xml\")"
   ]
  },
  {
   "cell_type": "code",
   "execution_count": 5,
   "metadata": {
    "ExecuteTime": {
     "end_time": "2023-07-01T09:59:02.842768900Z",
     "start_time": "2023-07-01T09:59:02.812210700Z"
    }
   },
   "outputs": [],
   "source": [
    "root = tree.getroot()"
   ]
  },
  {
   "cell_type": "code",
   "execution_count": 6,
   "metadata": {
    "ExecuteTime": {
     "end_time": "2023-07-01T09:59:03.416604Z",
     "start_time": "2023-07-01T09:59:03.394058800Z"
    }
   },
   "outputs": [
    {
     "data": {
      "text/plain": [
       "'collection'"
      ]
     },
     "execution_count": 6,
     "metadata": {},
     "output_type": "execute_result"
    }
   ],
   "source": [
    "root.tag"
   ]
  },
  {
   "cell_type": "code",
   "execution_count": 7,
   "metadata": {
    "ExecuteTime": {
     "end_time": "2023-07-01T09:59:04.214576900Z",
     "start_time": "2023-07-01T09:59:04.145795200Z"
    }
   },
   "outputs": [
    {
     "data": {
      "text/plain": [
       "{'type': 'Movies'}"
      ]
     },
     "execution_count": 7,
     "metadata": {},
     "output_type": "execute_result"
    }
   ],
   "source": [
    "root.attrib"
   ]
  },
  {
   "cell_type": "code",
   "execution_count": 8,
   "metadata": {
    "ExecuteTime": {
     "end_time": "2023-07-01T09:59:04.885151100Z",
     "start_time": "2023-07-01T09:59:04.855965800Z"
    }
   },
   "outputs": [
    {
     "name": "stdout",
     "output_type": "stream",
     "text": [
      "genre {'category': 'Action'}\n",
      "genre {'category': 'Thriller'}\n"
     ]
    }
   ],
   "source": [
    "for child in root:\n",
    "    print(child.tag,child.attrib)"
   ]
  },
  {
   "cell_type": "code",
   "execution_count": 40,
   "metadata": {
    "ExecuteTime": {
     "end_time": "2023-07-01T09:59:07.418577200Z",
     "start_time": "2023-07-01T09:59:07.405006Z"
    }
   },
   "outputs": [
    {
     "data": {
      "text/plain": [
       "['collection',\n",
       " 'genre',\n",
       " 'decade',\n",
       " 'movie',\n",
       " 'format',\n",
       " 'year',\n",
       " 'rating',\n",
       " 'description',\n",
       " 'movie',\n",
       " 'format',\n",
       " 'year',\n",
       " 'rating',\n",
       " 'description',\n",
       " 'movie',\n",
       " 'format',\n",
       " 'year',\n",
       " 'rating',\n",
       " 'description',\n",
       " 'decade',\n",
       " 'movie',\n",
       " 'format',\n",
       " 'year',\n",
       " 'rating',\n",
       " 'description',\n",
       " 'movie',\n",
       " 'format',\n",
       " 'year',\n",
       " 'rating',\n",
       " 'description',\n",
       " 'movie',\n",
       " 'format',\n",
       " 'year',\n",
       " 'rating',\n",
       " 'description',\n",
       " 'genre',\n",
       " 'decade',\n",
       " 'movie',\n",
       " 'format',\n",
       " 'year',\n",
       " 'rating',\n",
       " 'description',\n",
       " 'decade',\n",
       " 'movie',\n",
       " 'format',\n",
       " 'year',\n",
       " 'rating',\n",
       " 'description',\n",
       " 'movie',\n",
       " 'format',\n",
       " 'year',\n",
       " 'rating',\n",
       " 'description']"
      ]
     },
     "execution_count": 40,
     "metadata": {},
     "output_type": "execute_result"
    }
   ],
   "source": [
    "[elem.tag for elem in root.iter()]"
   ]
  },
  {
   "cell_type": "code",
   "execution_count": 9,
   "metadata": {
    "ExecuteTime": {
     "end_time": "2023-07-01T09:59:16.618778200Z",
     "start_time": "2023-07-01T09:59:16.581025500Z"
    }
   },
   "outputs": [
    {
     "name": "stdout",
     "output_type": "stream",
     "text": [
      "{'favorite': 'True', 'title': 'Indiana Jones: The raiders of the lost Ark'}\n",
      "{'favorite': 'True', 'title': 'THE KARATE KID'}\n",
      "{'favorite': 'False', 'title': 'Back 2 the Future'}\n",
      "{'favorite': 'False', 'title': 'X-Men'}\n",
      "{'favorite': 'True', 'title': 'Batman Returns'}\n",
      "{'favorite': 'False', 'title': 'Reservoir Dogs'}\n",
      "{'favorite': 'False', 'title': 'ALIEN'}\n",
      "{'favorite': 'True', 'title': \"Ferris Bueller's Day Off\"}\n",
      "{'favorite': 'FALSE', 'title': 'American Psycho'}\n"
     ]
    }
   ],
   "source": [
    "for movie in root.iter('movie'):\n",
    "    print(movie.attrib)"
   ]
  },
  {
   "cell_type": "code",
   "execution_count": 46,
   "metadata": {
    "ExecuteTime": {
     "end_time": "2023-07-01T10:00:32.153290300Z",
     "start_time": "2023-07-01T10:00:32.134255Z"
    }
   },
   "outputs": [
    {
     "name": "stdout",
     "output_type": "stream",
     "text": [
      "{'favorite': 'True', 'title': 'Batman Returns'}\n",
      "{'favorite': 'False', 'title': 'Reservoir Dogs'}\n"
     ]
    }
   ],
   "source": [
    "for movie in root.findall(\"./genre/decade/movie/[year='1992']\"):\n",
    "    print(movie.attrib)"
   ]
  },
  {
   "cell_type": "code",
   "execution_count": 56,
   "metadata": {
    "ExecuteTime": {
     "end_time": "2023-07-01T10:08:48.489937900Z",
     "start_time": "2023-07-01T10:08:48.458770400Z"
    }
   },
   "outputs": [
    {
     "name": "stdout",
     "output_type": "stream",
     "text": [
      "{'multiple': 'Yes'}\n",
      "{'multiple': 'Yes'}\n",
      "{'multiple': 'Yes'}\n"
     ]
    }
   ],
   "source": [
    "for movie in root.findall(\"./genre/decade/movie/format/[@multiple='Yes']\"):\n",
    "    print(movie.attrib)"
   ]
  },
  {
   "cell_type": "code",
   "execution_count": 57,
   "metadata": {
    "ExecuteTime": {
     "end_time": "2023-07-01T10:09:00.024211300Z",
     "start_time": "2023-07-01T10:09:00.010171600Z"
    }
   },
   "outputs": [
    {
     "name": "stdout",
     "output_type": "stream",
     "text": [
      "{'favorite': 'True', 'title': 'THE KARATE KID'}\n",
      "{'favorite': 'False', 'title': 'X-Men'}\n",
      "{'favorite': 'False', 'title': 'ALIEN'}\n"
     ]
    }
   ],
   "source": [
    "for movie in root.findall(\"./genre/decade/movie/format[@multiple='Yes']...\"):\n",
    "    print(movie.attrib)"
   ]
  },
  {
   "cell_type": "code",
   "execution_count": null,
   "metadata": {},
   "outputs": [],
   "source": []
  }
 ],
 "metadata": {
  "kernelspec": {
   "display_name": "Python 3 (ipykernel)",
   "language": "python",
   "name": "python3"
  },
  "language_info": {
   "codemirror_mode": {
    "name": "ipython",
    "version": 3
   },
   "file_extension": ".py",
   "mimetype": "text/x-python",
   "name": "python",
   "nbconvert_exporter": "python",
   "pygments_lexer": "ipython3",
   "version": "3.11.2"
  }
 },
 "nbformat": 4,
 "nbformat_minor": 4
}
