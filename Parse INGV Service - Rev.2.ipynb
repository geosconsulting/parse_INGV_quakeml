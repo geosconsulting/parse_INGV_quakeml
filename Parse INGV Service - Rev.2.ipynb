{
 "cells": [
  {
   "cell_type": "code",
   "execution_count": 66,
   "metadata": {},
   "outputs": [
    {
     "data": {
      "text/html": [
       "<style>.container { width:95% !important; }</style>"
      ],
      "text/plain": [
       "<IPython.core.display.HTML object>"
      ]
     },
     "metadata": {},
     "output_type": "display_data"
    }
   ],
   "source": [
    "from IPython.display import display, HTML\n",
    "display(HTML(\"<style>.container { width:95% !important; }</style>\"))"
   ]
  },
  {
   "cell_type": "markdown",
   "metadata": {},
   "source": [
    "# Note\n",
    "* conviene **tralasciare eventi sotto 2+ magnitudine** perche **riduce il traffico sul server**\n",
    "* la risposta come **testo semplifica il parsing dei dati ricevuti**\n",
    "* conviene copiare i dati in un db diviso tra **dati storici (non cambiano) e dati recenti (ultimo giorno)** che puo cambiare molto spesso\n",
    "* il **db va partizionato** cosi i dati storici sono automaticamente inseriti nelle tabelle corrette **migliorando l'efficenza delle query**"
   ]
  },
  {
   "cell_type": "markdown",
   "metadata": {},
   "source": [
    "# Call examples"
   ]
  },
  {
   "cell_type": "raw",
   "metadata": {},
   "source": [
    "http://webservices.ingv.it/fdsnws/event/1/query?starttime=2022-01-01T00:00:00&endtime=2022-12-31T00:00:00&minmag=4.0&maxmag=9.0&minlatitude=35.0&maxlatitude=49.0&minlongitude=5.0&maxlongitude=20.0&limit=15000"
   ]
  },
  {
   "cell_type": "raw",
   "metadata": {},
   "source": [
    "http://webservices.ingv.it/fdsnws/event/1/query?starttime=2023-07-01T00:00:00&endtime=2023-07-31T23:59:00&minmag=1.0&lat=41.76337&lon=12.33078&minradiuskm=1&maxradiuskm=200&format=xml"
   ]
  },
  {
   "cell_type": "raw",
   "metadata": {},
   "source": [
    "http://webservices.ingv.it/fdsnws/event/1/query?starttime=2023-07-01T00:00:00&endtime=2023-07-30T12:00:00&minmag=2.0&minlat=36.71703&maxlat=46.99623&minlon=7.05809&maxlon=18.37819&format=text"
   ]
  },
  {
   "cell_type": "raw",
   "metadata": {},
   "source": [
    "http://webservices.ingv.it/fdsnws/event/1/query?starttime=2023-07-01T00:00:00&endtime=2023-07-30T12:00:00&minmag=2.0&lat=41.76337&lon=12.33078&minradiuskm=1&maxradiuskm=200&format=text"
   ]
  },
  {
   "cell_type": "markdown",
   "metadata": {},
   "source": [
    "# Fetch Data"
   ]
  },
  {
   "cell_type": "code",
   "execution_count": 67,
   "metadata": {},
   "outputs": [
    {
     "name": "stdout",
     "output_type": "stream",
     "text": [
      "The autoreload extension is already loaded. To reload it, use:\n",
      "  %reload_ext autoreload\n"
     ]
    }
   ],
   "source": [
    "%load_ext autoreload\n",
    "%autoreload 2"
   ]
  },
  {
   "cell_type": "code",
   "execution_count": 68,
   "metadata": {
    "ExecuteTime": {
     "end_time": "2023-07-01T10:16:24.849982600Z",
     "start_time": "2023-07-01T10:16:24.832409900Z"
    }
   },
   "outputs": [],
   "source": [
    "from x2030_quakes.fetch_webservice_data import WSDataSource"
   ]
  },
  {
   "cell_type": "code",
   "execution_count": 69,
   "metadata": {},
   "outputs": [],
   "source": [
    "ws_instance = WSDataSource(response_format='text')"
   ]
  },
  {
   "cell_type": "code",
   "execution_count": 70,
   "metadata": {},
   "outputs": [],
   "source": [
    "ws_instance.start_date = None"
   ]
  },
  {
   "cell_type": "code",
   "execution_count": 71,
   "metadata": {},
   "outputs": [
    {
     "data": {
      "text/plain": [
       "'2023-06-10T00:00:00'"
      ]
     },
     "execution_count": 71,
     "metadata": {},
     "output_type": "execute_result"
    }
   ],
   "source": [
    "ws_instance.start_date"
   ]
  },
  {
   "cell_type": "code",
   "execution_count": 72,
   "metadata": {},
   "outputs": [],
   "source": [
    "ws_instance.end_date = None"
   ]
  },
  {
   "cell_type": "code",
   "execution_count": 73,
   "metadata": {},
   "outputs": [
    {
     "data": {
      "text/plain": [
       "'2023-07-10T16:15:05'"
      ]
     },
     "execution_count": 73,
     "metadata": {},
     "output_type": "execute_result"
    }
   ],
   "source": [
    "ws_instance.end_date"
   ]
  },
  {
   "cell_type": "code",
   "execution_count": 74,
   "metadata": {},
   "outputs": [],
   "source": [
    "ws_instance.build_query_url(search_method='bbox')"
   ]
  },
  {
   "cell_type": "code",
   "execution_count": 78,
   "metadata": {},
   "outputs": [],
   "source": [
    "# ws_instance.get_provinces()"
   ]
  },
  {
   "cell_type": "markdown",
   "metadata": {},
   "source": [
    "# Processing response as \"TEXT\" "
   ]
  },
  {
   "cell_type": "code",
   "execution_count": 79,
   "metadata": {},
   "outputs": [],
   "source": [
    "ws_instance.fetch_events()"
   ]
  },
  {
   "cell_type": "code",
   "execution_count": 80,
   "metadata": {},
   "outputs": [
    {
     "data": {
      "text/plain": [
       "[b'#EventID|Time|Latitude|Longitude|Depth/Km|Author|Catalog|Contributor|ContributorID|MagType|Magnitude|MagAuthor|EventLocationName|EventType\\n',\n",
       " b'35520321|2023-07-10T06:53:44.210000|43.2445|12.8867|45.6|SURVEY-INGV||||ML|2.6|--|5 km W Esanatoglia (MC)|earthquake\\n',\n",
       " b'35519241|2023-07-10T04:05:07.780000|37.9807|15.7077|61.9|SURVEY-INGV||||ML|2.3|--|3 km SE Motta San Giovanni (RC)|earthquake\\n',\n",
       " b'35519041|2023-07-10T02:52:42.730000|43.1642|10.8083|7.6|SURVEY-INGV||||ML|2.3|--|4 km W Monterotondo Marittimo (GR)|earthquake\\n',\n",
       " b'35517671|2023-07-09T21:33:32.880000|46.1392|13.5877|17.3|SURVEY-INGV||||ML|2.1|--|1 km NE Stregna (UD)|earthquake\\n',\n",
       " b'35515911|2023-07-09T16:18:44.040000|42.4498|13.2947|11.9|SURVEY-INGV||||ML|2.0|--|1 km E Barete (AQ)|earthquake\\n',\n",
       " b'35514411|2023-07-09T12:22:08.570000|39.1782|15.3733|230.0|SURVEY-INGV||||ML|2.2|--|Tirreno Meridionale (MARE)|earthquake\\n',\n",
       " b'35514331|2023-07-09T12:16:13.370000|43.0485|13.0193|12.4|SURVEY-INGV||||ML|2.5|--|3 km W Pieve Torina (MC)|earthquake\\n',\n",
       " b'35504211|2023-07-08T07:54:43.160000|42.907|13.5923|16.7|SURVEY-INGV||||ML|2.1|--|4 km SW Castignano (AP)|earthquake\\n',\n",
       " b'35504131|2023-07-08T07:54:16.750000|42.8963|13.573|11.1|SURVEY-INGV||||ML|2.4|--|5 km N Ascoli Piceno (AP)|earthquake\\n',\n",
       " b'35503441|2023-07-08T06:38:35.620000|42.9097|13.6055|16.6|SURVEY-INGV||||ML|2.5|--|4 km SW Castignano (AP)|earthquake\\n',\n",
       " b'35502811|2023-07-08T06:01:42.460000|42.9022|13.5825|15.4|SURVEY-INGV||||ML|2.0|--|5 km SW Castignano (AP)|earthquake\\n',\n",
       " b'35500691|2023-07-08T00:18:04.080000|40.2527|15.8727|9.5|SURVEY-INGV||||ML|2.2|--|1 km N Moliterno (PZ)|earthquake\\n',\n",
       " b'35500021|2023-07-07T21:09:18.890000|37.6537|16.019|33.0|SURVEY-INGV||||ML|2.4|--|Costa Calabra sud-orientale (Reggio di Calabria)|earthquake\\n',\n",
       " b'35499521|2023-07-07T19:42:40.080000|42.9017|13.5662|10.7|SURVEY-INGV||||ML|2.4|--|5 km N Ascoli Piceno (AP)|earthquake\\n',\n",
       " b'35499461|2023-07-07T19:42:10.320000|37.7072|15.6733|30.0|SURVEY-INGV||||ML|2.1|--|Mar Ionio Meridionale (MARE)|earthquake\\n',\n",
       " b'35498791|2023-07-07T19:14:15.480000|42.9032|13.5843|10.6|SURVEY-INGV||||ML|2.9|--|5 km SW Castignano (AP)|earthquake\\n',\n",
       " b'35497891|2023-07-07T17:12:37.740000|37.9147|14.2977|6.6|SURVEY-INGV||||ML|2.0|--|3 km NW Castel di Lucio (ME)|earthquake\\n',\n",
       " b'35497551|2023-07-07T16:35:33.500000|44.4825|8.5972|10.7|SURVEY-INGV||||ML|2.0|--|1 km SE Urbe (SV)|earthquake\\n',\n",
       " b'35494291|2023-07-07T09:15:20.420000|41.9547|12.9257|9.4|SURVEY-INGV||||ML|2.1|--|2 km SW Ciciliano (RM)|earthquake\\n',\n",
       " b'35492931|2023-07-07T06:16:41.560000|40.6647|15.7545|23.1|SURVEY-INGV||||ML|2.3|--|5 km NW Potenza (PZ)|earthquake\\n',\n",
       " b'35488431|2023-07-06T14:47:38.440000|38.7597|15.6818|161.5|SURVEY-INGV||||ML|2.2|--|Costa Calabra sud-occidentale (Catanzaro, Vibo Valentia, Reggio di Calabria)|earthquake\\n',\n",
       " b'35485291|2023-07-06T07:41:12.930000|42.8933|13.5787|14.7|SURVEY-INGV||||ML|2.2|--|4 km N Ascoli Piceno (AP)|earthquake\\n',\n",
       " b'35483911|2023-07-06T04:43:58.040000|37.9343|14.653|10.1|SURVEY-INGV||||ML|2.0|--|10 km SE San Fratello (ME)|earthquake\\n',\n",
       " b'35481771|2023-07-05T20:36:59.100000|38.5513|12.7712|10.0|SURVEY-INGV||||ML|2.0|--|Tirreno Meridionale (MARE)|earthquake\\n',\n",
       " b'35481441|2023-07-05T18:49:11.610000|41.9468|12.9277|9.4|SURVEY-INGV||||ML|2.2|--|2 km SW Ciciliano (RM)|earthquake\\n',\n",
       " b'35480971|2023-07-05T17:39:25.600000|41.0987|10.3185|24.3|SURVEY-INGV||||ML|2.7|--|Tirreno Centrale (MARE)|earthquake\\n',\n",
       " b'35479911|2023-07-05T15:18:44.080000|37.7965|14.7622|28.5|SURVEY-INGV||||ML|2.1|--|6 km W Bronte (CT)|earthquake\\n',\n",
       " b'35478341|2023-07-05T12:08:03.830000|41.9522|12.9328|9.8|SURVEY-INGV||||ML|2.5|--|1 km SW Ciciliano (RM)|earthquake\\n',\n",
       " b'35478031|2023-07-05T11:38:53.320000|37.7413|14.6617|31.4|SURVEY-INGV||||ML|2.1|--|7 km SE Troina (EN)|earthquake\\n',\n",
       " b'35477871|2023-07-05T11:36:31.730000|39.0818|16.6083|8.0|SURVEY-INGV||||ML|2.0|--|6 km N Albi (CZ)|earthquake\\n',\n",
       " b'35477411|2023-07-05T10:42:20.760000|39.0782|16.602|8.9|SURVEY-INGV||||ML|2.2|--|6 km N Albi (CZ)|earthquake\\n',\n",
       " b'35477321|2023-07-05T10:22:14.070000|37.794|14.6588|35.9|SURVEY-INGV||||ML|2.1|--|5 km E Troina (EN)|earthquake\\n',\n",
       " b'35477001|2023-07-05T10:03:39.660000|37.796|14.736|30.0|SURVEY-INGV-CT#SeismPicker_SO-OE||||ML|2.1|--|6 km SE Cesar\\xc3\\xb2 (ME)|earthquake\\n',\n",
       " b'35476861|2023-07-05T09:18:32.300000|37.812|14.722|20.8|SURVEY-INGV-CT#SeismPicker_SO-OE||||ML|2.3|--|4 km S Cesar\\xc3\\xb2 (ME)|earthquake\\n',\n",
       " b'35474781|2023-07-05T06:00:11.740000|37.7945|14.6488|35.9|SURVEY-INGV||||ML|2.1|--|4 km E Troina (EN)|earthquake\\n',\n",
       " b'35474481|2023-07-05T05:15:22.720000|37.758|14.705|20.8|SURVEY-INGV-CT#SeismPicker_SO-OE||||ML|2.2|--|10 km E Troina (EN)|earthquake\\n',\n",
       " b'35474001|2023-07-05T04:48:40.680000|37.7677|14.6338|32.7|SURVEY-INGV||||ML|2.3|--|4 km SE Troina (EN)|earthquake\\n',\n",
       " b'35473661|2023-07-05T04:28:21.440000|37.7982|14.6727|33.0|SURVEY-INGV||||ML|2.2|--|6 km SW San Teodoro (ME)|earthquake\\n',\n",
       " b'35473511|2023-07-05T04:11:25.730000|37.76|14.708|23.6|SURVEY-INGV-CT#SeismPicker_SO-OE||||ML|2.0|--|9 km S Cesar\\xc3\\xb2 (ME)|earthquake\\n',\n",
       " b'35473061|2023-07-05T04:08:44.000000|37.802|14.712|22.0|SURVEY-INGV-CT||||ML|3.4|--|5 km S Cesar\\xc3\\xb2 (ME)|earthquake\\n',\n",
       " b'35473031|2023-07-05T04:07:10.000000|37.81|14.746|18.7|SURVEY-INGV-CT||||Mw|4.0|--|5 km SE Cesar\\xc3\\xb2 (ME)|earthquake\\n',\n",
       " b'35471851|2023-07-04T19:56:27.390000|39.3043|15.6337|256.9|SURVEY-INGV||||ML|3.3|--|Costa Calabra nord-occidentale (Cosenza)|earthquake\\n',\n",
       " b'35469361|2023-07-04T15:26:54.410000|44.5037|10.7157|23.1|SURVEY-INGV||||ML|2.6|--|1 km SW Castellarano (RE)|earthquake\\n',\n",
       " b'35466151|2023-07-04T10:29:59.440000|44.5217|10.7327|22.3|SURVEY-INGV||||ML|2.2|--|1 km N Castellarano (RE)|earthquake\\n',\n",
       " b'35465781|2023-07-04T09:37:28.790000|44.4795|10.7108|28.4|SURVEY-INGV||||ML|2.4|--|4 km SW Castellarano (RE)|earthquake\\n',\n",
       " b'35465571|2023-07-04T09:23:58.950000|44.459|10.7337|28.7|SURVEY-INGV||||ML|3.0|--|4 km NE Prignano sulla Secchia (MO)|earthquake\\n',\n",
       " b'35465521|2023-07-04T09:21:47.120000|44.5222|10.6997|22.1|SURVEY-INGV||||ML|2.0|--|3 km W Castellarano (RE)|earthquake\\n',\n",
       " b'35462711|2023-07-04T00:00:34.580000|38.7843|14.3462|312.4|SURVEY-INGV||||ML|3.0|--|Tirreno Meridionale (MARE)|earthquake\\n',\n",
       " b'35461581|2023-07-03T19:22:38.840000|38.642|14.1792|10.0|SURVEY-INGV||||ML|2.5|--|Tirreno Meridionale (MARE)|earthquake\\n',\n",
       " b'35456831|2023-07-03T07:59:20.060000|40.2453|15.8728|9.9|SURVEY-INGV||||ML|2.0|--|Moliterno (PZ)|earthquake\\n',\n",
       " b'35456441|2023-07-03T07:36:10.040000|40.2432|15.8683|9.8|SURVEY-INGV||||Mw|3.3|--|Moliterno (PZ)|earthquake\\n',\n",
       " b'35455551|2023-07-03T05:18:41.400000|40.2392|15.8665|9.1|SURVEY-INGV||||ML|2.7|--|1 km SW Moliterno (PZ)|earthquake\\n',\n",
       " b'35455431|2023-07-03T05:16:26.490000|40.2452|15.85|9.6|SURVEY-INGV||||ML|2.2|--|2 km W Moliterno (PZ)|earthquake\\n',\n",
       " b'35455091|2023-07-03T04:37:00.430000|40.2348|15.8512|8.9|SURVEY-INGV||||ML|2.0|--|2 km SW Moliterno (PZ)|earthquake\\n',\n",
       " b'35454461|2023-07-03T01:14:20.390000|44.7505|10.2728|17.9|SURVEY-INGV||||ML|2.0|--|4 km E Collecchio (PR)|earthquake\\n',\n",
       " b'35454001|2023-07-02T23:36:43.870000|44.7258|10.3302|16.8|SURVEY-INGV||||ML|3.2|--|8 km E Felino (PR)|earthquake\\n',\n",
       " b'35453831|2023-07-02T23:10:33.570000|44.7213|10.3555|15.1|SURVEY-INGV||||ML|3.2|--|6 km W Montechiarugolo (PR)|earthquake\\n',\n",
       " b'35451171|2023-07-02T14:11:57.770000|37.5172|16.5545|31.7|SURVEY-INGV||||ML|2.2|--|Mar Ionio Meridionale (MARE)|earthquake\\n',\n",
       " b'35450621|2023-07-02T12:33:00.940000|38.1587|13.7188|10.3|SURVEY-INGV||||ML|2.0|--|Costa Siciliana centro-settentrionale (Palermo)|earthquake\\n',\n",
       " b'35450391|2023-07-02T11:54:23.650000|42.7398|7.8362|11.0|SURVEY-INGV||||ML|2.4|--|Mare di Corsica (MARE)|earthquake\\n',\n",
       " b'35450081|2023-07-02T11:13:07.280000|41.6977|13.7213|8.9|SURVEY-INGV||||ML|2.7|--|2 km E Posta Fibreno (FR)|earthquake\\n',\n",
       " b'35447521|2023-07-02T03:56:27.340000|38.4362|16.3628|19.6|SURVEY-INGV||||ML|2.5|--|5 km SE Nardodipace (VV)|earthquake\\n',\n",
       " b'35446841|2023-07-02T00:22:59.390000|46.3777|12.4025|8.3|SURVEY-INGV||||ML|2.1|--|4 km SE Perarolo di Cadore (BL)|earthquake\\n',\n",
       " b'35446331|2023-07-01T21:37:19.090000|42.7837|13.6045|10.9|SURVEY-INGV||||ML|2.0|--|5 km SW Folignano (AP)|earthquake\\n',\n",
       " b'35443951|2023-07-01T14:48:24.280000|44.5132|10.7463|9.8|SURVEY-INGV||||ML|2.3|--|1 km E Castellarano (RE)|earthquake\\n',\n",
       " b'35443631|2023-07-01T14:47:16.070000|44.4965|10.7557|9.7|SURVEY-INGV||||ML|3.0|--|2 km SE Castellarano (RE)|earthquake\\n',\n",
       " b'35441881|2023-07-01T11:43:33.760000|40.593|15.9332|19.6|SURVEY-INGV||||ML|2.3|--|2 km SW Brindisi Montagna (PZ)|earthquake\\n',\n",
       " b'35441211|2023-07-01T09:41:56.809000|40.822167|14.427667|0.2|SURVEY-INGV-OV#SiSmi||||Md|2.0|--|Vesuvio|earthquake\\n',\n",
       " b'35440341|2023-07-01T08:45:39.990000|43.2448|17.5982|11.8|SURVEY-INGV||||ML|3.0|--|Bosnia and Herz. [Land]|earthquake\\n',\n",
       " b'35434931|2023-07-01T00:52:03.020000|37.1242|14.5568|22.7|SURVEY-INGV||||ML|2.1|--|4 km N Mazzarrone (CT)|earthquake\\n',\n",
       " b'35428601|2023-06-30T14:15:31.450000|42.4635|15.6135|8.6|SURVEY-INGV||||ML|2.5|--|Adriatico Centrale (MARE)|earthquake\\n',\n",
       " b'35424851|2023-06-30T09:46:25.970000|42.6957|13.224|9.8|SURVEY-INGV||||ML|2.0|--|2 km W Accumoli (RI)|earthquake\\n',\n",
       " b'35419561|2023-06-30T04:12:53.470000|42.9798|13.2155|10.6|SURVEY-INGV||||ML|2.1|--|2 km SW Bolognola (MC)|earthquake\\n',\n",
       " b'35419441|2023-06-30T04:11:00.110000|42.9782|13.2198|10.6|SURVEY-INGV||||ML|3.3|--|2 km SW Bolognola (MC)|earthquake\\n',\n",
       " b'35419021|2023-06-30T03:54:19.850000|42.697|18.0913|20.1|SURVEY-INGV||||ML|3.7|--|Costa Croata meridionale (CROAZIA)|earthquake\\n',\n",
       " b'35418331|2023-06-29T22:20:36.350000|37.9715|14.5|9.4|SURVEY-INGV||||ML|2.2|--|8 km SE Caronia (ME)|earthquake\\n',\n",
       " b'35418131|2023-06-29T21:01:19.059000|40.814|14.42|0.6|SURVEY-INGV-OV#SiSmi||||Md|2.7|--|Vesuvio|earthquake\\n',\n",
       " b'35417861|2023-06-29T20:19:43.220000|37.682|15.121|9.7|SURVEY-INGV-CT#SeismPicker_SO-OE||||ML|2.1|--|2 km W Santa Venerina (CT)|earthquake\\n',\n",
       " b'35417701|2023-06-29T20:08:19.140000|37.691|15.103|8.0|SURVEY-INGV-CT||||ML|3.1|--|1 km S Zafferana Etnea (CT)|earthquake\\n',\n",
       " b'35417671|2023-06-29T19:52:50.380000|40.814833|14.419833|0.2|SURVEY-INGV-OV#SiSmi||||Md|2.4|--|Vesuvio|earthquake\\n',\n",
       " b'35417351|2023-06-29T19:00:53.310000|37.702|15.098|1.9|SURVEY-INGV-CT#SeismPicker_SO-OE||||ML|2.0|--|1 km NW Zafferana Etnea (CT)|earthquake\\n',\n",
       " b'35417261|2023-06-29T18:54:34.200000|37.7|15.102|4.7|SURVEY-INGV-CT#SeismPicker_SO-OE||||ML|2.4|--|Zafferana Etnea (CT)|earthquake\\n',\n",
       " b'35416391|2023-06-29T16:23:33.940000|47.392|11.2963|7.0|SURVEY-INGV||||ML|2.3|--|Confine Austria-Germania (AUSTRIA, GERMANIA)|earthquake\\n',\n",
       " b'35416051|2023-06-29T15:57:19.650000|47.8177|8.7165|16.5|SURVEY-INGV||||ML|3.0|--|Confine Svizzera-Germania (SVIZZERA, GERMANIA)|earthquake\\n',\n",
       " b'35415851|2023-06-29T15:39:49.220000|38.3978|14.5447|10.0|SURVEY-INGV||||ML|2.2|--|Costa Siciliana nord-orientale (Messina)|earthquake\\n',\n",
       " b'35415391|2023-06-29T14:15:54.940000|38.5407|16.1213|15.5|SURVEY-INGV||||ML|2.1|--|2 km NW San Pietro di Carid\\xc3\\xa0 (RC)|earthquake\\n',\n",
       " b'35413621|2023-06-29T08:33:06.180000|37.7105|16.255|33.5|SURVEY-INGV||||ML|2.4|--|Costa Calabra sud-orientale (Reggio di Calabria)|earthquake\\n',\n",
       " b'35411781|2023-06-29T03:48:39.790000|38.1165|15.092|9.5|SURVEY-INGV||||ML|2.1|--|1 km E Falcone (ME)|earthquake\\n',\n",
       " b'35410481|2023-06-28T17:59:52.410000|44.5253|10.7392|10.1|SURVEY-INGV||||ML|2.3|--|2 km NE Castellarano (RE)|earthquake\\n',\n",
       " b'35408721|2023-06-28T11:59:05.020000|40.8042|15.3387|11.1|SURVEY-INGV||||ML|2.1|--|2 km E Santomenna (SA)|earthquake\\n',\n",
       " b'35407661|2023-06-28T10:19:42.960000|43.4965|11.1763|9.8|BULLETIN-INGV||||ML|3.7|--|4 km NE Poggibonsi (SI)|earthquake\\n',\n",
       " b'35404571|2023-06-27T22:12:46.130000|37.706|15.1|2.8|SURVEY-INGV-CT||||ML|3.1|--|1 km N Zafferana Etnea (CT)|earthquake\\n',\n",
       " b'35404231|2023-06-27T20:07:52.200000|38.6138|15.6418|91.6|SURVEY-INGV||||ML|2.2|--|Costa Calabra sud-occidentale (Catanzaro, Vibo Valentia, Reggio di Calabria)|earthquake\\n',\n",
       " b'35402211|2023-06-27T16:00:37.440000|42.9047|12.9728|10.7|SURVEY-INGV||||ML|2.0|--|4 km E Sellano (PG)|earthquake\\n',\n",
       " b'35401011|2023-06-27T11:45:15.820000|38.5992|15.7232|55.3|SURVEY-INGV||||ML|2.1|--|Costa Calabra sud-occidentale (Catanzaro, Vibo Valentia, Reggio di Calabria)|earthquake\\n',\n",
       " b'35400421|2023-06-27T10:18:27.440000|47.6318|8.8397|0.5|SURVEY-INGV||||ML|2.7|--|Confine Svizzera-Germania (SVIZZERA, GERMANIA)|earthquake\\n',\n",
       " b'35399961|2023-06-27T08:55:32.470000|41.7858|14.915|12.9|SURVEY-INGV||||ML|2.4|--|2 km S Larino (CB)|earthquake\\n',\n",
       " b'35397961|2023-06-26T23:10:09.000000|38.3012|15.2477|116.7|SURVEY-INGV||||ML|2.2|--|Costa Siciliana nord-orientale (Messina)|earthquake\\n',\n",
       " b'35396541|2023-06-26T15:39:54.720000|38.351|14.7902|124.8|SURVEY-INGV||||ML|2.6|--|Costa Siciliana nord-orientale (Messina)|earthquake\\n',\n",
       " b'35394891|2023-06-26T10:51:20.170000|39.0807|16.598|8.2|SURVEY-INGV||||ML|2.3|--|6 km N Albi (CZ)|earthquake\\n',\n",
       " b'35394751|2023-06-26T10:37:17.790000|43.2957|17.7277|10.0|SURVEY-INGV||||ML|3.3|--|Bosnia and Herz. [Land]|earthquake\\n',\n",
       " b'35391481|2023-06-25T22:23:24.860000|43.3857|17.4058|2.4|SURVEY-INGV||||ML|3.7|--|Bosnia and Herz. [Land]|earthquake\\n',\n",
       " b'35390541|2023-06-25T18:42:53.290000|42.792|13.0953|9.8|SURVEY-INGV||||ML|2.0|--|Norcia (PG)|earthquake\\n',\n",
       " b'35385551|2023-06-25T02:04:57.260000|44.5118|10.0878|23.2|SURVEY-INGV||||ML|2.5|--|4 km N Corniglio (PR)|earthquake\\n',\n",
       " b'35385131|2023-06-24T22:36:14.460000|41.6998|13.7197|8.7|SURVEY-INGV||||ML|2.2|--|2 km E Posta Fibreno (FR)|earthquake\\n',\n",
       " b'35380831|2023-06-24T10:51:24.850000|42.9927|13.2148|9.3|SURVEY-INGV||||ML|2.0|--|1 km W Bolognola (MC)|earthquake\\n',\n",
       " b'35379301|2023-06-24T06:52:19.920000|39.0778|16.5997|8.8|SURVEY-INGV||||ML|2.0|--|6 km N Albi (CZ)|earthquake\\n',\n",
       " b'35373411|2023-06-23T11:29:15.140000|41.7008|13.7168|8.3|SURVEY-INGV||||ML|2.2|--|2 km E Posta Fibreno (FR)|earthquake\\n',\n",
       " b'35373321|2023-06-23T11:19:04.350000|42.0653|12.8023|10.4|SURVEY-INGV||||ML|2.6|--|3 km E Palombara Sabina (RM)|earthquake\\n',\n",
       " b'35372731|2023-06-23T10:27:42.080000|41.7073|13.705|7.4|SURVEY-INGV||||ML|3.2|--|2 km NE Posta Fibreno (FR)|earthquake\\n',\n",
       " b'35370541|2023-06-23T05:21:47.890000|46.0533|12.341|7.9|SURVEY-INGV||||ML|2.8|--|5 km N Fregona (TV)|earthquake\\n',\n",
       " b'35369731|2023-06-23T01:48:00.130000|42.773|13.395|18.5|SURVEY-INGV||||ML|2.2|--|1 km W Acquasanta Terme (AP)|earthquake\\n',\n",
       " b'35367721|2023-06-22T16:50:45.260000|39.3003|15.2757|309.2|SURVEY-INGV||||ML|3.6|--|Tirreno Meridionale (MARE)|earthquake\\n',\n",
       " b'35367441|2023-06-22T15:21:45.890000|42.2618|13.7057|7.9|SURVEY-INGV||||ML|2.0|--|3 km E Caporciano (AQ)|earthquake\\n',\n",
       " b'35366201|2023-06-22T11:55:57.320000|44.4938|10.7547|20.4|SURVEY-INGV||||ML|2.1|--|3 km SE Castellarano (RE)|earthquake\\n',\n",
       " b'35364291|2023-06-22T06:42:09.530000|40.0675|15.8812|15.7|SURVEY-INGV||||ML|2.0|--|4 km NE Lauria (PZ)|earthquake\\n',\n",
       " b'35363891|2023-06-22T05:48:24.500000|41.9443|12.9332|9.4|SURVEY-INGV||||ML|2.1|--|2 km SW Ciciliano (RM)|earthquake\\n',\n",
       " b'35363251|2023-06-22T03:06:06.060000|39.0768|16.6012|9.3|SURVEY-INGV||||ML|2.4|--|6 km N Albi (CZ)|earthquake\\n',\n",
       " b'35363051|2023-06-22T02:24:10.000000|43.2712|12.8623|7.3|SURVEY-INGV||||ML|2.1|--|7 km W Esanatoglia (MC)|earthquake\\n',\n",
       " b'35362381|2023-06-21T23:33:32.330000|39.0057|15.2483|288.9|SURVEY-INGV||||ML|2.5|--|Tirreno Meridionale (MARE)|earthquake\\n',\n",
       " b'35361891|2023-06-21T21:05:44.730000|40.006|15.814|45.1|SURVEY-INGV||||ML|2.2|--|4 km SE Trecchina (PZ)|earthquake\\n',\n",
       " b'35361641|2023-06-21T20:35:37.520000|43.2712|12.8668|6.8|SURVEY-INGV||||ML|2.3|--|7 km W Esanatoglia (MC)|earthquake\\n',\n",
       " b'35360381|2023-06-21T16:41:39.330000|44.5113|10.7022|10.2|SURVEY-INGV||||ML|2.4|--|2 km W Castellarano (RE)|earthquake\\n',\n",
       " b'35359931|2023-06-21T15:33:53.740000|42.1022|15.7223|35.8|BULLETIN-INGV||||Mw|4.1|--|Costa Garganica (Foggia)|earthquake\\n',\n",
       " b'35357591|2023-06-21T08:37:59.480000|44.4948|10.7637|17.6|SURVEY-INGV||||ML|2.1|--|3 km SE Castellarano (RE)|earthquake\\n',\n",
       " b'35356981|2023-06-21T07:27:13.940000|44.489|10.7652|22.3|SURVEY-INGV||||ML|2.4|--|4 km SE Castellarano (RE)|earthquake\\n',\n",
       " b'35356941|2023-06-21T07:27:13.750000|44.4597|10.7278|29.0|SURVEY-INGV||||ML|2.1|--|4 km NE Prignano sulla Secchia (MO)|earthquake\\n',\n",
       " b'35356811|2023-06-21T07:25:39.440000|44.4757|10.7417|27.4|SURVEY-INGV||||ML|3.2|--|4 km S Castellarano (RE)|earthquake\\n',\n",
       " b'35356191|2023-06-21T06:06:41.200000|44.4897|10.7328|25.6|SURVEY-INGV||||ML|2.2|--|2 km S Castellarano (RE)|earthquake\\n',\n",
       " b'35356091|2023-06-21T06:01:48.000000|44.4657|10.7163|30.9|SURVEY-INGV||||ML|3.0|--|4 km NE Prignano sulla Secchia (MO)|earthquake\\n',\n",
       " b'35355981|2023-06-21T05:56:23.620000|44.642|11.1878|2.1|SURVEY-INGV||||ML|2.1|--|San Giovanni in Persiceto (BO)|earthquake\\n',\n",
       " b'35355671|2023-06-21T05:27:56.770000|42.2713|13.7022|9.2|SURVEY-INGV||||ML|2.8|--|3 km NE Caporciano (AQ)|earthquake\\n',\n",
       " b'35354831|2023-06-21T00:32:05.100000|44.5167|10.7042|22.9|SURVEY-INGV||||ML|2.4|--|2 km W Castellarano (RE)|earthquake\\n',\n",
       " b'35349401|2023-06-20T03:41:26.650000|42.4717|12.6162|7.9|SURVEY-INGV||||ML|2.2|--|5 km SW Stroncone (TR)|earthquake\\n',\n",
       " b'35343361|2023-06-19T05:06:46.760000|42.9682|13.1588|13.1|SURVEY-INGV||||ML|2.0|--|3 km NE Ussita (MC)|earthquake\\n',\n",
       " b'35339681|2023-06-18T12:46:11.180000|40.816833|14.160667|2.6|SURVEY-INGV-OV#SiSmi||||Md|2.4|--|Campi Flegrei|earthquake\\n',\n",
       " b'35334611|2023-06-17T19:21:59.990000|38.5733|15.1383|185.2|SURVEY-INGV||||ML|2.7|--|Isole Eolie (Messina)|earthquake\\n',\n",
       " b'35330191|2023-06-17T08:53:16.210000|45.6668|15.3102|8.2|SURVEY-INGV||||ML|2.3|--|Confine Slovenia-Croazia (SLOVENIA, CROAZIA)|earthquake\\n',\n",
       " b'35324561|2023-06-16T12:59:23.880000|40.811333|14.098|2.9|SURVEY-INGV-OV#SiSmi||||Md|2.3|--|Campi Flegrei|earthquake\\n',\n",
       " b'35323431|2023-06-16T10:46:41.690000|38.4142|14.5787|6.6|SURVEY-INGV||||ML|2.4|--|Isole Eolie (Messina)|earthquake\\n',\n",
       " b'35322901|2023-06-16T10:15:55.480000|42.7378|13.5438|16.7|SURVEY-INGV||||ML|2.0|--|4 km E Valle Castellana (TE)|earthquake\\n',\n",
       " b'35321641|2023-06-16T08:00:19.670000|45.373|14.8962|10.0|SURVEY-INGV||||ML|3.1|--|Confine Slovenia-Croazia (SLOVENIA, CROAZIA)|earthquake\\n',\n",
       " b'35320251|2023-06-16T04:33:28.000000|37.693|15.133|4.2|SURVEY-INGV-CT#SeismPicker_SO-OE||||ML|2.5|--|1 km NW Santa Venerina (CT)|earthquake\\n',\n",
       " b'35319481|2023-06-16T02:17:24.070000|43.7068|11.987|8.2|SURVEY-INGV||||ML|2.3|--|4 km E Chiusi della Verna (AR)|earthquake\\n',\n",
       " b'35318751|2023-06-15T21:24:22.080000|41.5867|16.0537|5.6|SURVEY-INGV||||ML|2.0|--|Golfo di Manfredonia (Foggia)|earthquake\\n',\n",
       " b'35317261|2023-06-15T16:01:56.470000|42.7318|13.5365|14.9|SURVEY-INGV||||ML|2.0|--|3 km E Valle Castellana (TE)|earthquake\\n',\n",
       " b'35317131|2023-06-15T15:39:40.339000|40.830167|14.141333|2.8|SURVEY-INGV-OV#SiSmi||||Md|2.9|--|Campi Flegrei|earthquake\\n',\n",
       " b'35312021|2023-06-14T16:56:18.760000|41.2352|14.3063|7.0|SURVEY-INGV||||ML|2.1|--|2 km NE Liberi (CE)|earthquake\\n',\n",
       " b'35311851|2023-06-14T16:33:06.440000|47.5462|12.2013|14.6|SURVEY-INGV||||ML|2.4|--|Confine Austria-Germania (AUSTRIA, GERMANIA)|earthquake\\n',\n",
       " b'35311291|2023-06-14T14:48:40.450000|41.8172|15.4023|21.5|SURVEY-INGV||||ML|2.0|--|3 km E Poggio Imperiale (FG)|earthquake\\n',\n",
       " b'35310551|2023-06-14T12:58:13.009000|40.835|14.127|2.7|SURVEY-INGV-OV#SiSmi||||Md|2.1|--|Campi Flegrei|earthquake\\n',\n",
       " b'35305231|2023-06-14T03:50:03.490000|42.9273|13.041|10.3|SURVEY-INGV||||ML|2.4|--|4 km W Visso (MC)|earthquake\\n',\n",
       " b'35303351|2023-06-13T17:16:57.050000|45.1338|10.8478|7.1|SURVEY-INGV||||ML|2.3|--|4 km S San Giorgio di Mantova (MN)|earthquake\\n',\n",
       " b'35300461|2023-06-13T12:42:18.160000|38.7897|12.7122|32.3|SURVEY-INGV||||ML|2.8|--|Tirreno Meridionale (MARE)|earthquake\\n',\n",
       " b'35298351|2023-06-13T10:32:20.260000|41.4347|13.8245|6.9|SURVEY-INGV||||ML|2.1|--|3 km E Pignataro Interamna (FR)|earthquake\\n',\n",
       " b'35295881|2023-06-13T06:28:06.450000|41.2778|14.8002|14.2|SURVEY-INGV||||ML|2.3|--|3 km SW Reino (BN)|earthquake\\n',\n",
       " b'35294491|2023-06-13T00:37:09.250000|44.5078|9.423|1.2|SURVEY-INGV||||ML|2.2|--|3 km SE Rezzoaglio (GE)|earthquake\\n',\n",
       " b'35294231|2023-06-12T23:37:00.500000|43.4383|12.6478|12.0|SURVEY-INGV||||ML|2.3|--|4 km NW Scheggia e Pascelupo (PG)|earthquake\\n',\n",
       " b'35293401|2023-06-12T18:42:16.890000|38.5888|16.174|15.2|SURVEY-INGV||||ML|3.0|--|3 km NW Das\\xc3\\xa0 (VV)|earthquake\\n',\n",
       " b'35286461|2023-06-12T06:16:13.370000|44.5295|6.7998|9.4|SURVEY-INGV||||ML|2.3|--|Confine Italia-Francia (FRANCIA)|earthquake\\n',\n",
       " b'35285611|2023-06-12T04:45:19.970000|44.528|9.4027|6.1|SURVEY-INGV||||ML|2.7|--|1 km E Rezzoaglio (GE)|earthquake\\n',\n",
       " b'35283821|2023-06-11T18:08:53.140000|45.0455|14.6595|5.3|SURVEY-INGV||||ML|2.7|--|Costa Croata Settentrionale (CROAZIA)|earthquake\\n',\n",
       " b'35279141|2023-06-11T09:15:41.110000|39.6667|16.5015|10.5|SURVEY-INGV||||ML|3.3|--|8 km N Corigliano Calabro (CS)|earthquake\\n',\n",
       " b'35278751|2023-06-11T08:04:30.490000|38.577|14.2382|24.8|SURVEY-INGV||||ML|2.8|--|Isole Eolie (Messina)|earthquake\\n',\n",
       " b'35278141|2023-06-11T06:44:25.769000|40.831333|14.111|2.6|SURVEY-INGV-OV||||Md|3.6|--|Campi Flegrei|earthquake\\n',\n",
       " b'35276461|2023-06-11T02:42:31.050000|39.6663|16.502|10.2|SURVEY-INGV||||ML|2.2|--|8 km N Corigliano Calabro (CS)|earthquake\\n',\n",
       " b'35275381|2023-06-10T20:56:34.770000|43.53|13.4812|8.0|SURVEY-INGV||||ML|2.1|--|3 km E Offagna (AN)|earthquake\\n',\n",
       " b'35274941|2023-06-10T19:51:23.350000|43.9882|13.2717|7.4|SURVEY-INGV||||ML|2.3|--|Costa Marchigiana Pesarese (Pesaro-Urbino)|earthquake\\n',\n",
       " b'35274491|2023-06-10T17:57:05.510000|38.43|13.4805|10.7|SURVEY-INGV||||ML|2.0|--|Costa Siciliana centro-settentrionale (Palermo)|earthquake\\n',\n",
       " b'35270111|2023-06-10T10:47:46.000000|39.4982|14.5797|10.0|SURVEY-INGV||||ML|2.3|--|Tirreno Meridionale (MARE)|earthquake\\n',\n",
       " b'35267141|2023-06-10T01:38:57.220000|39.4797|14.5447|3.1|SURVEY-INGV||||ML|2.2|--|Tirreno Meridionale (MARE)|earthquake\\n']"
      ]
     },
     "execution_count": 80,
     "metadata": {},
     "output_type": "execute_result"
    }
   ],
   "source": [
    "ws_instance.get_events()"
   ]
  },
  {
   "cell_type": "code",
   "execution_count": 81,
   "metadata": {},
   "outputs": [
    {
     "data": {
      "text/html": [
       "<div>\n",
       "<style scoped>\n",
       "    .dataframe tbody tr th:only-of-type {\n",
       "        vertical-align: middle;\n",
       "    }\n",
       "\n",
       "    .dataframe tbody tr th {\n",
       "        vertical-align: top;\n",
       "    }\n",
       "\n",
       "    .dataframe thead th {\n",
       "        text-align: right;\n",
       "    }\n",
       "</style>\n",
       "<table border=\"1\" class=\"dataframe\">\n",
       "  <thead>\n",
       "    <tr style=\"text-align: right;\">\n",
       "      <th></th>\n",
       "      <th>EventID</th>\n",
       "      <th>Time</th>\n",
       "      <th>Latitude</th>\n",
       "      <th>Longitude</th>\n",
       "      <th>Depth/Km</th>\n",
       "      <th>Author</th>\n",
       "      <th>Catalog</th>\n",
       "      <th>Contributor</th>\n",
       "      <th>ContributorID</th>\n",
       "      <th>MagType</th>\n",
       "      <th>Magnitude</th>\n",
       "      <th>MagAuthor</th>\n",
       "      <th>EventLocationName</th>\n",
       "      <th>EventType</th>\n",
       "    </tr>\n",
       "  </thead>\n",
       "  <tbody>\n",
       "    <tr>\n",
       "      <th>0</th>\n",
       "      <td>35520321</td>\n",
       "      <td>2023-07-10T06:53:44.210000</td>\n",
       "      <td>43.2445</td>\n",
       "      <td>12.8867</td>\n",
       "      <td>45.6</td>\n",
       "      <td>SURVEY-INGV</td>\n",
       "      <td></td>\n",
       "      <td></td>\n",
       "      <td></td>\n",
       "      <td>ML</td>\n",
       "      <td>2.6</td>\n",
       "      <td>--</td>\n",
       "      <td>5 km W Esanatoglia (MC)</td>\n",
       "      <td>earthquake</td>\n",
       "    </tr>\n",
       "    <tr>\n",
       "      <th>1</th>\n",
       "      <td>35519241</td>\n",
       "      <td>2023-07-10T04:05:07.780000</td>\n",
       "      <td>37.9807</td>\n",
       "      <td>15.7077</td>\n",
       "      <td>61.9</td>\n",
       "      <td>SURVEY-INGV</td>\n",
       "      <td></td>\n",
       "      <td></td>\n",
       "      <td></td>\n",
       "      <td>ML</td>\n",
       "      <td>2.3</td>\n",
       "      <td>--</td>\n",
       "      <td>3 km SE Motta San Giovanni (RC)</td>\n",
       "      <td>earthquake</td>\n",
       "    </tr>\n",
       "    <tr>\n",
       "      <th>2</th>\n",
       "      <td>35519041</td>\n",
       "      <td>2023-07-10T02:52:42.730000</td>\n",
       "      <td>43.1642</td>\n",
       "      <td>10.8083</td>\n",
       "      <td>7.6</td>\n",
       "      <td>SURVEY-INGV</td>\n",
       "      <td></td>\n",
       "      <td></td>\n",
       "      <td></td>\n",
       "      <td>ML</td>\n",
       "      <td>2.3</td>\n",
       "      <td>--</td>\n",
       "      <td>4 km W Monterotondo Marittimo (GR)</td>\n",
       "      <td>earthquake</td>\n",
       "    </tr>\n",
       "    <tr>\n",
       "      <th>3</th>\n",
       "      <td>35517671</td>\n",
       "      <td>2023-07-09T21:33:32.880000</td>\n",
       "      <td>46.1392</td>\n",
       "      <td>13.5877</td>\n",
       "      <td>17.3</td>\n",
       "      <td>SURVEY-INGV</td>\n",
       "      <td></td>\n",
       "      <td></td>\n",
       "      <td></td>\n",
       "      <td>ML</td>\n",
       "      <td>2.1</td>\n",
       "      <td>--</td>\n",
       "      <td>1 km NE Stregna (UD)</td>\n",
       "      <td>earthquake</td>\n",
       "    </tr>\n",
       "    <tr>\n",
       "      <th>4</th>\n",
       "      <td>35515911</td>\n",
       "      <td>2023-07-09T16:18:44.040000</td>\n",
       "      <td>42.4498</td>\n",
       "      <td>13.2947</td>\n",
       "      <td>11.9</td>\n",
       "      <td>SURVEY-INGV</td>\n",
       "      <td></td>\n",
       "      <td></td>\n",
       "      <td></td>\n",
       "      <td>ML</td>\n",
       "      <td>2.0</td>\n",
       "      <td>--</td>\n",
       "      <td>1 km E Barete (AQ)</td>\n",
       "      <td>earthquake</td>\n",
       "    </tr>\n",
       "  </tbody>\n",
       "</table>\n",
       "</div>"
      ],
      "text/plain": [
       "    EventID                        Time Latitude Longitude Depth/Km  ... MagType Magnitude MagAuthor                   EventLocationName   EventType\n",
       "0  35520321  2023-07-10T06:53:44.210000  43.2445   12.8867     45.6  ...      ML       2.6        --             5 km W Esanatoglia (MC)  earthquake\n",
       "1  35519241  2023-07-10T04:05:07.780000  37.9807   15.7077     61.9  ...      ML       2.3        --     3 km SE Motta San Giovanni (RC)  earthquake\n",
       "2  35519041  2023-07-10T02:52:42.730000  43.1642   10.8083      7.6  ...      ML       2.3        --  4 km W Monterotondo Marittimo (GR)  earthquake\n",
       "3  35517671  2023-07-09T21:33:32.880000  46.1392   13.5877     17.3  ...      ML       2.1        --                1 km NE Stregna (UD)  earthquake\n",
       "4  35515911  2023-07-09T16:18:44.040000  42.4498   13.2947     11.9  ...      ML       2.0        --                  1 km E Barete (AQ)  earthquake\n",
       "\n",
       "[5 rows x 14 columns]"
      ]
     },
     "execution_count": 81,
     "metadata": {},
     "output_type": "execute_result"
    }
   ],
   "source": [
    "df = ws_instance.transform_events_to_df()\n",
    "df.head()"
   ]
  },
  {
   "cell_type": "code",
   "execution_count": 82,
   "metadata": {},
   "outputs": [
    {
     "data": {
      "text/html": [
       "<div style=\"width:100%;\"><div style=\"position:relative;width:100%;height:0;padding-bottom:60%;\"><span style=\"color:#565656\">Make this Notebook Trusted to load map: File -> Trust Notebook</span><iframe srcdoc=\"&lt;!DOCTYPE html&gt;\n",
       "&lt;html&gt;\n",
       "&lt;head&gt;\n",
       "    \n",
       "    &lt;meta http-equiv=&quot;content-type&quot; content=&quot;text/html; charset=UTF-8&quot; /&gt;\n",
       "    \n",
       "        &lt;script&gt;\n",
       "            L_NO_TOUCH = false;\n",
       "            L_DISABLE_3D = false;\n",
       "        &lt;/script&gt;\n",
       "    \n",
       "    &lt;style&gt;html, body {width: 100%;height: 100%;margin: 0;padding: 0;}&lt;/style&gt;\n",
       "    &lt;style&gt;#map {position:absolute;top:0;bottom:0;right:0;left:0;}&lt;/style&gt;\n",
       "    &lt;script src=&quot;https://cdn.jsdelivr.net/npm/leaflet@1.9.3/dist/leaflet.js&quot;&gt;&lt;/script&gt;\n",
       "    &lt;script src=&quot;https://code.jquery.com/jquery-1.12.4.min.js&quot;&gt;&lt;/script&gt;\n",
       "    &lt;script src=&quot;https://cdn.jsdelivr.net/npm/bootstrap@5.2.2/dist/js/bootstrap.bundle.min.js&quot;&gt;&lt;/script&gt;\n",
       "    &lt;script src=&quot;https://cdnjs.cloudflare.com/ajax/libs/Leaflet.awesome-markers/2.0.2/leaflet.awesome-markers.js&quot;&gt;&lt;/script&gt;\n",
       "    &lt;link rel=&quot;stylesheet&quot; href=&quot;https://cdn.jsdelivr.net/npm/leaflet@1.9.3/dist/leaflet.css&quot;/&gt;\n",
       "    &lt;link rel=&quot;stylesheet&quot; href=&quot;https://cdn.jsdelivr.net/npm/bootstrap@5.2.2/dist/css/bootstrap.min.css&quot;/&gt;\n",
       "    &lt;link rel=&quot;stylesheet&quot; href=&quot;https://netdna.bootstrapcdn.com/bootstrap/3.0.0/css/bootstrap.min.css&quot;/&gt;\n",
       "    &lt;link rel=&quot;stylesheet&quot; href=&quot;https://cdn.jsdelivr.net/npm/@fortawesome/fontawesome-free@6.2.0/css/all.min.css&quot;/&gt;\n",
       "    &lt;link rel=&quot;stylesheet&quot; href=&quot;https://cdnjs.cloudflare.com/ajax/libs/Leaflet.awesome-markers/2.0.2/leaflet.awesome-markers.css&quot;/&gt;\n",
       "    &lt;link rel=&quot;stylesheet&quot; href=&quot;https://cdn.jsdelivr.net/gh/python-visualization/folium/folium/templates/leaflet.awesome.rotate.min.css&quot;/&gt;\n",
       "    \n",
       "            &lt;meta name=&quot;viewport&quot; content=&quot;width=device-width,\n",
       "                initial-scale=1.0, maximum-scale=1.0, user-scalable=no&quot; /&gt;\n",
       "            &lt;style&gt;\n",
       "                #map_b1cc2b8730d8b972f8eac05c431067c5 {\n",
       "                    position: relative;\n",
       "                    width: 100.0%;\n",
       "                    height: 100.0%;\n",
       "                    left: 0.0%;\n",
       "                    top: 0.0%;\n",
       "                }\n",
       "                .leaflet-container { font-size: 1rem; }\n",
       "            &lt;/style&gt;\n",
       "        \n",
       "    \n",
       "                    &lt;style&gt;\n",
       "                        .foliumtooltip {\n",
       "                            \n",
       "                        }\n",
       "                       .foliumtooltip table{\n",
       "                            margin: auto;\n",
       "                        }\n",
       "                        .foliumtooltip tr{\n",
       "                            text-align: left;\n",
       "                        }\n",
       "                        .foliumtooltip th{\n",
       "                            padding: 2px; padding-right: 8px;\n",
       "                        }\n",
       "                    &lt;/style&gt;\n",
       "            \n",
       "&lt;/head&gt;\n",
       "&lt;body&gt;\n",
       "    \n",
       "    \n",
       "            &lt;div class=&quot;folium-map&quot; id=&quot;map_b1cc2b8730d8b972f8eac05c431067c5&quot; &gt;&lt;/div&gt;\n",
       "        \n",
       "&lt;/body&gt;\n",
       "&lt;script&gt;\n",
       "    \n",
       "    \n",
       "            var map_b1cc2b8730d8b972f8eac05c431067c5 = L.map(\n",
       "                &quot;map_b1cc2b8730d8b972f8eac05c431067c5&quot;,\n",
       "                {\n",
       "                    center: [42.47095, 12.44555],\n",
       "                    crs: L.CRS.EPSG3857,\n",
       "                    zoom: 10,\n",
       "                    zoomControl: true,\n",
       "                    preferCanvas: false,\n",
       "                }\n",
       "            );\n",
       "            L.control.scale().addTo(map_b1cc2b8730d8b972f8eac05c431067c5);\n",
       "\n",
       "            \n",
       "\n",
       "        \n",
       "    \n",
       "            var tile_layer_037060eb39e727525872ae975f2fd167 = L.tileLayer(\n",
       "                &quot;https://{s}.tile.openstreetmap.org/{z}/{x}/{y}.png&quot;,\n",
       "                {&quot;attribution&quot;: &quot;Data by \\u0026copy; \\u003ca target=\\&quot;_blank\\&quot; href=\\&quot;http://openstreetmap.org\\&quot;\\u003eOpenStreetMap\\u003c/a\\u003e, under \\u003ca target=\\&quot;_blank\\&quot; href=\\&quot;http://www.openstreetmap.org/copyright\\&quot;\\u003eODbL\\u003c/a\\u003e.&quot;, &quot;detectRetina&quot;: false, &quot;maxNativeZoom&quot;: 18, &quot;maxZoom&quot;: 18, &quot;minZoom&quot;: 0, &quot;noWrap&quot;: false, &quot;opacity&quot;: 1, &quot;subdomains&quot;: &quot;abc&quot;, &quot;tms&quot;: false}\n",
       "            ).addTo(map_b1cc2b8730d8b972f8eac05c431067c5);\n",
       "        \n",
       "    \n",
       "            map_b1cc2b8730d8b972f8eac05c431067c5.fitBounds(\n",
       "                [[37.1242, 6.7998], [47.8177, 18.0913]],\n",
       "                {}\n",
       "            );\n",
       "        \n",
       "    \n",
       "        function geo_json_85b4f76b6b8ea99729e3d5999775a469_styler(feature) {\n",
       "            switch(feature.id) {\n",
       "                default:\n",
       "                    return {&quot;fillOpacity&quot;: 0.5, &quot;weight&quot;: 2};\n",
       "            }\n",
       "        }\n",
       "        function geo_json_85b4f76b6b8ea99729e3d5999775a469_highlighter(feature) {\n",
       "            switch(feature.id) {\n",
       "                default:\n",
       "                    return {&quot;fillOpacity&quot;: 0.75};\n",
       "            }\n",
       "        }\n",
       "        function geo_json_85b4f76b6b8ea99729e3d5999775a469_pointToLayer(feature, latlng) {\n",
       "            var opts = {&quot;bubblingMouseEvents&quot;: true, &quot;color&quot;: &quot;#3388ff&quot;, &quot;dashArray&quot;: null, &quot;dashOffset&quot;: null, &quot;fill&quot;: true, &quot;fillColor&quot;: &quot;#3388ff&quot;, &quot;fillOpacity&quot;: 0.2, &quot;fillRule&quot;: &quot;evenodd&quot;, &quot;lineCap&quot;: &quot;round&quot;, &quot;lineJoin&quot;: &quot;round&quot;, &quot;opacity&quot;: 1.0, &quot;radius&quot;: 2, &quot;stroke&quot;: true, &quot;weight&quot;: 3};\n",
       "            \n",
       "            let style = geo_json_85b4f76b6b8ea99729e3d5999775a469_styler(feature)\n",
       "            Object.assign(opts, style)\n",
       "            \n",
       "            return new L.CircleMarker(latlng, opts)\n",
       "        }\n",
       "\n",
       "        function geo_json_85b4f76b6b8ea99729e3d5999775a469_onEachFeature(feature, layer) {\n",
       "            layer.on({\n",
       "                mouseout: function(e) {\n",
       "                    if(typeof e.target.setStyle === &quot;function&quot;){\n",
       "                        geo_json_85b4f76b6b8ea99729e3d5999775a469.resetStyle(e.target);\n",
       "                    }\n",
       "                },\n",
       "                mouseover: function(e) {\n",
       "                    if(typeof e.target.setStyle === &quot;function&quot;){\n",
       "                        const highlightStyle = geo_json_85b4f76b6b8ea99729e3d5999775a469_highlighter(e.target.feature)\n",
       "                        e.target.setStyle(highlightStyle);\n",
       "                    }\n",
       "                },\n",
       "            });\n",
       "        };\n",
       "        var geo_json_85b4f76b6b8ea99729e3d5999775a469 = L.geoJson(null, {\n",
       "                onEachFeature: geo_json_85b4f76b6b8ea99729e3d5999775a469_onEachFeature,\n",
       "            \n",
       "                style: geo_json_85b4f76b6b8ea99729e3d5999775a469_styler,\n",
       "                pointToLayer: geo_json_85b4f76b6b8ea99729e3d5999775a469_pointToLayer\n",
       "        });\n",
       "\n",
       "        function geo_json_85b4f76b6b8ea99729e3d5999775a469_add (data) {\n",
       "            geo_json_85b4f76b6b8ea99729e3d5999775a469\n",
       "                .addData(data)\n",
       "                .addTo(map_b1cc2b8730d8b972f8eac05c431067c5);\n",
       "        }\n",
       "            geo_json_85b4f76b6b8ea99729e3d5999775a469_add({&quot;bbox&quot;: [6.7998, 37.1242, 18.0913, 47.8177], &quot;features&quot;: [{&quot;bbox&quot;: [12.8867, 43.2445, 12.8867, 43.2445], &quot;geometry&quot;: {&quot;coordinates&quot;: [12.8867, 43.2445], &quot;type&quot;: &quot;Point&quot;}, &quot;id&quot;: &quot;0&quot;, &quot;properties&quot;: {&quot;Author&quot;: &quot;SURVEY-INGV&quot;, &quot;Catalog&quot;: &quot;&quot;, &quot;Contributor&quot;: &quot;&quot;, &quot;ContributorID&quot;: &quot;&quot;, &quot;Depth/Km&quot;: &quot;45.6&quot;, &quot;EventID&quot;: &quot;35520321&quot;, &quot;EventLocationName&quot;: &quot;5 km W Esanatoglia (MC)&quot;, &quot;EventType&quot;: &quot;earthquake&quot;, &quot;Latitude&quot;: &quot;43.2445&quot;, &quot;Longitude&quot;: &quot;12.8867&quot;, &quot;MagAuthor&quot;: &quot;--&quot;, &quot;MagType&quot;: &quot;ML&quot;, &quot;Magnitude&quot;: &quot;2.6&quot;, &quot;Time&quot;: &quot;2023-07-10T06:53:44.210000&quot;}, &quot;type&quot;: &quot;Feature&quot;}, {&quot;bbox&quot;: [15.7077, 37.9807, 15.7077, 37.9807], &quot;geometry&quot;: {&quot;coordinates&quot;: [15.7077, 37.9807], &quot;type&quot;: &quot;Point&quot;}, &quot;id&quot;: &quot;1&quot;, &quot;properties&quot;: {&quot;Author&quot;: &quot;SURVEY-INGV&quot;, &quot;Catalog&quot;: &quot;&quot;, &quot;Contributor&quot;: &quot;&quot;, &quot;ContributorID&quot;: &quot;&quot;, &quot;Depth/Km&quot;: &quot;61.9&quot;, &quot;EventID&quot;: &quot;35519241&quot;, &quot;EventLocationName&quot;: &quot;3 km SE Motta San Giovanni (RC)&quot;, &quot;EventType&quot;: &quot;earthquake&quot;, &quot;Latitude&quot;: &quot;37.9807&quot;, &quot;Longitude&quot;: &quot;15.7077&quot;, &quot;MagAuthor&quot;: &quot;--&quot;, &quot;MagType&quot;: &quot;ML&quot;, &quot;Magnitude&quot;: &quot;2.3&quot;, &quot;Time&quot;: &quot;2023-07-10T04:05:07.780000&quot;}, &quot;type&quot;: &quot;Feature&quot;}, {&quot;bbox&quot;: [10.8083, 43.1642, 10.8083, 43.1642], &quot;geometry&quot;: {&quot;coordinates&quot;: [10.8083, 43.1642], &quot;type&quot;: &quot;Point&quot;}, &quot;id&quot;: &quot;2&quot;, &quot;properties&quot;: {&quot;Author&quot;: &quot;SURVEY-INGV&quot;, &quot;Catalog&quot;: &quot;&quot;, &quot;Contributor&quot;: &quot;&quot;, &quot;ContributorID&quot;: &quot;&quot;, &quot;Depth/Km&quot;: &quot;7.6&quot;, &quot;EventID&quot;: &quot;35519041&quot;, &quot;EventLocationName&quot;: &quot;4 km W Monterotondo Marittimo (GR)&quot;, &quot;EventType&quot;: &quot;earthquake&quot;, &quot;Latitude&quot;: &quot;43.1642&quot;, &quot;Longitude&quot;: &quot;10.8083&quot;, &quot;MagAuthor&quot;: &quot;--&quot;, &quot;MagType&quot;: &quot;ML&quot;, &quot;Magnitude&quot;: &quot;2.3&quot;, &quot;Time&quot;: &quot;2023-07-10T02:52:42.730000&quot;}, &quot;type&quot;: &quot;Feature&quot;}, {&quot;bbox&quot;: [13.5877, 46.1392, 13.5877, 46.1392], &quot;geometry&quot;: {&quot;coordinates&quot;: [13.5877, 46.1392], &quot;type&quot;: &quot;Point&quot;}, &quot;id&quot;: &quot;3&quot;, &quot;properties&quot;: {&quot;Author&quot;: &quot;SURVEY-INGV&quot;, &quot;Catalog&quot;: &quot;&quot;, &quot;Contributor&quot;: &quot;&quot;, &quot;ContributorID&quot;: &quot;&quot;, &quot;Depth/Km&quot;: &quot;17.3&quot;, &quot;EventID&quot;: &quot;35517671&quot;, &quot;EventLocationName&quot;: &quot;1 km NE Stregna (UD)&quot;, &quot;EventType&quot;: &quot;earthquake&quot;, &quot;Latitude&quot;: &quot;46.1392&quot;, &quot;Longitude&quot;: &quot;13.5877&quot;, &quot;MagAuthor&quot;: &quot;--&quot;, &quot;MagType&quot;: &quot;ML&quot;, &quot;Magnitude&quot;: &quot;2.1&quot;, &quot;Time&quot;: &quot;2023-07-09T21:33:32.880000&quot;}, &quot;type&quot;: &quot;Feature&quot;}, {&quot;bbox&quot;: [13.2947, 42.4498, 13.2947, 42.4498], &quot;geometry&quot;: {&quot;coordinates&quot;: [13.2947, 42.4498], &quot;type&quot;: &quot;Point&quot;}, &quot;id&quot;: &quot;4&quot;, &quot;properties&quot;: {&quot;Author&quot;: &quot;SURVEY-INGV&quot;, &quot;Catalog&quot;: &quot;&quot;, &quot;Contributor&quot;: &quot;&quot;, &quot;ContributorID&quot;: &quot;&quot;, &quot;Depth/Km&quot;: &quot;11.9&quot;, &quot;EventID&quot;: &quot;35515911&quot;, &quot;EventLocationName&quot;: &quot;1 km E Barete (AQ)&quot;, &quot;EventType&quot;: &quot;earthquake&quot;, &quot;Latitude&quot;: &quot;42.4498&quot;, &quot;Longitude&quot;: &quot;13.2947&quot;, &quot;MagAuthor&quot;: &quot;--&quot;, &quot;MagType&quot;: &quot;ML&quot;, &quot;Magnitude&quot;: &quot;2.0&quot;, &quot;Time&quot;: &quot;2023-07-09T16:18:44.040000&quot;}, &quot;type&quot;: &quot;Feature&quot;}, {&quot;bbox&quot;: [15.3733, 39.1782, 15.3733, 39.1782], &quot;geometry&quot;: {&quot;coordinates&quot;: [15.3733, 39.1782], &quot;type&quot;: &quot;Point&quot;}, &quot;id&quot;: &quot;5&quot;, &quot;properties&quot;: {&quot;Author&quot;: &quot;SURVEY-INGV&quot;, &quot;Catalog&quot;: &quot;&quot;, &quot;Contributor&quot;: &quot;&quot;, &quot;ContributorID&quot;: &quot;&quot;, &quot;Depth/Km&quot;: &quot;230.0&quot;, &quot;EventID&quot;: &quot;35514411&quot;, &quot;EventLocationName&quot;: &quot;Tirreno Meridionale (MARE)&quot;, &quot;EventType&quot;: &quot;earthquake&quot;, &quot;Latitude&quot;: &quot;39.1782&quot;, &quot;Longitude&quot;: &quot;15.3733&quot;, &quot;MagAuthor&quot;: &quot;--&quot;, &quot;MagType&quot;: &quot;ML&quot;, &quot;Magnitude&quot;: &quot;2.2&quot;, &quot;Time&quot;: &quot;2023-07-09T12:22:08.570000&quot;}, &quot;type&quot;: &quot;Feature&quot;}, {&quot;bbox&quot;: [13.0193, 43.0485, 13.0193, 43.0485], &quot;geometry&quot;: {&quot;coordinates&quot;: [13.0193, 43.0485], &quot;type&quot;: &quot;Point&quot;}, &quot;id&quot;: &quot;6&quot;, &quot;properties&quot;: {&quot;Author&quot;: &quot;SURVEY-INGV&quot;, &quot;Catalog&quot;: &quot;&quot;, &quot;Contributor&quot;: &quot;&quot;, &quot;ContributorID&quot;: &quot;&quot;, &quot;Depth/Km&quot;: &quot;12.4&quot;, &quot;EventID&quot;: &quot;35514331&quot;, &quot;EventLocationName&quot;: &quot;3 km W Pieve Torina (MC)&quot;, &quot;EventType&quot;: &quot;earthquake&quot;, &quot;Latitude&quot;: &quot;43.0485&quot;, &quot;Longitude&quot;: &quot;13.0193&quot;, &quot;MagAuthor&quot;: &quot;--&quot;, &quot;MagType&quot;: &quot;ML&quot;, &quot;Magnitude&quot;: &quot;2.5&quot;, &quot;Time&quot;: &quot;2023-07-09T12:16:13.370000&quot;}, &quot;type&quot;: &quot;Feature&quot;}, {&quot;bbox&quot;: [13.5923, 42.907, 13.5923, 42.907], &quot;geometry&quot;: {&quot;coordinates&quot;: [13.5923, 42.907], &quot;type&quot;: &quot;Point&quot;}, &quot;id&quot;: &quot;7&quot;, &quot;properties&quot;: {&quot;Author&quot;: &quot;SURVEY-INGV&quot;, &quot;Catalog&quot;: &quot;&quot;, &quot;Contributor&quot;: &quot;&quot;, &quot;ContributorID&quot;: &quot;&quot;, &quot;Depth/Km&quot;: &quot;16.7&quot;, &quot;EventID&quot;: &quot;35504211&quot;, &quot;EventLocationName&quot;: &quot;4 km SW Castignano (AP)&quot;, &quot;EventType&quot;: &quot;earthquake&quot;, &quot;Latitude&quot;: &quot;42.907&quot;, &quot;Longitude&quot;: &quot;13.5923&quot;, &quot;MagAuthor&quot;: &quot;--&quot;, &quot;MagType&quot;: &quot;ML&quot;, &quot;Magnitude&quot;: &quot;2.1&quot;, &quot;Time&quot;: &quot;2023-07-08T07:54:43.160000&quot;}, &quot;type&quot;: &quot;Feature&quot;}, {&quot;bbox&quot;: [13.573, 42.8963, 13.573, 42.8963], &quot;geometry&quot;: {&quot;coordinates&quot;: [13.573, 42.8963], &quot;type&quot;: &quot;Point&quot;}, &quot;id&quot;: &quot;8&quot;, &quot;properties&quot;: {&quot;Author&quot;: &quot;SURVEY-INGV&quot;, &quot;Catalog&quot;: &quot;&quot;, &quot;Contributor&quot;: &quot;&quot;, &quot;ContributorID&quot;: &quot;&quot;, &quot;Depth/Km&quot;: &quot;11.1&quot;, &quot;EventID&quot;: &quot;35504131&quot;, &quot;EventLocationName&quot;: &quot;5 km N Ascoli Piceno (AP)&quot;, &quot;EventType&quot;: &quot;earthquake&quot;, &quot;Latitude&quot;: &quot;42.8963&quot;, &quot;Longitude&quot;: &quot;13.573&quot;, &quot;MagAuthor&quot;: &quot;--&quot;, &quot;MagType&quot;: &quot;ML&quot;, &quot;Magnitude&quot;: &quot;2.4&quot;, &quot;Time&quot;: &quot;2023-07-08T07:54:16.750000&quot;}, &quot;type&quot;: &quot;Feature&quot;}, {&quot;bbox&quot;: [13.6055, 42.9097, 13.6055, 42.9097], &quot;geometry&quot;: {&quot;coordinates&quot;: [13.6055, 42.9097], &quot;type&quot;: &quot;Point&quot;}, &quot;id&quot;: &quot;9&quot;, &quot;properties&quot;: {&quot;Author&quot;: &quot;SURVEY-INGV&quot;, &quot;Catalog&quot;: &quot;&quot;, &quot;Contributor&quot;: &quot;&quot;, &quot;ContributorID&quot;: &quot;&quot;, &quot;Depth/Km&quot;: &quot;16.6&quot;, &quot;EventID&quot;: &quot;35503441&quot;, &quot;EventLocationName&quot;: &quot;4 km SW Castignano (AP)&quot;, &quot;EventType&quot;: &quot;earthquake&quot;, &quot;Latitude&quot;: &quot;42.9097&quot;, &quot;Longitude&quot;: &quot;13.6055&quot;, &quot;MagAuthor&quot;: &quot;--&quot;, &quot;MagType&quot;: &quot;ML&quot;, &quot;Magnitude&quot;: &quot;2.5&quot;, &quot;Time&quot;: &quot;2023-07-08T06:38:35.620000&quot;}, &quot;type&quot;: &quot;Feature&quot;}, {&quot;bbox&quot;: [13.5825, 42.9022, 13.5825, 42.9022], &quot;geometry&quot;: {&quot;coordinates&quot;: [13.5825, 42.9022], &quot;type&quot;: &quot;Point&quot;}, &quot;id&quot;: &quot;10&quot;, &quot;properties&quot;: {&quot;Author&quot;: &quot;SURVEY-INGV&quot;, &quot;Catalog&quot;: &quot;&quot;, &quot;Contributor&quot;: &quot;&quot;, &quot;ContributorID&quot;: &quot;&quot;, &quot;Depth/Km&quot;: &quot;15.4&quot;, &quot;EventID&quot;: &quot;35502811&quot;, &quot;EventLocationName&quot;: &quot;5 km SW Castignano (AP)&quot;, &quot;EventType&quot;: &quot;earthquake&quot;, &quot;Latitude&quot;: &quot;42.9022&quot;, &quot;Longitude&quot;: &quot;13.5825&quot;, &quot;MagAuthor&quot;: &quot;--&quot;, &quot;MagType&quot;: &quot;ML&quot;, &quot;Magnitude&quot;: &quot;2.0&quot;, &quot;Time&quot;: &quot;2023-07-08T06:01:42.460000&quot;}, &quot;type&quot;: &quot;Feature&quot;}, {&quot;bbox&quot;: [15.8727, 40.2527, 15.8727, 40.2527], &quot;geometry&quot;: {&quot;coordinates&quot;: [15.8727, 40.2527], &quot;type&quot;: &quot;Point&quot;}, &quot;id&quot;: &quot;11&quot;, &quot;properties&quot;: {&quot;Author&quot;: &quot;SURVEY-INGV&quot;, &quot;Catalog&quot;: &quot;&quot;, &quot;Contributor&quot;: &quot;&quot;, &quot;ContributorID&quot;: &quot;&quot;, &quot;Depth/Km&quot;: &quot;9.5&quot;, &quot;EventID&quot;: &quot;35500691&quot;, &quot;EventLocationName&quot;: &quot;1 km N Moliterno (PZ)&quot;, &quot;EventType&quot;: &quot;earthquake&quot;, &quot;Latitude&quot;: &quot;40.2527&quot;, &quot;Longitude&quot;: &quot;15.8727&quot;, &quot;MagAuthor&quot;: &quot;--&quot;, &quot;MagType&quot;: &quot;ML&quot;, &quot;Magnitude&quot;: &quot;2.2&quot;, &quot;Time&quot;: &quot;2023-07-08T00:18:04.080000&quot;}, &quot;type&quot;: &quot;Feature&quot;}, {&quot;bbox&quot;: [16.019, 37.6537, 16.019, 37.6537], &quot;geometry&quot;: {&quot;coordinates&quot;: [16.019, 37.6537], &quot;type&quot;: &quot;Point&quot;}, &quot;id&quot;: &quot;12&quot;, &quot;properties&quot;: {&quot;Author&quot;: &quot;SURVEY-INGV&quot;, &quot;Catalog&quot;: &quot;&quot;, &quot;Contributor&quot;: &quot;&quot;, &quot;ContributorID&quot;: &quot;&quot;, &quot;Depth/Km&quot;: &quot;33.0&quot;, &quot;EventID&quot;: &quot;35500021&quot;, &quot;EventLocationName&quot;: &quot;Costa Calabra sud-orientale (Reggio di Calabria)&quot;, &quot;EventType&quot;: &quot;earthquake&quot;, &quot;Latitude&quot;: &quot;37.6537&quot;, &quot;Longitude&quot;: &quot;16.019&quot;, &quot;MagAuthor&quot;: &quot;--&quot;, &quot;MagType&quot;: &quot;ML&quot;, &quot;Magnitude&quot;: &quot;2.4&quot;, &quot;Time&quot;: &quot;2023-07-07T21:09:18.890000&quot;}, &quot;type&quot;: &quot;Feature&quot;}, {&quot;bbox&quot;: [13.5662, 42.9017, 13.5662, 42.9017], &quot;geometry&quot;: {&quot;coordinates&quot;: [13.5662, 42.9017], &quot;type&quot;: &quot;Point&quot;}, &quot;id&quot;: &quot;13&quot;, &quot;properties&quot;: {&quot;Author&quot;: &quot;SURVEY-INGV&quot;, &quot;Catalog&quot;: &quot;&quot;, &quot;Contributor&quot;: &quot;&quot;, &quot;ContributorID&quot;: &quot;&quot;, &quot;Depth/Km&quot;: &quot;10.7&quot;, &quot;EventID&quot;: &quot;35499521&quot;, &quot;EventLocationName&quot;: &quot;5 km N Ascoli Piceno (AP)&quot;, &quot;EventType&quot;: &quot;earthquake&quot;, &quot;Latitude&quot;: &quot;42.9017&quot;, &quot;Longitude&quot;: &quot;13.5662&quot;, &quot;MagAuthor&quot;: &quot;--&quot;, &quot;MagType&quot;: &quot;ML&quot;, &quot;Magnitude&quot;: &quot;2.4&quot;, &quot;Time&quot;: &quot;2023-07-07T19:42:40.080000&quot;}, &quot;type&quot;: &quot;Feature&quot;}, {&quot;bbox&quot;: [15.6733, 37.7072, 15.6733, 37.7072], &quot;geometry&quot;: {&quot;coordinates&quot;: [15.6733, 37.7072], &quot;type&quot;: &quot;Point&quot;}, &quot;id&quot;: &quot;14&quot;, &quot;properties&quot;: {&quot;Author&quot;: &quot;SURVEY-INGV&quot;, &quot;Catalog&quot;: &quot;&quot;, &quot;Contributor&quot;: &quot;&quot;, &quot;ContributorID&quot;: &quot;&quot;, &quot;Depth/Km&quot;: &quot;30.0&quot;, &quot;EventID&quot;: &quot;35499461&quot;, &quot;EventLocationName&quot;: &quot;Mar Ionio Meridionale (MARE)&quot;, &quot;EventType&quot;: &quot;earthquake&quot;, &quot;Latitude&quot;: &quot;37.7072&quot;, &quot;Longitude&quot;: &quot;15.6733&quot;, &quot;MagAuthor&quot;: &quot;--&quot;, &quot;MagType&quot;: &quot;ML&quot;, &quot;Magnitude&quot;: &quot;2.1&quot;, &quot;Time&quot;: &quot;2023-07-07T19:42:10.320000&quot;}, &quot;type&quot;: &quot;Feature&quot;}, {&quot;bbox&quot;: [13.5843, 42.9032, 13.5843, 42.9032], &quot;geometry&quot;: {&quot;coordinates&quot;: [13.5843, 42.9032], &quot;type&quot;: &quot;Point&quot;}, &quot;id&quot;: &quot;15&quot;, &quot;properties&quot;: {&quot;Author&quot;: &quot;SURVEY-INGV&quot;, &quot;Catalog&quot;: &quot;&quot;, &quot;Contributor&quot;: &quot;&quot;, &quot;ContributorID&quot;: &quot;&quot;, &quot;Depth/Km&quot;: &quot;10.6&quot;, &quot;EventID&quot;: &quot;35498791&quot;, &quot;EventLocationName&quot;: &quot;5 km SW Castignano (AP)&quot;, &quot;EventType&quot;: &quot;earthquake&quot;, &quot;Latitude&quot;: &quot;42.9032&quot;, &quot;Longitude&quot;: &quot;13.5843&quot;, &quot;MagAuthor&quot;: &quot;--&quot;, &quot;MagType&quot;: &quot;ML&quot;, &quot;Magnitude&quot;: &quot;2.9&quot;, &quot;Time&quot;: &quot;2023-07-07T19:14:15.480000&quot;}, &quot;type&quot;: &quot;Feature&quot;}, {&quot;bbox&quot;: [14.2977, 37.9147, 14.2977, 37.9147], &quot;geometry&quot;: {&quot;coordinates&quot;: [14.2977, 37.9147], &quot;type&quot;: &quot;Point&quot;}, &quot;id&quot;: &quot;16&quot;, &quot;properties&quot;: {&quot;Author&quot;: &quot;SURVEY-INGV&quot;, &quot;Catalog&quot;: &quot;&quot;, &quot;Contributor&quot;: &quot;&quot;, &quot;ContributorID&quot;: &quot;&quot;, &quot;Depth/Km&quot;: &quot;6.6&quot;, &quot;EventID&quot;: &quot;35497891&quot;, &quot;EventLocationName&quot;: &quot;3 km NW Castel di Lucio (ME)&quot;, &quot;EventType&quot;: &quot;earthquake&quot;, &quot;Latitude&quot;: &quot;37.9147&quot;, &quot;Longitude&quot;: &quot;14.2977&quot;, &quot;MagAuthor&quot;: &quot;--&quot;, &quot;MagType&quot;: &quot;ML&quot;, &quot;Magnitude&quot;: &quot;2.0&quot;, &quot;Time&quot;: &quot;2023-07-07T17:12:37.740000&quot;}, &quot;type&quot;: &quot;Feature&quot;}, {&quot;bbox&quot;: [8.5972, 44.4825, 8.5972, 44.4825], &quot;geometry&quot;: {&quot;coordinates&quot;: [8.5972, 44.4825], &quot;type&quot;: &quot;Point&quot;}, &quot;id&quot;: &quot;17&quot;, &quot;properties&quot;: {&quot;Author&quot;: &quot;SURVEY-INGV&quot;, &quot;Catalog&quot;: &quot;&quot;, &quot;Contributor&quot;: &quot;&quot;, &quot;ContributorID&quot;: &quot;&quot;, &quot;Depth/Km&quot;: &quot;10.7&quot;, &quot;EventID&quot;: &quot;35497551&quot;, &quot;EventLocationName&quot;: &quot;1 km SE Urbe (SV)&quot;, &quot;EventType&quot;: &quot;earthquake&quot;, &quot;Latitude&quot;: &quot;44.4825&quot;, &quot;Longitude&quot;: &quot;8.5972&quot;, &quot;MagAuthor&quot;: &quot;--&quot;, &quot;MagType&quot;: &quot;ML&quot;, &quot;Magnitude&quot;: &quot;2.0&quot;, &quot;Time&quot;: &quot;2023-07-07T16:35:33.500000&quot;}, &quot;type&quot;: &quot;Feature&quot;}, {&quot;bbox&quot;: [12.9257, 41.9547, 12.9257, 41.9547], &quot;geometry&quot;: {&quot;coordinates&quot;: [12.9257, 41.9547], &quot;type&quot;: &quot;Point&quot;}, &quot;id&quot;: &quot;18&quot;, &quot;properties&quot;: {&quot;Author&quot;: &quot;SURVEY-INGV&quot;, &quot;Catalog&quot;: &quot;&quot;, &quot;Contributor&quot;: &quot;&quot;, &quot;ContributorID&quot;: &quot;&quot;, &quot;Depth/Km&quot;: &quot;9.4&quot;, &quot;EventID&quot;: &quot;35494291&quot;, &quot;EventLocationName&quot;: &quot;2 km SW Ciciliano (RM)&quot;, &quot;EventType&quot;: &quot;earthquake&quot;, &quot;Latitude&quot;: &quot;41.9547&quot;, &quot;Longitude&quot;: &quot;12.9257&quot;, &quot;MagAuthor&quot;: &quot;--&quot;, &quot;MagType&quot;: &quot;ML&quot;, &quot;Magnitude&quot;: &quot;2.1&quot;, &quot;Time&quot;: &quot;2023-07-07T09:15:20.420000&quot;}, &quot;type&quot;: &quot;Feature&quot;}, {&quot;bbox&quot;: [15.7545, 40.6647, 15.7545, 40.6647], &quot;geometry&quot;: {&quot;coordinates&quot;: [15.7545, 40.6647], &quot;type&quot;: &quot;Point&quot;}, &quot;id&quot;: &quot;19&quot;, &quot;properties&quot;: {&quot;Author&quot;: &quot;SURVEY-INGV&quot;, &quot;Catalog&quot;: &quot;&quot;, &quot;Contributor&quot;: &quot;&quot;, &quot;ContributorID&quot;: &quot;&quot;, &quot;Depth/Km&quot;: &quot;23.1&quot;, &quot;EventID&quot;: &quot;35492931&quot;, &quot;EventLocationName&quot;: &quot;5 km NW Potenza (PZ)&quot;, &quot;EventType&quot;: &quot;earthquake&quot;, &quot;Latitude&quot;: &quot;40.6647&quot;, &quot;Longitude&quot;: &quot;15.7545&quot;, &quot;MagAuthor&quot;: &quot;--&quot;, &quot;MagType&quot;: &quot;ML&quot;, &quot;Magnitude&quot;: &quot;2.3&quot;, &quot;Time&quot;: &quot;2023-07-07T06:16:41.560000&quot;}, &quot;type&quot;: &quot;Feature&quot;}, {&quot;bbox&quot;: [15.6818, 38.7597, 15.6818, 38.7597], &quot;geometry&quot;: {&quot;coordinates&quot;: [15.6818, 38.7597], &quot;type&quot;: &quot;Point&quot;}, &quot;id&quot;: &quot;20&quot;, &quot;properties&quot;: {&quot;Author&quot;: &quot;SURVEY-INGV&quot;, &quot;Catalog&quot;: &quot;&quot;, &quot;Contributor&quot;: &quot;&quot;, &quot;ContributorID&quot;: &quot;&quot;, &quot;Depth/Km&quot;: &quot;161.5&quot;, &quot;EventID&quot;: &quot;35488431&quot;, &quot;EventLocationName&quot;: &quot;Costa Calabra sud-occidentale (Catanzaro, Vibo Valentia, Reggio di Calabria)&quot;, &quot;EventType&quot;: &quot;earthquake&quot;, &quot;Latitude&quot;: &quot;38.7597&quot;, &quot;Longitude&quot;: &quot;15.6818&quot;, &quot;MagAuthor&quot;: &quot;--&quot;, &quot;MagType&quot;: &quot;ML&quot;, &quot;Magnitude&quot;: &quot;2.2&quot;, &quot;Time&quot;: &quot;2023-07-06T14:47:38.440000&quot;}, &quot;type&quot;: &quot;Feature&quot;}, {&quot;bbox&quot;: [13.5787, 42.8933, 13.5787, 42.8933], &quot;geometry&quot;: {&quot;coordinates&quot;: [13.5787, 42.8933], &quot;type&quot;: &quot;Point&quot;}, &quot;id&quot;: &quot;21&quot;, &quot;properties&quot;: {&quot;Author&quot;: &quot;SURVEY-INGV&quot;, &quot;Catalog&quot;: &quot;&quot;, &quot;Contributor&quot;: &quot;&quot;, &quot;ContributorID&quot;: &quot;&quot;, &quot;Depth/Km&quot;: &quot;14.7&quot;, &quot;EventID&quot;: &quot;35485291&quot;, &quot;EventLocationName&quot;: &quot;4 km N Ascoli Piceno (AP)&quot;, &quot;EventType&quot;: &quot;earthquake&quot;, &quot;Latitude&quot;: &quot;42.8933&quot;, &quot;Longitude&quot;: &quot;13.5787&quot;, &quot;MagAuthor&quot;: &quot;--&quot;, &quot;MagType&quot;: &quot;ML&quot;, &quot;Magnitude&quot;: &quot;2.2&quot;, &quot;Time&quot;: &quot;2023-07-06T07:41:12.930000&quot;}, &quot;type&quot;: &quot;Feature&quot;}, {&quot;bbox&quot;: [14.653, 37.9343, 14.653, 37.9343], &quot;geometry&quot;: {&quot;coordinates&quot;: [14.653, 37.9343], &quot;type&quot;: &quot;Point&quot;}, &quot;id&quot;: &quot;22&quot;, &quot;properties&quot;: {&quot;Author&quot;: &quot;SURVEY-INGV&quot;, &quot;Catalog&quot;: &quot;&quot;, &quot;Contributor&quot;: &quot;&quot;, &quot;ContributorID&quot;: &quot;&quot;, &quot;Depth/Km&quot;: &quot;10.1&quot;, &quot;EventID&quot;: &quot;35483911&quot;, &quot;EventLocationName&quot;: &quot;10 km SE San Fratello (ME)&quot;, &quot;EventType&quot;: &quot;earthquake&quot;, &quot;Latitude&quot;: &quot;37.9343&quot;, &quot;Longitude&quot;: &quot;14.653&quot;, &quot;MagAuthor&quot;: &quot;--&quot;, &quot;MagType&quot;: &quot;ML&quot;, &quot;Magnitude&quot;: &quot;2.0&quot;, &quot;Time&quot;: &quot;2023-07-06T04:43:58.040000&quot;}, &quot;type&quot;: &quot;Feature&quot;}, {&quot;bbox&quot;: [12.7712, 38.5513, 12.7712, 38.5513], &quot;geometry&quot;: {&quot;coordinates&quot;: [12.7712, 38.5513], &quot;type&quot;: &quot;Point&quot;}, &quot;id&quot;: &quot;23&quot;, &quot;properties&quot;: {&quot;Author&quot;: &quot;SURVEY-INGV&quot;, &quot;Catalog&quot;: &quot;&quot;, &quot;Contributor&quot;: &quot;&quot;, &quot;ContributorID&quot;: &quot;&quot;, &quot;Depth/Km&quot;: &quot;10.0&quot;, &quot;EventID&quot;: &quot;35481771&quot;, &quot;EventLocationName&quot;: &quot;Tirreno Meridionale (MARE)&quot;, &quot;EventType&quot;: &quot;earthquake&quot;, &quot;Latitude&quot;: &quot;38.5513&quot;, &quot;Longitude&quot;: &quot;12.7712&quot;, &quot;MagAuthor&quot;: &quot;--&quot;, &quot;MagType&quot;: &quot;ML&quot;, &quot;Magnitude&quot;: &quot;2.0&quot;, &quot;Time&quot;: &quot;2023-07-05T20:36:59.100000&quot;}, &quot;type&quot;: &quot;Feature&quot;}, {&quot;bbox&quot;: [12.9277, 41.9468, 12.9277, 41.9468], &quot;geometry&quot;: {&quot;coordinates&quot;: [12.9277, 41.9468], &quot;type&quot;: &quot;Point&quot;}, &quot;id&quot;: &quot;24&quot;, &quot;properties&quot;: {&quot;Author&quot;: &quot;SURVEY-INGV&quot;, &quot;Catalog&quot;: &quot;&quot;, &quot;Contributor&quot;: &quot;&quot;, &quot;ContributorID&quot;: &quot;&quot;, &quot;Depth/Km&quot;: &quot;9.4&quot;, &quot;EventID&quot;: &quot;35481441&quot;, &quot;EventLocationName&quot;: &quot;2 km SW Ciciliano (RM)&quot;, &quot;EventType&quot;: &quot;earthquake&quot;, &quot;Latitude&quot;: &quot;41.9468&quot;, &quot;Longitude&quot;: &quot;12.9277&quot;, &quot;MagAuthor&quot;: &quot;--&quot;, &quot;MagType&quot;: &quot;ML&quot;, &quot;Magnitude&quot;: &quot;2.2&quot;, &quot;Time&quot;: &quot;2023-07-05T18:49:11.610000&quot;}, &quot;type&quot;: &quot;Feature&quot;}, {&quot;bbox&quot;: [10.3185, 41.0987, 10.3185, 41.0987], &quot;geometry&quot;: {&quot;coordinates&quot;: [10.3185, 41.0987], &quot;type&quot;: &quot;Point&quot;}, &quot;id&quot;: &quot;25&quot;, &quot;properties&quot;: {&quot;Author&quot;: &quot;SURVEY-INGV&quot;, &quot;Catalog&quot;: &quot;&quot;, &quot;Contributor&quot;: &quot;&quot;, &quot;ContributorID&quot;: &quot;&quot;, &quot;Depth/Km&quot;: &quot;24.3&quot;, &quot;EventID&quot;: &quot;35480971&quot;, &quot;EventLocationName&quot;: &quot;Tirreno Centrale (MARE)&quot;, &quot;EventType&quot;: &quot;earthquake&quot;, &quot;Latitude&quot;: &quot;41.0987&quot;, &quot;Longitude&quot;: &quot;10.3185&quot;, &quot;MagAuthor&quot;: &quot;--&quot;, &quot;MagType&quot;: &quot;ML&quot;, &quot;Magnitude&quot;: &quot;2.7&quot;, &quot;Time&quot;: &quot;2023-07-05T17:39:25.600000&quot;}, &quot;type&quot;: &quot;Feature&quot;}, {&quot;bbox&quot;: [14.7622, 37.7965, 14.7622, 37.7965], &quot;geometry&quot;: {&quot;coordinates&quot;: [14.7622, 37.7965], &quot;type&quot;: &quot;Point&quot;}, &quot;id&quot;: &quot;26&quot;, &quot;properties&quot;: {&quot;Author&quot;: &quot;SURVEY-INGV&quot;, &quot;Catalog&quot;: &quot;&quot;, &quot;Contributor&quot;: &quot;&quot;, &quot;ContributorID&quot;: &quot;&quot;, &quot;Depth/Km&quot;: &quot;28.5&quot;, &quot;EventID&quot;: &quot;35479911&quot;, &quot;EventLocationName&quot;: &quot;6 km W Bronte (CT)&quot;, &quot;EventType&quot;: &quot;earthquake&quot;, &quot;Latitude&quot;: &quot;37.7965&quot;, &quot;Longitude&quot;: &quot;14.7622&quot;, &quot;MagAuthor&quot;: &quot;--&quot;, &quot;MagType&quot;: &quot;ML&quot;, &quot;Magnitude&quot;: &quot;2.1&quot;, &quot;Time&quot;: &quot;2023-07-05T15:18:44.080000&quot;}, &quot;type&quot;: &quot;Feature&quot;}, {&quot;bbox&quot;: [12.9328, 41.9522, 12.9328, 41.9522], &quot;geometry&quot;: {&quot;coordinates&quot;: [12.9328, 41.9522], &quot;type&quot;: &quot;Point&quot;}, &quot;id&quot;: &quot;27&quot;, &quot;properties&quot;: {&quot;Author&quot;: &quot;SURVEY-INGV&quot;, &quot;Catalog&quot;: &quot;&quot;, &quot;Contributor&quot;: &quot;&quot;, &quot;ContributorID&quot;: &quot;&quot;, &quot;Depth/Km&quot;: &quot;9.8&quot;, &quot;EventID&quot;: &quot;35478341&quot;, &quot;EventLocationName&quot;: &quot;1 km SW Ciciliano (RM)&quot;, &quot;EventType&quot;: &quot;earthquake&quot;, &quot;Latitude&quot;: &quot;41.9522&quot;, &quot;Longitude&quot;: &quot;12.9328&quot;, &quot;MagAuthor&quot;: &quot;--&quot;, &quot;MagType&quot;: &quot;ML&quot;, &quot;Magnitude&quot;: &quot;2.5&quot;, &quot;Time&quot;: &quot;2023-07-05T12:08:03.830000&quot;}, &quot;type&quot;: &quot;Feature&quot;}, {&quot;bbox&quot;: [14.6617, 37.7413, 14.6617, 37.7413], &quot;geometry&quot;: {&quot;coordinates&quot;: [14.6617, 37.7413], &quot;type&quot;: &quot;Point&quot;}, &quot;id&quot;: &quot;28&quot;, &quot;properties&quot;: {&quot;Author&quot;: &quot;SURVEY-INGV&quot;, &quot;Catalog&quot;: &quot;&quot;, &quot;Contributor&quot;: &quot;&quot;, &quot;ContributorID&quot;: &quot;&quot;, &quot;Depth/Km&quot;: &quot;31.4&quot;, &quot;EventID&quot;: &quot;35478031&quot;, &quot;EventLocationName&quot;: &quot;7 km SE Troina (EN)&quot;, &quot;EventType&quot;: &quot;earthquake&quot;, &quot;Latitude&quot;: &quot;37.7413&quot;, &quot;Longitude&quot;: &quot;14.6617&quot;, &quot;MagAuthor&quot;: &quot;--&quot;, &quot;MagType&quot;: &quot;ML&quot;, &quot;Magnitude&quot;: &quot;2.1&quot;, &quot;Time&quot;: &quot;2023-07-05T11:38:53.320000&quot;}, &quot;type&quot;: &quot;Feature&quot;}, {&quot;bbox&quot;: [16.6083, 39.0818, 16.6083, 39.0818], &quot;geometry&quot;: {&quot;coordinates&quot;: [16.6083, 39.0818], &quot;type&quot;: &quot;Point&quot;}, &quot;id&quot;: &quot;29&quot;, &quot;properties&quot;: {&quot;Author&quot;: &quot;SURVEY-INGV&quot;, &quot;Catalog&quot;: &quot;&quot;, &quot;Contributor&quot;: &quot;&quot;, &quot;ContributorID&quot;: &quot;&quot;, &quot;Depth/Km&quot;: &quot;8.0&quot;, &quot;EventID&quot;: &quot;35477871&quot;, &quot;EventLocationName&quot;: &quot;6 km N Albi (CZ)&quot;, &quot;EventType&quot;: &quot;earthquake&quot;, &quot;Latitude&quot;: &quot;39.0818&quot;, &quot;Longitude&quot;: &quot;16.6083&quot;, &quot;MagAuthor&quot;: &quot;--&quot;, &quot;MagType&quot;: &quot;ML&quot;, &quot;Magnitude&quot;: &quot;2.0&quot;, &quot;Time&quot;: &quot;2023-07-05T11:36:31.730000&quot;}, &quot;type&quot;: &quot;Feature&quot;}, {&quot;bbox&quot;: [16.602, 39.0782, 16.602, 39.0782], &quot;geometry&quot;: {&quot;coordinates&quot;: [16.602, 39.0782], &quot;type&quot;: &quot;Point&quot;}, &quot;id&quot;: &quot;30&quot;, &quot;properties&quot;: {&quot;Author&quot;: &quot;SURVEY-INGV&quot;, &quot;Catalog&quot;: &quot;&quot;, &quot;Contributor&quot;: &quot;&quot;, &quot;ContributorID&quot;: &quot;&quot;, &quot;Depth/Km&quot;: &quot;8.9&quot;, &quot;EventID&quot;: &quot;35477411&quot;, &quot;EventLocationName&quot;: &quot;6 km N Albi (CZ)&quot;, &quot;EventType&quot;: &quot;earthquake&quot;, &quot;Latitude&quot;: &quot;39.0782&quot;, &quot;Longitude&quot;: &quot;16.602&quot;, &quot;MagAuthor&quot;: &quot;--&quot;, &quot;MagType&quot;: &quot;ML&quot;, &quot;Magnitude&quot;: &quot;2.2&quot;, &quot;Time&quot;: &quot;2023-07-05T10:42:20.760000&quot;}, &quot;type&quot;: &quot;Feature&quot;}, {&quot;bbox&quot;: [14.6588, 37.794, 14.6588, 37.794], &quot;geometry&quot;: {&quot;coordinates&quot;: [14.6588, 37.794], &quot;type&quot;: &quot;Point&quot;}, &quot;id&quot;: &quot;31&quot;, &quot;properties&quot;: {&quot;Author&quot;: &quot;SURVEY-INGV&quot;, &quot;Catalog&quot;: &quot;&quot;, &quot;Contributor&quot;: &quot;&quot;, &quot;ContributorID&quot;: &quot;&quot;, &quot;Depth/Km&quot;: &quot;35.9&quot;, &quot;EventID&quot;: &quot;35477321&quot;, &quot;EventLocationName&quot;: &quot;5 km E Troina (EN)&quot;, &quot;EventType&quot;: &quot;earthquake&quot;, &quot;Latitude&quot;: &quot;37.794&quot;, &quot;Longitude&quot;: &quot;14.6588&quot;, &quot;MagAuthor&quot;: &quot;--&quot;, &quot;MagType&quot;: &quot;ML&quot;, &quot;Magnitude&quot;: &quot;2.1&quot;, &quot;Time&quot;: &quot;2023-07-05T10:22:14.070000&quot;}, &quot;type&quot;: &quot;Feature&quot;}, {&quot;bbox&quot;: [14.736, 37.796, 14.736, 37.796], &quot;geometry&quot;: {&quot;coordinates&quot;: [14.736, 37.796], &quot;type&quot;: &quot;Point&quot;}, &quot;id&quot;: &quot;32&quot;, &quot;properties&quot;: {&quot;Author&quot;: &quot;SURVEY-INGV-CT#SeismPicker_SO-OE&quot;, &quot;Catalog&quot;: &quot;&quot;, &quot;Contributor&quot;: &quot;&quot;, &quot;ContributorID&quot;: &quot;&quot;, &quot;Depth/Km&quot;: &quot;30.0&quot;, &quot;EventID&quot;: &quot;35477001&quot;, &quot;EventLocationName&quot;: &quot;6 km SE Cesar\\\\xc3\\\\xb2 (ME)&quot;, &quot;EventType&quot;: &quot;earthquake&quot;, &quot;Latitude&quot;: &quot;37.796&quot;, &quot;Longitude&quot;: &quot;14.736&quot;, &quot;MagAuthor&quot;: &quot;--&quot;, &quot;MagType&quot;: &quot;ML&quot;, &quot;Magnitude&quot;: &quot;2.1&quot;, &quot;Time&quot;: &quot;2023-07-05T10:03:39.660000&quot;}, &quot;type&quot;: &quot;Feature&quot;}, {&quot;bbox&quot;: [14.722, 37.812, 14.722, 37.812], &quot;geometry&quot;: {&quot;coordinates&quot;: [14.722, 37.812], &quot;type&quot;: &quot;Point&quot;}, &quot;id&quot;: &quot;33&quot;, &quot;properties&quot;: {&quot;Author&quot;: &quot;SURVEY-INGV-CT#SeismPicker_SO-OE&quot;, &quot;Catalog&quot;: &quot;&quot;, &quot;Contributor&quot;: &quot;&quot;, &quot;ContributorID&quot;: &quot;&quot;, &quot;Depth/Km&quot;: &quot;20.8&quot;, &quot;EventID&quot;: &quot;35476861&quot;, &quot;EventLocationName&quot;: &quot;4 km S Cesar\\\\xc3\\\\xb2 (ME)&quot;, &quot;EventType&quot;: &quot;earthquake&quot;, &quot;Latitude&quot;: &quot;37.812&quot;, &quot;Longitude&quot;: &quot;14.722&quot;, &quot;MagAuthor&quot;: &quot;--&quot;, &quot;MagType&quot;: &quot;ML&quot;, &quot;Magnitude&quot;: &quot;2.3&quot;, &quot;Time&quot;: &quot;2023-07-05T09:18:32.300000&quot;}, &quot;type&quot;: &quot;Feature&quot;}, {&quot;bbox&quot;: [14.6488, 37.7945, 14.6488, 37.7945], &quot;geometry&quot;: {&quot;coordinates&quot;: [14.6488, 37.7945], &quot;type&quot;: &quot;Point&quot;}, &quot;id&quot;: &quot;34&quot;, &quot;properties&quot;: {&quot;Author&quot;: &quot;SURVEY-INGV&quot;, &quot;Catalog&quot;: &quot;&quot;, &quot;Contributor&quot;: &quot;&quot;, &quot;ContributorID&quot;: &quot;&quot;, &quot;Depth/Km&quot;: &quot;35.9&quot;, &quot;EventID&quot;: &quot;35474781&quot;, &quot;EventLocationName&quot;: &quot;4 km E Troina (EN)&quot;, &quot;EventType&quot;: &quot;earthquake&quot;, &quot;Latitude&quot;: &quot;37.7945&quot;, &quot;Longitude&quot;: &quot;14.6488&quot;, &quot;MagAuthor&quot;: &quot;--&quot;, &quot;MagType&quot;: &quot;ML&quot;, &quot;Magnitude&quot;: &quot;2.1&quot;, &quot;Time&quot;: &quot;2023-07-05T06:00:11.740000&quot;}, &quot;type&quot;: &quot;Feature&quot;}, {&quot;bbox&quot;: [14.705, 37.758, 14.705, 37.758], &quot;geometry&quot;: {&quot;coordinates&quot;: [14.705, 37.758], &quot;type&quot;: &quot;Point&quot;}, &quot;id&quot;: &quot;35&quot;, &quot;properties&quot;: {&quot;Author&quot;: &quot;SURVEY-INGV-CT#SeismPicker_SO-OE&quot;, &quot;Catalog&quot;: &quot;&quot;, &quot;Contributor&quot;: &quot;&quot;, &quot;ContributorID&quot;: &quot;&quot;, &quot;Depth/Km&quot;: &quot;20.8&quot;, &quot;EventID&quot;: &quot;35474481&quot;, &quot;EventLocationName&quot;: &quot;10 km E Troina (EN)&quot;, &quot;EventType&quot;: &quot;earthquake&quot;, &quot;Latitude&quot;: &quot;37.758&quot;, &quot;Longitude&quot;: &quot;14.705&quot;, &quot;MagAuthor&quot;: &quot;--&quot;, &quot;MagType&quot;: &quot;ML&quot;, &quot;Magnitude&quot;: &quot;2.2&quot;, &quot;Time&quot;: &quot;2023-07-05T05:15:22.720000&quot;}, &quot;type&quot;: &quot;Feature&quot;}, {&quot;bbox&quot;: [14.6338, 37.7677, 14.6338, 37.7677], &quot;geometry&quot;: {&quot;coordinates&quot;: [14.6338, 37.7677], &quot;type&quot;: &quot;Point&quot;}, &quot;id&quot;: &quot;36&quot;, &quot;properties&quot;: {&quot;Author&quot;: &quot;SURVEY-INGV&quot;, &quot;Catalog&quot;: &quot;&quot;, &quot;Contributor&quot;: &quot;&quot;, &quot;ContributorID&quot;: &quot;&quot;, &quot;Depth/Km&quot;: &quot;32.7&quot;, &quot;EventID&quot;: &quot;35474001&quot;, &quot;EventLocationName&quot;: &quot;4 km SE Troina (EN)&quot;, &quot;EventType&quot;: &quot;earthquake&quot;, &quot;Latitude&quot;: &quot;37.7677&quot;, &quot;Longitude&quot;: &quot;14.6338&quot;, &quot;MagAuthor&quot;: &quot;--&quot;, &quot;MagType&quot;: &quot;ML&quot;, &quot;Magnitude&quot;: &quot;2.3&quot;, &quot;Time&quot;: &quot;2023-07-05T04:48:40.680000&quot;}, &quot;type&quot;: &quot;Feature&quot;}, {&quot;bbox&quot;: [14.6727, 37.7982, 14.6727, 37.7982], &quot;geometry&quot;: {&quot;coordinates&quot;: [14.6727, 37.7982], &quot;type&quot;: &quot;Point&quot;}, &quot;id&quot;: &quot;37&quot;, &quot;properties&quot;: {&quot;Author&quot;: &quot;SURVEY-INGV&quot;, &quot;Catalog&quot;: &quot;&quot;, &quot;Contributor&quot;: &quot;&quot;, &quot;ContributorID&quot;: &quot;&quot;, &quot;Depth/Km&quot;: &quot;33.0&quot;, &quot;EventID&quot;: &quot;35473661&quot;, &quot;EventLocationName&quot;: &quot;6 km SW San Teodoro (ME)&quot;, &quot;EventType&quot;: &quot;earthquake&quot;, &quot;Latitude&quot;: &quot;37.7982&quot;, &quot;Longitude&quot;: &quot;14.6727&quot;, &quot;MagAuthor&quot;: &quot;--&quot;, &quot;MagType&quot;: &quot;ML&quot;, &quot;Magnitude&quot;: &quot;2.2&quot;, &quot;Time&quot;: &quot;2023-07-05T04:28:21.440000&quot;}, &quot;type&quot;: &quot;Feature&quot;}, {&quot;bbox&quot;: [14.708, 37.76, 14.708, 37.76], &quot;geometry&quot;: {&quot;coordinates&quot;: [14.708, 37.76], &quot;type&quot;: &quot;Point&quot;}, &quot;id&quot;: &quot;38&quot;, &quot;properties&quot;: {&quot;Author&quot;: &quot;SURVEY-INGV-CT#SeismPicker_SO-OE&quot;, &quot;Catalog&quot;: &quot;&quot;, &quot;Contributor&quot;: &quot;&quot;, &quot;ContributorID&quot;: &quot;&quot;, &quot;Depth/Km&quot;: &quot;23.6&quot;, &quot;EventID&quot;: &quot;35473511&quot;, &quot;EventLocationName&quot;: &quot;9 km S Cesar\\\\xc3\\\\xb2 (ME)&quot;, &quot;EventType&quot;: &quot;earthquake&quot;, &quot;Latitude&quot;: &quot;37.76&quot;, &quot;Longitude&quot;: &quot;14.708&quot;, &quot;MagAuthor&quot;: &quot;--&quot;, &quot;MagType&quot;: &quot;ML&quot;, &quot;Magnitude&quot;: &quot;2.0&quot;, &quot;Time&quot;: &quot;2023-07-05T04:11:25.730000&quot;}, &quot;type&quot;: &quot;Feature&quot;}, {&quot;bbox&quot;: [14.712, 37.802, 14.712, 37.802], &quot;geometry&quot;: {&quot;coordinates&quot;: [14.712, 37.802], &quot;type&quot;: &quot;Point&quot;}, &quot;id&quot;: &quot;39&quot;, &quot;properties&quot;: {&quot;Author&quot;: &quot;SURVEY-INGV-CT&quot;, &quot;Catalog&quot;: &quot;&quot;, &quot;Contributor&quot;: &quot;&quot;, &quot;ContributorID&quot;: &quot;&quot;, &quot;Depth/Km&quot;: &quot;22.0&quot;, &quot;EventID&quot;: &quot;35473061&quot;, &quot;EventLocationName&quot;: &quot;5 km S Cesar\\\\xc3\\\\xb2 (ME)&quot;, &quot;EventType&quot;: &quot;earthquake&quot;, &quot;Latitude&quot;: &quot;37.802&quot;, &quot;Longitude&quot;: &quot;14.712&quot;, &quot;MagAuthor&quot;: &quot;--&quot;, &quot;MagType&quot;: &quot;ML&quot;, &quot;Magnitude&quot;: &quot;3.4&quot;, &quot;Time&quot;: &quot;2023-07-05T04:08:44.000000&quot;}, &quot;type&quot;: &quot;Feature&quot;}, {&quot;bbox&quot;: [14.746, 37.81, 14.746, 37.81], &quot;geometry&quot;: {&quot;coordinates&quot;: [14.746, 37.81], &quot;type&quot;: &quot;Point&quot;}, &quot;id&quot;: &quot;40&quot;, &quot;properties&quot;: {&quot;Author&quot;: &quot;SURVEY-INGV-CT&quot;, &quot;Catalog&quot;: &quot;&quot;, &quot;Contributor&quot;: &quot;&quot;, &quot;ContributorID&quot;: &quot;&quot;, &quot;Depth/Km&quot;: &quot;18.7&quot;, &quot;EventID&quot;: &quot;35473031&quot;, &quot;EventLocationName&quot;: &quot;5 km SE Cesar\\\\xc3\\\\xb2 (ME)&quot;, &quot;EventType&quot;: &quot;earthquake&quot;, &quot;Latitude&quot;: &quot;37.81&quot;, &quot;Longitude&quot;: &quot;14.746&quot;, &quot;MagAuthor&quot;: &quot;--&quot;, &quot;MagType&quot;: &quot;Mw&quot;, &quot;Magnitude&quot;: &quot;4.0&quot;, &quot;Time&quot;: &quot;2023-07-05T04:07:10.000000&quot;}, &quot;type&quot;: &quot;Feature&quot;}, {&quot;bbox&quot;: [15.6337, 39.3043, 15.6337, 39.3043], &quot;geometry&quot;: {&quot;coordinates&quot;: [15.6337, 39.3043], &quot;type&quot;: &quot;Point&quot;}, &quot;id&quot;: &quot;41&quot;, &quot;properties&quot;: {&quot;Author&quot;: &quot;SURVEY-INGV&quot;, &quot;Catalog&quot;: &quot;&quot;, &quot;Contributor&quot;: &quot;&quot;, &quot;ContributorID&quot;: &quot;&quot;, &quot;Depth/Km&quot;: &quot;256.9&quot;, &quot;EventID&quot;: &quot;35471851&quot;, &quot;EventLocationName&quot;: &quot;Costa Calabra nord-occidentale (Cosenza)&quot;, &quot;EventType&quot;: &quot;earthquake&quot;, &quot;Latitude&quot;: &quot;39.3043&quot;, &quot;Longitude&quot;: &quot;15.6337&quot;, &quot;MagAuthor&quot;: &quot;--&quot;, &quot;MagType&quot;: &quot;ML&quot;, &quot;Magnitude&quot;: &quot;3.3&quot;, &quot;Time&quot;: &quot;2023-07-04T19:56:27.390000&quot;}, &quot;type&quot;: &quot;Feature&quot;}, {&quot;bbox&quot;: [10.7157, 44.5037, 10.7157, 44.5037], &quot;geometry&quot;: {&quot;coordinates&quot;: [10.7157, 44.5037], &quot;type&quot;: &quot;Point&quot;}, &quot;id&quot;: &quot;42&quot;, &quot;properties&quot;: {&quot;Author&quot;: &quot;SURVEY-INGV&quot;, &quot;Catalog&quot;: &quot;&quot;, &quot;Contributor&quot;: &quot;&quot;, &quot;ContributorID&quot;: &quot;&quot;, &quot;Depth/Km&quot;: &quot;23.1&quot;, &quot;EventID&quot;: &quot;35469361&quot;, &quot;EventLocationName&quot;: &quot;1 km SW Castellarano (RE)&quot;, &quot;EventType&quot;: &quot;earthquake&quot;, &quot;Latitude&quot;: &quot;44.5037&quot;, &quot;Longitude&quot;: &quot;10.7157&quot;, &quot;MagAuthor&quot;: &quot;--&quot;, &quot;MagType&quot;: &quot;ML&quot;, &quot;Magnitude&quot;: &quot;2.6&quot;, &quot;Time&quot;: &quot;2023-07-04T15:26:54.410000&quot;}, &quot;type&quot;: &quot;Feature&quot;}, {&quot;bbox&quot;: [10.7327, 44.5217, 10.7327, 44.5217], &quot;geometry&quot;: {&quot;coordinates&quot;: [10.7327, 44.5217], &quot;type&quot;: &quot;Point&quot;}, &quot;id&quot;: &quot;43&quot;, &quot;properties&quot;: {&quot;Author&quot;: &quot;SURVEY-INGV&quot;, &quot;Catalog&quot;: &quot;&quot;, &quot;Contributor&quot;: &quot;&quot;, &quot;ContributorID&quot;: &quot;&quot;, &quot;Depth/Km&quot;: &quot;22.3&quot;, &quot;EventID&quot;: &quot;35466151&quot;, &quot;EventLocationName&quot;: &quot;1 km N Castellarano (RE)&quot;, &quot;EventType&quot;: &quot;earthquake&quot;, &quot;Latitude&quot;: &quot;44.5217&quot;, &quot;Longitude&quot;: &quot;10.7327&quot;, &quot;MagAuthor&quot;: &quot;--&quot;, &quot;MagType&quot;: &quot;ML&quot;, &quot;Magnitude&quot;: &quot;2.2&quot;, &quot;Time&quot;: &quot;2023-07-04T10:29:59.440000&quot;}, &quot;type&quot;: &quot;Feature&quot;}, {&quot;bbox&quot;: [10.7108, 44.4795, 10.7108, 44.4795], &quot;geometry&quot;: {&quot;coordinates&quot;: [10.7108, 44.4795], &quot;type&quot;: &quot;Point&quot;}, &quot;id&quot;: &quot;44&quot;, &quot;properties&quot;: {&quot;Author&quot;: &quot;SURVEY-INGV&quot;, &quot;Catalog&quot;: &quot;&quot;, &quot;Contributor&quot;: &quot;&quot;, &quot;ContributorID&quot;: &quot;&quot;, &quot;Depth/Km&quot;: &quot;28.4&quot;, &quot;EventID&quot;: &quot;35465781&quot;, &quot;EventLocationName&quot;: &quot;4 km SW Castellarano (RE)&quot;, &quot;EventType&quot;: &quot;earthquake&quot;, &quot;Latitude&quot;: &quot;44.4795&quot;, &quot;Longitude&quot;: &quot;10.7108&quot;, &quot;MagAuthor&quot;: &quot;--&quot;, &quot;MagType&quot;: &quot;ML&quot;, &quot;Magnitude&quot;: &quot;2.4&quot;, &quot;Time&quot;: &quot;2023-07-04T09:37:28.790000&quot;}, &quot;type&quot;: &quot;Feature&quot;}, {&quot;bbox&quot;: [10.7337, 44.459, 10.7337, 44.459], &quot;geometry&quot;: {&quot;coordinates&quot;: [10.7337, 44.459], &quot;type&quot;: &quot;Point&quot;}, &quot;id&quot;: &quot;45&quot;, &quot;properties&quot;: {&quot;Author&quot;: &quot;SURVEY-INGV&quot;, &quot;Catalog&quot;: &quot;&quot;, &quot;Contributor&quot;: &quot;&quot;, &quot;ContributorID&quot;: &quot;&quot;, &quot;Depth/Km&quot;: &quot;28.7&quot;, &quot;EventID&quot;: &quot;35465571&quot;, &quot;EventLocationName&quot;: &quot;4 km NE Prignano sulla Secchia (MO)&quot;, &quot;EventType&quot;: &quot;earthquake&quot;, &quot;Latitude&quot;: &quot;44.459&quot;, &quot;Longitude&quot;: &quot;10.7337&quot;, &quot;MagAuthor&quot;: &quot;--&quot;, &quot;MagType&quot;: &quot;ML&quot;, &quot;Magnitude&quot;: &quot;3.0&quot;, &quot;Time&quot;: &quot;2023-07-04T09:23:58.950000&quot;}, &quot;type&quot;: &quot;Feature&quot;}, {&quot;bbox&quot;: [10.6997, 44.5222, 10.6997, 44.5222], &quot;geometry&quot;: {&quot;coordinates&quot;: [10.6997, 44.5222], &quot;type&quot;: &quot;Point&quot;}, &quot;id&quot;: &quot;46&quot;, &quot;properties&quot;: {&quot;Author&quot;: &quot;SURVEY-INGV&quot;, &quot;Catalog&quot;: &quot;&quot;, &quot;Contributor&quot;: &quot;&quot;, &quot;ContributorID&quot;: &quot;&quot;, &quot;Depth/Km&quot;: &quot;22.1&quot;, &quot;EventID&quot;: &quot;35465521&quot;, &quot;EventLocationName&quot;: &quot;3 km W Castellarano (RE)&quot;, &quot;EventType&quot;: &quot;earthquake&quot;, &quot;Latitude&quot;: &quot;44.5222&quot;, &quot;Longitude&quot;: &quot;10.6997&quot;, &quot;MagAuthor&quot;: &quot;--&quot;, &quot;MagType&quot;: &quot;ML&quot;, &quot;Magnitude&quot;: &quot;2.0&quot;, &quot;Time&quot;: &quot;2023-07-04T09:21:47.120000&quot;}, &quot;type&quot;: &quot;Feature&quot;}, {&quot;bbox&quot;: [14.3462, 38.7843, 14.3462, 38.7843], &quot;geometry&quot;: {&quot;coordinates&quot;: [14.3462, 38.7843], &quot;type&quot;: &quot;Point&quot;}, &quot;id&quot;: &quot;47&quot;, &quot;properties&quot;: {&quot;Author&quot;: &quot;SURVEY-INGV&quot;, &quot;Catalog&quot;: &quot;&quot;, &quot;Contributor&quot;: &quot;&quot;, &quot;ContributorID&quot;: &quot;&quot;, &quot;Depth/Km&quot;: &quot;312.4&quot;, &quot;EventID&quot;: &quot;35462711&quot;, &quot;EventLocationName&quot;: &quot;Tirreno Meridionale (MARE)&quot;, &quot;EventType&quot;: &quot;earthquake&quot;, &quot;Latitude&quot;: &quot;38.7843&quot;, &quot;Longitude&quot;: &quot;14.3462&quot;, &quot;MagAuthor&quot;: &quot;--&quot;, &quot;MagType&quot;: &quot;ML&quot;, &quot;Magnitude&quot;: &quot;3.0&quot;, &quot;Time&quot;: &quot;2023-07-04T00:00:34.580000&quot;}, &quot;type&quot;: &quot;Feature&quot;}, {&quot;bbox&quot;: [14.1792, 38.642, 14.1792, 38.642], &quot;geometry&quot;: {&quot;coordinates&quot;: [14.1792, 38.642], &quot;type&quot;: &quot;Point&quot;}, &quot;id&quot;: &quot;48&quot;, &quot;properties&quot;: {&quot;Author&quot;: &quot;SURVEY-INGV&quot;, &quot;Catalog&quot;: &quot;&quot;, &quot;Contributor&quot;: &quot;&quot;, &quot;ContributorID&quot;: &quot;&quot;, &quot;Depth/Km&quot;: &quot;10.0&quot;, &quot;EventID&quot;: &quot;35461581&quot;, &quot;EventLocationName&quot;: &quot;Tirreno Meridionale (MARE)&quot;, &quot;EventType&quot;: &quot;earthquake&quot;, &quot;Latitude&quot;: &quot;38.642&quot;, &quot;Longitude&quot;: &quot;14.1792&quot;, &quot;MagAuthor&quot;: &quot;--&quot;, &quot;MagType&quot;: &quot;ML&quot;, &quot;Magnitude&quot;: &quot;2.5&quot;, &quot;Time&quot;: &quot;2023-07-03T19:22:38.840000&quot;}, &quot;type&quot;: &quot;Feature&quot;}, {&quot;bbox&quot;: [15.8728, 40.2453, 15.8728, 40.2453], &quot;geometry&quot;: {&quot;coordinates&quot;: [15.8728, 40.2453], &quot;type&quot;: &quot;Point&quot;}, &quot;id&quot;: &quot;49&quot;, &quot;properties&quot;: {&quot;Author&quot;: &quot;SURVEY-INGV&quot;, &quot;Catalog&quot;: &quot;&quot;, &quot;Contributor&quot;: &quot;&quot;, &quot;ContributorID&quot;: &quot;&quot;, &quot;Depth/Km&quot;: &quot;9.9&quot;, &quot;EventID&quot;: &quot;35456831&quot;, &quot;EventLocationName&quot;: &quot;Moliterno (PZ)&quot;, &quot;EventType&quot;: &quot;earthquake&quot;, &quot;Latitude&quot;: &quot;40.2453&quot;, &quot;Longitude&quot;: &quot;15.8728&quot;, &quot;MagAuthor&quot;: &quot;--&quot;, &quot;MagType&quot;: &quot;ML&quot;, &quot;Magnitude&quot;: &quot;2.0&quot;, &quot;Time&quot;: &quot;2023-07-03T07:59:20.060000&quot;}, &quot;type&quot;: &quot;Feature&quot;}, {&quot;bbox&quot;: [15.8683, 40.2432, 15.8683, 40.2432], &quot;geometry&quot;: {&quot;coordinates&quot;: [15.8683, 40.2432], &quot;type&quot;: &quot;Point&quot;}, &quot;id&quot;: &quot;50&quot;, &quot;properties&quot;: {&quot;Author&quot;: &quot;SURVEY-INGV&quot;, &quot;Catalog&quot;: &quot;&quot;, &quot;Contributor&quot;: &quot;&quot;, &quot;ContributorID&quot;: &quot;&quot;, &quot;Depth/Km&quot;: &quot;9.8&quot;, &quot;EventID&quot;: &quot;35456441&quot;, &quot;EventLocationName&quot;: &quot;Moliterno (PZ)&quot;, &quot;EventType&quot;: &quot;earthquake&quot;, &quot;Latitude&quot;: &quot;40.2432&quot;, &quot;Longitude&quot;: &quot;15.8683&quot;, &quot;MagAuthor&quot;: &quot;--&quot;, &quot;MagType&quot;: &quot;Mw&quot;, &quot;Magnitude&quot;: &quot;3.3&quot;, &quot;Time&quot;: &quot;2023-07-03T07:36:10.040000&quot;}, &quot;type&quot;: &quot;Feature&quot;}, {&quot;bbox&quot;: [15.8665, 40.2392, 15.8665, 40.2392], &quot;geometry&quot;: {&quot;coordinates&quot;: [15.8665, 40.2392], &quot;type&quot;: &quot;Point&quot;}, &quot;id&quot;: &quot;51&quot;, &quot;properties&quot;: {&quot;Author&quot;: &quot;SURVEY-INGV&quot;, &quot;Catalog&quot;: &quot;&quot;, &quot;Contributor&quot;: &quot;&quot;, &quot;ContributorID&quot;: &quot;&quot;, &quot;Depth/Km&quot;: &quot;9.1&quot;, &quot;EventID&quot;: &quot;35455551&quot;, &quot;EventLocationName&quot;: &quot;1 km SW Moliterno (PZ)&quot;, &quot;EventType&quot;: &quot;earthquake&quot;, &quot;Latitude&quot;: &quot;40.2392&quot;, &quot;Longitude&quot;: &quot;15.8665&quot;, &quot;MagAuthor&quot;: &quot;--&quot;, &quot;MagType&quot;: &quot;ML&quot;, &quot;Magnitude&quot;: &quot;2.7&quot;, &quot;Time&quot;: &quot;2023-07-03T05:18:41.400000&quot;}, &quot;type&quot;: &quot;Feature&quot;}, {&quot;bbox&quot;: [15.85, 40.2452, 15.85, 40.2452], &quot;geometry&quot;: {&quot;coordinates&quot;: [15.85, 40.2452], &quot;type&quot;: &quot;Point&quot;}, &quot;id&quot;: &quot;52&quot;, &quot;properties&quot;: {&quot;Author&quot;: &quot;SURVEY-INGV&quot;, &quot;Catalog&quot;: &quot;&quot;, &quot;Contributor&quot;: &quot;&quot;, &quot;ContributorID&quot;: &quot;&quot;, &quot;Depth/Km&quot;: &quot;9.6&quot;, &quot;EventID&quot;: &quot;35455431&quot;, &quot;EventLocationName&quot;: &quot;2 km W Moliterno (PZ)&quot;, &quot;EventType&quot;: &quot;earthquake&quot;, &quot;Latitude&quot;: &quot;40.2452&quot;, &quot;Longitude&quot;: &quot;15.85&quot;, &quot;MagAuthor&quot;: &quot;--&quot;, &quot;MagType&quot;: &quot;ML&quot;, &quot;Magnitude&quot;: &quot;2.2&quot;, &quot;Time&quot;: &quot;2023-07-03T05:16:26.490000&quot;}, &quot;type&quot;: &quot;Feature&quot;}, {&quot;bbox&quot;: [15.8512, 40.2348, 15.8512, 40.2348], &quot;geometry&quot;: {&quot;coordinates&quot;: [15.8512, 40.2348], &quot;type&quot;: &quot;Point&quot;}, &quot;id&quot;: &quot;53&quot;, &quot;properties&quot;: {&quot;Author&quot;: &quot;SURVEY-INGV&quot;, &quot;Catalog&quot;: &quot;&quot;, &quot;Contributor&quot;: &quot;&quot;, &quot;ContributorID&quot;: &quot;&quot;, &quot;Depth/Km&quot;: &quot;8.9&quot;, &quot;EventID&quot;: &quot;35455091&quot;, &quot;EventLocationName&quot;: &quot;2 km SW Moliterno (PZ)&quot;, &quot;EventType&quot;: &quot;earthquake&quot;, &quot;Latitude&quot;: &quot;40.2348&quot;, &quot;Longitude&quot;: &quot;15.8512&quot;, &quot;MagAuthor&quot;: &quot;--&quot;, &quot;MagType&quot;: &quot;ML&quot;, &quot;Magnitude&quot;: &quot;2.0&quot;, &quot;Time&quot;: &quot;2023-07-03T04:37:00.430000&quot;}, &quot;type&quot;: &quot;Feature&quot;}, {&quot;bbox&quot;: [10.2728, 44.7505, 10.2728, 44.7505], &quot;geometry&quot;: {&quot;coordinates&quot;: [10.2728, 44.7505], &quot;type&quot;: &quot;Point&quot;}, &quot;id&quot;: &quot;54&quot;, &quot;properties&quot;: {&quot;Author&quot;: &quot;SURVEY-INGV&quot;, &quot;Catalog&quot;: &quot;&quot;, &quot;Contributor&quot;: &quot;&quot;, &quot;ContributorID&quot;: &quot;&quot;, &quot;Depth/Km&quot;: &quot;17.9&quot;, &quot;EventID&quot;: &quot;35454461&quot;, &quot;EventLocationName&quot;: &quot;4 km E Collecchio (PR)&quot;, &quot;EventType&quot;: &quot;earthquake&quot;, &quot;Latitude&quot;: &quot;44.7505&quot;, &quot;Longitude&quot;: &quot;10.2728&quot;, &quot;MagAuthor&quot;: &quot;--&quot;, &quot;MagType&quot;: &quot;ML&quot;, &quot;Magnitude&quot;: &quot;2.0&quot;, &quot;Time&quot;: &quot;2023-07-03T01:14:20.390000&quot;}, &quot;type&quot;: &quot;Feature&quot;}, {&quot;bbox&quot;: [10.3302, 44.7258, 10.3302, 44.7258], &quot;geometry&quot;: {&quot;coordinates&quot;: [10.3302, 44.7258], &quot;type&quot;: &quot;Point&quot;}, &quot;id&quot;: &quot;55&quot;, &quot;properties&quot;: {&quot;Author&quot;: &quot;SURVEY-INGV&quot;, &quot;Catalog&quot;: &quot;&quot;, &quot;Contributor&quot;: &quot;&quot;, &quot;ContributorID&quot;: &quot;&quot;, &quot;Depth/Km&quot;: &quot;16.8&quot;, &quot;EventID&quot;: &quot;35454001&quot;, &quot;EventLocationName&quot;: &quot;8 km E Felino (PR)&quot;, &quot;EventType&quot;: &quot;earthquake&quot;, &quot;Latitude&quot;: &quot;44.7258&quot;, &quot;Longitude&quot;: &quot;10.3302&quot;, &quot;MagAuthor&quot;: &quot;--&quot;, &quot;MagType&quot;: &quot;ML&quot;, &quot;Magnitude&quot;: &quot;3.2&quot;, &quot;Time&quot;: &quot;2023-07-02T23:36:43.870000&quot;}, &quot;type&quot;: &quot;Feature&quot;}, {&quot;bbox&quot;: [10.3555, 44.7213, 10.3555, 44.7213], &quot;geometry&quot;: {&quot;coordinates&quot;: [10.3555, 44.7213], &quot;type&quot;: &quot;Point&quot;}, &quot;id&quot;: &quot;56&quot;, &quot;properties&quot;: {&quot;Author&quot;: &quot;SURVEY-INGV&quot;, &quot;Catalog&quot;: &quot;&quot;, &quot;Contributor&quot;: &quot;&quot;, &quot;ContributorID&quot;: &quot;&quot;, &quot;Depth/Km&quot;: &quot;15.1&quot;, &quot;EventID&quot;: &quot;35453831&quot;, &quot;EventLocationName&quot;: &quot;6 km W Montechiarugolo (PR)&quot;, &quot;EventType&quot;: &quot;earthquake&quot;, &quot;Latitude&quot;: &quot;44.7213&quot;, &quot;Longitude&quot;: &quot;10.3555&quot;, &quot;MagAuthor&quot;: &quot;--&quot;, &quot;MagType&quot;: &quot;ML&quot;, &quot;Magnitude&quot;: &quot;3.2&quot;, &quot;Time&quot;: &quot;2023-07-02T23:10:33.570000&quot;}, &quot;type&quot;: &quot;Feature&quot;}, {&quot;bbox&quot;: [16.5545, 37.5172, 16.5545, 37.5172], &quot;geometry&quot;: {&quot;coordinates&quot;: [16.5545, 37.5172], &quot;type&quot;: &quot;Point&quot;}, &quot;id&quot;: &quot;57&quot;, &quot;properties&quot;: {&quot;Author&quot;: &quot;SURVEY-INGV&quot;, &quot;Catalog&quot;: &quot;&quot;, &quot;Contributor&quot;: &quot;&quot;, &quot;ContributorID&quot;: &quot;&quot;, &quot;Depth/Km&quot;: &quot;31.7&quot;, &quot;EventID&quot;: &quot;35451171&quot;, &quot;EventLocationName&quot;: &quot;Mar Ionio Meridionale (MARE)&quot;, &quot;EventType&quot;: &quot;earthquake&quot;, &quot;Latitude&quot;: &quot;37.5172&quot;, &quot;Longitude&quot;: &quot;16.5545&quot;, &quot;MagAuthor&quot;: &quot;--&quot;, &quot;MagType&quot;: &quot;ML&quot;, &quot;Magnitude&quot;: &quot;2.2&quot;, &quot;Time&quot;: &quot;2023-07-02T14:11:57.770000&quot;}, &quot;type&quot;: &quot;Feature&quot;}, {&quot;bbox&quot;: [13.7188, 38.1587, 13.7188, 38.1587], &quot;geometry&quot;: {&quot;coordinates&quot;: [13.7188, 38.1587], &quot;type&quot;: &quot;Point&quot;}, &quot;id&quot;: &quot;58&quot;, &quot;properties&quot;: {&quot;Author&quot;: &quot;SURVEY-INGV&quot;, &quot;Catalog&quot;: &quot;&quot;, &quot;Contributor&quot;: &quot;&quot;, &quot;ContributorID&quot;: &quot;&quot;, &quot;Depth/Km&quot;: &quot;10.3&quot;, &quot;EventID&quot;: &quot;35450621&quot;, &quot;EventLocationName&quot;: &quot;Costa Siciliana centro-settentrionale (Palermo)&quot;, &quot;EventType&quot;: &quot;earthquake&quot;, &quot;Latitude&quot;: &quot;38.1587&quot;, &quot;Longitude&quot;: &quot;13.7188&quot;, &quot;MagAuthor&quot;: &quot;--&quot;, &quot;MagType&quot;: &quot;ML&quot;, &quot;Magnitude&quot;: &quot;2.0&quot;, &quot;Time&quot;: &quot;2023-07-02T12:33:00.940000&quot;}, &quot;type&quot;: &quot;Feature&quot;}, {&quot;bbox&quot;: [7.8362, 42.7398, 7.8362, 42.7398], &quot;geometry&quot;: {&quot;coordinates&quot;: [7.8362, 42.7398], &quot;type&quot;: &quot;Point&quot;}, &quot;id&quot;: &quot;59&quot;, &quot;properties&quot;: {&quot;Author&quot;: &quot;SURVEY-INGV&quot;, &quot;Catalog&quot;: &quot;&quot;, &quot;Contributor&quot;: &quot;&quot;, &quot;ContributorID&quot;: &quot;&quot;, &quot;Depth/Km&quot;: &quot;11.0&quot;, &quot;EventID&quot;: &quot;35450391&quot;, &quot;EventLocationName&quot;: &quot;Mare di Corsica (MARE)&quot;, &quot;EventType&quot;: &quot;earthquake&quot;, &quot;Latitude&quot;: &quot;42.7398&quot;, &quot;Longitude&quot;: &quot;7.8362&quot;, &quot;MagAuthor&quot;: &quot;--&quot;, &quot;MagType&quot;: &quot;ML&quot;, &quot;Magnitude&quot;: &quot;2.4&quot;, &quot;Time&quot;: &quot;2023-07-02T11:54:23.650000&quot;}, &quot;type&quot;: &quot;Feature&quot;}, {&quot;bbox&quot;: [13.7213, 41.6977, 13.7213, 41.6977], &quot;geometry&quot;: {&quot;coordinates&quot;: [13.7213, 41.6977], &quot;type&quot;: &quot;Point&quot;}, &quot;id&quot;: &quot;60&quot;, &quot;properties&quot;: {&quot;Author&quot;: &quot;SURVEY-INGV&quot;, &quot;Catalog&quot;: &quot;&quot;, &quot;Contributor&quot;: &quot;&quot;, &quot;ContributorID&quot;: &quot;&quot;, &quot;Depth/Km&quot;: &quot;8.9&quot;, &quot;EventID&quot;: &quot;35450081&quot;, &quot;EventLocationName&quot;: &quot;2 km E Posta Fibreno (FR)&quot;, &quot;EventType&quot;: &quot;earthquake&quot;, &quot;Latitude&quot;: &quot;41.6977&quot;, &quot;Longitude&quot;: &quot;13.7213&quot;, &quot;MagAuthor&quot;: &quot;--&quot;, &quot;MagType&quot;: &quot;ML&quot;, &quot;Magnitude&quot;: &quot;2.7&quot;, &quot;Time&quot;: &quot;2023-07-02T11:13:07.280000&quot;}, &quot;type&quot;: &quot;Feature&quot;}, {&quot;bbox&quot;: [16.3628, 38.4362, 16.3628, 38.4362], &quot;geometry&quot;: {&quot;coordinates&quot;: [16.3628, 38.4362], &quot;type&quot;: &quot;Point&quot;}, &quot;id&quot;: &quot;61&quot;, &quot;properties&quot;: {&quot;Author&quot;: &quot;SURVEY-INGV&quot;, &quot;Catalog&quot;: &quot;&quot;, &quot;Contributor&quot;: &quot;&quot;, &quot;ContributorID&quot;: &quot;&quot;, &quot;Depth/Km&quot;: &quot;19.6&quot;, &quot;EventID&quot;: &quot;35447521&quot;, &quot;EventLocationName&quot;: &quot;5 km SE Nardodipace (VV)&quot;, &quot;EventType&quot;: &quot;earthquake&quot;, &quot;Latitude&quot;: &quot;38.4362&quot;, &quot;Longitude&quot;: &quot;16.3628&quot;, &quot;MagAuthor&quot;: &quot;--&quot;, &quot;MagType&quot;: &quot;ML&quot;, &quot;Magnitude&quot;: &quot;2.5&quot;, &quot;Time&quot;: &quot;2023-07-02T03:56:27.340000&quot;}, &quot;type&quot;: &quot;Feature&quot;}, {&quot;bbox&quot;: [12.4025, 46.3777, 12.4025, 46.3777], &quot;geometry&quot;: {&quot;coordinates&quot;: [12.4025, 46.3777], &quot;type&quot;: &quot;Point&quot;}, &quot;id&quot;: &quot;62&quot;, &quot;properties&quot;: {&quot;Author&quot;: &quot;SURVEY-INGV&quot;, &quot;Catalog&quot;: &quot;&quot;, &quot;Contributor&quot;: &quot;&quot;, &quot;ContributorID&quot;: &quot;&quot;, &quot;Depth/Km&quot;: &quot;8.3&quot;, &quot;EventID&quot;: &quot;35446841&quot;, &quot;EventLocationName&quot;: &quot;4 km SE Perarolo di Cadore (BL)&quot;, &quot;EventType&quot;: &quot;earthquake&quot;, &quot;Latitude&quot;: &quot;46.3777&quot;, &quot;Longitude&quot;: &quot;12.4025&quot;, &quot;MagAuthor&quot;: &quot;--&quot;, &quot;MagType&quot;: &quot;ML&quot;, &quot;Magnitude&quot;: &quot;2.1&quot;, &quot;Time&quot;: &quot;2023-07-02T00:22:59.390000&quot;}, &quot;type&quot;: &quot;Feature&quot;}, {&quot;bbox&quot;: [13.6045, 42.7837, 13.6045, 42.7837], &quot;geometry&quot;: {&quot;coordinates&quot;: [13.6045, 42.7837], &quot;type&quot;: &quot;Point&quot;}, &quot;id&quot;: &quot;63&quot;, &quot;properties&quot;: {&quot;Author&quot;: &quot;SURVEY-INGV&quot;, &quot;Catalog&quot;: &quot;&quot;, &quot;Contributor&quot;: &quot;&quot;, &quot;ContributorID&quot;: &quot;&quot;, &quot;Depth/Km&quot;: &quot;10.9&quot;, &quot;EventID&quot;: &quot;35446331&quot;, &quot;EventLocationName&quot;: &quot;5 km SW Folignano (AP)&quot;, &quot;EventType&quot;: &quot;earthquake&quot;, &quot;Latitude&quot;: &quot;42.7837&quot;, &quot;Longitude&quot;: &quot;13.6045&quot;, &quot;MagAuthor&quot;: &quot;--&quot;, &quot;MagType&quot;: &quot;ML&quot;, &quot;Magnitude&quot;: &quot;2.0&quot;, &quot;Time&quot;: &quot;2023-07-01T21:37:19.090000&quot;}, &quot;type&quot;: &quot;Feature&quot;}, {&quot;bbox&quot;: [10.7463, 44.5132, 10.7463, 44.5132], &quot;geometry&quot;: {&quot;coordinates&quot;: [10.7463, 44.5132], &quot;type&quot;: &quot;Point&quot;}, &quot;id&quot;: &quot;64&quot;, &quot;properties&quot;: {&quot;Author&quot;: &quot;SURVEY-INGV&quot;, &quot;Catalog&quot;: &quot;&quot;, &quot;Contributor&quot;: &quot;&quot;, &quot;ContributorID&quot;: &quot;&quot;, &quot;Depth/Km&quot;: &quot;9.8&quot;, &quot;EventID&quot;: &quot;35443951&quot;, &quot;EventLocationName&quot;: &quot;1 km E Castellarano (RE)&quot;, &quot;EventType&quot;: &quot;earthquake&quot;, &quot;Latitude&quot;: &quot;44.5132&quot;, &quot;Longitude&quot;: &quot;10.7463&quot;, &quot;MagAuthor&quot;: &quot;--&quot;, &quot;MagType&quot;: &quot;ML&quot;, &quot;Magnitude&quot;: &quot;2.3&quot;, &quot;Time&quot;: &quot;2023-07-01T14:48:24.280000&quot;}, &quot;type&quot;: &quot;Feature&quot;}, {&quot;bbox&quot;: [10.7557, 44.4965, 10.7557, 44.4965], &quot;geometry&quot;: {&quot;coordinates&quot;: [10.7557, 44.4965], &quot;type&quot;: &quot;Point&quot;}, &quot;id&quot;: &quot;65&quot;, &quot;properties&quot;: {&quot;Author&quot;: &quot;SURVEY-INGV&quot;, &quot;Catalog&quot;: &quot;&quot;, &quot;Contributor&quot;: &quot;&quot;, &quot;ContributorID&quot;: &quot;&quot;, &quot;Depth/Km&quot;: &quot;9.7&quot;, &quot;EventID&quot;: &quot;35443631&quot;, &quot;EventLocationName&quot;: &quot;2 km SE Castellarano (RE)&quot;, &quot;EventType&quot;: &quot;earthquake&quot;, &quot;Latitude&quot;: &quot;44.4965&quot;, &quot;Longitude&quot;: &quot;10.7557&quot;, &quot;MagAuthor&quot;: &quot;--&quot;, &quot;MagType&quot;: &quot;ML&quot;, &quot;Magnitude&quot;: &quot;3.0&quot;, &quot;Time&quot;: &quot;2023-07-01T14:47:16.070000&quot;}, &quot;type&quot;: &quot;Feature&quot;}, {&quot;bbox&quot;: [15.9332, 40.593, 15.9332, 40.593], &quot;geometry&quot;: {&quot;coordinates&quot;: [15.9332, 40.593], &quot;type&quot;: &quot;Point&quot;}, &quot;id&quot;: &quot;66&quot;, &quot;properties&quot;: {&quot;Author&quot;: &quot;SURVEY-INGV&quot;, &quot;Catalog&quot;: &quot;&quot;, &quot;Contributor&quot;: &quot;&quot;, &quot;ContributorID&quot;: &quot;&quot;, &quot;Depth/Km&quot;: &quot;19.6&quot;, &quot;EventID&quot;: &quot;35441881&quot;, &quot;EventLocationName&quot;: &quot;2 km SW Brindisi Montagna (PZ)&quot;, &quot;EventType&quot;: &quot;earthquake&quot;, &quot;Latitude&quot;: &quot;40.593&quot;, &quot;Longitude&quot;: &quot;15.9332&quot;, &quot;MagAuthor&quot;: &quot;--&quot;, &quot;MagType&quot;: &quot;ML&quot;, &quot;Magnitude&quot;: &quot;2.3&quot;, &quot;Time&quot;: &quot;2023-07-01T11:43:33.760000&quot;}, &quot;type&quot;: &quot;Feature&quot;}, {&quot;bbox&quot;: [14.427667, 40.822167, 14.427667, 40.822167], &quot;geometry&quot;: {&quot;coordinates&quot;: [14.427667, 40.822167], &quot;type&quot;: &quot;Point&quot;}, &quot;id&quot;: &quot;67&quot;, &quot;properties&quot;: {&quot;Author&quot;: &quot;SURVEY-INGV-OV#SiSmi&quot;, &quot;Catalog&quot;: &quot;&quot;, &quot;Contributor&quot;: &quot;&quot;, &quot;ContributorID&quot;: &quot;&quot;, &quot;Depth/Km&quot;: &quot;0.2&quot;, &quot;EventID&quot;: &quot;35441211&quot;, &quot;EventLocationName&quot;: &quot;Vesuvio&quot;, &quot;EventType&quot;: &quot;earthquake&quot;, &quot;Latitude&quot;: &quot;40.822167&quot;, &quot;Longitude&quot;: &quot;14.427667&quot;, &quot;MagAuthor&quot;: &quot;--&quot;, &quot;MagType&quot;: &quot;Md&quot;, &quot;Magnitude&quot;: &quot;2.0&quot;, &quot;Time&quot;: &quot;2023-07-01T09:41:56.809000&quot;}, &quot;type&quot;: &quot;Feature&quot;}, {&quot;bbox&quot;: [17.5982, 43.2448, 17.5982, 43.2448], &quot;geometry&quot;: {&quot;coordinates&quot;: [17.5982, 43.2448], &quot;type&quot;: &quot;Point&quot;}, &quot;id&quot;: &quot;68&quot;, &quot;properties&quot;: {&quot;Author&quot;: &quot;SURVEY-INGV&quot;, &quot;Catalog&quot;: &quot;&quot;, &quot;Contributor&quot;: &quot;&quot;, &quot;ContributorID&quot;: &quot;&quot;, &quot;Depth/Km&quot;: &quot;11.8&quot;, &quot;EventID&quot;: &quot;35440341&quot;, &quot;EventLocationName&quot;: &quot;Bosnia and Herz. [Land]&quot;, &quot;EventType&quot;: &quot;earthquake&quot;, &quot;Latitude&quot;: &quot;43.2448&quot;, &quot;Longitude&quot;: &quot;17.5982&quot;, &quot;MagAuthor&quot;: &quot;--&quot;, &quot;MagType&quot;: &quot;ML&quot;, &quot;Magnitude&quot;: &quot;3.0&quot;, &quot;Time&quot;: &quot;2023-07-01T08:45:39.990000&quot;}, &quot;type&quot;: &quot;Feature&quot;}, {&quot;bbox&quot;: [14.5568, 37.1242, 14.5568, 37.1242], &quot;geometry&quot;: {&quot;coordinates&quot;: [14.5568, 37.1242], &quot;type&quot;: &quot;Point&quot;}, &quot;id&quot;: &quot;69&quot;, &quot;properties&quot;: {&quot;Author&quot;: &quot;SURVEY-INGV&quot;, &quot;Catalog&quot;: &quot;&quot;, &quot;Contributor&quot;: &quot;&quot;, &quot;ContributorID&quot;: &quot;&quot;, &quot;Depth/Km&quot;: &quot;22.7&quot;, &quot;EventID&quot;: &quot;35434931&quot;, &quot;EventLocationName&quot;: &quot;4 km N Mazzarrone (CT)&quot;, &quot;EventType&quot;: &quot;earthquake&quot;, &quot;Latitude&quot;: &quot;37.1242&quot;, &quot;Longitude&quot;: &quot;14.5568&quot;, &quot;MagAuthor&quot;: &quot;--&quot;, &quot;MagType&quot;: &quot;ML&quot;, &quot;Magnitude&quot;: &quot;2.1&quot;, &quot;Time&quot;: &quot;2023-07-01T00:52:03.020000&quot;}, &quot;type&quot;: &quot;Feature&quot;}, {&quot;bbox&quot;: [15.6135, 42.4635, 15.6135, 42.4635], &quot;geometry&quot;: {&quot;coordinates&quot;: [15.6135, 42.4635], &quot;type&quot;: &quot;Point&quot;}, &quot;id&quot;: &quot;70&quot;, &quot;properties&quot;: {&quot;Author&quot;: &quot;SURVEY-INGV&quot;, &quot;Catalog&quot;: &quot;&quot;, &quot;Contributor&quot;: &quot;&quot;, &quot;ContributorID&quot;: &quot;&quot;, &quot;Depth/Km&quot;: &quot;8.6&quot;, &quot;EventID&quot;: &quot;35428601&quot;, &quot;EventLocationName&quot;: &quot;Adriatico Centrale (MARE)&quot;, &quot;EventType&quot;: &quot;earthquake&quot;, &quot;Latitude&quot;: &quot;42.4635&quot;, &quot;Longitude&quot;: &quot;15.6135&quot;, &quot;MagAuthor&quot;: &quot;--&quot;, &quot;MagType&quot;: &quot;ML&quot;, &quot;Magnitude&quot;: &quot;2.5&quot;, &quot;Time&quot;: &quot;2023-06-30T14:15:31.450000&quot;}, &quot;type&quot;: &quot;Feature&quot;}, {&quot;bbox&quot;: [13.224, 42.6957, 13.224, 42.6957], &quot;geometry&quot;: {&quot;coordinates&quot;: [13.224, 42.6957], &quot;type&quot;: &quot;Point&quot;}, &quot;id&quot;: &quot;71&quot;, &quot;properties&quot;: {&quot;Author&quot;: &quot;SURVEY-INGV&quot;, &quot;Catalog&quot;: &quot;&quot;, &quot;Contributor&quot;: &quot;&quot;, &quot;ContributorID&quot;: &quot;&quot;, &quot;Depth/Km&quot;: &quot;9.8&quot;, &quot;EventID&quot;: &quot;35424851&quot;, &quot;EventLocationName&quot;: &quot;2 km W Accumoli (RI)&quot;, &quot;EventType&quot;: &quot;earthquake&quot;, &quot;Latitude&quot;: &quot;42.6957&quot;, &quot;Longitude&quot;: &quot;13.224&quot;, &quot;MagAuthor&quot;: &quot;--&quot;, &quot;MagType&quot;: &quot;ML&quot;, &quot;Magnitude&quot;: &quot;2.0&quot;, &quot;Time&quot;: &quot;2023-06-30T09:46:25.970000&quot;}, &quot;type&quot;: &quot;Feature&quot;}, {&quot;bbox&quot;: [13.2155, 42.9798, 13.2155, 42.9798], &quot;geometry&quot;: {&quot;coordinates&quot;: [13.2155, 42.9798], &quot;type&quot;: &quot;Point&quot;}, &quot;id&quot;: &quot;72&quot;, &quot;properties&quot;: {&quot;Author&quot;: &quot;SURVEY-INGV&quot;, &quot;Catalog&quot;: &quot;&quot;, &quot;Contributor&quot;: &quot;&quot;, &quot;ContributorID&quot;: &quot;&quot;, &quot;Depth/Km&quot;: &quot;10.6&quot;, &quot;EventID&quot;: &quot;35419561&quot;, &quot;EventLocationName&quot;: &quot;2 km SW Bolognola (MC)&quot;, &quot;EventType&quot;: &quot;earthquake&quot;, &quot;Latitude&quot;: &quot;42.9798&quot;, &quot;Longitude&quot;: &quot;13.2155&quot;, &quot;MagAuthor&quot;: &quot;--&quot;, &quot;MagType&quot;: &quot;ML&quot;, &quot;Magnitude&quot;: &quot;2.1&quot;, &quot;Time&quot;: &quot;2023-06-30T04:12:53.470000&quot;}, &quot;type&quot;: &quot;Feature&quot;}, {&quot;bbox&quot;: [13.2198, 42.9782, 13.2198, 42.9782], &quot;geometry&quot;: {&quot;coordinates&quot;: [13.2198, 42.9782], &quot;type&quot;: &quot;Point&quot;}, &quot;id&quot;: &quot;73&quot;, &quot;properties&quot;: {&quot;Author&quot;: &quot;SURVEY-INGV&quot;, &quot;Catalog&quot;: &quot;&quot;, &quot;Contributor&quot;: &quot;&quot;, &quot;ContributorID&quot;: &quot;&quot;, &quot;Depth/Km&quot;: &quot;10.6&quot;, &quot;EventID&quot;: &quot;35419441&quot;, &quot;EventLocationName&quot;: &quot;2 km SW Bolognola (MC)&quot;, &quot;EventType&quot;: &quot;earthquake&quot;, &quot;Latitude&quot;: &quot;42.9782&quot;, &quot;Longitude&quot;: &quot;13.2198&quot;, &quot;MagAuthor&quot;: &quot;--&quot;, &quot;MagType&quot;: &quot;ML&quot;, &quot;Magnitude&quot;: &quot;3.3&quot;, &quot;Time&quot;: &quot;2023-06-30T04:11:00.110000&quot;}, &quot;type&quot;: &quot;Feature&quot;}, {&quot;bbox&quot;: [18.0913, 42.697, 18.0913, 42.697], &quot;geometry&quot;: {&quot;coordinates&quot;: [18.0913, 42.697], &quot;type&quot;: &quot;Point&quot;}, &quot;id&quot;: &quot;74&quot;, &quot;properties&quot;: {&quot;Author&quot;: &quot;SURVEY-INGV&quot;, &quot;Catalog&quot;: &quot;&quot;, &quot;Contributor&quot;: &quot;&quot;, &quot;ContributorID&quot;: &quot;&quot;, &quot;Depth/Km&quot;: &quot;20.1&quot;, &quot;EventID&quot;: &quot;35419021&quot;, &quot;EventLocationName&quot;: &quot;Costa Croata meridionale (CROAZIA)&quot;, &quot;EventType&quot;: &quot;earthquake&quot;, &quot;Latitude&quot;: &quot;42.697&quot;, &quot;Longitude&quot;: &quot;18.0913&quot;, &quot;MagAuthor&quot;: &quot;--&quot;, &quot;MagType&quot;: &quot;ML&quot;, &quot;Magnitude&quot;: &quot;3.7&quot;, &quot;Time&quot;: &quot;2023-06-30T03:54:19.850000&quot;}, &quot;type&quot;: &quot;Feature&quot;}, {&quot;bbox&quot;: [14.5, 37.9715, 14.5, 37.9715], &quot;geometry&quot;: {&quot;coordinates&quot;: [14.5, 37.9715], &quot;type&quot;: &quot;Point&quot;}, &quot;id&quot;: &quot;75&quot;, &quot;properties&quot;: {&quot;Author&quot;: &quot;SURVEY-INGV&quot;, &quot;Catalog&quot;: &quot;&quot;, &quot;Contributor&quot;: &quot;&quot;, &quot;ContributorID&quot;: &quot;&quot;, &quot;Depth/Km&quot;: &quot;9.4&quot;, &quot;EventID&quot;: &quot;35418331&quot;, &quot;EventLocationName&quot;: &quot;8 km SE Caronia (ME)&quot;, &quot;EventType&quot;: &quot;earthquake&quot;, &quot;Latitude&quot;: &quot;37.9715&quot;, &quot;Longitude&quot;: &quot;14.5&quot;, &quot;MagAuthor&quot;: &quot;--&quot;, &quot;MagType&quot;: &quot;ML&quot;, &quot;Magnitude&quot;: &quot;2.2&quot;, &quot;Time&quot;: &quot;2023-06-29T22:20:36.350000&quot;}, &quot;type&quot;: &quot;Feature&quot;}, {&quot;bbox&quot;: [14.42, 40.814, 14.42, 40.814], &quot;geometry&quot;: {&quot;coordinates&quot;: [14.42, 40.814], &quot;type&quot;: &quot;Point&quot;}, &quot;id&quot;: &quot;76&quot;, &quot;properties&quot;: {&quot;Author&quot;: &quot;SURVEY-INGV-OV#SiSmi&quot;, &quot;Catalog&quot;: &quot;&quot;, &quot;Contributor&quot;: &quot;&quot;, &quot;ContributorID&quot;: &quot;&quot;, &quot;Depth/Km&quot;: &quot;0.6&quot;, &quot;EventID&quot;: &quot;35418131&quot;, &quot;EventLocationName&quot;: &quot;Vesuvio&quot;, &quot;EventType&quot;: &quot;earthquake&quot;, &quot;Latitude&quot;: &quot;40.814&quot;, &quot;Longitude&quot;: &quot;14.42&quot;, &quot;MagAuthor&quot;: &quot;--&quot;, &quot;MagType&quot;: &quot;Md&quot;, &quot;Magnitude&quot;: &quot;2.7&quot;, &quot;Time&quot;: &quot;2023-06-29T21:01:19.059000&quot;}, &quot;type&quot;: &quot;Feature&quot;}, {&quot;bbox&quot;: [15.121, 37.682, 15.121, 37.682], &quot;geometry&quot;: {&quot;coordinates&quot;: [15.121, 37.682], &quot;type&quot;: &quot;Point&quot;}, &quot;id&quot;: &quot;77&quot;, &quot;properties&quot;: {&quot;Author&quot;: &quot;SURVEY-INGV-CT#SeismPicker_SO-OE&quot;, &quot;Catalog&quot;: &quot;&quot;, &quot;Contributor&quot;: &quot;&quot;, &quot;ContributorID&quot;: &quot;&quot;, &quot;Depth/Km&quot;: &quot;9.7&quot;, &quot;EventID&quot;: &quot;35417861&quot;, &quot;EventLocationName&quot;: &quot;2 km W Santa Venerina (CT)&quot;, &quot;EventType&quot;: &quot;earthquake&quot;, &quot;Latitude&quot;: &quot;37.682&quot;, &quot;Longitude&quot;: &quot;15.121&quot;, &quot;MagAuthor&quot;: &quot;--&quot;, &quot;MagType&quot;: &quot;ML&quot;, &quot;Magnitude&quot;: &quot;2.1&quot;, &quot;Time&quot;: &quot;2023-06-29T20:19:43.220000&quot;}, &quot;type&quot;: &quot;Feature&quot;}, {&quot;bbox&quot;: [15.103, 37.691, 15.103, 37.691], &quot;geometry&quot;: {&quot;coordinates&quot;: [15.103, 37.691], &quot;type&quot;: &quot;Point&quot;}, &quot;id&quot;: &quot;78&quot;, &quot;properties&quot;: {&quot;Author&quot;: &quot;SURVEY-INGV-CT&quot;, &quot;Catalog&quot;: &quot;&quot;, &quot;Contributor&quot;: &quot;&quot;, &quot;ContributorID&quot;: &quot;&quot;, &quot;Depth/Km&quot;: &quot;8.0&quot;, &quot;EventID&quot;: &quot;35417701&quot;, &quot;EventLocationName&quot;: &quot;1 km S Zafferana Etnea (CT)&quot;, &quot;EventType&quot;: &quot;earthquake&quot;, &quot;Latitude&quot;: &quot;37.691&quot;, &quot;Longitude&quot;: &quot;15.103&quot;, &quot;MagAuthor&quot;: &quot;--&quot;, &quot;MagType&quot;: &quot;ML&quot;, &quot;Magnitude&quot;: &quot;3.1&quot;, &quot;Time&quot;: &quot;2023-06-29T20:08:19.140000&quot;}, &quot;type&quot;: &quot;Feature&quot;}, {&quot;bbox&quot;: [14.419833, 40.814833, 14.419833, 40.814833], &quot;geometry&quot;: {&quot;coordinates&quot;: [14.419833, 40.814833], &quot;type&quot;: &quot;Point&quot;}, &quot;id&quot;: &quot;79&quot;, &quot;properties&quot;: {&quot;Author&quot;: &quot;SURVEY-INGV-OV#SiSmi&quot;, &quot;Catalog&quot;: &quot;&quot;, &quot;Contributor&quot;: &quot;&quot;, &quot;ContributorID&quot;: &quot;&quot;, &quot;Depth/Km&quot;: &quot;0.2&quot;, &quot;EventID&quot;: &quot;35417671&quot;, &quot;EventLocationName&quot;: &quot;Vesuvio&quot;, &quot;EventType&quot;: &quot;earthquake&quot;, &quot;Latitude&quot;: &quot;40.814833&quot;, &quot;Longitude&quot;: &quot;14.419833&quot;, &quot;MagAuthor&quot;: &quot;--&quot;, &quot;MagType&quot;: &quot;Md&quot;, &quot;Magnitude&quot;: &quot;2.4&quot;, &quot;Time&quot;: &quot;2023-06-29T19:52:50.380000&quot;}, &quot;type&quot;: &quot;Feature&quot;}, {&quot;bbox&quot;: [15.098, 37.702, 15.098, 37.702], &quot;geometry&quot;: {&quot;coordinates&quot;: [15.098, 37.702], &quot;type&quot;: &quot;Point&quot;}, &quot;id&quot;: &quot;80&quot;, &quot;properties&quot;: {&quot;Author&quot;: &quot;SURVEY-INGV-CT#SeismPicker_SO-OE&quot;, &quot;Catalog&quot;: &quot;&quot;, &quot;Contributor&quot;: &quot;&quot;, &quot;ContributorID&quot;: &quot;&quot;, &quot;Depth/Km&quot;: &quot;1.9&quot;, &quot;EventID&quot;: &quot;35417351&quot;, &quot;EventLocationName&quot;: &quot;1 km NW Zafferana Etnea (CT)&quot;, &quot;EventType&quot;: &quot;earthquake&quot;, &quot;Latitude&quot;: &quot;37.702&quot;, &quot;Longitude&quot;: &quot;15.098&quot;, &quot;MagAuthor&quot;: &quot;--&quot;, &quot;MagType&quot;: &quot;ML&quot;, &quot;Magnitude&quot;: &quot;2.0&quot;, &quot;Time&quot;: &quot;2023-06-29T19:00:53.310000&quot;}, &quot;type&quot;: &quot;Feature&quot;}, {&quot;bbox&quot;: [15.102, 37.7, 15.102, 37.7], &quot;geometry&quot;: {&quot;coordinates&quot;: [15.102, 37.7], &quot;type&quot;: &quot;Point&quot;}, &quot;id&quot;: &quot;81&quot;, &quot;properties&quot;: {&quot;Author&quot;: &quot;SURVEY-INGV-CT#SeismPicker_SO-OE&quot;, &quot;Catalog&quot;: &quot;&quot;, &quot;Contributor&quot;: &quot;&quot;, &quot;ContributorID&quot;: &quot;&quot;, &quot;Depth/Km&quot;: &quot;4.7&quot;, &quot;EventID&quot;: &quot;35417261&quot;, &quot;EventLocationName&quot;: &quot;Zafferana Etnea (CT)&quot;, &quot;EventType&quot;: &quot;earthquake&quot;, &quot;Latitude&quot;: &quot;37.7&quot;, &quot;Longitude&quot;: &quot;15.102&quot;, &quot;MagAuthor&quot;: &quot;--&quot;, &quot;MagType&quot;: &quot;ML&quot;, &quot;Magnitude&quot;: &quot;2.4&quot;, &quot;Time&quot;: &quot;2023-06-29T18:54:34.200000&quot;}, &quot;type&quot;: &quot;Feature&quot;}, {&quot;bbox&quot;: [11.2963, 47.392, 11.2963, 47.392], &quot;geometry&quot;: {&quot;coordinates&quot;: [11.2963, 47.392], &quot;type&quot;: &quot;Point&quot;}, &quot;id&quot;: &quot;82&quot;, &quot;properties&quot;: {&quot;Author&quot;: &quot;SURVEY-INGV&quot;, &quot;Catalog&quot;: &quot;&quot;, &quot;Contributor&quot;: &quot;&quot;, &quot;ContributorID&quot;: &quot;&quot;, &quot;Depth/Km&quot;: &quot;7.0&quot;, &quot;EventID&quot;: &quot;35416391&quot;, &quot;EventLocationName&quot;: &quot;Confine Austria-Germania (AUSTRIA, GERMANIA)&quot;, &quot;EventType&quot;: &quot;earthquake&quot;, &quot;Latitude&quot;: &quot;47.392&quot;, &quot;Longitude&quot;: &quot;11.2963&quot;, &quot;MagAuthor&quot;: &quot;--&quot;, &quot;MagType&quot;: &quot;ML&quot;, &quot;Magnitude&quot;: &quot;2.3&quot;, &quot;Time&quot;: &quot;2023-06-29T16:23:33.940000&quot;}, &quot;type&quot;: &quot;Feature&quot;}, {&quot;bbox&quot;: [8.7165, 47.8177, 8.7165, 47.8177], &quot;geometry&quot;: {&quot;coordinates&quot;: [8.7165, 47.8177], &quot;type&quot;: &quot;Point&quot;}, &quot;id&quot;: &quot;83&quot;, &quot;properties&quot;: {&quot;Author&quot;: &quot;SURVEY-INGV&quot;, &quot;Catalog&quot;: &quot;&quot;, &quot;Contributor&quot;: &quot;&quot;, &quot;ContributorID&quot;: &quot;&quot;, &quot;Depth/Km&quot;: &quot;16.5&quot;, &quot;EventID&quot;: &quot;35416051&quot;, &quot;EventLocationName&quot;: &quot;Confine Svizzera-Germania (SVIZZERA, GERMANIA)&quot;, &quot;EventType&quot;: &quot;earthquake&quot;, &quot;Latitude&quot;: &quot;47.8177&quot;, &quot;Longitude&quot;: &quot;8.7165&quot;, &quot;MagAuthor&quot;: &quot;--&quot;, &quot;MagType&quot;: &quot;ML&quot;, &quot;Magnitude&quot;: &quot;3.0&quot;, &quot;Time&quot;: &quot;2023-06-29T15:57:19.650000&quot;}, &quot;type&quot;: &quot;Feature&quot;}, {&quot;bbox&quot;: [14.5447, 38.3978, 14.5447, 38.3978], &quot;geometry&quot;: {&quot;coordinates&quot;: [14.5447, 38.3978], &quot;type&quot;: &quot;Point&quot;}, &quot;id&quot;: &quot;84&quot;, &quot;properties&quot;: {&quot;Author&quot;: &quot;SURVEY-INGV&quot;, &quot;Catalog&quot;: &quot;&quot;, &quot;Contributor&quot;: &quot;&quot;, &quot;ContributorID&quot;: &quot;&quot;, &quot;Depth/Km&quot;: &quot;10.0&quot;, &quot;EventID&quot;: &quot;35415851&quot;, &quot;EventLocationName&quot;: &quot;Costa Siciliana nord-orientale (Messina)&quot;, &quot;EventType&quot;: &quot;earthquake&quot;, &quot;Latitude&quot;: &quot;38.3978&quot;, &quot;Longitude&quot;: &quot;14.5447&quot;, &quot;MagAuthor&quot;: &quot;--&quot;, &quot;MagType&quot;: &quot;ML&quot;, &quot;Magnitude&quot;: &quot;2.2&quot;, &quot;Time&quot;: &quot;2023-06-29T15:39:49.220000&quot;}, &quot;type&quot;: &quot;Feature&quot;}, {&quot;bbox&quot;: [16.1213, 38.5407, 16.1213, 38.5407], &quot;geometry&quot;: {&quot;coordinates&quot;: [16.1213, 38.5407], &quot;type&quot;: &quot;Point&quot;}, &quot;id&quot;: &quot;85&quot;, &quot;properties&quot;: {&quot;Author&quot;: &quot;SURVEY-INGV&quot;, &quot;Catalog&quot;: &quot;&quot;, &quot;Contributor&quot;: &quot;&quot;, &quot;ContributorID&quot;: &quot;&quot;, &quot;Depth/Km&quot;: &quot;15.5&quot;, &quot;EventID&quot;: &quot;35415391&quot;, &quot;EventLocationName&quot;: &quot;2 km NW San Pietro di Carid\\\\xc3\\\\xa0 (RC)&quot;, &quot;EventType&quot;: &quot;earthquake&quot;, &quot;Latitude&quot;: &quot;38.5407&quot;, &quot;Longitude&quot;: &quot;16.1213&quot;, &quot;MagAuthor&quot;: &quot;--&quot;, &quot;MagType&quot;: &quot;ML&quot;, &quot;Magnitude&quot;: &quot;2.1&quot;, &quot;Time&quot;: &quot;2023-06-29T14:15:54.940000&quot;}, &quot;type&quot;: &quot;Feature&quot;}, {&quot;bbox&quot;: [16.255, 37.7105, 16.255, 37.7105], &quot;geometry&quot;: {&quot;coordinates&quot;: [16.255, 37.7105], &quot;type&quot;: &quot;Point&quot;}, &quot;id&quot;: &quot;86&quot;, &quot;properties&quot;: {&quot;Author&quot;: &quot;SURVEY-INGV&quot;, &quot;Catalog&quot;: &quot;&quot;, &quot;Contributor&quot;: &quot;&quot;, &quot;ContributorID&quot;: &quot;&quot;, &quot;Depth/Km&quot;: &quot;33.5&quot;, &quot;EventID&quot;: &quot;35413621&quot;, &quot;EventLocationName&quot;: &quot;Costa Calabra sud-orientale (Reggio di Calabria)&quot;, &quot;EventType&quot;: &quot;earthquake&quot;, &quot;Latitude&quot;: &quot;37.7105&quot;, &quot;Longitude&quot;: &quot;16.255&quot;, &quot;MagAuthor&quot;: &quot;--&quot;, &quot;MagType&quot;: &quot;ML&quot;, &quot;Magnitude&quot;: &quot;2.4&quot;, &quot;Time&quot;: &quot;2023-06-29T08:33:06.180000&quot;}, &quot;type&quot;: &quot;Feature&quot;}, {&quot;bbox&quot;: [15.092, 38.1165, 15.092, 38.1165], &quot;geometry&quot;: {&quot;coordinates&quot;: [15.092, 38.1165], &quot;type&quot;: &quot;Point&quot;}, &quot;id&quot;: &quot;87&quot;, &quot;properties&quot;: {&quot;Author&quot;: &quot;SURVEY-INGV&quot;, &quot;Catalog&quot;: &quot;&quot;, &quot;Contributor&quot;: &quot;&quot;, &quot;ContributorID&quot;: &quot;&quot;, &quot;Depth/Km&quot;: &quot;9.5&quot;, &quot;EventID&quot;: &quot;35411781&quot;, &quot;EventLocationName&quot;: &quot;1 km E Falcone (ME)&quot;, &quot;EventType&quot;: &quot;earthquake&quot;, &quot;Latitude&quot;: &quot;38.1165&quot;, &quot;Longitude&quot;: &quot;15.092&quot;, &quot;MagAuthor&quot;: &quot;--&quot;, &quot;MagType&quot;: &quot;ML&quot;, &quot;Magnitude&quot;: &quot;2.1&quot;, &quot;Time&quot;: &quot;2023-06-29T03:48:39.790000&quot;}, &quot;type&quot;: &quot;Feature&quot;}, {&quot;bbox&quot;: [10.7392, 44.5253, 10.7392, 44.5253], &quot;geometry&quot;: {&quot;coordinates&quot;: [10.7392, 44.5253], &quot;type&quot;: &quot;Point&quot;}, &quot;id&quot;: &quot;88&quot;, &quot;properties&quot;: {&quot;Author&quot;: &quot;SURVEY-INGV&quot;, &quot;Catalog&quot;: &quot;&quot;, &quot;Contributor&quot;: &quot;&quot;, &quot;ContributorID&quot;: &quot;&quot;, &quot;Depth/Km&quot;: &quot;10.1&quot;, &quot;EventID&quot;: &quot;35410481&quot;, &quot;EventLocationName&quot;: &quot;2 km NE Castellarano (RE)&quot;, &quot;EventType&quot;: &quot;earthquake&quot;, &quot;Latitude&quot;: &quot;44.5253&quot;, &quot;Longitude&quot;: &quot;10.7392&quot;, &quot;MagAuthor&quot;: &quot;--&quot;, &quot;MagType&quot;: &quot;ML&quot;, &quot;Magnitude&quot;: &quot;2.3&quot;, &quot;Time&quot;: &quot;2023-06-28T17:59:52.410000&quot;}, &quot;type&quot;: &quot;Feature&quot;}, {&quot;bbox&quot;: [15.3387, 40.8042, 15.3387, 40.8042], &quot;geometry&quot;: {&quot;coordinates&quot;: [15.3387, 40.8042], &quot;type&quot;: &quot;Point&quot;}, &quot;id&quot;: &quot;89&quot;, &quot;properties&quot;: {&quot;Author&quot;: &quot;SURVEY-INGV&quot;, &quot;Catalog&quot;: &quot;&quot;, &quot;Contributor&quot;: &quot;&quot;, &quot;ContributorID&quot;: &quot;&quot;, &quot;Depth/Km&quot;: &quot;11.1&quot;, &quot;EventID&quot;: &quot;35408721&quot;, &quot;EventLocationName&quot;: &quot;2 km E Santomenna (SA)&quot;, &quot;EventType&quot;: &quot;earthquake&quot;, &quot;Latitude&quot;: &quot;40.8042&quot;, &quot;Longitude&quot;: &quot;15.3387&quot;, &quot;MagAuthor&quot;: &quot;--&quot;, &quot;MagType&quot;: &quot;ML&quot;, &quot;Magnitude&quot;: &quot;2.1&quot;, &quot;Time&quot;: &quot;2023-06-28T11:59:05.020000&quot;}, &quot;type&quot;: &quot;Feature&quot;}, {&quot;bbox&quot;: [11.1763, 43.4965, 11.1763, 43.4965], &quot;geometry&quot;: {&quot;coordinates&quot;: [11.1763, 43.4965], &quot;type&quot;: &quot;Point&quot;}, &quot;id&quot;: &quot;90&quot;, &quot;properties&quot;: {&quot;Author&quot;: &quot;BULLETIN-INGV&quot;, &quot;Catalog&quot;: &quot;&quot;, &quot;Contributor&quot;: &quot;&quot;, &quot;ContributorID&quot;: &quot;&quot;, &quot;Depth/Km&quot;: &quot;9.8&quot;, &quot;EventID&quot;: &quot;35407661&quot;, &quot;EventLocationName&quot;: &quot;4 km NE Poggibonsi (SI)&quot;, &quot;EventType&quot;: &quot;earthquake&quot;, &quot;Latitude&quot;: &quot;43.4965&quot;, &quot;Longitude&quot;: &quot;11.1763&quot;, &quot;MagAuthor&quot;: &quot;--&quot;, &quot;MagType&quot;: &quot;ML&quot;, &quot;Magnitude&quot;: &quot;3.7&quot;, &quot;Time&quot;: &quot;2023-06-28T10:19:42.960000&quot;}, &quot;type&quot;: &quot;Feature&quot;}, {&quot;bbox&quot;: [15.1, 37.706, 15.1, 37.706], &quot;geometry&quot;: {&quot;coordinates&quot;: [15.1, 37.706], &quot;type&quot;: &quot;Point&quot;}, &quot;id&quot;: &quot;91&quot;, &quot;properties&quot;: {&quot;Author&quot;: &quot;SURVEY-INGV-CT&quot;, &quot;Catalog&quot;: &quot;&quot;, &quot;Contributor&quot;: &quot;&quot;, &quot;ContributorID&quot;: &quot;&quot;, &quot;Depth/Km&quot;: &quot;2.8&quot;, &quot;EventID&quot;: &quot;35404571&quot;, &quot;EventLocationName&quot;: &quot;1 km N Zafferana Etnea (CT)&quot;, &quot;EventType&quot;: &quot;earthquake&quot;, &quot;Latitude&quot;: &quot;37.706&quot;, &quot;Longitude&quot;: &quot;15.1&quot;, &quot;MagAuthor&quot;: &quot;--&quot;, &quot;MagType&quot;: &quot;ML&quot;, &quot;Magnitude&quot;: &quot;3.1&quot;, &quot;Time&quot;: &quot;2023-06-27T22:12:46.130000&quot;}, &quot;type&quot;: &quot;Feature&quot;}, {&quot;bbox&quot;: [15.6418, 38.6138, 15.6418, 38.6138], &quot;geometry&quot;: {&quot;coordinates&quot;: [15.6418, 38.6138], &quot;type&quot;: &quot;Point&quot;}, &quot;id&quot;: &quot;92&quot;, &quot;properties&quot;: {&quot;Author&quot;: &quot;SURVEY-INGV&quot;, &quot;Catalog&quot;: &quot;&quot;, &quot;Contributor&quot;: &quot;&quot;, &quot;ContributorID&quot;: &quot;&quot;, &quot;Depth/Km&quot;: &quot;91.6&quot;, &quot;EventID&quot;: &quot;35404231&quot;, &quot;EventLocationName&quot;: &quot;Costa Calabra sud-occidentale (Catanzaro, Vibo Valentia, Reggio di Calabria)&quot;, &quot;EventType&quot;: &quot;earthquake&quot;, &quot;Latitude&quot;: &quot;38.6138&quot;, &quot;Longitude&quot;: &quot;15.6418&quot;, &quot;MagAuthor&quot;: &quot;--&quot;, &quot;MagType&quot;: &quot;ML&quot;, &quot;Magnitude&quot;: &quot;2.2&quot;, &quot;Time&quot;: &quot;2023-06-27T20:07:52.200000&quot;}, &quot;type&quot;: &quot;Feature&quot;}, {&quot;bbox&quot;: [12.9728, 42.9047, 12.9728, 42.9047], &quot;geometry&quot;: {&quot;coordinates&quot;: [12.9728, 42.9047], &quot;type&quot;: &quot;Point&quot;}, &quot;id&quot;: &quot;93&quot;, &quot;properties&quot;: {&quot;Author&quot;: &quot;SURVEY-INGV&quot;, &quot;Catalog&quot;: &quot;&quot;, &quot;Contributor&quot;: &quot;&quot;, &quot;ContributorID&quot;: &quot;&quot;, &quot;Depth/Km&quot;: &quot;10.7&quot;, &quot;EventID&quot;: &quot;35402211&quot;, &quot;EventLocationName&quot;: &quot;4 km E Sellano (PG)&quot;, &quot;EventType&quot;: &quot;earthquake&quot;, &quot;Latitude&quot;: &quot;42.9047&quot;, &quot;Longitude&quot;: &quot;12.9728&quot;, &quot;MagAuthor&quot;: &quot;--&quot;, &quot;MagType&quot;: &quot;ML&quot;, &quot;Magnitude&quot;: &quot;2.0&quot;, &quot;Time&quot;: &quot;2023-06-27T16:00:37.440000&quot;}, &quot;type&quot;: &quot;Feature&quot;}, {&quot;bbox&quot;: [15.7232, 38.5992, 15.7232, 38.5992], &quot;geometry&quot;: {&quot;coordinates&quot;: [15.7232, 38.5992], &quot;type&quot;: &quot;Point&quot;}, &quot;id&quot;: &quot;94&quot;, &quot;properties&quot;: {&quot;Author&quot;: &quot;SURVEY-INGV&quot;, &quot;Catalog&quot;: &quot;&quot;, &quot;Contributor&quot;: &quot;&quot;, &quot;ContributorID&quot;: &quot;&quot;, &quot;Depth/Km&quot;: &quot;55.3&quot;, &quot;EventID&quot;: &quot;35401011&quot;, &quot;EventLocationName&quot;: &quot;Costa Calabra sud-occidentale (Catanzaro, Vibo Valentia, Reggio di Calabria)&quot;, &quot;EventType&quot;: &quot;earthquake&quot;, &quot;Latitude&quot;: &quot;38.5992&quot;, &quot;Longitude&quot;: &quot;15.7232&quot;, &quot;MagAuthor&quot;: &quot;--&quot;, &quot;MagType&quot;: &quot;ML&quot;, &quot;Magnitude&quot;: &quot;2.1&quot;, &quot;Time&quot;: &quot;2023-06-27T11:45:15.820000&quot;}, &quot;type&quot;: &quot;Feature&quot;}, {&quot;bbox&quot;: [8.8397, 47.6318, 8.8397, 47.6318], &quot;geometry&quot;: {&quot;coordinates&quot;: [8.8397, 47.6318], &quot;type&quot;: &quot;Point&quot;}, &quot;id&quot;: &quot;95&quot;, &quot;properties&quot;: {&quot;Author&quot;: &quot;SURVEY-INGV&quot;, &quot;Catalog&quot;: &quot;&quot;, &quot;Contributor&quot;: &quot;&quot;, &quot;ContributorID&quot;: &quot;&quot;, &quot;Depth/Km&quot;: &quot;0.5&quot;, &quot;EventID&quot;: &quot;35400421&quot;, &quot;EventLocationName&quot;: &quot;Confine Svizzera-Germania (SVIZZERA, GERMANIA)&quot;, &quot;EventType&quot;: &quot;earthquake&quot;, &quot;Latitude&quot;: &quot;47.6318&quot;, &quot;Longitude&quot;: &quot;8.8397&quot;, &quot;MagAuthor&quot;: &quot;--&quot;, &quot;MagType&quot;: &quot;ML&quot;, &quot;Magnitude&quot;: &quot;2.7&quot;, &quot;Time&quot;: &quot;2023-06-27T10:18:27.440000&quot;}, &quot;type&quot;: &quot;Feature&quot;}, {&quot;bbox&quot;: [14.915, 41.7858, 14.915, 41.7858], &quot;geometry&quot;: {&quot;coordinates&quot;: [14.915, 41.7858], &quot;type&quot;: &quot;Point&quot;}, &quot;id&quot;: &quot;96&quot;, &quot;properties&quot;: {&quot;Author&quot;: &quot;SURVEY-INGV&quot;, &quot;Catalog&quot;: &quot;&quot;, &quot;Contributor&quot;: &quot;&quot;, &quot;ContributorID&quot;: &quot;&quot;, &quot;Depth/Km&quot;: &quot;12.9&quot;, &quot;EventID&quot;: &quot;35399961&quot;, &quot;EventLocationName&quot;: &quot;2 km S Larino (CB)&quot;, &quot;EventType&quot;: &quot;earthquake&quot;, &quot;Latitude&quot;: &quot;41.7858&quot;, &quot;Longitude&quot;: &quot;14.915&quot;, &quot;MagAuthor&quot;: &quot;--&quot;, &quot;MagType&quot;: &quot;ML&quot;, &quot;Magnitude&quot;: &quot;2.4&quot;, &quot;Time&quot;: &quot;2023-06-27T08:55:32.470000&quot;}, &quot;type&quot;: &quot;Feature&quot;}, {&quot;bbox&quot;: [15.2477, 38.3012, 15.2477, 38.3012], &quot;geometry&quot;: {&quot;coordinates&quot;: [15.2477, 38.3012], &quot;type&quot;: &quot;Point&quot;}, &quot;id&quot;: &quot;97&quot;, &quot;properties&quot;: {&quot;Author&quot;: &quot;SURVEY-INGV&quot;, &quot;Catalog&quot;: &quot;&quot;, &quot;Contributor&quot;: &quot;&quot;, &quot;ContributorID&quot;: &quot;&quot;, &quot;Depth/Km&quot;: &quot;116.7&quot;, &quot;EventID&quot;: &quot;35397961&quot;, &quot;EventLocationName&quot;: &quot;Costa Siciliana nord-orientale (Messina)&quot;, &quot;EventType&quot;: &quot;earthquake&quot;, &quot;Latitude&quot;: &quot;38.3012&quot;, &quot;Longitude&quot;: &quot;15.2477&quot;, &quot;MagAuthor&quot;: &quot;--&quot;, &quot;MagType&quot;: &quot;ML&quot;, &quot;Magnitude&quot;: &quot;2.2&quot;, &quot;Time&quot;: &quot;2023-06-26T23:10:09.000000&quot;}, &quot;type&quot;: &quot;Feature&quot;}, {&quot;bbox&quot;: [14.7902, 38.351, 14.7902, 38.351], &quot;geometry&quot;: {&quot;coordinates&quot;: [14.7902, 38.351], &quot;type&quot;: &quot;Point&quot;}, &quot;id&quot;: &quot;98&quot;, &quot;properties&quot;: {&quot;Author&quot;: &quot;SURVEY-INGV&quot;, &quot;Catalog&quot;: &quot;&quot;, &quot;Contributor&quot;: &quot;&quot;, &quot;ContributorID&quot;: &quot;&quot;, &quot;Depth/Km&quot;: &quot;124.8&quot;, &quot;EventID&quot;: &quot;35396541&quot;, &quot;EventLocationName&quot;: &quot;Costa Siciliana nord-orientale (Messina)&quot;, &quot;EventType&quot;: &quot;earthquake&quot;, &quot;Latitude&quot;: &quot;38.351&quot;, &quot;Longitude&quot;: &quot;14.7902&quot;, &quot;MagAuthor&quot;: &quot;--&quot;, &quot;MagType&quot;: &quot;ML&quot;, &quot;Magnitude&quot;: &quot;2.6&quot;, &quot;Time&quot;: &quot;2023-06-26T15:39:54.720000&quot;}, &quot;type&quot;: &quot;Feature&quot;}, {&quot;bbox&quot;: [16.598, 39.0807, 16.598, 39.0807], &quot;geometry&quot;: {&quot;coordinates&quot;: [16.598, 39.0807], &quot;type&quot;: &quot;Point&quot;}, &quot;id&quot;: &quot;99&quot;, &quot;properties&quot;: {&quot;Author&quot;: &quot;SURVEY-INGV&quot;, &quot;Catalog&quot;: &quot;&quot;, &quot;Contributor&quot;: &quot;&quot;, &quot;ContributorID&quot;: &quot;&quot;, &quot;Depth/Km&quot;: &quot;8.2&quot;, &quot;EventID&quot;: &quot;35394891&quot;, &quot;EventLocationName&quot;: &quot;6 km N Albi (CZ)&quot;, &quot;EventType&quot;: &quot;earthquake&quot;, &quot;Latitude&quot;: &quot;39.0807&quot;, &quot;Longitude&quot;: &quot;16.598&quot;, &quot;MagAuthor&quot;: &quot;--&quot;, &quot;MagType&quot;: &quot;ML&quot;, &quot;Magnitude&quot;: &quot;2.3&quot;, &quot;Time&quot;: &quot;2023-06-26T10:51:20.170000&quot;}, &quot;type&quot;: &quot;Feature&quot;}, {&quot;bbox&quot;: [17.7277, 43.2957, 17.7277, 43.2957], &quot;geometry&quot;: {&quot;coordinates&quot;: [17.7277, 43.2957], &quot;type&quot;: &quot;Point&quot;}, &quot;id&quot;: &quot;100&quot;, &quot;properties&quot;: {&quot;Author&quot;: &quot;SURVEY-INGV&quot;, &quot;Catalog&quot;: &quot;&quot;, &quot;Contributor&quot;: &quot;&quot;, &quot;ContributorID&quot;: &quot;&quot;, &quot;Depth/Km&quot;: &quot;10.0&quot;, &quot;EventID&quot;: &quot;35394751&quot;, &quot;EventLocationName&quot;: &quot;Bosnia and Herz. [Land]&quot;, &quot;EventType&quot;: &quot;earthquake&quot;, &quot;Latitude&quot;: &quot;43.2957&quot;, &quot;Longitude&quot;: &quot;17.7277&quot;, &quot;MagAuthor&quot;: &quot;--&quot;, &quot;MagType&quot;: &quot;ML&quot;, &quot;Magnitude&quot;: &quot;3.3&quot;, &quot;Time&quot;: &quot;2023-06-26T10:37:17.790000&quot;}, &quot;type&quot;: &quot;Feature&quot;}, {&quot;bbox&quot;: [17.4058, 43.3857, 17.4058, 43.3857], &quot;geometry&quot;: {&quot;coordinates&quot;: [17.4058, 43.3857], &quot;type&quot;: &quot;Point&quot;}, &quot;id&quot;: &quot;101&quot;, &quot;properties&quot;: {&quot;Author&quot;: &quot;SURVEY-INGV&quot;, &quot;Catalog&quot;: &quot;&quot;, &quot;Contributor&quot;: &quot;&quot;, &quot;ContributorID&quot;: &quot;&quot;, &quot;Depth/Km&quot;: &quot;2.4&quot;, &quot;EventID&quot;: &quot;35391481&quot;, &quot;EventLocationName&quot;: &quot;Bosnia and Herz. [Land]&quot;, &quot;EventType&quot;: &quot;earthquake&quot;, &quot;Latitude&quot;: &quot;43.3857&quot;, &quot;Longitude&quot;: &quot;17.4058&quot;, &quot;MagAuthor&quot;: &quot;--&quot;, &quot;MagType&quot;: &quot;ML&quot;, &quot;Magnitude&quot;: &quot;3.7&quot;, &quot;Time&quot;: &quot;2023-06-25T22:23:24.860000&quot;}, &quot;type&quot;: &quot;Feature&quot;}, {&quot;bbox&quot;: [13.0953, 42.792, 13.0953, 42.792], &quot;geometry&quot;: {&quot;coordinates&quot;: [13.0953, 42.792], &quot;type&quot;: &quot;Point&quot;}, &quot;id&quot;: &quot;102&quot;, &quot;properties&quot;: {&quot;Author&quot;: &quot;SURVEY-INGV&quot;, &quot;Catalog&quot;: &quot;&quot;, &quot;Contributor&quot;: &quot;&quot;, &quot;ContributorID&quot;: &quot;&quot;, &quot;Depth/Km&quot;: &quot;9.8&quot;, &quot;EventID&quot;: &quot;35390541&quot;, &quot;EventLocationName&quot;: &quot;Norcia (PG)&quot;, &quot;EventType&quot;: &quot;earthquake&quot;, &quot;Latitude&quot;: &quot;42.792&quot;, &quot;Longitude&quot;: &quot;13.0953&quot;, &quot;MagAuthor&quot;: &quot;--&quot;, &quot;MagType&quot;: &quot;ML&quot;, &quot;Magnitude&quot;: &quot;2.0&quot;, &quot;Time&quot;: &quot;2023-06-25T18:42:53.290000&quot;}, &quot;type&quot;: &quot;Feature&quot;}, {&quot;bbox&quot;: [10.0878, 44.5118, 10.0878, 44.5118], &quot;geometry&quot;: {&quot;coordinates&quot;: [10.0878, 44.5118], &quot;type&quot;: &quot;Point&quot;}, &quot;id&quot;: &quot;103&quot;, &quot;properties&quot;: {&quot;Author&quot;: &quot;SURVEY-INGV&quot;, &quot;Catalog&quot;: &quot;&quot;, &quot;Contributor&quot;: &quot;&quot;, &quot;ContributorID&quot;: &quot;&quot;, &quot;Depth/Km&quot;: &quot;23.2&quot;, &quot;EventID&quot;: &quot;35385551&quot;, &quot;EventLocationName&quot;: &quot;4 km N Corniglio (PR)&quot;, &quot;EventType&quot;: &quot;earthquake&quot;, &quot;Latitude&quot;: &quot;44.5118&quot;, &quot;Longitude&quot;: &quot;10.0878&quot;, &quot;MagAuthor&quot;: &quot;--&quot;, &quot;MagType&quot;: &quot;ML&quot;, &quot;Magnitude&quot;: &quot;2.5&quot;, &quot;Time&quot;: &quot;2023-06-25T02:04:57.260000&quot;}, &quot;type&quot;: &quot;Feature&quot;}, {&quot;bbox&quot;: [13.7197, 41.6998, 13.7197, 41.6998], &quot;geometry&quot;: {&quot;coordinates&quot;: [13.7197, 41.6998], &quot;type&quot;: &quot;Point&quot;}, &quot;id&quot;: &quot;104&quot;, &quot;properties&quot;: {&quot;Author&quot;: &quot;SURVEY-INGV&quot;, &quot;Catalog&quot;: &quot;&quot;, &quot;Contributor&quot;: &quot;&quot;, &quot;ContributorID&quot;: &quot;&quot;, &quot;Depth/Km&quot;: &quot;8.7&quot;, &quot;EventID&quot;: &quot;35385131&quot;, &quot;EventLocationName&quot;: &quot;2 km E Posta Fibreno (FR)&quot;, &quot;EventType&quot;: &quot;earthquake&quot;, &quot;Latitude&quot;: &quot;41.6998&quot;, &quot;Longitude&quot;: &quot;13.7197&quot;, &quot;MagAuthor&quot;: &quot;--&quot;, &quot;MagType&quot;: &quot;ML&quot;, &quot;Magnitude&quot;: &quot;2.2&quot;, &quot;Time&quot;: &quot;2023-06-24T22:36:14.460000&quot;}, &quot;type&quot;: &quot;Feature&quot;}, {&quot;bbox&quot;: [13.2148, 42.9927, 13.2148, 42.9927], &quot;geometry&quot;: {&quot;coordinates&quot;: [13.2148, 42.9927], &quot;type&quot;: &quot;Point&quot;}, &quot;id&quot;: &quot;105&quot;, &quot;properties&quot;: {&quot;Author&quot;: &quot;SURVEY-INGV&quot;, &quot;Catalog&quot;: &quot;&quot;, &quot;Contributor&quot;: &quot;&quot;, &quot;ContributorID&quot;: &quot;&quot;, &quot;Depth/Km&quot;: &quot;9.3&quot;, &quot;EventID&quot;: &quot;35380831&quot;, &quot;EventLocationName&quot;: &quot;1 km W Bolognola (MC)&quot;, &quot;EventType&quot;: &quot;earthquake&quot;, &quot;Latitude&quot;: &quot;42.9927&quot;, &quot;Longitude&quot;: &quot;13.2148&quot;, &quot;MagAuthor&quot;: &quot;--&quot;, &quot;MagType&quot;: &quot;ML&quot;, &quot;Magnitude&quot;: &quot;2.0&quot;, &quot;Time&quot;: &quot;2023-06-24T10:51:24.850000&quot;}, &quot;type&quot;: &quot;Feature&quot;}, {&quot;bbox&quot;: [16.5997, 39.0778, 16.5997, 39.0778], &quot;geometry&quot;: {&quot;coordinates&quot;: [16.5997, 39.0778], &quot;type&quot;: &quot;Point&quot;}, &quot;id&quot;: &quot;106&quot;, &quot;properties&quot;: {&quot;Author&quot;: &quot;SURVEY-INGV&quot;, &quot;Catalog&quot;: &quot;&quot;, &quot;Contributor&quot;: &quot;&quot;, &quot;ContributorID&quot;: &quot;&quot;, &quot;Depth/Km&quot;: &quot;8.8&quot;, &quot;EventID&quot;: &quot;35379301&quot;, &quot;EventLocationName&quot;: &quot;6 km N Albi (CZ)&quot;, &quot;EventType&quot;: &quot;earthquake&quot;, &quot;Latitude&quot;: &quot;39.0778&quot;, &quot;Longitude&quot;: &quot;16.5997&quot;, &quot;MagAuthor&quot;: &quot;--&quot;, &quot;MagType&quot;: &quot;ML&quot;, &quot;Magnitude&quot;: &quot;2.0&quot;, &quot;Time&quot;: &quot;2023-06-24T06:52:19.920000&quot;}, &quot;type&quot;: &quot;Feature&quot;}, {&quot;bbox&quot;: [13.7168, 41.7008, 13.7168, 41.7008], &quot;geometry&quot;: {&quot;coordinates&quot;: [13.7168, 41.7008], &quot;type&quot;: &quot;Point&quot;}, &quot;id&quot;: &quot;107&quot;, &quot;properties&quot;: {&quot;Author&quot;: &quot;SURVEY-INGV&quot;, &quot;Catalog&quot;: &quot;&quot;, &quot;Contributor&quot;: &quot;&quot;, &quot;ContributorID&quot;: &quot;&quot;, &quot;Depth/Km&quot;: &quot;8.3&quot;, &quot;EventID&quot;: &quot;35373411&quot;, &quot;EventLocationName&quot;: &quot;2 km E Posta Fibreno (FR)&quot;, &quot;EventType&quot;: &quot;earthquake&quot;, &quot;Latitude&quot;: &quot;41.7008&quot;, &quot;Longitude&quot;: &quot;13.7168&quot;, &quot;MagAuthor&quot;: &quot;--&quot;, &quot;MagType&quot;: &quot;ML&quot;, &quot;Magnitude&quot;: &quot;2.2&quot;, &quot;Time&quot;: &quot;2023-06-23T11:29:15.140000&quot;}, &quot;type&quot;: &quot;Feature&quot;}, {&quot;bbox&quot;: [12.8023, 42.0653, 12.8023, 42.0653], &quot;geometry&quot;: {&quot;coordinates&quot;: [12.8023, 42.0653], &quot;type&quot;: &quot;Point&quot;}, &quot;id&quot;: &quot;108&quot;, &quot;properties&quot;: {&quot;Author&quot;: &quot;SURVEY-INGV&quot;, &quot;Catalog&quot;: &quot;&quot;, &quot;Contributor&quot;: &quot;&quot;, &quot;ContributorID&quot;: &quot;&quot;, &quot;Depth/Km&quot;: &quot;10.4&quot;, &quot;EventID&quot;: &quot;35373321&quot;, &quot;EventLocationName&quot;: &quot;3 km E Palombara Sabina (RM)&quot;, &quot;EventType&quot;: &quot;earthquake&quot;, &quot;Latitude&quot;: &quot;42.0653&quot;, &quot;Longitude&quot;: &quot;12.8023&quot;, &quot;MagAuthor&quot;: &quot;--&quot;, &quot;MagType&quot;: &quot;ML&quot;, &quot;Magnitude&quot;: &quot;2.6&quot;, &quot;Time&quot;: &quot;2023-06-23T11:19:04.350000&quot;}, &quot;type&quot;: &quot;Feature&quot;}, {&quot;bbox&quot;: [13.705, 41.7073, 13.705, 41.7073], &quot;geometry&quot;: {&quot;coordinates&quot;: [13.705, 41.7073], &quot;type&quot;: &quot;Point&quot;}, &quot;id&quot;: &quot;109&quot;, &quot;properties&quot;: {&quot;Author&quot;: &quot;SURVEY-INGV&quot;, &quot;Catalog&quot;: &quot;&quot;, &quot;Contributor&quot;: &quot;&quot;, &quot;ContributorID&quot;: &quot;&quot;, &quot;Depth/Km&quot;: &quot;7.4&quot;, &quot;EventID&quot;: &quot;35372731&quot;, &quot;EventLocationName&quot;: &quot;2 km NE Posta Fibreno (FR)&quot;, &quot;EventType&quot;: &quot;earthquake&quot;, &quot;Latitude&quot;: &quot;41.7073&quot;, &quot;Longitude&quot;: &quot;13.705&quot;, &quot;MagAuthor&quot;: &quot;--&quot;, &quot;MagType&quot;: &quot;ML&quot;, &quot;Magnitude&quot;: &quot;3.2&quot;, &quot;Time&quot;: &quot;2023-06-23T10:27:42.080000&quot;}, &quot;type&quot;: &quot;Feature&quot;}, {&quot;bbox&quot;: [12.341, 46.0533, 12.341, 46.0533], &quot;geometry&quot;: {&quot;coordinates&quot;: [12.341, 46.0533], &quot;type&quot;: &quot;Point&quot;}, &quot;id&quot;: &quot;110&quot;, &quot;properties&quot;: {&quot;Author&quot;: &quot;SURVEY-INGV&quot;, &quot;Catalog&quot;: &quot;&quot;, &quot;Contributor&quot;: &quot;&quot;, &quot;ContributorID&quot;: &quot;&quot;, &quot;Depth/Km&quot;: &quot;7.9&quot;, &quot;EventID&quot;: &quot;35370541&quot;, &quot;EventLocationName&quot;: &quot;5 km N Fregona (TV)&quot;, &quot;EventType&quot;: &quot;earthquake&quot;, &quot;Latitude&quot;: &quot;46.0533&quot;, &quot;Longitude&quot;: &quot;12.341&quot;, &quot;MagAuthor&quot;: &quot;--&quot;, &quot;MagType&quot;: &quot;ML&quot;, &quot;Magnitude&quot;: &quot;2.8&quot;, &quot;Time&quot;: &quot;2023-06-23T05:21:47.890000&quot;}, &quot;type&quot;: &quot;Feature&quot;}, {&quot;bbox&quot;: [13.395, 42.773, 13.395, 42.773], &quot;geometry&quot;: {&quot;coordinates&quot;: [13.395, 42.773], &quot;type&quot;: &quot;Point&quot;}, &quot;id&quot;: &quot;111&quot;, &quot;properties&quot;: {&quot;Author&quot;: &quot;SURVEY-INGV&quot;, &quot;Catalog&quot;: &quot;&quot;, &quot;Contributor&quot;: &quot;&quot;, &quot;ContributorID&quot;: &quot;&quot;, &quot;Depth/Km&quot;: &quot;18.5&quot;, &quot;EventID&quot;: &quot;35369731&quot;, &quot;EventLocationName&quot;: &quot;1 km W Acquasanta Terme (AP)&quot;, &quot;EventType&quot;: &quot;earthquake&quot;, &quot;Latitude&quot;: &quot;42.773&quot;, &quot;Longitude&quot;: &quot;13.395&quot;, &quot;MagAuthor&quot;: &quot;--&quot;, &quot;MagType&quot;: &quot;ML&quot;, &quot;Magnitude&quot;: &quot;2.2&quot;, &quot;Time&quot;: &quot;2023-06-23T01:48:00.130000&quot;}, &quot;type&quot;: &quot;Feature&quot;}, {&quot;bbox&quot;: [15.2757, 39.3003, 15.2757, 39.3003], &quot;geometry&quot;: {&quot;coordinates&quot;: [15.2757, 39.3003], &quot;type&quot;: &quot;Point&quot;}, &quot;id&quot;: &quot;112&quot;, &quot;properties&quot;: {&quot;Author&quot;: &quot;SURVEY-INGV&quot;, &quot;Catalog&quot;: &quot;&quot;, &quot;Contributor&quot;: &quot;&quot;, &quot;ContributorID&quot;: &quot;&quot;, &quot;Depth/Km&quot;: &quot;309.2&quot;, &quot;EventID&quot;: &quot;35367721&quot;, &quot;EventLocationName&quot;: &quot;Tirreno Meridionale (MARE)&quot;, &quot;EventType&quot;: &quot;earthquake&quot;, &quot;Latitude&quot;: &quot;39.3003&quot;, &quot;Longitude&quot;: &quot;15.2757&quot;, &quot;MagAuthor&quot;: &quot;--&quot;, &quot;MagType&quot;: &quot;ML&quot;, &quot;Magnitude&quot;: &quot;3.6&quot;, &quot;Time&quot;: &quot;2023-06-22T16:50:45.260000&quot;}, &quot;type&quot;: &quot;Feature&quot;}, {&quot;bbox&quot;: [13.7057, 42.2618, 13.7057, 42.2618], &quot;geometry&quot;: {&quot;coordinates&quot;: [13.7057, 42.2618], &quot;type&quot;: &quot;Point&quot;}, &quot;id&quot;: &quot;113&quot;, &quot;properties&quot;: {&quot;Author&quot;: &quot;SURVEY-INGV&quot;, &quot;Catalog&quot;: &quot;&quot;, &quot;Contributor&quot;: &quot;&quot;, &quot;ContributorID&quot;: &quot;&quot;, &quot;Depth/Km&quot;: &quot;7.9&quot;, &quot;EventID&quot;: &quot;35367441&quot;, &quot;EventLocationName&quot;: &quot;3 km E Caporciano (AQ)&quot;, &quot;EventType&quot;: &quot;earthquake&quot;, &quot;Latitude&quot;: &quot;42.2618&quot;, &quot;Longitude&quot;: &quot;13.7057&quot;, &quot;MagAuthor&quot;: &quot;--&quot;, &quot;MagType&quot;: &quot;ML&quot;, &quot;Magnitude&quot;: &quot;2.0&quot;, &quot;Time&quot;: &quot;2023-06-22T15:21:45.890000&quot;}, &quot;type&quot;: &quot;Feature&quot;}, {&quot;bbox&quot;: [10.7547, 44.4938, 10.7547, 44.4938], &quot;geometry&quot;: {&quot;coordinates&quot;: [10.7547, 44.4938], &quot;type&quot;: &quot;Point&quot;}, &quot;id&quot;: &quot;114&quot;, &quot;properties&quot;: {&quot;Author&quot;: &quot;SURVEY-INGV&quot;, &quot;Catalog&quot;: &quot;&quot;, &quot;Contributor&quot;: &quot;&quot;, &quot;ContributorID&quot;: &quot;&quot;, &quot;Depth/Km&quot;: &quot;20.4&quot;, &quot;EventID&quot;: &quot;35366201&quot;, &quot;EventLocationName&quot;: &quot;3 km SE Castellarano (RE)&quot;, &quot;EventType&quot;: &quot;earthquake&quot;, &quot;Latitude&quot;: &quot;44.4938&quot;, &quot;Longitude&quot;: &quot;10.7547&quot;, &quot;MagAuthor&quot;: &quot;--&quot;, &quot;MagType&quot;: &quot;ML&quot;, &quot;Magnitude&quot;: &quot;2.1&quot;, &quot;Time&quot;: &quot;2023-06-22T11:55:57.320000&quot;}, &quot;type&quot;: &quot;Feature&quot;}, {&quot;bbox&quot;: [15.8812, 40.0675, 15.8812, 40.0675], &quot;geometry&quot;: {&quot;coordinates&quot;: [15.8812, 40.0675], &quot;type&quot;: &quot;Point&quot;}, &quot;id&quot;: &quot;115&quot;, &quot;properties&quot;: {&quot;Author&quot;: &quot;SURVEY-INGV&quot;, &quot;Catalog&quot;: &quot;&quot;, &quot;Contributor&quot;: &quot;&quot;, &quot;ContributorID&quot;: &quot;&quot;, &quot;Depth/Km&quot;: &quot;15.7&quot;, &quot;EventID&quot;: &quot;35364291&quot;, &quot;EventLocationName&quot;: &quot;4 km NE Lauria (PZ)&quot;, &quot;EventType&quot;: &quot;earthquake&quot;, &quot;Latitude&quot;: &quot;40.0675&quot;, &quot;Longitude&quot;: &quot;15.8812&quot;, &quot;MagAuthor&quot;: &quot;--&quot;, &quot;MagType&quot;: &quot;ML&quot;, &quot;Magnitude&quot;: &quot;2.0&quot;, &quot;Time&quot;: &quot;2023-06-22T06:42:09.530000&quot;}, &quot;type&quot;: &quot;Feature&quot;}, {&quot;bbox&quot;: [12.9332, 41.9443, 12.9332, 41.9443], &quot;geometry&quot;: {&quot;coordinates&quot;: [12.9332, 41.9443], &quot;type&quot;: &quot;Point&quot;}, &quot;id&quot;: &quot;116&quot;, &quot;properties&quot;: {&quot;Author&quot;: &quot;SURVEY-INGV&quot;, &quot;Catalog&quot;: &quot;&quot;, &quot;Contributor&quot;: &quot;&quot;, &quot;ContributorID&quot;: &quot;&quot;, &quot;Depth/Km&quot;: &quot;9.4&quot;, &quot;EventID&quot;: &quot;35363891&quot;, &quot;EventLocationName&quot;: &quot;2 km SW Ciciliano (RM)&quot;, &quot;EventType&quot;: &quot;earthquake&quot;, &quot;Latitude&quot;: &quot;41.9443&quot;, &quot;Longitude&quot;: &quot;12.9332&quot;, &quot;MagAuthor&quot;: &quot;--&quot;, &quot;MagType&quot;: &quot;ML&quot;, &quot;Magnitude&quot;: &quot;2.1&quot;, &quot;Time&quot;: &quot;2023-06-22T05:48:24.500000&quot;}, &quot;type&quot;: &quot;Feature&quot;}, {&quot;bbox&quot;: [16.6012, 39.0768, 16.6012, 39.0768], &quot;geometry&quot;: {&quot;coordinates&quot;: [16.6012, 39.0768], &quot;type&quot;: &quot;Point&quot;}, &quot;id&quot;: &quot;117&quot;, &quot;properties&quot;: {&quot;Author&quot;: &quot;SURVEY-INGV&quot;, &quot;Catalog&quot;: &quot;&quot;, &quot;Contributor&quot;: &quot;&quot;, &quot;ContributorID&quot;: &quot;&quot;, &quot;Depth/Km&quot;: &quot;9.3&quot;, &quot;EventID&quot;: &quot;35363251&quot;, &quot;EventLocationName&quot;: &quot;6 km N Albi (CZ)&quot;, &quot;EventType&quot;: &quot;earthquake&quot;, &quot;Latitude&quot;: &quot;39.0768&quot;, &quot;Longitude&quot;: &quot;16.6012&quot;, &quot;MagAuthor&quot;: &quot;--&quot;, &quot;MagType&quot;: &quot;ML&quot;, &quot;Magnitude&quot;: &quot;2.4&quot;, &quot;Time&quot;: &quot;2023-06-22T03:06:06.060000&quot;}, &quot;type&quot;: &quot;Feature&quot;}, {&quot;bbox&quot;: [12.8623, 43.2712, 12.8623, 43.2712], &quot;geometry&quot;: {&quot;coordinates&quot;: [12.8623, 43.2712], &quot;type&quot;: &quot;Point&quot;}, &quot;id&quot;: &quot;118&quot;, &quot;properties&quot;: {&quot;Author&quot;: &quot;SURVEY-INGV&quot;, &quot;Catalog&quot;: &quot;&quot;, &quot;Contributor&quot;: &quot;&quot;, &quot;ContributorID&quot;: &quot;&quot;, &quot;Depth/Km&quot;: &quot;7.3&quot;, &quot;EventID&quot;: &quot;35363051&quot;, &quot;EventLocationName&quot;: &quot;7 km W Esanatoglia (MC)&quot;, &quot;EventType&quot;: &quot;earthquake&quot;, &quot;Latitude&quot;: &quot;43.2712&quot;, &quot;Longitude&quot;: &quot;12.8623&quot;, &quot;MagAuthor&quot;: &quot;--&quot;, &quot;MagType&quot;: &quot;ML&quot;, &quot;Magnitude&quot;: &quot;2.1&quot;, &quot;Time&quot;: &quot;2023-06-22T02:24:10.000000&quot;}, &quot;type&quot;: &quot;Feature&quot;}, {&quot;bbox&quot;: [15.2483, 39.0057, 15.2483, 39.0057], &quot;geometry&quot;: {&quot;coordinates&quot;: [15.2483, 39.0057], &quot;type&quot;: &quot;Point&quot;}, &quot;id&quot;: &quot;119&quot;, &quot;properties&quot;: {&quot;Author&quot;: &quot;SURVEY-INGV&quot;, &quot;Catalog&quot;: &quot;&quot;, &quot;Contributor&quot;: &quot;&quot;, &quot;ContributorID&quot;: &quot;&quot;, &quot;Depth/Km&quot;: &quot;288.9&quot;, &quot;EventID&quot;: &quot;35362381&quot;, &quot;EventLocationName&quot;: &quot;Tirreno Meridionale (MARE)&quot;, &quot;EventType&quot;: &quot;earthquake&quot;, &quot;Latitude&quot;: &quot;39.0057&quot;, &quot;Longitude&quot;: &quot;15.2483&quot;, &quot;MagAuthor&quot;: &quot;--&quot;, &quot;MagType&quot;: &quot;ML&quot;, &quot;Magnitude&quot;: &quot;2.5&quot;, &quot;Time&quot;: &quot;2023-06-21T23:33:32.330000&quot;}, &quot;type&quot;: &quot;Feature&quot;}, {&quot;bbox&quot;: [15.814, 40.006, 15.814, 40.006], &quot;geometry&quot;: {&quot;coordinates&quot;: [15.814, 40.006], &quot;type&quot;: &quot;Point&quot;}, &quot;id&quot;: &quot;120&quot;, &quot;properties&quot;: {&quot;Author&quot;: &quot;SURVEY-INGV&quot;, &quot;Catalog&quot;: &quot;&quot;, &quot;Contributor&quot;: &quot;&quot;, &quot;ContributorID&quot;: &quot;&quot;, &quot;Depth/Km&quot;: &quot;45.1&quot;, &quot;EventID&quot;: &quot;35361891&quot;, &quot;EventLocationName&quot;: &quot;4 km SE Trecchina (PZ)&quot;, &quot;EventType&quot;: &quot;earthquake&quot;, &quot;Latitude&quot;: &quot;40.006&quot;, &quot;Longitude&quot;: &quot;15.814&quot;, &quot;MagAuthor&quot;: &quot;--&quot;, &quot;MagType&quot;: &quot;ML&quot;, &quot;Magnitude&quot;: &quot;2.2&quot;, &quot;Time&quot;: &quot;2023-06-21T21:05:44.730000&quot;}, &quot;type&quot;: &quot;Feature&quot;}, {&quot;bbox&quot;: [12.8668, 43.2712, 12.8668, 43.2712], &quot;geometry&quot;: {&quot;coordinates&quot;: [12.8668, 43.2712], &quot;type&quot;: &quot;Point&quot;}, &quot;id&quot;: &quot;121&quot;, &quot;properties&quot;: {&quot;Author&quot;: &quot;SURVEY-INGV&quot;, &quot;Catalog&quot;: &quot;&quot;, &quot;Contributor&quot;: &quot;&quot;, &quot;ContributorID&quot;: &quot;&quot;, &quot;Depth/Km&quot;: &quot;6.8&quot;, &quot;EventID&quot;: &quot;35361641&quot;, &quot;EventLocationName&quot;: &quot;7 km W Esanatoglia (MC)&quot;, &quot;EventType&quot;: &quot;earthquake&quot;, &quot;Latitude&quot;: &quot;43.2712&quot;, &quot;Longitude&quot;: &quot;12.8668&quot;, &quot;MagAuthor&quot;: &quot;--&quot;, &quot;MagType&quot;: &quot;ML&quot;, &quot;Magnitude&quot;: &quot;2.3&quot;, &quot;Time&quot;: &quot;2023-06-21T20:35:37.520000&quot;}, &quot;type&quot;: &quot;Feature&quot;}, {&quot;bbox&quot;: [10.7022, 44.5113, 10.7022, 44.5113], &quot;geometry&quot;: {&quot;coordinates&quot;: [10.7022, 44.5113], &quot;type&quot;: &quot;Point&quot;}, &quot;id&quot;: &quot;122&quot;, &quot;properties&quot;: {&quot;Author&quot;: &quot;SURVEY-INGV&quot;, &quot;Catalog&quot;: &quot;&quot;, &quot;Contributor&quot;: &quot;&quot;, &quot;ContributorID&quot;: &quot;&quot;, &quot;Depth/Km&quot;: &quot;10.2&quot;, &quot;EventID&quot;: &quot;35360381&quot;, &quot;EventLocationName&quot;: &quot;2 km W Castellarano (RE)&quot;, &quot;EventType&quot;: &quot;earthquake&quot;, &quot;Latitude&quot;: &quot;44.5113&quot;, &quot;Longitude&quot;: &quot;10.7022&quot;, &quot;MagAuthor&quot;: &quot;--&quot;, &quot;MagType&quot;: &quot;ML&quot;, &quot;Magnitude&quot;: &quot;2.4&quot;, &quot;Time&quot;: &quot;2023-06-21T16:41:39.330000&quot;}, &quot;type&quot;: &quot;Feature&quot;}, {&quot;bbox&quot;: [15.7223, 42.1022, 15.7223, 42.1022], &quot;geometry&quot;: {&quot;coordinates&quot;: [15.7223, 42.1022], &quot;type&quot;: &quot;Point&quot;}, &quot;id&quot;: &quot;123&quot;, &quot;properties&quot;: {&quot;Author&quot;: &quot;BULLETIN-INGV&quot;, &quot;Catalog&quot;: &quot;&quot;, &quot;Contributor&quot;: &quot;&quot;, &quot;ContributorID&quot;: &quot;&quot;, &quot;Depth/Km&quot;: &quot;35.8&quot;, &quot;EventID&quot;: &quot;35359931&quot;, &quot;EventLocationName&quot;: &quot;Costa Garganica (Foggia)&quot;, &quot;EventType&quot;: &quot;earthquake&quot;, &quot;Latitude&quot;: &quot;42.1022&quot;, &quot;Longitude&quot;: &quot;15.7223&quot;, &quot;MagAuthor&quot;: &quot;--&quot;, &quot;MagType&quot;: &quot;Mw&quot;, &quot;Magnitude&quot;: &quot;4.1&quot;, &quot;Time&quot;: &quot;2023-06-21T15:33:53.740000&quot;}, &quot;type&quot;: &quot;Feature&quot;}, {&quot;bbox&quot;: [10.7637, 44.4948, 10.7637, 44.4948], &quot;geometry&quot;: {&quot;coordinates&quot;: [10.7637, 44.4948], &quot;type&quot;: &quot;Point&quot;}, &quot;id&quot;: &quot;124&quot;, &quot;properties&quot;: {&quot;Author&quot;: &quot;SURVEY-INGV&quot;, &quot;Catalog&quot;: &quot;&quot;, &quot;Contributor&quot;: &quot;&quot;, &quot;ContributorID&quot;: &quot;&quot;, &quot;Depth/Km&quot;: &quot;17.6&quot;, &quot;EventID&quot;: &quot;35357591&quot;, &quot;EventLocationName&quot;: &quot;3 km SE Castellarano (RE)&quot;, &quot;EventType&quot;: &quot;earthquake&quot;, &quot;Latitude&quot;: &quot;44.4948&quot;, &quot;Longitude&quot;: &quot;10.7637&quot;, &quot;MagAuthor&quot;: &quot;--&quot;, &quot;MagType&quot;: &quot;ML&quot;, &quot;Magnitude&quot;: &quot;2.1&quot;, &quot;Time&quot;: &quot;2023-06-21T08:37:59.480000&quot;}, &quot;type&quot;: &quot;Feature&quot;}, {&quot;bbox&quot;: [10.7652, 44.489, 10.7652, 44.489], &quot;geometry&quot;: {&quot;coordinates&quot;: [10.7652, 44.489], &quot;type&quot;: &quot;Point&quot;}, &quot;id&quot;: &quot;125&quot;, &quot;properties&quot;: {&quot;Author&quot;: &quot;SURVEY-INGV&quot;, &quot;Catalog&quot;: &quot;&quot;, &quot;Contributor&quot;: &quot;&quot;, &quot;ContributorID&quot;: &quot;&quot;, &quot;Depth/Km&quot;: &quot;22.3&quot;, &quot;EventID&quot;: &quot;35356981&quot;, &quot;EventLocationName&quot;: &quot;4 km SE Castellarano (RE)&quot;, &quot;EventType&quot;: &quot;earthquake&quot;, &quot;Latitude&quot;: &quot;44.489&quot;, &quot;Longitude&quot;: &quot;10.7652&quot;, &quot;MagAuthor&quot;: &quot;--&quot;, &quot;MagType&quot;: &quot;ML&quot;, &quot;Magnitude&quot;: &quot;2.4&quot;, &quot;Time&quot;: &quot;2023-06-21T07:27:13.940000&quot;}, &quot;type&quot;: &quot;Feature&quot;}, {&quot;bbox&quot;: [10.7278, 44.4597, 10.7278, 44.4597], &quot;geometry&quot;: {&quot;coordinates&quot;: [10.7278, 44.4597], &quot;type&quot;: &quot;Point&quot;}, &quot;id&quot;: &quot;126&quot;, &quot;properties&quot;: {&quot;Author&quot;: &quot;SURVEY-INGV&quot;, &quot;Catalog&quot;: &quot;&quot;, &quot;Contributor&quot;: &quot;&quot;, &quot;ContributorID&quot;: &quot;&quot;, &quot;Depth/Km&quot;: &quot;29.0&quot;, &quot;EventID&quot;: &quot;35356941&quot;, &quot;EventLocationName&quot;: &quot;4 km NE Prignano sulla Secchia (MO)&quot;, &quot;EventType&quot;: &quot;earthquake&quot;, &quot;Latitude&quot;: &quot;44.4597&quot;, &quot;Longitude&quot;: &quot;10.7278&quot;, &quot;MagAuthor&quot;: &quot;--&quot;, &quot;MagType&quot;: &quot;ML&quot;, &quot;Magnitude&quot;: &quot;2.1&quot;, &quot;Time&quot;: &quot;2023-06-21T07:27:13.750000&quot;}, &quot;type&quot;: &quot;Feature&quot;}, {&quot;bbox&quot;: [10.7417, 44.4757, 10.7417, 44.4757], &quot;geometry&quot;: {&quot;coordinates&quot;: [10.7417, 44.4757], &quot;type&quot;: &quot;Point&quot;}, &quot;id&quot;: &quot;127&quot;, &quot;properties&quot;: {&quot;Author&quot;: &quot;SURVEY-INGV&quot;, &quot;Catalog&quot;: &quot;&quot;, &quot;Contributor&quot;: &quot;&quot;, &quot;ContributorID&quot;: &quot;&quot;, &quot;Depth/Km&quot;: &quot;27.4&quot;, &quot;EventID&quot;: &quot;35356811&quot;, &quot;EventLocationName&quot;: &quot;4 km S Castellarano (RE)&quot;, &quot;EventType&quot;: &quot;earthquake&quot;, &quot;Latitude&quot;: &quot;44.4757&quot;, &quot;Longitude&quot;: &quot;10.7417&quot;, &quot;MagAuthor&quot;: &quot;--&quot;, &quot;MagType&quot;: &quot;ML&quot;, &quot;Magnitude&quot;: &quot;3.2&quot;, &quot;Time&quot;: &quot;2023-06-21T07:25:39.440000&quot;}, &quot;type&quot;: &quot;Feature&quot;}, {&quot;bbox&quot;: [10.7328, 44.4897, 10.7328, 44.4897], &quot;geometry&quot;: {&quot;coordinates&quot;: [10.7328, 44.4897], &quot;type&quot;: &quot;Point&quot;}, &quot;id&quot;: &quot;128&quot;, &quot;properties&quot;: {&quot;Author&quot;: &quot;SURVEY-INGV&quot;, &quot;Catalog&quot;: &quot;&quot;, &quot;Contributor&quot;: &quot;&quot;, &quot;ContributorID&quot;: &quot;&quot;, &quot;Depth/Km&quot;: &quot;25.6&quot;, &quot;EventID&quot;: &quot;35356191&quot;, &quot;EventLocationName&quot;: &quot;2 km S Castellarano (RE)&quot;, &quot;EventType&quot;: &quot;earthquake&quot;, &quot;Latitude&quot;: &quot;44.4897&quot;, &quot;Longitude&quot;: &quot;10.7328&quot;, &quot;MagAuthor&quot;: &quot;--&quot;, &quot;MagType&quot;: &quot;ML&quot;, &quot;Magnitude&quot;: &quot;2.2&quot;, &quot;Time&quot;: &quot;2023-06-21T06:06:41.200000&quot;}, &quot;type&quot;: &quot;Feature&quot;}, {&quot;bbox&quot;: [10.7163, 44.4657, 10.7163, 44.4657], &quot;geometry&quot;: {&quot;coordinates&quot;: [10.7163, 44.4657], &quot;type&quot;: &quot;Point&quot;}, &quot;id&quot;: &quot;129&quot;, &quot;properties&quot;: {&quot;Author&quot;: &quot;SURVEY-INGV&quot;, &quot;Catalog&quot;: &quot;&quot;, &quot;Contributor&quot;: &quot;&quot;, &quot;ContributorID&quot;: &quot;&quot;, &quot;Depth/Km&quot;: &quot;30.9&quot;, &quot;EventID&quot;: &quot;35356091&quot;, &quot;EventLocationName&quot;: &quot;4 km NE Prignano sulla Secchia (MO)&quot;, &quot;EventType&quot;: &quot;earthquake&quot;, &quot;Latitude&quot;: &quot;44.4657&quot;, &quot;Longitude&quot;: &quot;10.7163&quot;, &quot;MagAuthor&quot;: &quot;--&quot;, &quot;MagType&quot;: &quot;ML&quot;, &quot;Magnitude&quot;: &quot;3.0&quot;, &quot;Time&quot;: &quot;2023-06-21T06:01:48.000000&quot;}, &quot;type&quot;: &quot;Feature&quot;}, {&quot;bbox&quot;: [11.1878, 44.642, 11.1878, 44.642], &quot;geometry&quot;: {&quot;coordinates&quot;: [11.1878, 44.642], &quot;type&quot;: &quot;Point&quot;}, &quot;id&quot;: &quot;130&quot;, &quot;properties&quot;: {&quot;Author&quot;: &quot;SURVEY-INGV&quot;, &quot;Catalog&quot;: &quot;&quot;, &quot;Contributor&quot;: &quot;&quot;, &quot;ContributorID&quot;: &quot;&quot;, &quot;Depth/Km&quot;: &quot;2.1&quot;, &quot;EventID&quot;: &quot;35355981&quot;, &quot;EventLocationName&quot;: &quot;San Giovanni in Persiceto (BO)&quot;, &quot;EventType&quot;: &quot;earthquake&quot;, &quot;Latitude&quot;: &quot;44.642&quot;, &quot;Longitude&quot;: &quot;11.1878&quot;, &quot;MagAuthor&quot;: &quot;--&quot;, &quot;MagType&quot;: &quot;ML&quot;, &quot;Magnitude&quot;: &quot;2.1&quot;, &quot;Time&quot;: &quot;2023-06-21T05:56:23.620000&quot;}, &quot;type&quot;: &quot;Feature&quot;}, {&quot;bbox&quot;: [13.7022, 42.2713, 13.7022, 42.2713], &quot;geometry&quot;: {&quot;coordinates&quot;: [13.7022, 42.2713], &quot;type&quot;: &quot;Point&quot;}, &quot;id&quot;: &quot;131&quot;, &quot;properties&quot;: {&quot;Author&quot;: &quot;SURVEY-INGV&quot;, &quot;Catalog&quot;: &quot;&quot;, &quot;Contributor&quot;: &quot;&quot;, &quot;ContributorID&quot;: &quot;&quot;, &quot;Depth/Km&quot;: &quot;9.2&quot;, &quot;EventID&quot;: &quot;35355671&quot;, &quot;EventLocationName&quot;: &quot;3 km NE Caporciano (AQ)&quot;, &quot;EventType&quot;: &quot;earthquake&quot;, &quot;Latitude&quot;: &quot;42.2713&quot;, &quot;Longitude&quot;: &quot;13.7022&quot;, &quot;MagAuthor&quot;: &quot;--&quot;, &quot;MagType&quot;: &quot;ML&quot;, &quot;Magnitude&quot;: &quot;2.8&quot;, &quot;Time&quot;: &quot;2023-06-21T05:27:56.770000&quot;}, &quot;type&quot;: &quot;Feature&quot;}, {&quot;bbox&quot;: [10.7042, 44.5167, 10.7042, 44.5167], &quot;geometry&quot;: {&quot;coordinates&quot;: [10.7042, 44.5167], &quot;type&quot;: &quot;Point&quot;}, &quot;id&quot;: &quot;132&quot;, &quot;properties&quot;: {&quot;Author&quot;: &quot;SURVEY-INGV&quot;, &quot;Catalog&quot;: &quot;&quot;, &quot;Contributor&quot;: &quot;&quot;, &quot;ContributorID&quot;: &quot;&quot;, &quot;Depth/Km&quot;: &quot;22.9&quot;, &quot;EventID&quot;: &quot;35354831&quot;, &quot;EventLocationName&quot;: &quot;2 km W Castellarano (RE)&quot;, &quot;EventType&quot;: &quot;earthquake&quot;, &quot;Latitude&quot;: &quot;44.5167&quot;, &quot;Longitude&quot;: &quot;10.7042&quot;, &quot;MagAuthor&quot;: &quot;--&quot;, &quot;MagType&quot;: &quot;ML&quot;, &quot;Magnitude&quot;: &quot;2.4&quot;, &quot;Time&quot;: &quot;2023-06-21T00:32:05.100000&quot;}, &quot;type&quot;: &quot;Feature&quot;}, {&quot;bbox&quot;: [12.6162, 42.4717, 12.6162, 42.4717], &quot;geometry&quot;: {&quot;coordinates&quot;: [12.6162, 42.4717], &quot;type&quot;: &quot;Point&quot;}, &quot;id&quot;: &quot;133&quot;, &quot;properties&quot;: {&quot;Author&quot;: &quot;SURVEY-INGV&quot;, &quot;Catalog&quot;: &quot;&quot;, &quot;Contributor&quot;: &quot;&quot;, &quot;ContributorID&quot;: &quot;&quot;, &quot;Depth/Km&quot;: &quot;7.9&quot;, &quot;EventID&quot;: &quot;35349401&quot;, &quot;EventLocationName&quot;: &quot;5 km SW Stroncone (TR)&quot;, &quot;EventType&quot;: &quot;earthquake&quot;, &quot;Latitude&quot;: &quot;42.4717&quot;, &quot;Longitude&quot;: &quot;12.6162&quot;, &quot;MagAuthor&quot;: &quot;--&quot;, &quot;MagType&quot;: &quot;ML&quot;, &quot;Magnitude&quot;: &quot;2.2&quot;, &quot;Time&quot;: &quot;2023-06-20T03:41:26.650000&quot;}, &quot;type&quot;: &quot;Feature&quot;}, {&quot;bbox&quot;: [13.1588, 42.9682, 13.1588, 42.9682], &quot;geometry&quot;: {&quot;coordinates&quot;: [13.1588, 42.9682], &quot;type&quot;: &quot;Point&quot;}, &quot;id&quot;: &quot;134&quot;, &quot;properties&quot;: {&quot;Author&quot;: &quot;SURVEY-INGV&quot;, &quot;Catalog&quot;: &quot;&quot;, &quot;Contributor&quot;: &quot;&quot;, &quot;ContributorID&quot;: &quot;&quot;, &quot;Depth/Km&quot;: &quot;13.1&quot;, &quot;EventID&quot;: &quot;35343361&quot;, &quot;EventLocationName&quot;: &quot;3 km NE Ussita (MC)&quot;, &quot;EventType&quot;: &quot;earthquake&quot;, &quot;Latitude&quot;: &quot;42.9682&quot;, &quot;Longitude&quot;: &quot;13.1588&quot;, &quot;MagAuthor&quot;: &quot;--&quot;, &quot;MagType&quot;: &quot;ML&quot;, &quot;Magnitude&quot;: &quot;2.0&quot;, &quot;Time&quot;: &quot;2023-06-19T05:06:46.760000&quot;}, &quot;type&quot;: &quot;Feature&quot;}, {&quot;bbox&quot;: [14.160667, 40.816833, 14.160667, 40.816833], &quot;geometry&quot;: {&quot;coordinates&quot;: [14.160667, 40.816833], &quot;type&quot;: &quot;Point&quot;}, &quot;id&quot;: &quot;135&quot;, &quot;properties&quot;: {&quot;Author&quot;: &quot;SURVEY-INGV-OV#SiSmi&quot;, &quot;Catalog&quot;: &quot;&quot;, &quot;Contributor&quot;: &quot;&quot;, &quot;ContributorID&quot;: &quot;&quot;, &quot;Depth/Km&quot;: &quot;2.6&quot;, &quot;EventID&quot;: &quot;35339681&quot;, &quot;EventLocationName&quot;: &quot;Campi Flegrei&quot;, &quot;EventType&quot;: &quot;earthquake&quot;, &quot;Latitude&quot;: &quot;40.816833&quot;, &quot;Longitude&quot;: &quot;14.160667&quot;, &quot;MagAuthor&quot;: &quot;--&quot;, &quot;MagType&quot;: &quot;Md&quot;, &quot;Magnitude&quot;: &quot;2.4&quot;, &quot;Time&quot;: &quot;2023-06-18T12:46:11.180000&quot;}, &quot;type&quot;: &quot;Feature&quot;}, {&quot;bbox&quot;: [15.1383, 38.5733, 15.1383, 38.5733], &quot;geometry&quot;: {&quot;coordinates&quot;: [15.1383, 38.5733], &quot;type&quot;: &quot;Point&quot;}, &quot;id&quot;: &quot;136&quot;, &quot;properties&quot;: {&quot;Author&quot;: &quot;SURVEY-INGV&quot;, &quot;Catalog&quot;: &quot;&quot;, &quot;Contributor&quot;: &quot;&quot;, &quot;ContributorID&quot;: &quot;&quot;, &quot;Depth/Km&quot;: &quot;185.2&quot;, &quot;EventID&quot;: &quot;35334611&quot;, &quot;EventLocationName&quot;: &quot;Isole Eolie (Messina)&quot;, &quot;EventType&quot;: &quot;earthquake&quot;, &quot;Latitude&quot;: &quot;38.5733&quot;, &quot;Longitude&quot;: &quot;15.1383&quot;, &quot;MagAuthor&quot;: &quot;--&quot;, &quot;MagType&quot;: &quot;ML&quot;, &quot;Magnitude&quot;: &quot;2.7&quot;, &quot;Time&quot;: &quot;2023-06-17T19:21:59.990000&quot;}, &quot;type&quot;: &quot;Feature&quot;}, {&quot;bbox&quot;: [15.3102, 45.6668, 15.3102, 45.6668], &quot;geometry&quot;: {&quot;coordinates&quot;: [15.3102, 45.6668], &quot;type&quot;: &quot;Point&quot;}, &quot;id&quot;: &quot;137&quot;, &quot;properties&quot;: {&quot;Author&quot;: &quot;SURVEY-INGV&quot;, &quot;Catalog&quot;: &quot;&quot;, &quot;Contributor&quot;: &quot;&quot;, &quot;ContributorID&quot;: &quot;&quot;, &quot;Depth/Km&quot;: &quot;8.2&quot;, &quot;EventID&quot;: &quot;35330191&quot;, &quot;EventLocationName&quot;: &quot;Confine Slovenia-Croazia (SLOVENIA, CROAZIA)&quot;, &quot;EventType&quot;: &quot;earthquake&quot;, &quot;Latitude&quot;: &quot;45.6668&quot;, &quot;Longitude&quot;: &quot;15.3102&quot;, &quot;MagAuthor&quot;: &quot;--&quot;, &quot;MagType&quot;: &quot;ML&quot;, &quot;Magnitude&quot;: &quot;2.3&quot;, &quot;Time&quot;: &quot;2023-06-17T08:53:16.210000&quot;}, &quot;type&quot;: &quot;Feature&quot;}, {&quot;bbox&quot;: [14.098, 40.811333, 14.098, 40.811333], &quot;geometry&quot;: {&quot;coordinates&quot;: [14.098, 40.811333], &quot;type&quot;: &quot;Point&quot;}, &quot;id&quot;: &quot;138&quot;, &quot;properties&quot;: {&quot;Author&quot;: &quot;SURVEY-INGV-OV#SiSmi&quot;, &quot;Catalog&quot;: &quot;&quot;, &quot;Contributor&quot;: &quot;&quot;, &quot;ContributorID&quot;: &quot;&quot;, &quot;Depth/Km&quot;: &quot;2.9&quot;, &quot;EventID&quot;: &quot;35324561&quot;, &quot;EventLocationName&quot;: &quot;Campi Flegrei&quot;, &quot;EventType&quot;: &quot;earthquake&quot;, &quot;Latitude&quot;: &quot;40.811333&quot;, &quot;Longitude&quot;: &quot;14.098&quot;, &quot;MagAuthor&quot;: &quot;--&quot;, &quot;MagType&quot;: &quot;Md&quot;, &quot;Magnitude&quot;: &quot;2.3&quot;, &quot;Time&quot;: &quot;2023-06-16T12:59:23.880000&quot;}, &quot;type&quot;: &quot;Feature&quot;}, {&quot;bbox&quot;: [14.5787, 38.4142, 14.5787, 38.4142], &quot;geometry&quot;: {&quot;coordinates&quot;: [14.5787, 38.4142], &quot;type&quot;: &quot;Point&quot;}, &quot;id&quot;: &quot;139&quot;, &quot;properties&quot;: {&quot;Author&quot;: &quot;SURVEY-INGV&quot;, &quot;Catalog&quot;: &quot;&quot;, &quot;Contributor&quot;: &quot;&quot;, &quot;ContributorID&quot;: &quot;&quot;, &quot;Depth/Km&quot;: &quot;6.6&quot;, &quot;EventID&quot;: &quot;35323431&quot;, &quot;EventLocationName&quot;: &quot;Isole Eolie (Messina)&quot;, &quot;EventType&quot;: &quot;earthquake&quot;, &quot;Latitude&quot;: &quot;38.4142&quot;, &quot;Longitude&quot;: &quot;14.5787&quot;, &quot;MagAuthor&quot;: &quot;--&quot;, &quot;MagType&quot;: &quot;ML&quot;, &quot;Magnitude&quot;: &quot;2.4&quot;, &quot;Time&quot;: &quot;2023-06-16T10:46:41.690000&quot;}, &quot;type&quot;: &quot;Feature&quot;}, {&quot;bbox&quot;: [13.5438, 42.7378, 13.5438, 42.7378], &quot;geometry&quot;: {&quot;coordinates&quot;: [13.5438, 42.7378], &quot;type&quot;: &quot;Point&quot;}, &quot;id&quot;: &quot;140&quot;, &quot;properties&quot;: {&quot;Author&quot;: &quot;SURVEY-INGV&quot;, &quot;Catalog&quot;: &quot;&quot;, &quot;Contributor&quot;: &quot;&quot;, &quot;ContributorID&quot;: &quot;&quot;, &quot;Depth/Km&quot;: &quot;16.7&quot;, &quot;EventID&quot;: &quot;35322901&quot;, &quot;EventLocationName&quot;: &quot;4 km E Valle Castellana (TE)&quot;, &quot;EventType&quot;: &quot;earthquake&quot;, &quot;Latitude&quot;: &quot;42.7378&quot;, &quot;Longitude&quot;: &quot;13.5438&quot;, &quot;MagAuthor&quot;: &quot;--&quot;, &quot;MagType&quot;: &quot;ML&quot;, &quot;Magnitude&quot;: &quot;2.0&quot;, &quot;Time&quot;: &quot;2023-06-16T10:15:55.480000&quot;}, &quot;type&quot;: &quot;Feature&quot;}, {&quot;bbox&quot;: [14.8962, 45.373, 14.8962, 45.373], &quot;geometry&quot;: {&quot;coordinates&quot;: [14.8962, 45.373], &quot;type&quot;: &quot;Point&quot;}, &quot;id&quot;: &quot;141&quot;, &quot;properties&quot;: {&quot;Author&quot;: &quot;SURVEY-INGV&quot;, &quot;Catalog&quot;: &quot;&quot;, &quot;Contributor&quot;: &quot;&quot;, &quot;ContributorID&quot;: &quot;&quot;, &quot;Depth/Km&quot;: &quot;10.0&quot;, &quot;EventID&quot;: &quot;35321641&quot;, &quot;EventLocationName&quot;: &quot;Confine Slovenia-Croazia (SLOVENIA, CROAZIA)&quot;, &quot;EventType&quot;: &quot;earthquake&quot;, &quot;Latitude&quot;: &quot;45.373&quot;, &quot;Longitude&quot;: &quot;14.8962&quot;, &quot;MagAuthor&quot;: &quot;--&quot;, &quot;MagType&quot;: &quot;ML&quot;, &quot;Magnitude&quot;: &quot;3.1&quot;, &quot;Time&quot;: &quot;2023-06-16T08:00:19.670000&quot;}, &quot;type&quot;: &quot;Feature&quot;}, {&quot;bbox&quot;: [15.133, 37.693, 15.133, 37.693], &quot;geometry&quot;: {&quot;coordinates&quot;: [15.133, 37.693], &quot;type&quot;: &quot;Point&quot;}, &quot;id&quot;: &quot;142&quot;, &quot;properties&quot;: {&quot;Author&quot;: &quot;SURVEY-INGV-CT#SeismPicker_SO-OE&quot;, &quot;Catalog&quot;: &quot;&quot;, &quot;Contributor&quot;: &quot;&quot;, &quot;ContributorID&quot;: &quot;&quot;, &quot;Depth/Km&quot;: &quot;4.2&quot;, &quot;EventID&quot;: &quot;35320251&quot;, &quot;EventLocationName&quot;: &quot;1 km NW Santa Venerina (CT)&quot;, &quot;EventType&quot;: &quot;earthquake&quot;, &quot;Latitude&quot;: &quot;37.693&quot;, &quot;Longitude&quot;: &quot;15.133&quot;, &quot;MagAuthor&quot;: &quot;--&quot;, &quot;MagType&quot;: &quot;ML&quot;, &quot;Magnitude&quot;: &quot;2.5&quot;, &quot;Time&quot;: &quot;2023-06-16T04:33:28.000000&quot;}, &quot;type&quot;: &quot;Feature&quot;}, {&quot;bbox&quot;: [11.987, 43.7068, 11.987, 43.7068], &quot;geometry&quot;: {&quot;coordinates&quot;: [11.987, 43.7068], &quot;type&quot;: &quot;Point&quot;}, &quot;id&quot;: &quot;143&quot;, &quot;properties&quot;: {&quot;Author&quot;: &quot;SURVEY-INGV&quot;, &quot;Catalog&quot;: &quot;&quot;, &quot;Contributor&quot;: &quot;&quot;, &quot;ContributorID&quot;: &quot;&quot;, &quot;Depth/Km&quot;: &quot;8.2&quot;, &quot;EventID&quot;: &quot;35319481&quot;, &quot;EventLocationName&quot;: &quot;4 km E Chiusi della Verna (AR)&quot;, &quot;EventType&quot;: &quot;earthquake&quot;, &quot;Latitude&quot;: &quot;43.7068&quot;, &quot;Longitude&quot;: &quot;11.987&quot;, &quot;MagAuthor&quot;: &quot;--&quot;, &quot;MagType&quot;: &quot;ML&quot;, &quot;Magnitude&quot;: &quot;2.3&quot;, &quot;Time&quot;: &quot;2023-06-16T02:17:24.070000&quot;}, &quot;type&quot;: &quot;Feature&quot;}, {&quot;bbox&quot;: [16.0537, 41.5867, 16.0537, 41.5867], &quot;geometry&quot;: {&quot;coordinates&quot;: [16.0537, 41.5867], &quot;type&quot;: &quot;Point&quot;}, &quot;id&quot;: &quot;144&quot;, &quot;properties&quot;: {&quot;Author&quot;: &quot;SURVEY-INGV&quot;, &quot;Catalog&quot;: &quot;&quot;, &quot;Contributor&quot;: &quot;&quot;, &quot;ContributorID&quot;: &quot;&quot;, &quot;Depth/Km&quot;: &quot;5.6&quot;, &quot;EventID&quot;: &quot;35318751&quot;, &quot;EventLocationName&quot;: &quot;Golfo di Manfredonia (Foggia)&quot;, &quot;EventType&quot;: &quot;earthquake&quot;, &quot;Latitude&quot;: &quot;41.5867&quot;, &quot;Longitude&quot;: &quot;16.0537&quot;, &quot;MagAuthor&quot;: &quot;--&quot;, &quot;MagType&quot;: &quot;ML&quot;, &quot;Magnitude&quot;: &quot;2.0&quot;, &quot;Time&quot;: &quot;2023-06-15T21:24:22.080000&quot;}, &quot;type&quot;: &quot;Feature&quot;}, {&quot;bbox&quot;: [13.5365, 42.7318, 13.5365, 42.7318], &quot;geometry&quot;: {&quot;coordinates&quot;: [13.5365, 42.7318], &quot;type&quot;: &quot;Point&quot;}, &quot;id&quot;: &quot;145&quot;, &quot;properties&quot;: {&quot;Author&quot;: &quot;SURVEY-INGV&quot;, &quot;Catalog&quot;: &quot;&quot;, &quot;Contributor&quot;: &quot;&quot;, &quot;ContributorID&quot;: &quot;&quot;, &quot;Depth/Km&quot;: &quot;14.9&quot;, &quot;EventID&quot;: &quot;35317261&quot;, &quot;EventLocationName&quot;: &quot;3 km E Valle Castellana (TE)&quot;, &quot;EventType&quot;: &quot;earthquake&quot;, &quot;Latitude&quot;: &quot;42.7318&quot;, &quot;Longitude&quot;: &quot;13.5365&quot;, &quot;MagAuthor&quot;: &quot;--&quot;, &quot;MagType&quot;: &quot;ML&quot;, &quot;Magnitude&quot;: &quot;2.0&quot;, &quot;Time&quot;: &quot;2023-06-15T16:01:56.470000&quot;}, &quot;type&quot;: &quot;Feature&quot;}, {&quot;bbox&quot;: [14.141333, 40.830167, 14.141333, 40.830167], &quot;geometry&quot;: {&quot;coordinates&quot;: [14.141333, 40.830167], &quot;type&quot;: &quot;Point&quot;}, &quot;id&quot;: &quot;146&quot;, &quot;properties&quot;: {&quot;Author&quot;: &quot;SURVEY-INGV-OV#SiSmi&quot;, &quot;Catalog&quot;: &quot;&quot;, &quot;Contributor&quot;: &quot;&quot;, &quot;ContributorID&quot;: &quot;&quot;, &quot;Depth/Km&quot;: &quot;2.8&quot;, &quot;EventID&quot;: &quot;35317131&quot;, &quot;EventLocationName&quot;: &quot;Campi Flegrei&quot;, &quot;EventType&quot;: &quot;earthquake&quot;, &quot;Latitude&quot;: &quot;40.830167&quot;, &quot;Longitude&quot;: &quot;14.141333&quot;, &quot;MagAuthor&quot;: &quot;--&quot;, &quot;MagType&quot;: &quot;Md&quot;, &quot;Magnitude&quot;: &quot;2.9&quot;, &quot;Time&quot;: &quot;2023-06-15T15:39:40.339000&quot;}, &quot;type&quot;: &quot;Feature&quot;}, {&quot;bbox&quot;: [14.3063, 41.2352, 14.3063, 41.2352], &quot;geometry&quot;: {&quot;coordinates&quot;: [14.3063, 41.2352], &quot;type&quot;: &quot;Point&quot;}, &quot;id&quot;: &quot;147&quot;, &quot;properties&quot;: {&quot;Author&quot;: &quot;SURVEY-INGV&quot;, &quot;Catalog&quot;: &quot;&quot;, &quot;Contributor&quot;: &quot;&quot;, &quot;ContributorID&quot;: &quot;&quot;, &quot;Depth/Km&quot;: &quot;7.0&quot;, &quot;EventID&quot;: &quot;35312021&quot;, &quot;EventLocationName&quot;: &quot;2 km NE Liberi (CE)&quot;, &quot;EventType&quot;: &quot;earthquake&quot;, &quot;Latitude&quot;: &quot;41.2352&quot;, &quot;Longitude&quot;: &quot;14.3063&quot;, &quot;MagAuthor&quot;: &quot;--&quot;, &quot;MagType&quot;: &quot;ML&quot;, &quot;Magnitude&quot;: &quot;2.1&quot;, &quot;Time&quot;: &quot;2023-06-14T16:56:18.760000&quot;}, &quot;type&quot;: &quot;Feature&quot;}, {&quot;bbox&quot;: [12.2013, 47.5462, 12.2013, 47.5462], &quot;geometry&quot;: {&quot;coordinates&quot;: [12.2013, 47.5462], &quot;type&quot;: &quot;Point&quot;}, &quot;id&quot;: &quot;148&quot;, &quot;properties&quot;: {&quot;Author&quot;: &quot;SURVEY-INGV&quot;, &quot;Catalog&quot;: &quot;&quot;, &quot;Contributor&quot;: &quot;&quot;, &quot;ContributorID&quot;: &quot;&quot;, &quot;Depth/Km&quot;: &quot;14.6&quot;, &quot;EventID&quot;: &quot;35311851&quot;, &quot;EventLocationName&quot;: &quot;Confine Austria-Germania (AUSTRIA, GERMANIA)&quot;, &quot;EventType&quot;: &quot;earthquake&quot;, &quot;Latitude&quot;: &quot;47.5462&quot;, &quot;Longitude&quot;: &quot;12.2013&quot;, &quot;MagAuthor&quot;: &quot;--&quot;, &quot;MagType&quot;: &quot;ML&quot;, &quot;Magnitude&quot;: &quot;2.4&quot;, &quot;Time&quot;: &quot;2023-06-14T16:33:06.440000&quot;}, &quot;type&quot;: &quot;Feature&quot;}, {&quot;bbox&quot;: [15.4023, 41.8172, 15.4023, 41.8172], &quot;geometry&quot;: {&quot;coordinates&quot;: [15.4023, 41.8172], &quot;type&quot;: &quot;Point&quot;}, &quot;id&quot;: &quot;149&quot;, &quot;properties&quot;: {&quot;Author&quot;: &quot;SURVEY-INGV&quot;, &quot;Catalog&quot;: &quot;&quot;, &quot;Contributor&quot;: &quot;&quot;, &quot;ContributorID&quot;: &quot;&quot;, &quot;Depth/Km&quot;: &quot;21.5&quot;, &quot;EventID&quot;: &quot;35311291&quot;, &quot;EventLocationName&quot;: &quot;3 km E Poggio Imperiale (FG)&quot;, &quot;EventType&quot;: &quot;earthquake&quot;, &quot;Latitude&quot;: &quot;41.8172&quot;, &quot;Longitude&quot;: &quot;15.4023&quot;, &quot;MagAuthor&quot;: &quot;--&quot;, &quot;MagType&quot;: &quot;ML&quot;, &quot;Magnitude&quot;: &quot;2.0&quot;, &quot;Time&quot;: &quot;2023-06-14T14:48:40.450000&quot;}, &quot;type&quot;: &quot;Feature&quot;}, {&quot;bbox&quot;: [14.127, 40.835, 14.127, 40.835], &quot;geometry&quot;: {&quot;coordinates&quot;: [14.127, 40.835], &quot;type&quot;: &quot;Point&quot;}, &quot;id&quot;: &quot;150&quot;, &quot;properties&quot;: {&quot;Author&quot;: &quot;SURVEY-INGV-OV#SiSmi&quot;, &quot;Catalog&quot;: &quot;&quot;, &quot;Contributor&quot;: &quot;&quot;, &quot;ContributorID&quot;: &quot;&quot;, &quot;Depth/Km&quot;: &quot;2.7&quot;, &quot;EventID&quot;: &quot;35310551&quot;, &quot;EventLocationName&quot;: &quot;Campi Flegrei&quot;, &quot;EventType&quot;: &quot;earthquake&quot;, &quot;Latitude&quot;: &quot;40.835&quot;, &quot;Longitude&quot;: &quot;14.127&quot;, &quot;MagAuthor&quot;: &quot;--&quot;, &quot;MagType&quot;: &quot;Md&quot;, &quot;Magnitude&quot;: &quot;2.1&quot;, &quot;Time&quot;: &quot;2023-06-14T12:58:13.009000&quot;}, &quot;type&quot;: &quot;Feature&quot;}, {&quot;bbox&quot;: [13.041, 42.9273, 13.041, 42.9273], &quot;geometry&quot;: {&quot;coordinates&quot;: [13.041, 42.9273], &quot;type&quot;: &quot;Point&quot;}, &quot;id&quot;: &quot;151&quot;, &quot;properties&quot;: {&quot;Author&quot;: &quot;SURVEY-INGV&quot;, &quot;Catalog&quot;: &quot;&quot;, &quot;Contributor&quot;: &quot;&quot;, &quot;ContributorID&quot;: &quot;&quot;, &quot;Depth/Km&quot;: &quot;10.3&quot;, &quot;EventID&quot;: &quot;35305231&quot;, &quot;EventLocationName&quot;: &quot;4 km W Visso (MC)&quot;, &quot;EventType&quot;: &quot;earthquake&quot;, &quot;Latitude&quot;: &quot;42.9273&quot;, &quot;Longitude&quot;: &quot;13.041&quot;, &quot;MagAuthor&quot;: &quot;--&quot;, &quot;MagType&quot;: &quot;ML&quot;, &quot;Magnitude&quot;: &quot;2.4&quot;, &quot;Time&quot;: &quot;2023-06-14T03:50:03.490000&quot;}, &quot;type&quot;: &quot;Feature&quot;}, {&quot;bbox&quot;: [10.8478, 45.1338, 10.8478, 45.1338], &quot;geometry&quot;: {&quot;coordinates&quot;: [10.8478, 45.1338], &quot;type&quot;: &quot;Point&quot;}, &quot;id&quot;: &quot;152&quot;, &quot;properties&quot;: {&quot;Author&quot;: &quot;SURVEY-INGV&quot;, &quot;Catalog&quot;: &quot;&quot;, &quot;Contributor&quot;: &quot;&quot;, &quot;ContributorID&quot;: &quot;&quot;, &quot;Depth/Km&quot;: &quot;7.1&quot;, &quot;EventID&quot;: &quot;35303351&quot;, &quot;EventLocationName&quot;: &quot;4 km S San Giorgio di Mantova (MN)&quot;, &quot;EventType&quot;: &quot;earthquake&quot;, &quot;Latitude&quot;: &quot;45.1338&quot;, &quot;Longitude&quot;: &quot;10.8478&quot;, &quot;MagAuthor&quot;: &quot;--&quot;, &quot;MagType&quot;: &quot;ML&quot;, &quot;Magnitude&quot;: &quot;2.3&quot;, &quot;Time&quot;: &quot;2023-06-13T17:16:57.050000&quot;}, &quot;type&quot;: &quot;Feature&quot;}, {&quot;bbox&quot;: [12.7122, 38.7897, 12.7122, 38.7897], &quot;geometry&quot;: {&quot;coordinates&quot;: [12.7122, 38.7897], &quot;type&quot;: &quot;Point&quot;}, &quot;id&quot;: &quot;153&quot;, &quot;properties&quot;: {&quot;Author&quot;: &quot;SURVEY-INGV&quot;, &quot;Catalog&quot;: &quot;&quot;, &quot;Contributor&quot;: &quot;&quot;, &quot;ContributorID&quot;: &quot;&quot;, &quot;Depth/Km&quot;: &quot;32.3&quot;, &quot;EventID&quot;: &quot;35300461&quot;, &quot;EventLocationName&quot;: &quot;Tirreno Meridionale (MARE)&quot;, &quot;EventType&quot;: &quot;earthquake&quot;, &quot;Latitude&quot;: &quot;38.7897&quot;, &quot;Longitude&quot;: &quot;12.7122&quot;, &quot;MagAuthor&quot;: &quot;--&quot;, &quot;MagType&quot;: &quot;ML&quot;, &quot;Magnitude&quot;: &quot;2.8&quot;, &quot;Time&quot;: &quot;2023-06-13T12:42:18.160000&quot;}, &quot;type&quot;: &quot;Feature&quot;}, {&quot;bbox&quot;: [13.8245, 41.4347, 13.8245, 41.4347], &quot;geometry&quot;: {&quot;coordinates&quot;: [13.8245, 41.4347], &quot;type&quot;: &quot;Point&quot;}, &quot;id&quot;: &quot;154&quot;, &quot;properties&quot;: {&quot;Author&quot;: &quot;SURVEY-INGV&quot;, &quot;Catalog&quot;: &quot;&quot;, &quot;Contributor&quot;: &quot;&quot;, &quot;ContributorID&quot;: &quot;&quot;, &quot;Depth/Km&quot;: &quot;6.9&quot;, &quot;EventID&quot;: &quot;35298351&quot;, &quot;EventLocationName&quot;: &quot;3 km E Pignataro Interamna (FR)&quot;, &quot;EventType&quot;: &quot;earthquake&quot;, &quot;Latitude&quot;: &quot;41.4347&quot;, &quot;Longitude&quot;: &quot;13.8245&quot;, &quot;MagAuthor&quot;: &quot;--&quot;, &quot;MagType&quot;: &quot;ML&quot;, &quot;Magnitude&quot;: &quot;2.1&quot;, &quot;Time&quot;: &quot;2023-06-13T10:32:20.260000&quot;}, &quot;type&quot;: &quot;Feature&quot;}, {&quot;bbox&quot;: [14.8002, 41.2778, 14.8002, 41.2778], &quot;geometry&quot;: {&quot;coordinates&quot;: [14.8002, 41.2778], &quot;type&quot;: &quot;Point&quot;}, &quot;id&quot;: &quot;155&quot;, &quot;properties&quot;: {&quot;Author&quot;: &quot;SURVEY-INGV&quot;, &quot;Catalog&quot;: &quot;&quot;, &quot;Contributor&quot;: &quot;&quot;, &quot;ContributorID&quot;: &quot;&quot;, &quot;Depth/Km&quot;: &quot;14.2&quot;, &quot;EventID&quot;: &quot;35295881&quot;, &quot;EventLocationName&quot;: &quot;3 km SW Reino (BN)&quot;, &quot;EventType&quot;: &quot;earthquake&quot;, &quot;Latitude&quot;: &quot;41.2778&quot;, &quot;Longitude&quot;: &quot;14.8002&quot;, &quot;MagAuthor&quot;: &quot;--&quot;, &quot;MagType&quot;: &quot;ML&quot;, &quot;Magnitude&quot;: &quot;2.3&quot;, &quot;Time&quot;: &quot;2023-06-13T06:28:06.450000&quot;}, &quot;type&quot;: &quot;Feature&quot;}, {&quot;bbox&quot;: [9.423, 44.5078, 9.423, 44.5078], &quot;geometry&quot;: {&quot;coordinates&quot;: [9.423, 44.5078], &quot;type&quot;: &quot;Point&quot;}, &quot;id&quot;: &quot;156&quot;, &quot;properties&quot;: {&quot;Author&quot;: &quot;SURVEY-INGV&quot;, &quot;Catalog&quot;: &quot;&quot;, &quot;Contributor&quot;: &quot;&quot;, &quot;ContributorID&quot;: &quot;&quot;, &quot;Depth/Km&quot;: &quot;1.2&quot;, &quot;EventID&quot;: &quot;35294491&quot;, &quot;EventLocationName&quot;: &quot;3 km SE Rezzoaglio (GE)&quot;, &quot;EventType&quot;: &quot;earthquake&quot;, &quot;Latitude&quot;: &quot;44.5078&quot;, &quot;Longitude&quot;: &quot;9.423&quot;, &quot;MagAuthor&quot;: &quot;--&quot;, &quot;MagType&quot;: &quot;ML&quot;, &quot;Magnitude&quot;: &quot;2.2&quot;, &quot;Time&quot;: &quot;2023-06-13T00:37:09.250000&quot;}, &quot;type&quot;: &quot;Feature&quot;}, {&quot;bbox&quot;: [12.6478, 43.4383, 12.6478, 43.4383], &quot;geometry&quot;: {&quot;coordinates&quot;: [12.6478, 43.4383], &quot;type&quot;: &quot;Point&quot;}, &quot;id&quot;: &quot;157&quot;, &quot;properties&quot;: {&quot;Author&quot;: &quot;SURVEY-INGV&quot;, &quot;Catalog&quot;: &quot;&quot;, &quot;Contributor&quot;: &quot;&quot;, &quot;ContributorID&quot;: &quot;&quot;, &quot;Depth/Km&quot;: &quot;12.0&quot;, &quot;EventID&quot;: &quot;35294231&quot;, &quot;EventLocationName&quot;: &quot;4 km NW Scheggia e Pascelupo (PG)&quot;, &quot;EventType&quot;: &quot;earthquake&quot;, &quot;Latitude&quot;: &quot;43.4383&quot;, &quot;Longitude&quot;: &quot;12.6478&quot;, &quot;MagAuthor&quot;: &quot;--&quot;, &quot;MagType&quot;: &quot;ML&quot;, &quot;Magnitude&quot;: &quot;2.3&quot;, &quot;Time&quot;: &quot;2023-06-12T23:37:00.500000&quot;}, &quot;type&quot;: &quot;Feature&quot;}, {&quot;bbox&quot;: [16.174, 38.5888, 16.174, 38.5888], &quot;geometry&quot;: {&quot;coordinates&quot;: [16.174, 38.5888], &quot;type&quot;: &quot;Point&quot;}, &quot;id&quot;: &quot;158&quot;, &quot;properties&quot;: {&quot;Author&quot;: &quot;SURVEY-INGV&quot;, &quot;Catalog&quot;: &quot;&quot;, &quot;Contributor&quot;: &quot;&quot;, &quot;ContributorID&quot;: &quot;&quot;, &quot;Depth/Km&quot;: &quot;15.2&quot;, &quot;EventID&quot;: &quot;35293401&quot;, &quot;EventLocationName&quot;: &quot;3 km NW Das\\\\xc3\\\\xa0 (VV)&quot;, &quot;EventType&quot;: &quot;earthquake&quot;, &quot;Latitude&quot;: &quot;38.5888&quot;, &quot;Longitude&quot;: &quot;16.174&quot;, &quot;MagAuthor&quot;: &quot;--&quot;, &quot;MagType&quot;: &quot;ML&quot;, &quot;Magnitude&quot;: &quot;3.0&quot;, &quot;Time&quot;: &quot;2023-06-12T18:42:16.890000&quot;}, &quot;type&quot;: &quot;Feature&quot;}, {&quot;bbox&quot;: [6.7998, 44.5295, 6.7998, 44.5295], &quot;geometry&quot;: {&quot;coordinates&quot;: [6.7998, 44.5295], &quot;type&quot;: &quot;Point&quot;}, &quot;id&quot;: &quot;159&quot;, &quot;properties&quot;: {&quot;Author&quot;: &quot;SURVEY-INGV&quot;, &quot;Catalog&quot;: &quot;&quot;, &quot;Contributor&quot;: &quot;&quot;, &quot;ContributorID&quot;: &quot;&quot;, &quot;Depth/Km&quot;: &quot;9.4&quot;, &quot;EventID&quot;: &quot;35286461&quot;, &quot;EventLocationName&quot;: &quot;Confine Italia-Francia (FRANCIA)&quot;, &quot;EventType&quot;: &quot;earthquake&quot;, &quot;Latitude&quot;: &quot;44.5295&quot;, &quot;Longitude&quot;: &quot;6.7998&quot;, &quot;MagAuthor&quot;: &quot;--&quot;, &quot;MagType&quot;: &quot;ML&quot;, &quot;Magnitude&quot;: &quot;2.3&quot;, &quot;Time&quot;: &quot;2023-06-12T06:16:13.370000&quot;}, &quot;type&quot;: &quot;Feature&quot;}, {&quot;bbox&quot;: [9.4027, 44.528, 9.4027, 44.528], &quot;geometry&quot;: {&quot;coordinates&quot;: [9.4027, 44.528], &quot;type&quot;: &quot;Point&quot;}, &quot;id&quot;: &quot;160&quot;, &quot;properties&quot;: {&quot;Author&quot;: &quot;SURVEY-INGV&quot;, &quot;Catalog&quot;: &quot;&quot;, &quot;Contributor&quot;: &quot;&quot;, &quot;ContributorID&quot;: &quot;&quot;, &quot;Depth/Km&quot;: &quot;6.1&quot;, &quot;EventID&quot;: &quot;35285611&quot;, &quot;EventLocationName&quot;: &quot;1 km E Rezzoaglio (GE)&quot;, &quot;EventType&quot;: &quot;earthquake&quot;, &quot;Latitude&quot;: &quot;44.528&quot;, &quot;Longitude&quot;: &quot;9.4027&quot;, &quot;MagAuthor&quot;: &quot;--&quot;, &quot;MagType&quot;: &quot;ML&quot;, &quot;Magnitude&quot;: &quot;2.7&quot;, &quot;Time&quot;: &quot;2023-06-12T04:45:19.970000&quot;}, &quot;type&quot;: &quot;Feature&quot;}, {&quot;bbox&quot;: [14.6595, 45.0455, 14.6595, 45.0455], &quot;geometry&quot;: {&quot;coordinates&quot;: [14.6595, 45.0455], &quot;type&quot;: &quot;Point&quot;}, &quot;id&quot;: &quot;161&quot;, &quot;properties&quot;: {&quot;Author&quot;: &quot;SURVEY-INGV&quot;, &quot;Catalog&quot;: &quot;&quot;, &quot;Contributor&quot;: &quot;&quot;, &quot;ContributorID&quot;: &quot;&quot;, &quot;Depth/Km&quot;: &quot;5.3&quot;, &quot;EventID&quot;: &quot;35283821&quot;, &quot;EventLocationName&quot;: &quot;Costa Croata Settentrionale (CROAZIA)&quot;, &quot;EventType&quot;: &quot;earthquake&quot;, &quot;Latitude&quot;: &quot;45.0455&quot;, &quot;Longitude&quot;: &quot;14.6595&quot;, &quot;MagAuthor&quot;: &quot;--&quot;, &quot;MagType&quot;: &quot;ML&quot;, &quot;Magnitude&quot;: &quot;2.7&quot;, &quot;Time&quot;: &quot;2023-06-11T18:08:53.140000&quot;}, &quot;type&quot;: &quot;Feature&quot;}, {&quot;bbox&quot;: [16.5015, 39.6667, 16.5015, 39.6667], &quot;geometry&quot;: {&quot;coordinates&quot;: [16.5015, 39.6667], &quot;type&quot;: &quot;Point&quot;}, &quot;id&quot;: &quot;162&quot;, &quot;properties&quot;: {&quot;Author&quot;: &quot;SURVEY-INGV&quot;, &quot;Catalog&quot;: &quot;&quot;, &quot;Contributor&quot;: &quot;&quot;, &quot;ContributorID&quot;: &quot;&quot;, &quot;Depth/Km&quot;: &quot;10.5&quot;, &quot;EventID&quot;: &quot;35279141&quot;, &quot;EventLocationName&quot;: &quot;8 km N Corigliano Calabro (CS)&quot;, &quot;EventType&quot;: &quot;earthquake&quot;, &quot;Latitude&quot;: &quot;39.6667&quot;, &quot;Longitude&quot;: &quot;16.5015&quot;, &quot;MagAuthor&quot;: &quot;--&quot;, &quot;MagType&quot;: &quot;ML&quot;, &quot;Magnitude&quot;: &quot;3.3&quot;, &quot;Time&quot;: &quot;2023-06-11T09:15:41.110000&quot;}, &quot;type&quot;: &quot;Feature&quot;}, {&quot;bbox&quot;: [14.2382, 38.577, 14.2382, 38.577], &quot;geometry&quot;: {&quot;coordinates&quot;: [14.2382, 38.577], &quot;type&quot;: &quot;Point&quot;}, &quot;id&quot;: &quot;163&quot;, &quot;properties&quot;: {&quot;Author&quot;: &quot;SURVEY-INGV&quot;, &quot;Catalog&quot;: &quot;&quot;, &quot;Contributor&quot;: &quot;&quot;, &quot;ContributorID&quot;: &quot;&quot;, &quot;Depth/Km&quot;: &quot;24.8&quot;, &quot;EventID&quot;: &quot;35278751&quot;, &quot;EventLocationName&quot;: &quot;Isole Eolie (Messina)&quot;, &quot;EventType&quot;: &quot;earthquake&quot;, &quot;Latitude&quot;: &quot;38.577&quot;, &quot;Longitude&quot;: &quot;14.2382&quot;, &quot;MagAuthor&quot;: &quot;--&quot;, &quot;MagType&quot;: &quot;ML&quot;, &quot;Magnitude&quot;: &quot;2.8&quot;, &quot;Time&quot;: &quot;2023-06-11T08:04:30.490000&quot;}, &quot;type&quot;: &quot;Feature&quot;}, {&quot;bbox&quot;: [14.111, 40.831333, 14.111, 40.831333], &quot;geometry&quot;: {&quot;coordinates&quot;: [14.111, 40.831333], &quot;type&quot;: &quot;Point&quot;}, &quot;id&quot;: &quot;164&quot;, &quot;properties&quot;: {&quot;Author&quot;: &quot;SURVEY-INGV-OV&quot;, &quot;Catalog&quot;: &quot;&quot;, &quot;Contributor&quot;: &quot;&quot;, &quot;ContributorID&quot;: &quot;&quot;, &quot;Depth/Km&quot;: &quot;2.6&quot;, &quot;EventID&quot;: &quot;35278141&quot;, &quot;EventLocationName&quot;: &quot;Campi Flegrei&quot;, &quot;EventType&quot;: &quot;earthquake&quot;, &quot;Latitude&quot;: &quot;40.831333&quot;, &quot;Longitude&quot;: &quot;14.111&quot;, &quot;MagAuthor&quot;: &quot;--&quot;, &quot;MagType&quot;: &quot;Md&quot;, &quot;Magnitude&quot;: &quot;3.6&quot;, &quot;Time&quot;: &quot;2023-06-11T06:44:25.769000&quot;}, &quot;type&quot;: &quot;Feature&quot;}, {&quot;bbox&quot;: [16.502, 39.6663, 16.502, 39.6663], &quot;geometry&quot;: {&quot;coordinates&quot;: [16.502, 39.6663], &quot;type&quot;: &quot;Point&quot;}, &quot;id&quot;: &quot;165&quot;, &quot;properties&quot;: {&quot;Author&quot;: &quot;SURVEY-INGV&quot;, &quot;Catalog&quot;: &quot;&quot;, &quot;Contributor&quot;: &quot;&quot;, &quot;ContributorID&quot;: &quot;&quot;, &quot;Depth/Km&quot;: &quot;10.2&quot;, &quot;EventID&quot;: &quot;35276461&quot;, &quot;EventLocationName&quot;: &quot;8 km N Corigliano Calabro (CS)&quot;, &quot;EventType&quot;: &quot;earthquake&quot;, &quot;Latitude&quot;: &quot;39.6663&quot;, &quot;Longitude&quot;: &quot;16.502&quot;, &quot;MagAuthor&quot;: &quot;--&quot;, &quot;MagType&quot;: &quot;ML&quot;, &quot;Magnitude&quot;: &quot;2.2&quot;, &quot;Time&quot;: &quot;2023-06-11T02:42:31.050000&quot;}, &quot;type&quot;: &quot;Feature&quot;}, {&quot;bbox&quot;: [13.4812, 43.53, 13.4812, 43.53], &quot;geometry&quot;: {&quot;coordinates&quot;: [13.4812, 43.53], &quot;type&quot;: &quot;Point&quot;}, &quot;id&quot;: &quot;166&quot;, &quot;properties&quot;: {&quot;Author&quot;: &quot;SURVEY-INGV&quot;, &quot;Catalog&quot;: &quot;&quot;, &quot;Contributor&quot;: &quot;&quot;, &quot;ContributorID&quot;: &quot;&quot;, &quot;Depth/Km&quot;: &quot;8.0&quot;, &quot;EventID&quot;: &quot;35275381&quot;, &quot;EventLocationName&quot;: &quot;3 km E Offagna (AN)&quot;, &quot;EventType&quot;: &quot;earthquake&quot;, &quot;Latitude&quot;: &quot;43.53&quot;, &quot;Longitude&quot;: &quot;13.4812&quot;, &quot;MagAuthor&quot;: &quot;--&quot;, &quot;MagType&quot;: &quot;ML&quot;, &quot;Magnitude&quot;: &quot;2.1&quot;, &quot;Time&quot;: &quot;2023-06-10T20:56:34.770000&quot;}, &quot;type&quot;: &quot;Feature&quot;}, {&quot;bbox&quot;: [13.2717, 43.9882, 13.2717, 43.9882], &quot;geometry&quot;: {&quot;coordinates&quot;: [13.2717, 43.9882], &quot;type&quot;: &quot;Point&quot;}, &quot;id&quot;: &quot;167&quot;, &quot;properties&quot;: {&quot;Author&quot;: &quot;SURVEY-INGV&quot;, &quot;Catalog&quot;: &quot;&quot;, &quot;Contributor&quot;: &quot;&quot;, &quot;ContributorID&quot;: &quot;&quot;, &quot;Depth/Km&quot;: &quot;7.4&quot;, &quot;EventID&quot;: &quot;35274941&quot;, &quot;EventLocationName&quot;: &quot;Costa Marchigiana Pesarese (Pesaro-Urbino)&quot;, &quot;EventType&quot;: &quot;earthquake&quot;, &quot;Latitude&quot;: &quot;43.9882&quot;, &quot;Longitude&quot;: &quot;13.2717&quot;, &quot;MagAuthor&quot;: &quot;--&quot;, &quot;MagType&quot;: &quot;ML&quot;, &quot;Magnitude&quot;: &quot;2.3&quot;, &quot;Time&quot;: &quot;2023-06-10T19:51:23.350000&quot;}, &quot;type&quot;: &quot;Feature&quot;}, {&quot;bbox&quot;: [13.4805, 38.43, 13.4805, 38.43], &quot;geometry&quot;: {&quot;coordinates&quot;: [13.4805, 38.43], &quot;type&quot;: &quot;Point&quot;}, &quot;id&quot;: &quot;168&quot;, &quot;properties&quot;: {&quot;Author&quot;: &quot;SURVEY-INGV&quot;, &quot;Catalog&quot;: &quot;&quot;, &quot;Contributor&quot;: &quot;&quot;, &quot;ContributorID&quot;: &quot;&quot;, &quot;Depth/Km&quot;: &quot;10.7&quot;, &quot;EventID&quot;: &quot;35274491&quot;, &quot;EventLocationName&quot;: &quot;Costa Siciliana centro-settentrionale (Palermo)&quot;, &quot;EventType&quot;: &quot;earthquake&quot;, &quot;Latitude&quot;: &quot;38.43&quot;, &quot;Longitude&quot;: &quot;13.4805&quot;, &quot;MagAuthor&quot;: &quot;--&quot;, &quot;MagType&quot;: &quot;ML&quot;, &quot;Magnitude&quot;: &quot;2.0&quot;, &quot;Time&quot;: &quot;2023-06-10T17:57:05.510000&quot;}, &quot;type&quot;: &quot;Feature&quot;}, {&quot;bbox&quot;: [14.5797, 39.4982, 14.5797, 39.4982], &quot;geometry&quot;: {&quot;coordinates&quot;: [14.5797, 39.4982], &quot;type&quot;: &quot;Point&quot;}, &quot;id&quot;: &quot;169&quot;, &quot;properties&quot;: {&quot;Author&quot;: &quot;SURVEY-INGV&quot;, &quot;Catalog&quot;: &quot;&quot;, &quot;Contributor&quot;: &quot;&quot;, &quot;ContributorID&quot;: &quot;&quot;, &quot;Depth/Km&quot;: &quot;10.0&quot;, &quot;EventID&quot;: &quot;35270111&quot;, &quot;EventLocationName&quot;: &quot;Tirreno Meridionale (MARE)&quot;, &quot;EventType&quot;: &quot;earthquake&quot;, &quot;Latitude&quot;: &quot;39.4982&quot;, &quot;Longitude&quot;: &quot;14.5797&quot;, &quot;MagAuthor&quot;: &quot;--&quot;, &quot;MagType&quot;: &quot;ML&quot;, &quot;Magnitude&quot;: &quot;2.3&quot;, &quot;Time&quot;: &quot;2023-06-10T10:47:46.000000&quot;}, &quot;type&quot;: &quot;Feature&quot;}, {&quot;bbox&quot;: [14.5447, 39.4797, 14.5447, 39.4797], &quot;geometry&quot;: {&quot;coordinates&quot;: [14.5447, 39.4797], &quot;type&quot;: &quot;Point&quot;}, &quot;id&quot;: &quot;170&quot;, &quot;properties&quot;: {&quot;Author&quot;: &quot;SURVEY-INGV&quot;, &quot;Catalog&quot;: &quot;&quot;, &quot;Contributor&quot;: &quot;&quot;, &quot;ContributorID&quot;: &quot;&quot;, &quot;Depth/Km&quot;: &quot;3.1&quot;, &quot;EventID&quot;: &quot;35267141&quot;, &quot;EventLocationName&quot;: &quot;Tirreno Meridionale (MARE)&quot;, &quot;EventType&quot;: &quot;earthquake&quot;, &quot;Latitude&quot;: &quot;39.4797&quot;, &quot;Longitude&quot;: &quot;14.5447&quot;, &quot;MagAuthor&quot;: &quot;--&quot;, &quot;MagType&quot;: &quot;ML&quot;, &quot;Magnitude&quot;: &quot;2.2&quot;, &quot;Time&quot;: &quot;2023-06-10T01:38:57.220000&quot;}, &quot;type&quot;: &quot;Feature&quot;}], &quot;type&quot;: &quot;FeatureCollection&quot;});\n",
       "\n",
       "        \n",
       "    \n",
       "    geo_json_85b4f76b6b8ea99729e3d5999775a469.bindTooltip(\n",
       "    function(layer){\n",
       "    let div = L.DomUtil.create(&#x27;div&#x27;);\n",
       "    \n",
       "    let handleObject = feature=&gt;typeof(feature)==&#x27;object&#x27; ? JSON.stringify(feature) : feature;\n",
       "    let fields = [&quot;EventID&quot;, &quot;Time&quot;, &quot;Latitude&quot;, &quot;Longitude&quot;, &quot;Depth/Km&quot;, &quot;Author&quot;, &quot;Catalog&quot;, &quot;Contributor&quot;, &quot;ContributorID&quot;, &quot;MagType&quot;, &quot;Magnitude&quot;, &quot;MagAuthor&quot;, &quot;EventLocationName&quot;, &quot;EventType&quot;];\n",
       "    let aliases = [&quot;EventID&quot;, &quot;Time&quot;, &quot;Latitude&quot;, &quot;Longitude&quot;, &quot;Depth/Km&quot;, &quot;Author&quot;, &quot;Catalog&quot;, &quot;Contributor&quot;, &quot;ContributorID&quot;, &quot;MagType&quot;, &quot;Magnitude&quot;, &quot;MagAuthor&quot;, &quot;EventLocationName&quot;, &quot;EventType&quot;];\n",
       "    let table = &#x27;&lt;table&gt;&#x27; +\n",
       "        String(\n",
       "        fields.map(\n",
       "        (v,i)=&gt;\n",
       "        `&lt;tr&gt;\n",
       "            &lt;th&gt;${aliases[i]}&lt;/th&gt;\n",
       "            \n",
       "            &lt;td&gt;${handleObject(layer.feature.properties[v])}&lt;/td&gt;\n",
       "        &lt;/tr&gt;`).join(&#x27;&#x27;))\n",
       "    +&#x27;&lt;/table&gt;&#x27;;\n",
       "    div.innerHTML=table;\n",
       "    \n",
       "    return div\n",
       "    }\n",
       "    ,{&quot;className&quot;: &quot;foliumtooltip&quot;, &quot;sticky&quot;: true});\n",
       "                     \n",
       "&lt;/script&gt;\n",
       "&lt;/html&gt;\" style=\"position:absolute;width:100%;height:100%;left:0;top:0;border:none !important;\" allowfullscreen webkitallowfullscreen mozallowfullscreen></iframe></div></div>"
      ],
      "text/plain": [
       "<folium.folium.Map at 0x1a4b1057f50>"
      ]
     },
     "execution_count": 82,
     "metadata": {},
     "output_type": "execute_result"
    }
   ],
   "source": [
    "gdf = ws_instance.transform_events_to_geo_df(df)\n",
    "gdf.explore()"
   ]
  },
  {
   "cell_type": "code",
   "execution_count": 83,
   "metadata": {},
   "outputs": [],
   "source": [
    "gdf_provincia = ws_instance.filter_events_by_province(gdf,\"Napoli\")"
   ]
  },
  {
   "cell_type": "code",
   "execution_count": 84,
   "metadata": {},
   "outputs": [
    {
     "data": {
      "text/html": [
       "<div>\n",
       "<style scoped>\n",
       "    .dataframe tbody tr th:only-of-type {\n",
       "        vertical-align: middle;\n",
       "    }\n",
       "\n",
       "    .dataframe tbody tr th {\n",
       "        vertical-align: top;\n",
       "    }\n",
       "\n",
       "    .dataframe thead th {\n",
       "        text-align: right;\n",
       "    }\n",
       "</style>\n",
       "<table border=\"1\" class=\"dataframe\">\n",
       "  <thead>\n",
       "    <tr style=\"text-align: right;\">\n",
       "      <th></th>\n",
       "      <th>EventID</th>\n",
       "      <th>Time</th>\n",
       "      <th>Latitude</th>\n",
       "      <th>Longitude</th>\n",
       "      <th>Depth/Km</th>\n",
       "      <th>Author</th>\n",
       "      <th>Catalog</th>\n",
       "      <th>Contributor</th>\n",
       "      <th>ContributorID</th>\n",
       "      <th>MagType</th>\n",
       "      <th>Magnitude</th>\n",
       "      <th>MagAuthor</th>\n",
       "      <th>EventLocationName</th>\n",
       "      <th>EventType</th>\n",
       "      <th>geometry</th>\n",
       "      <th>index_right</th>\n",
       "      <th>adm1_name</th>\n",
       "      <th>adm2_name</th>\n",
       "    </tr>\n",
       "  </thead>\n",
       "  <tbody>\n",
       "    <tr>\n",
       "      <th>67</th>\n",
       "      <td>35441211</td>\n",
       "      <td>2023-07-01T09:41:56.809000</td>\n",
       "      <td>40.822167</td>\n",
       "      <td>14.427667</td>\n",
       "      <td>0.2</td>\n",
       "      <td>SURVEY-INGV-OV#SiSmi</td>\n",
       "      <td></td>\n",
       "      <td></td>\n",
       "      <td></td>\n",
       "      <td>Md</td>\n",
       "      <td>2.0</td>\n",
       "      <td>--</td>\n",
       "      <td>Vesuvio</td>\n",
       "      <td>earthquake</td>\n",
       "      <td>POINT (14.42767 40.82217)</td>\n",
       "      <td>0.0</td>\n",
       "      <td>Campania</td>\n",
       "      <td>Napoli</td>\n",
       "    </tr>\n",
       "    <tr>\n",
       "      <th>76</th>\n",
       "      <td>35418131</td>\n",
       "      <td>2023-06-29T21:01:19.059000</td>\n",
       "      <td>40.814</td>\n",
       "      <td>14.42</td>\n",
       "      <td>0.6</td>\n",
       "      <td>SURVEY-INGV-OV#SiSmi</td>\n",
       "      <td></td>\n",
       "      <td></td>\n",
       "      <td></td>\n",
       "      <td>Md</td>\n",
       "      <td>2.7</td>\n",
       "      <td>--</td>\n",
       "      <td>Vesuvio</td>\n",
       "      <td>earthquake</td>\n",
       "      <td>POINT (14.42000 40.81400)</td>\n",
       "      <td>0.0</td>\n",
       "      <td>Campania</td>\n",
       "      <td>Napoli</td>\n",
       "    </tr>\n",
       "    <tr>\n",
       "      <th>79</th>\n",
       "      <td>35417671</td>\n",
       "      <td>2023-06-29T19:52:50.380000</td>\n",
       "      <td>40.814833</td>\n",
       "      <td>14.419833</td>\n",
       "      <td>0.2</td>\n",
       "      <td>SURVEY-INGV-OV#SiSmi</td>\n",
       "      <td></td>\n",
       "      <td></td>\n",
       "      <td></td>\n",
       "      <td>Md</td>\n",
       "      <td>2.4</td>\n",
       "      <td>--</td>\n",
       "      <td>Vesuvio</td>\n",
       "      <td>earthquake</td>\n",
       "      <td>POINT (14.41983 40.81483)</td>\n",
       "      <td>0.0</td>\n",
       "      <td>Campania</td>\n",
       "      <td>Napoli</td>\n",
       "    </tr>\n",
       "    <tr>\n",
       "      <th>135</th>\n",
       "      <td>35339681</td>\n",
       "      <td>2023-06-18T12:46:11.180000</td>\n",
       "      <td>40.816833</td>\n",
       "      <td>14.160667</td>\n",
       "      <td>2.6</td>\n",
       "      <td>SURVEY-INGV-OV#SiSmi</td>\n",
       "      <td></td>\n",
       "      <td></td>\n",
       "      <td></td>\n",
       "      <td>Md</td>\n",
       "      <td>2.4</td>\n",
       "      <td>--</td>\n",
       "      <td>Campi Flegrei</td>\n",
       "      <td>earthquake</td>\n",
       "      <td>POINT (14.16067 40.81683)</td>\n",
       "      <td>0.0</td>\n",
       "      <td>Campania</td>\n",
       "      <td>Napoli</td>\n",
       "    </tr>\n",
       "    <tr>\n",
       "      <th>146</th>\n",
       "      <td>35317131</td>\n",
       "      <td>2023-06-15T15:39:40.339000</td>\n",
       "      <td>40.830167</td>\n",
       "      <td>14.141333</td>\n",
       "      <td>2.8</td>\n",
       "      <td>SURVEY-INGV-OV#SiSmi</td>\n",
       "      <td></td>\n",
       "      <td></td>\n",
       "      <td></td>\n",
       "      <td>Md</td>\n",
       "      <td>2.9</td>\n",
       "      <td>--</td>\n",
       "      <td>Campi Flegrei</td>\n",
       "      <td>earthquake</td>\n",
       "      <td>POINT (14.14133 40.83017)</td>\n",
       "      <td>0.0</td>\n",
       "      <td>Campania</td>\n",
       "      <td>Napoli</td>\n",
       "    </tr>\n",
       "    <tr>\n",
       "      <th>150</th>\n",
       "      <td>35310551</td>\n",
       "      <td>2023-06-14T12:58:13.009000</td>\n",
       "      <td>40.835</td>\n",
       "      <td>14.127</td>\n",
       "      <td>2.7</td>\n",
       "      <td>SURVEY-INGV-OV#SiSmi</td>\n",
       "      <td></td>\n",
       "      <td></td>\n",
       "      <td></td>\n",
       "      <td>Md</td>\n",
       "      <td>2.1</td>\n",
       "      <td>--</td>\n",
       "      <td>Campi Flegrei</td>\n",
       "      <td>earthquake</td>\n",
       "      <td>POINT (14.12700 40.83500)</td>\n",
       "      <td>0.0</td>\n",
       "      <td>Campania</td>\n",
       "      <td>Napoli</td>\n",
       "    </tr>\n",
       "    <tr>\n",
       "      <th>164</th>\n",
       "      <td>35278141</td>\n",
       "      <td>2023-06-11T06:44:25.769000</td>\n",
       "      <td>40.831333</td>\n",
       "      <td>14.111</td>\n",
       "      <td>2.6</td>\n",
       "      <td>SURVEY-INGV-OV</td>\n",
       "      <td></td>\n",
       "      <td></td>\n",
       "      <td></td>\n",
       "      <td>Md</td>\n",
       "      <td>3.6</td>\n",
       "      <td>--</td>\n",
       "      <td>Campi Flegrei</td>\n",
       "      <td>earthquake</td>\n",
       "      <td>POINT (14.11100 40.83133)</td>\n",
       "      <td>0.0</td>\n",
       "      <td>Campania</td>\n",
       "      <td>Napoli</td>\n",
       "    </tr>\n",
       "  </tbody>\n",
       "</table>\n",
       "</div>"
      ],
      "text/plain": [
       "      EventID                        Time   Latitude  Longitude Depth/Km  ...   EventType                   geometry index_right adm1_name adm2_name\n",
       "67   35441211  2023-07-01T09:41:56.809000  40.822167  14.427667      0.2  ...  earthquake  POINT (14.42767 40.82217)         0.0  Campania    Napoli\n",
       "76   35418131  2023-06-29T21:01:19.059000     40.814      14.42      0.6  ...  earthquake  POINT (14.42000 40.81400)         0.0  Campania    Napoli\n",
       "79   35417671  2023-06-29T19:52:50.380000  40.814833  14.419833      0.2  ...  earthquake  POINT (14.41983 40.81483)         0.0  Campania    Napoli\n",
       "135  35339681  2023-06-18T12:46:11.180000  40.816833  14.160667      2.6  ...  earthquake  POINT (14.16067 40.81683)         0.0  Campania    Napoli\n",
       "146  35317131  2023-06-15T15:39:40.339000  40.830167  14.141333      2.8  ...  earthquake  POINT (14.14133 40.83017)         0.0  Campania    Napoli\n",
       "150  35310551  2023-06-14T12:58:13.009000     40.835     14.127      2.7  ...  earthquake  POINT (14.12700 40.83500)         0.0  Campania    Napoli\n",
       "164  35278141  2023-06-11T06:44:25.769000  40.831333     14.111      2.6  ...  earthquake  POINT (14.11100 40.83133)         0.0  Campania    Napoli\n",
       "\n",
       "[7 rows x 18 columns]"
      ]
     },
     "execution_count": 84,
     "metadata": {},
     "output_type": "execute_result"
    }
   ],
   "source": [
    "gdf_provincia"
   ]
  },
  {
   "cell_type": "code",
   "execution_count": 85,
   "metadata": {},
   "outputs": [
    {
     "data": {
      "text/html": [
       "<div style=\"width:100%;\"><div style=\"position:relative;width:100%;height:0;padding-bottom:60%;\"><span style=\"color:#565656\">Make this Notebook Trusted to load map: File -> Trust Notebook</span><iframe srcdoc=\"&lt;!DOCTYPE html&gt;\n",
       "&lt;html&gt;\n",
       "&lt;head&gt;\n",
       "    \n",
       "    &lt;meta http-equiv=&quot;content-type&quot; content=&quot;text/html; charset=UTF-8&quot; /&gt;\n",
       "    \n",
       "        &lt;script&gt;\n",
       "            L_NO_TOUCH = false;\n",
       "            L_DISABLE_3D = false;\n",
       "        &lt;/script&gt;\n",
       "    \n",
       "    &lt;style&gt;html, body {width: 100%;height: 100%;margin: 0;padding: 0;}&lt;/style&gt;\n",
       "    &lt;style&gt;#map {position:absolute;top:0;bottom:0;right:0;left:0;}&lt;/style&gt;\n",
       "    &lt;script src=&quot;https://cdn.jsdelivr.net/npm/leaflet@1.9.3/dist/leaflet.js&quot;&gt;&lt;/script&gt;\n",
       "    &lt;script src=&quot;https://code.jquery.com/jquery-1.12.4.min.js&quot;&gt;&lt;/script&gt;\n",
       "    &lt;script src=&quot;https://cdn.jsdelivr.net/npm/bootstrap@5.2.2/dist/js/bootstrap.bundle.min.js&quot;&gt;&lt;/script&gt;\n",
       "    &lt;script src=&quot;https://cdnjs.cloudflare.com/ajax/libs/Leaflet.awesome-markers/2.0.2/leaflet.awesome-markers.js&quot;&gt;&lt;/script&gt;\n",
       "    &lt;link rel=&quot;stylesheet&quot; href=&quot;https://cdn.jsdelivr.net/npm/leaflet@1.9.3/dist/leaflet.css&quot;/&gt;\n",
       "    &lt;link rel=&quot;stylesheet&quot; href=&quot;https://cdn.jsdelivr.net/npm/bootstrap@5.2.2/dist/css/bootstrap.min.css&quot;/&gt;\n",
       "    &lt;link rel=&quot;stylesheet&quot; href=&quot;https://netdna.bootstrapcdn.com/bootstrap/3.0.0/css/bootstrap.min.css&quot;/&gt;\n",
       "    &lt;link rel=&quot;stylesheet&quot; href=&quot;https://cdn.jsdelivr.net/npm/@fortawesome/fontawesome-free@6.2.0/css/all.min.css&quot;/&gt;\n",
       "    &lt;link rel=&quot;stylesheet&quot; href=&quot;https://cdnjs.cloudflare.com/ajax/libs/Leaflet.awesome-markers/2.0.2/leaflet.awesome-markers.css&quot;/&gt;\n",
       "    &lt;link rel=&quot;stylesheet&quot; href=&quot;https://cdn.jsdelivr.net/gh/python-visualization/folium/folium/templates/leaflet.awesome.rotate.min.css&quot;/&gt;\n",
       "    \n",
       "            &lt;meta name=&quot;viewport&quot; content=&quot;width=device-width,\n",
       "                initial-scale=1.0, maximum-scale=1.0, user-scalable=no&quot; /&gt;\n",
       "            &lt;style&gt;\n",
       "                #map_187356d1bd4adba8c515f67d011922bf {\n",
       "                    position: relative;\n",
       "                    width: 100.0%;\n",
       "                    height: 100.0%;\n",
       "                    left: 0.0%;\n",
       "                    top: 0.0%;\n",
       "                }\n",
       "                .leaflet-container { font-size: 1rem; }\n",
       "            &lt;/style&gt;\n",
       "        \n",
       "    \n",
       "                    &lt;style&gt;\n",
       "                        .foliumtooltip {\n",
       "                            \n",
       "                        }\n",
       "                       .foliumtooltip table{\n",
       "                            margin: auto;\n",
       "                        }\n",
       "                        .foliumtooltip tr{\n",
       "                            text-align: left;\n",
       "                        }\n",
       "                        .foliumtooltip th{\n",
       "                            padding: 2px; padding-right: 8px;\n",
       "                        }\n",
       "                    &lt;/style&gt;\n",
       "            \n",
       "&lt;/head&gt;\n",
       "&lt;body&gt;\n",
       "    \n",
       "    \n",
       "            &lt;div class=&quot;folium-map&quot; id=&quot;map_187356d1bd4adba8c515f67d011922bf&quot; &gt;&lt;/div&gt;\n",
       "        \n",
       "&lt;/body&gt;\n",
       "&lt;script&gt;\n",
       "    \n",
       "    \n",
       "            var map_187356d1bd4adba8c515f67d011922bf = L.map(\n",
       "                &quot;map_187356d1bd4adba8c515f67d011922bf&quot;,\n",
       "                {\n",
       "                    center: [40.8245, 14.2693335],\n",
       "                    crs: L.CRS.EPSG3857,\n",
       "                    zoom: 10,\n",
       "                    zoomControl: true,\n",
       "                    preferCanvas: false,\n",
       "                }\n",
       "            );\n",
       "            L.control.scale().addTo(map_187356d1bd4adba8c515f67d011922bf);\n",
       "\n",
       "            \n",
       "\n",
       "        \n",
       "    \n",
       "            var tile_layer_2892b53c0b6ea967326dcd96d5c23d95 = L.tileLayer(\n",
       "                &quot;https://{s}.tile.openstreetmap.org/{z}/{x}/{y}.png&quot;,\n",
       "                {&quot;attribution&quot;: &quot;Data by \\u0026copy; \\u003ca target=\\&quot;_blank\\&quot; href=\\&quot;http://openstreetmap.org\\&quot;\\u003eOpenStreetMap\\u003c/a\\u003e, under \\u003ca target=\\&quot;_blank\\&quot; href=\\&quot;http://www.openstreetmap.org/copyright\\&quot;\\u003eODbL\\u003c/a\\u003e.&quot;, &quot;detectRetina&quot;: false, &quot;maxNativeZoom&quot;: 18, &quot;maxZoom&quot;: 18, &quot;minZoom&quot;: 0, &quot;noWrap&quot;: false, &quot;opacity&quot;: 1, &quot;subdomains&quot;: &quot;abc&quot;, &quot;tms&quot;: false}\n",
       "            ).addTo(map_187356d1bd4adba8c515f67d011922bf);\n",
       "        \n",
       "    \n",
       "            map_187356d1bd4adba8c515f67d011922bf.fitBounds(\n",
       "                [[40.814, 14.111], [40.835, 14.427667]],\n",
       "                {}\n",
       "            );\n",
       "        \n",
       "    \n",
       "        function geo_json_376ef80769c8bd74bfcc3b49a309a4ac_styler(feature) {\n",
       "            switch(feature.id) {\n",
       "                default:\n",
       "                    return {&quot;fillOpacity&quot;: 0.5, &quot;weight&quot;: 2};\n",
       "            }\n",
       "        }\n",
       "        function geo_json_376ef80769c8bd74bfcc3b49a309a4ac_highlighter(feature) {\n",
       "            switch(feature.id) {\n",
       "                default:\n",
       "                    return {&quot;fillOpacity&quot;: 0.75};\n",
       "            }\n",
       "        }\n",
       "        function geo_json_376ef80769c8bd74bfcc3b49a309a4ac_pointToLayer(feature, latlng) {\n",
       "            var opts = {&quot;bubblingMouseEvents&quot;: true, &quot;color&quot;: &quot;#3388ff&quot;, &quot;dashArray&quot;: null, &quot;dashOffset&quot;: null, &quot;fill&quot;: true, &quot;fillColor&quot;: &quot;#3388ff&quot;, &quot;fillOpacity&quot;: 0.2, &quot;fillRule&quot;: &quot;evenodd&quot;, &quot;lineCap&quot;: &quot;round&quot;, &quot;lineJoin&quot;: &quot;round&quot;, &quot;opacity&quot;: 1.0, &quot;radius&quot;: 2, &quot;stroke&quot;: true, &quot;weight&quot;: 3};\n",
       "            \n",
       "            let style = geo_json_376ef80769c8bd74bfcc3b49a309a4ac_styler(feature)\n",
       "            Object.assign(opts, style)\n",
       "            \n",
       "            return new L.CircleMarker(latlng, opts)\n",
       "        }\n",
       "\n",
       "        function geo_json_376ef80769c8bd74bfcc3b49a309a4ac_onEachFeature(feature, layer) {\n",
       "            layer.on({\n",
       "                mouseout: function(e) {\n",
       "                    if(typeof e.target.setStyle === &quot;function&quot;){\n",
       "                        geo_json_376ef80769c8bd74bfcc3b49a309a4ac.resetStyle(e.target);\n",
       "                    }\n",
       "                },\n",
       "                mouseover: function(e) {\n",
       "                    if(typeof e.target.setStyle === &quot;function&quot;){\n",
       "                        const highlightStyle = geo_json_376ef80769c8bd74bfcc3b49a309a4ac_highlighter(e.target.feature)\n",
       "                        e.target.setStyle(highlightStyle);\n",
       "                    }\n",
       "                },\n",
       "            });\n",
       "        };\n",
       "        var geo_json_376ef80769c8bd74bfcc3b49a309a4ac = L.geoJson(null, {\n",
       "                onEachFeature: geo_json_376ef80769c8bd74bfcc3b49a309a4ac_onEachFeature,\n",
       "            \n",
       "                style: geo_json_376ef80769c8bd74bfcc3b49a309a4ac_styler,\n",
       "                pointToLayer: geo_json_376ef80769c8bd74bfcc3b49a309a4ac_pointToLayer\n",
       "        });\n",
       "\n",
       "        function geo_json_376ef80769c8bd74bfcc3b49a309a4ac_add (data) {\n",
       "            geo_json_376ef80769c8bd74bfcc3b49a309a4ac\n",
       "                .addData(data)\n",
       "                .addTo(map_187356d1bd4adba8c515f67d011922bf);\n",
       "        }\n",
       "            geo_json_376ef80769c8bd74bfcc3b49a309a4ac_add({&quot;bbox&quot;: [14.111, 40.814, 14.427667, 40.835], &quot;features&quot;: [{&quot;bbox&quot;: [14.427667, 40.822167, 14.427667, 40.822167], &quot;geometry&quot;: {&quot;coordinates&quot;: [14.427667, 40.822167], &quot;type&quot;: &quot;Point&quot;}, &quot;id&quot;: &quot;67&quot;, &quot;properties&quot;: {&quot;Author&quot;: &quot;SURVEY-INGV-OV#SiSmi&quot;, &quot;Catalog&quot;: &quot;&quot;, &quot;Contributor&quot;: &quot;&quot;, &quot;ContributorID&quot;: &quot;&quot;, &quot;Depth/Km&quot;: &quot;0.2&quot;, &quot;EventID&quot;: &quot;35441211&quot;, &quot;EventLocationName&quot;: &quot;Vesuvio&quot;, &quot;EventType&quot;: &quot;earthquake&quot;, &quot;Latitude&quot;: &quot;40.822167&quot;, &quot;Longitude&quot;: &quot;14.427667&quot;, &quot;MagAuthor&quot;: &quot;--&quot;, &quot;MagType&quot;: &quot;Md&quot;, &quot;Magnitude&quot;: &quot;2.0&quot;, &quot;Time&quot;: &quot;2023-07-01T09:41:56.809000&quot;, &quot;adm1_name&quot;: &quot;Campania&quot;, &quot;adm2_name&quot;: &quot;Napoli&quot;, &quot;index_right&quot;: 0.0}, &quot;type&quot;: &quot;Feature&quot;}, {&quot;bbox&quot;: [14.42, 40.814, 14.42, 40.814], &quot;geometry&quot;: {&quot;coordinates&quot;: [14.42, 40.814], &quot;type&quot;: &quot;Point&quot;}, &quot;id&quot;: &quot;76&quot;, &quot;properties&quot;: {&quot;Author&quot;: &quot;SURVEY-INGV-OV#SiSmi&quot;, &quot;Catalog&quot;: &quot;&quot;, &quot;Contributor&quot;: &quot;&quot;, &quot;ContributorID&quot;: &quot;&quot;, &quot;Depth/Km&quot;: &quot;0.6&quot;, &quot;EventID&quot;: &quot;35418131&quot;, &quot;EventLocationName&quot;: &quot;Vesuvio&quot;, &quot;EventType&quot;: &quot;earthquake&quot;, &quot;Latitude&quot;: &quot;40.814&quot;, &quot;Longitude&quot;: &quot;14.42&quot;, &quot;MagAuthor&quot;: &quot;--&quot;, &quot;MagType&quot;: &quot;Md&quot;, &quot;Magnitude&quot;: &quot;2.7&quot;, &quot;Time&quot;: &quot;2023-06-29T21:01:19.059000&quot;, &quot;adm1_name&quot;: &quot;Campania&quot;, &quot;adm2_name&quot;: &quot;Napoli&quot;, &quot;index_right&quot;: 0.0}, &quot;type&quot;: &quot;Feature&quot;}, {&quot;bbox&quot;: [14.419833, 40.814833, 14.419833, 40.814833], &quot;geometry&quot;: {&quot;coordinates&quot;: [14.419833, 40.814833], &quot;type&quot;: &quot;Point&quot;}, &quot;id&quot;: &quot;79&quot;, &quot;properties&quot;: {&quot;Author&quot;: &quot;SURVEY-INGV-OV#SiSmi&quot;, &quot;Catalog&quot;: &quot;&quot;, &quot;Contributor&quot;: &quot;&quot;, &quot;ContributorID&quot;: &quot;&quot;, &quot;Depth/Km&quot;: &quot;0.2&quot;, &quot;EventID&quot;: &quot;35417671&quot;, &quot;EventLocationName&quot;: &quot;Vesuvio&quot;, &quot;EventType&quot;: &quot;earthquake&quot;, &quot;Latitude&quot;: &quot;40.814833&quot;, &quot;Longitude&quot;: &quot;14.419833&quot;, &quot;MagAuthor&quot;: &quot;--&quot;, &quot;MagType&quot;: &quot;Md&quot;, &quot;Magnitude&quot;: &quot;2.4&quot;, &quot;Time&quot;: &quot;2023-06-29T19:52:50.380000&quot;, &quot;adm1_name&quot;: &quot;Campania&quot;, &quot;adm2_name&quot;: &quot;Napoli&quot;, &quot;index_right&quot;: 0.0}, &quot;type&quot;: &quot;Feature&quot;}, {&quot;bbox&quot;: [14.160667, 40.816833, 14.160667, 40.816833], &quot;geometry&quot;: {&quot;coordinates&quot;: [14.160667, 40.816833], &quot;type&quot;: &quot;Point&quot;}, &quot;id&quot;: &quot;135&quot;, &quot;properties&quot;: {&quot;Author&quot;: &quot;SURVEY-INGV-OV#SiSmi&quot;, &quot;Catalog&quot;: &quot;&quot;, &quot;Contributor&quot;: &quot;&quot;, &quot;ContributorID&quot;: &quot;&quot;, &quot;Depth/Km&quot;: &quot;2.6&quot;, &quot;EventID&quot;: &quot;35339681&quot;, &quot;EventLocationName&quot;: &quot;Campi Flegrei&quot;, &quot;EventType&quot;: &quot;earthquake&quot;, &quot;Latitude&quot;: &quot;40.816833&quot;, &quot;Longitude&quot;: &quot;14.160667&quot;, &quot;MagAuthor&quot;: &quot;--&quot;, &quot;MagType&quot;: &quot;Md&quot;, &quot;Magnitude&quot;: &quot;2.4&quot;, &quot;Time&quot;: &quot;2023-06-18T12:46:11.180000&quot;, &quot;adm1_name&quot;: &quot;Campania&quot;, &quot;adm2_name&quot;: &quot;Napoli&quot;, &quot;index_right&quot;: 0.0}, &quot;type&quot;: &quot;Feature&quot;}, {&quot;bbox&quot;: [14.141333, 40.830167, 14.141333, 40.830167], &quot;geometry&quot;: {&quot;coordinates&quot;: [14.141333, 40.830167], &quot;type&quot;: &quot;Point&quot;}, &quot;id&quot;: &quot;146&quot;, &quot;properties&quot;: {&quot;Author&quot;: &quot;SURVEY-INGV-OV#SiSmi&quot;, &quot;Catalog&quot;: &quot;&quot;, &quot;Contributor&quot;: &quot;&quot;, &quot;ContributorID&quot;: &quot;&quot;, &quot;Depth/Km&quot;: &quot;2.8&quot;, &quot;EventID&quot;: &quot;35317131&quot;, &quot;EventLocationName&quot;: &quot;Campi Flegrei&quot;, &quot;EventType&quot;: &quot;earthquake&quot;, &quot;Latitude&quot;: &quot;40.830167&quot;, &quot;Longitude&quot;: &quot;14.141333&quot;, &quot;MagAuthor&quot;: &quot;--&quot;, &quot;MagType&quot;: &quot;Md&quot;, &quot;Magnitude&quot;: &quot;2.9&quot;, &quot;Time&quot;: &quot;2023-06-15T15:39:40.339000&quot;, &quot;adm1_name&quot;: &quot;Campania&quot;, &quot;adm2_name&quot;: &quot;Napoli&quot;, &quot;index_right&quot;: 0.0}, &quot;type&quot;: &quot;Feature&quot;}, {&quot;bbox&quot;: [14.127, 40.835, 14.127, 40.835], &quot;geometry&quot;: {&quot;coordinates&quot;: [14.127, 40.835], &quot;type&quot;: &quot;Point&quot;}, &quot;id&quot;: &quot;150&quot;, &quot;properties&quot;: {&quot;Author&quot;: &quot;SURVEY-INGV-OV#SiSmi&quot;, &quot;Catalog&quot;: &quot;&quot;, &quot;Contributor&quot;: &quot;&quot;, &quot;ContributorID&quot;: &quot;&quot;, &quot;Depth/Km&quot;: &quot;2.7&quot;, &quot;EventID&quot;: &quot;35310551&quot;, &quot;EventLocationName&quot;: &quot;Campi Flegrei&quot;, &quot;EventType&quot;: &quot;earthquake&quot;, &quot;Latitude&quot;: &quot;40.835&quot;, &quot;Longitude&quot;: &quot;14.127&quot;, &quot;MagAuthor&quot;: &quot;--&quot;, &quot;MagType&quot;: &quot;Md&quot;, &quot;Magnitude&quot;: &quot;2.1&quot;, &quot;Time&quot;: &quot;2023-06-14T12:58:13.009000&quot;, &quot;adm1_name&quot;: &quot;Campania&quot;, &quot;adm2_name&quot;: &quot;Napoli&quot;, &quot;index_right&quot;: 0.0}, &quot;type&quot;: &quot;Feature&quot;}, {&quot;bbox&quot;: [14.111, 40.831333, 14.111, 40.831333], &quot;geometry&quot;: {&quot;coordinates&quot;: [14.111, 40.831333], &quot;type&quot;: &quot;Point&quot;}, &quot;id&quot;: &quot;164&quot;, &quot;properties&quot;: {&quot;Author&quot;: &quot;SURVEY-INGV-OV&quot;, &quot;Catalog&quot;: &quot;&quot;, &quot;Contributor&quot;: &quot;&quot;, &quot;ContributorID&quot;: &quot;&quot;, &quot;Depth/Km&quot;: &quot;2.6&quot;, &quot;EventID&quot;: &quot;35278141&quot;, &quot;EventLocationName&quot;: &quot;Campi Flegrei&quot;, &quot;EventType&quot;: &quot;earthquake&quot;, &quot;Latitude&quot;: &quot;40.831333&quot;, &quot;Longitude&quot;: &quot;14.111&quot;, &quot;MagAuthor&quot;: &quot;--&quot;, &quot;MagType&quot;: &quot;Md&quot;, &quot;Magnitude&quot;: &quot;3.6&quot;, &quot;Time&quot;: &quot;2023-06-11T06:44:25.769000&quot;, &quot;adm1_name&quot;: &quot;Campania&quot;, &quot;adm2_name&quot;: &quot;Napoli&quot;, &quot;index_right&quot;: 0.0}, &quot;type&quot;: &quot;Feature&quot;}], &quot;type&quot;: &quot;FeatureCollection&quot;});\n",
       "\n",
       "        \n",
       "    \n",
       "    geo_json_376ef80769c8bd74bfcc3b49a309a4ac.bindTooltip(\n",
       "    function(layer){\n",
       "    let div = L.DomUtil.create(&#x27;div&#x27;);\n",
       "    \n",
       "    let handleObject = feature=&gt;typeof(feature)==&#x27;object&#x27; ? JSON.stringify(feature) : feature;\n",
       "    let fields = [&quot;EventID&quot;, &quot;Time&quot;, &quot;Latitude&quot;, &quot;Longitude&quot;, &quot;Depth/Km&quot;, &quot;Author&quot;, &quot;Catalog&quot;, &quot;Contributor&quot;, &quot;ContributorID&quot;, &quot;MagType&quot;, &quot;Magnitude&quot;, &quot;MagAuthor&quot;, &quot;EventLocationName&quot;, &quot;EventType&quot;, &quot;index_right&quot;, &quot;adm1_name&quot;, &quot;adm2_name&quot;];\n",
       "    let aliases = [&quot;EventID&quot;, &quot;Time&quot;, &quot;Latitude&quot;, &quot;Longitude&quot;, &quot;Depth/Km&quot;, &quot;Author&quot;, &quot;Catalog&quot;, &quot;Contributor&quot;, &quot;ContributorID&quot;, &quot;MagType&quot;, &quot;Magnitude&quot;, &quot;MagAuthor&quot;, &quot;EventLocationName&quot;, &quot;EventType&quot;, &quot;index_right&quot;, &quot;adm1_name&quot;, &quot;adm2_name&quot;];\n",
       "    let table = &#x27;&lt;table&gt;&#x27; +\n",
       "        String(\n",
       "        fields.map(\n",
       "        (v,i)=&gt;\n",
       "        `&lt;tr&gt;\n",
       "            &lt;th&gt;${aliases[i]}&lt;/th&gt;\n",
       "            \n",
       "            &lt;td&gt;${handleObject(layer.feature.properties[v])}&lt;/td&gt;\n",
       "        &lt;/tr&gt;`).join(&#x27;&#x27;))\n",
       "    +&#x27;&lt;/table&gt;&#x27;;\n",
       "    div.innerHTML=table;\n",
       "    \n",
       "    return div\n",
       "    }\n",
       "    ,{&quot;className&quot;: &quot;foliumtooltip&quot;, &quot;sticky&quot;: true});\n",
       "                     \n",
       "&lt;/script&gt;\n",
       "&lt;/html&gt;\" style=\"position:absolute;width:100%;height:100%;left:0;top:0;border:none !important;\" allowfullscreen webkitallowfullscreen mozallowfullscreen></iframe></div></div>"
      ],
      "text/plain": [
       "<folium.folium.Map at 0x1a4b181b010>"
      ]
     },
     "execution_count": 85,
     "metadata": {},
     "output_type": "execute_result"
    }
   ],
   "source": [
    "gdf_provincia.explore()"
   ]
  },
  {
   "cell_type": "markdown",
   "metadata": {},
   "source": [
    "# Processing response as \"QUAKEML\""
   ]
  },
  {
   "cell_type": "code",
   "execution_count": 88,
   "metadata": {},
   "outputs": [],
   "source": [
    "ws_instance = WSDataSource(response_format='xml')"
   ]
  },
  {
   "cell_type": "code",
   "execution_count": 101,
   "metadata": {},
   "outputs": [],
   "source": [
    "ws_instance.start_date = None"
   ]
  },
  {
   "cell_type": "code",
   "execution_count": 102,
   "metadata": {},
   "outputs": [],
   "source": [
    "ws_instance.end_date = None"
   ]
  },
  {
   "cell_type": "code",
   "execution_count": 103,
   "metadata": {},
   "outputs": [],
   "source": [
    "ws_instance.build_query_url()"
   ]
  },
  {
   "cell_type": "code",
   "execution_count": 110,
   "metadata": {},
   "outputs": [
    {
     "data": {
      "text/plain": [
       "'http://webservices.ingv.it/fdsnws/event/1/query?starttime=2023-06-10T00:00:00&endtime=2023-07-10T16:20:44&minmag=2.0&format=xml&lat=41.76337&lon=12.33078&minradiuskm=0.1&maxradiuskm=200'"
      ]
     },
     "execution_count": 110,
     "metadata": {},
     "output_type": "execute_result"
    }
   ],
   "source": [
    "ws_instance.query_string"
   ]
  },
  {
   "cell_type": "code",
   "execution_count": 120,
   "metadata": {},
   "outputs": [],
   "source": [
    "ws_instance.fetch_events()"
   ]
  },
  {
   "cell_type": "code",
   "execution_count": 121,
   "metadata": {},
   "outputs": [],
   "source": [
    "tree = ws_instance.get_events()"
   ]
  },
  {
   "cell_type": "code",
   "execution_count": 122,
   "metadata": {
    "ExecuteTime": {
     "end_time": "2023-07-01T10:16:25.566014Z",
     "start_time": "2023-07-01T10:16:25.536459100Z"
    },
    "jupyter": {
     "outputs_hidden": false
    }
   },
   "outputs": [],
   "source": [
    "root = tree.getroot()"
   ]
  },
  {
   "cell_type": "code",
   "execution_count": 123,
   "metadata": {
    "ExecuteTime": {
     "end_time": "2023-07-01T10:16:25.998936800Z",
     "start_time": "2023-07-01T10:16:25.962048800Z"
    },
    "jupyter": {
     "outputs_hidden": false
    }
   },
   "outputs": [
    {
     "data": {
      "text/plain": [
       "'{http://quakeml.org/xmlns/quakeml/1.2}quakeml'"
      ]
     },
     "execution_count": 123,
     "metadata": {},
     "output_type": "execute_result"
    }
   ],
   "source": [
    "root.tag"
   ]
  },
  {
   "cell_type": "code",
   "execution_count": 124,
   "metadata": {},
   "outputs": [
    {
     "data": {
      "text/plain": [
       "{}"
      ]
     },
     "execution_count": 124,
     "metadata": {},
     "output_type": "execute_result"
    }
   ],
   "source": [
    "root.attrib"
   ]
  },
  {
   "cell_type": "markdown",
   "metadata": {},
   "source": [
    "# Filtering"
   ]
  },
  {
   "cell_type": "code",
   "execution_count": 125,
   "metadata": {
    "ExecuteTime": {
     "end_time": "2023-07-01T10:19:07.146221500Z",
     "start_time": "2023-07-01T10:19:07.103405300Z"
    },
    "jupyter": {
     "outputs_hidden": false
    }
   },
   "outputs": [
    {
     "name": "stdout",
     "output_type": "stream",
     "text": [
      "{http://quakeml.org/xmlns/bed/1.2}eventParameters {'publicID': 'smi:webservices.ingv.it/fdsnws/event/1/query'}\n"
     ]
    }
   ],
   "source": [
    "for child in root:\n",
    "    print(child.tag, child.attrib)"
   ]
  },
  {
   "cell_type": "code",
   "execution_count": 126,
   "metadata": {
    "ExecuteTime": {
     "end_time": "2023-07-01T10:19:43.339577100Z",
     "start_time": "2023-07-01T10:19:43.317542500Z"
    },
    "jupyter": {
     "outputs_hidden": false
    }
   },
   "outputs": [
    {
     "name": "stdout",
     "output_type": "stream",
     "text": [
      "{http://quakeml.org/xmlns/bed/1.2}eventParameters\n",
      "{'publicID': 'smi:webservices.ingv.it/fdsnws/event/1/query'}\n"
     ]
    }
   ],
   "source": [
    "for quake in root.iter('{http://quakeml.org/xmlns/bed/1.2}eventParameters'):\n",
    "    print(quake.tag)\n",
    "    print(quake.attrib)"
   ]
  },
  {
   "cell_type": "code",
   "execution_count": 127,
   "metadata": {
    "ExecuteTime": {
     "end_time": "2023-07-01T10:20:54.094790700Z",
     "start_time": "2023-07-01T10:20:54.073025900Z"
    },
    "jupyter": {
     "outputs_hidden": false
    }
   },
   "outputs": [
    {
     "name": "stdout",
     "output_type": "stream",
     "text": [
      "{'publicID': 'smi:webservices.ingv.it/fdsnws/event/1/query?eventId=35520321'}\n",
      "{'publicID': 'smi:webservices.ingv.it/fdsnws/event/1/query?eventId=35515911'}\n",
      "{'publicID': 'smi:webservices.ingv.it/fdsnws/event/1/query?eventId=35514331'}\n",
      "{'publicID': 'smi:webservices.ingv.it/fdsnws/event/1/query?eventId=35504211'}\n",
      "{'publicID': 'smi:webservices.ingv.it/fdsnws/event/1/query?eventId=35504131'}\n",
      "{'publicID': 'smi:webservices.ingv.it/fdsnws/event/1/query?eventId=35503441'}\n",
      "{'publicID': 'smi:webservices.ingv.it/fdsnws/event/1/query?eventId=35502811'}\n",
      "{'publicID': 'smi:webservices.ingv.it/fdsnws/event/1/query?eventId=35499521'}\n",
      "{'publicID': 'smi:webservices.ingv.it/fdsnws/event/1/query?eventId=35498791'}\n",
      "{'publicID': 'smi:webservices.ingv.it/fdsnws/event/1/query?eventId=35494291'}\n",
      "{'publicID': 'smi:webservices.ingv.it/fdsnws/event/1/query?eventId=35485291'}\n",
      "{'publicID': 'smi:webservices.ingv.it/fdsnws/event/1/query?eventId=35481441'}\n",
      "{'publicID': 'smi:webservices.ingv.it/fdsnws/event/1/query?eventId=35480971'}\n",
      "{'publicID': 'smi:webservices.ingv.it/fdsnws/event/1/query?eventId=35478341'}\n",
      "{'publicID': 'smi:webservices.ingv.it/fdsnws/event/1/query?eventId=35450081'}\n",
      "{'publicID': 'smi:webservices.ingv.it/fdsnws/event/1/query?eventId=35446331'}\n",
      "{'publicID': 'smi:webservices.ingv.it/fdsnws/event/1/query?eventId=35424851'}\n",
      "{'publicID': 'smi:webservices.ingv.it/fdsnws/event/1/query?eventId=35419561'}\n",
      "{'publicID': 'smi:webservices.ingv.it/fdsnws/event/1/query?eventId=35419441'}\n",
      "{'publicID': 'smi:webservices.ingv.it/fdsnws/event/1/query?eventId=35402211'}\n",
      "{'publicID': 'smi:webservices.ingv.it/fdsnws/event/1/query?eventId=35390541'}\n",
      "{'publicID': 'smi:webservices.ingv.it/fdsnws/event/1/query?eventId=35385131'}\n",
      "{'publicID': 'smi:webservices.ingv.it/fdsnws/event/1/query?eventId=35380831'}\n",
      "{'publicID': 'smi:webservices.ingv.it/fdsnws/event/1/query?eventId=35373411'}\n",
      "{'publicID': 'smi:webservices.ingv.it/fdsnws/event/1/query?eventId=35373321'}\n",
      "{'publicID': 'smi:webservices.ingv.it/fdsnws/event/1/query?eventId=35372731'}\n",
      "{'publicID': 'smi:webservices.ingv.it/fdsnws/event/1/query?eventId=35369731'}\n",
      "{'publicID': 'smi:webservices.ingv.it/fdsnws/event/1/query?eventId=35367441'}\n",
      "{'publicID': 'smi:webservices.ingv.it/fdsnws/event/1/query?eventId=35363891'}\n",
      "{'publicID': 'smi:webservices.ingv.it/fdsnws/event/1/query?eventId=35363051'}\n",
      "{'publicID': 'smi:webservices.ingv.it/fdsnws/event/1/query?eventId=35361641'}\n",
      "{'publicID': 'smi:webservices.ingv.it/fdsnws/event/1/query?eventId=35355671'}\n",
      "{'publicID': 'smi:webservices.ingv.it/fdsnws/event/1/query?eventId=35349401'}\n",
      "{'publicID': 'smi:webservices.ingv.it/fdsnws/event/1/query?eventId=35343361'}\n",
      "{'publicID': 'smi:webservices.ingv.it/fdsnws/event/1/query?eventId=35339681'}\n",
      "{'publicID': 'smi:webservices.ingv.it/fdsnws/event/1/query?eventId=35324561'}\n",
      "{'publicID': 'smi:webservices.ingv.it/fdsnws/event/1/query?eventId=35322901'}\n",
      "{'publicID': 'smi:webservices.ingv.it/fdsnws/event/1/query?eventId=35317261'}\n",
      "{'publicID': 'smi:webservices.ingv.it/fdsnws/event/1/query?eventId=35317131'}\n",
      "{'publicID': 'smi:webservices.ingv.it/fdsnws/event/1/query?eventId=35312021'}\n",
      "{'publicID': 'smi:webservices.ingv.it/fdsnws/event/1/query?eventId=35310551'}\n",
      "{'publicID': 'smi:webservices.ingv.it/fdsnws/event/1/query?eventId=35305231'}\n",
      "{'publicID': 'smi:webservices.ingv.it/fdsnws/event/1/query?eventId=35298351'}\n",
      "{'publicID': 'smi:webservices.ingv.it/fdsnws/event/1/query?eventId=35294231'}\n",
      "{'publicID': 'smi:webservices.ingv.it/fdsnws/event/1/query?eventId=35278141'}\n"
     ]
    }
   ],
   "source": [
    "for quake in root.iter('{http://quakeml.org/xmlns/bed/1.2}event'):\n",
    "    # print(quake.tag)\n",
    "    print(quake.attrib)"
   ]
  },
  {
   "cell_type": "code",
   "execution_count": 37,
   "metadata": {},
   "outputs": [
    {
     "data": {
      "text/plain": [
       "{'publicID': 'smi:webservices.ingv.it/fdsnws/event/1/query'}"
      ]
     },
     "execution_count": 37,
     "metadata": {},
     "output_type": "execute_result"
    }
   ],
   "source": [
    "root[0].attrib"
   ]
  },
  {
   "cell_type": "code",
   "execution_count": 38,
   "metadata": {},
   "outputs": [
    {
     "data": {
      "text/plain": [
       "'{http://quakeml.org/xmlns/bed/1.2}eventParameters'"
      ]
     },
     "execution_count": 38,
     "metadata": {},
     "output_type": "execute_result"
    }
   ],
   "source": [
    "root[0].tag"
   ]
  },
  {
   "cell_type": "code",
   "execution_count": 39,
   "metadata": {},
   "outputs": [
    {
     "data": {
      "text/plain": [
       "'\\n    '"
      ]
     },
     "execution_count": 39,
     "metadata": {},
     "output_type": "execute_result"
    }
   ],
   "source": [
    "root[0].text"
   ]
  },
  {
   "cell_type": "code",
   "execution_count": 40,
   "metadata": {},
   "outputs": [
    {
     "data": {
      "text/plain": [
       "'5 km N Ascoli Piceno (AP)'"
      ]
     },
     "execution_count": 40,
     "metadata": {},
     "output_type": "execute_result"
    }
   ],
   "source": [
    "root[0][0][1][1].text"
   ]
  },
  {
   "cell_type": "markdown",
   "metadata": {},
   "source": [
    "# Data for Single Event"
   ]
  },
  {
   "cell_type": "code",
   "execution_count": 68,
   "metadata": {},
   "outputs": [
    {
     "name": "stdout",
     "output_type": "stream",
     "text": [
      "{'publicID': 'smi:webservices.ingv.it/fdsnws/event/1/query?eventId=35487111'}\n",
      "{'publicID': 'smi:webservices.ingv.it/fdsnws/event/1/query?eventId=35486921'}\n",
      "{'publicID': 'smi:webservices.ingv.it/fdsnws/event/1/query?eventId=35485771'}\n",
      "{'publicID': 'smi:webservices.ingv.it/fdsnws/event/1/query?eventId=35485671'}\n",
      "{'publicID': 'smi:webservices.ingv.it/fdsnws/event/1/query?eventId=35485591'}\n",
      "{'publicID': 'smi:webservices.ingv.it/fdsnws/event/1/query?eventId=35485291'}\n",
      "{'publicID': 'smi:webservices.ingv.it/fdsnws/event/1/query?eventId=35484871'}\n",
      "{'publicID': 'smi:webservices.ingv.it/fdsnws/event/1/query?eventId=35484261'}\n",
      "{'publicID': 'smi:webservices.ingv.it/fdsnws/event/1/query?eventId=35484081'}\n",
      "{'publicID': 'smi:webservices.ingv.it/fdsnws/event/1/query?eventId=35483971'}\n",
      "{'publicID': 'smi:webservices.ingv.it/fdsnws/event/1/query?eventId=35483621'}\n",
      "{'publicID': 'smi:webservices.ingv.it/fdsnws/event/1/query?eventId=35483401'}\n",
      "{'publicID': 'smi:webservices.ingv.it/fdsnws/event/1/query?eventId=35483351'}\n",
      "{'publicID': 'smi:webservices.ingv.it/fdsnws/event/1/query?eventId=35482741'}\n",
      "{'publicID': 'smi:webservices.ingv.it/fdsnws/event/1/query?eventId=35482611'}\n",
      "{'publicID': 'smi:webservices.ingv.it/fdsnws/event/1/query?eventId=35482411'}\n",
      "{'publicID': 'smi:webservices.ingv.it/fdsnws/event/1/query?eventId=35482351'}\n",
      "{'publicID': 'smi:webservices.ingv.it/fdsnws/event/1/query?eventId=35482231'}\n",
      "{'publicID': 'smi:webservices.ingv.it/fdsnws/event/1/query?eventId=35481621'}\n",
      "{'publicID': 'smi:webservices.ingv.it/fdsnws/event/1/query?eventId=35481441'}\n",
      "{'publicID': 'smi:webservices.ingv.it/fdsnws/event/1/query?eventId=35481211'}\n",
      "{'publicID': 'smi:webservices.ingv.it/fdsnws/event/1/query?eventId=35480971'}\n",
      "{'publicID': 'smi:webservices.ingv.it/fdsnws/event/1/query?eventId=35480551'}\n",
      "{'publicID': 'smi:webservices.ingv.it/fdsnws/event/1/query?eventId=35480121'}\n",
      "{'publicID': 'smi:webservices.ingv.it/fdsnws/event/1/query?eventId=35479771'}\n",
      "{'publicID': 'smi:webservices.ingv.it/fdsnws/event/1/query?eventId=35478911'}\n",
      "{'publicID': 'smi:webservices.ingv.it/fdsnws/event/1/query?eventId=35478781'}\n",
      "{'publicID': 'smi:webservices.ingv.it/fdsnws/event/1/query?eventId=35478341'}\n",
      "{'publicID': 'smi:webservices.ingv.it/fdsnws/event/1/query?eventId=35475451'}\n",
      "{'publicID': 'smi:webservices.ingv.it/fdsnws/event/1/query?eventId=35475381'}\n",
      "{'publicID': 'smi:webservices.ingv.it/fdsnws/event/1/query?eventId=35474971'}\n",
      "{'publicID': 'smi:webservices.ingv.it/fdsnws/event/1/query?eventId=35474861'}\n",
      "{'publicID': 'smi:webservices.ingv.it/fdsnws/event/1/query?eventId=35472871'}\n",
      "{'publicID': 'smi:webservices.ingv.it/fdsnws/event/1/query?eventId=35472521'}\n",
      "{'publicID': 'smi:webservices.ingv.it/fdsnws/event/1/query?eventId=35472411'}\n"
     ]
    }
   ],
   "source": [
    "for quake in root.iter('{http://quakeml.org/xmlns/bed/1.2}event'):\n",
    "    print(quake.attrib)"
   ]
  },
  {
   "cell_type": "code",
   "execution_count": 69,
   "metadata": {},
   "outputs": [],
   "source": [
    "event_id = 35486921"
   ]
  },
  {
   "cell_type": "code",
   "execution_count": 70,
   "metadata": {},
   "outputs": [
    {
     "data": {
      "text/plain": [
       "'http://webservices.ingv.it/fdsnws/event/1/query?eventId=35486921&includeallmagnitudes=true&includeallorigins=true&lat=41.76337&includearrivals=true&includeallstationsmagnitudes=true'"
      ]
     },
     "execution_count": 70,
     "metadata": {},
     "output_type": "execute_result"
    }
   ],
   "source": [
    "url_single_event = f'{rt}eventId={event_id}&includeallmagnitudes=true&includeallorigins=true&lat={lat}&includearrivals=true&includeallstationsmagnitudes=true'\n",
    "url_single_event"
   ]
  },
  {
   "cell_type": "code",
   "execution_count": 71,
   "metadata": {},
   "outputs": [],
   "source": [
    "url_file_opened_xml_single_event=urlopen(url_single_event)\n",
    "tree_se = ET.parse(url_file_opened_xml_single_event)\n",
    "root_se = tree_se.getroot()"
   ]
  },
  {
   "cell_type": "code",
   "execution_count": 72,
   "metadata": {},
   "outputs": [
    {
     "data": {
      "text/plain": [
       "'2 km SW Castignano (AP)'"
      ]
     },
     "execution_count": 72,
     "metadata": {},
     "output_type": "execute_result"
    }
   ],
   "source": [
    "root_se[0][0][1][1].text"
   ]
  },
  {
   "cell_type": "code",
   "execution_count": null,
   "metadata": {},
   "outputs": [],
   "source": []
  }
 ],
 "metadata": {
  "kernelspec": {
   "display_name": "Python 3 (ipykernel)",
   "language": "python",
   "name": "python3"
  },
  "language_info": {
   "codemirror_mode": {
    "name": "ipython",
    "version": 3
   },
   "file_extension": ".py",
   "mimetype": "text/x-python",
   "name": "python",
   "nbconvert_exporter": "python",
   "pygments_lexer": "ipython3",
   "version": "3.11.2"
  }
 },
 "nbformat": 4,
 "nbformat_minor": 4
}
